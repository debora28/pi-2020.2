{
  "nbformat": 4,
  "nbformat_minor": 0,
  "metadata": {
    "colab": {
      "name": "Crime_E2.ipynb",
      "provenance": [],
      "collapsed_sections": [],
      "toc_visible": true,
      "include_colab_link": true
    },
    "kernelspec": {
      "display_name": "Python 3",
      "name": "python3"
    }
  },
  "cells": [
    {
      "cell_type": "markdown",
      "metadata": {
        "id": "view-in-github",
        "colab_type": "text"
      },
      "source": [
        "<a href=\"https://colab.research.google.com/github/debora28/pi-2020.2/blob/main/Crime_E2.ipynb\" target=\"_parent\"><img src=\"https://colab.research.google.com/assets/colab-badge.svg\" alt=\"Open In Colab\"/></a>"
      ]
    },
    {
      "cell_type": "markdown",
      "metadata": {
        "id": "n0DV_jxj6uXV"
      },
      "source": [
        "# Dataset sobre taxa de ocorrência de crimes como roubo, furto e relacionados\n",
        "*Os dados foram extraídos do sistema de Registro Digital de Ocorrências (R.D.O.) disponível no site www.ssp.sp.gov.br referente ao ano de 2016.*"
      ]
    },
    {
      "cell_type": "markdown",
      "metadata": {
        "id": "9zn-xbiluvsI"
      },
      "source": [
        "Importando as bibliotecas necessárias para tratamento, estatística e visualização de dados:"
      ]
    },
    {
      "cell_type": "code",
      "metadata": {
        "id": "6ajaPsiOufgm"
      },
      "source": [
        "import numpy as np\n",
        "import pandas as pd\n",
        "import matplotlib.pyplot as plt\n",
        "import seaborn as sns"
      ],
      "execution_count": 1,
      "outputs": []
    },
    {
      "cell_type": "markdown",
      "metadata": {
        "id": "TyWEGUY1IzT2"
      },
      "source": [
        "Carregando o arquivo:"
      ]
    },
    {
      "cell_type": "code",
      "metadata": {
        "id": "GT4Tvbaq4cKO"
      },
      "source": [
        "# Diretamente do GitHub:\n",
        "url = 'https://raw.githubusercontent.com/debora28/pi-2020.2/main/Edited_CrimeRatesBrazil.csv'\n",
        "data = pd.read_csv(url)"
      ],
      "execution_count": 2,
      "outputs": []
    },
    {
      "cell_type": "code",
      "metadata": {
        "id": "XO_2eRJ9xSrz"
      },
      "source": [
        "# Lendo o arquivo CSV que foi carregado na página:\n",
        "# data = pd.read_csv('Edited_CrimeRatesBrazil.csv')"
      ],
      "execution_count": 3,
      "outputs": []
    },
    {
      "cell_type": "markdown",
      "metadata": {
        "id": "dnbQxTMCxSSJ"
      },
      "source": [
        "# Siglas e termos\n",
        "\n",
        "*DECAP = Departamento de Polícia Judiciária da Capital;\n",
        "\n",
        "\n",
        "\n",
        "# Descrição das colunas\n",
        "                    \n",
        "\n",
        "*   NUM_BO = Número do B.O.\n",
        "*   ANO_BO = Ano de resgitro do B.O.\n",
        "*   ID_DELEGACIA = Código da delegacia responsável pelo registro da ocorrencia\n",
        "*   NOME_DEPARTAMENTO = Nome do Dep\n",
        "*   NOME_SECCIONAL = Nome da Delegacia Seccional responsável pelo registro\n",
        "*   DELEGACIA = Nome da Delegacia responsável pelo registro\n",
        "*   NOME_DEPARTAMENTO_CIRC = Nome do Departamento de Circunscrição\n",
        "*   NOME_SECCIONAL_CIRC = Seccional de Circunscrição\n",
        "*   NOME_DELEGACIA_CIRC = Delegacia de Circunscrição\n",
        "*   ANO = Ano da ocorrência\n",
        "*   MES = Mês da ocorrência\n",
        "*   FLAG_STATUS = Status da Ocorrência\n",
        "*   RUBRICA = Natureza jurídica da ocorrência\n",
        "*   DESDOBRAMENTO = Desdobramento na Ocorrência\n",
        "*   CONDUTA = Conduta na Ocorrência\n",
        "*   LATITUDE = Latitude da Ocorrência \n",
        "*   LONGITUDE = Longitude da Ocorrência\n",
        "*   CIDADE = Conduta da Ocorrência\n",
        "*   LOGRADOURO = Logradouro dos fatos\n",
        "*   NUMERO_LOGRADOURO = Numero do Logradouro dos fatos\n",
        "\n",
        "Drogas = Drogas sem Autorização ou em Desacordo (art.33_caput),\t\n",
        "Furto = (art.155), \tFurtoQualificado = (art.155_4o.), Lesao = Lesão Corporal(art.129),  LesaoPorVeiculo = Lesão Corporal Culposa na Direção de Veículo Automotor (art.303),\tRoubo = (art.157) "
      ]
    },
    {
      "cell_type": "markdown",
      "metadata": {
        "id": "SPe2ue5KMvPL"
      },
      "source": [
        "#Limpeza e Tratamento\n",
        "Procurando nulos e removendo: NA - Not Available e NaN - Not a Number.\n",
        "Podemos ver que 5 colunas retornaram True, ou seja, possuem pelo menos um valor (any) indisponível ou vazio (isnull)."
      ]
    },
    {
      "cell_type": "code",
      "metadata": {
        "id": "TAGDs3A1M8bt",
        "outputId": "f2a21257-d5fc-499c-8002-2824112d9cb5",
        "colab": {
          "base_uri": "https://localhost:8080/"
        }
      },
      "source": [
        "print(data.isnull().any())\n",
        "print()"
      ],
      "execution_count": 4,
      "outputs": [
        {
          "output_type": "stream",
          "text": [
            "NUM_BO                    False\n",
            "ANO_BO                    False\n",
            "ID_DELEGACIA              False\n",
            "NOME_DEPARTAMENTO         False\n",
            "NOME_SECCIONAL            False\n",
            "DELEGACIA                 False\n",
            "NOME_DEPARTAMENTO_CIRC    False\n",
            "NOME_SECCIONAL_CIRC       False\n",
            "NOME_DELEGACIA_CIRC       False\n",
            "ANO                       False\n",
            "MES                       False\n",
            "FLAG_STATUS               False\n",
            "RUBRICA                   False\n",
            "DESDOBRAMENTO              True\n",
            "CONDUTA                    True\n",
            "LATITUDE                   True\n",
            "LONGITUDE                  True\n",
            "CIDADE                    False\n",
            "LOGRADOURO                False\n",
            "NUMERO_LOGRADOURO         False\n",
            "FLAG_STATUS.1             False\n",
            "Unnamed: 21                True\n",
            "dtype: bool\n",
            "\n"
          ],
          "name": "stdout"
        }
      ]
    },
    {
      "cell_type": "markdown",
      "metadata": {
        "id": "Bmh1rKPQO0lU"
      },
      "source": [
        "*Observações:*\n",
        "- A coluna DESDOBRAMENTO tem apenas 5 valores;\n",
        "- As colunas CONDUTA, LATITUDE e LONGITUDE estão quase completas;\n",
        "- Unnamed: 21 está vazia;\n",
        "- FLAG_STATUS.1 é uma repetição de FLAG_STATUS."
      ]
    },
    {
      "cell_type": "code",
      "metadata": {
        "id": "nPJDJ7WKM8hQ",
        "outputId": "6c3c11a8-0510-49c6-ba67-83588163e592",
        "colab": {
          "base_uri": "https://localhost:8080/"
        }
      },
      "source": [
        "print(data.info())"
      ],
      "execution_count": 5,
      "outputs": [
        {
          "output_type": "stream",
          "text": [
            "<class 'pandas.core.frame.DataFrame'>\n",
            "RangeIndex: 199 entries, 0 to 198\n",
            "Data columns (total 22 columns):\n",
            " #   Column                  Non-Null Count  Dtype  \n",
            "---  ------                  --------------  -----  \n",
            " 0   NUM_BO                  199 non-null    int64  \n",
            " 1   ANO_BO                  199 non-null    int64  \n",
            " 2   ID_DELEGACIA            199 non-null    int64  \n",
            " 3   NOME_DEPARTAMENTO       199 non-null    object \n",
            " 4   NOME_SECCIONAL          199 non-null    object \n",
            " 5   DELEGACIA               199 non-null    object \n",
            " 6   NOME_DEPARTAMENTO_CIRC  199 non-null    object \n",
            " 7   NOME_SECCIONAL_CIRC     199 non-null    object \n",
            " 8   NOME_DELEGACIA_CIRC     199 non-null    object \n",
            " 9   ANO                     199 non-null    int64  \n",
            " 10  MES                     199 non-null    int64  \n",
            " 11  FLAG_STATUS             199 non-null    object \n",
            " 12  RUBRICA                 199 non-null    object \n",
            " 13  DESDOBRAMENTO           5 non-null      object \n",
            " 14  CONDUTA                 185 non-null    object \n",
            " 15  LATITUDE                188 non-null    float64\n",
            " 16  LONGITUDE               188 non-null    float64\n",
            " 17  CIDADE                  199 non-null    object \n",
            " 18  LOGRADOURO              199 non-null    object \n",
            " 19  NUMERO_LOGRADOURO       199 non-null    int64  \n",
            " 20  FLAG_STATUS.1           199 non-null    object \n",
            " 21  Unnamed: 21             0 non-null      float64\n",
            "dtypes: float64(3), int64(6), object(13)\n",
            "memory usage: 34.3+ KB\n",
            "None\n"
          ],
          "name": "stdout"
        }
      ]
    },
    {
      "cell_type": "markdown",
      "metadata": {
        "id": "gB1p9ZqVP1XH"
      },
      "source": [
        "*Observações:*\n",
        "\n",
        "Podemos então apagar as colunas DESDOBRAMENTO, Unnamed: 21 e FLAG_STATUS.1, por falta ou insuficiência de valores.\n",
        "\n",
        "Com drop podemos excluir as colunas (axis=1 são colunas, axis=0 são linhas) sem utilidade, salvando em um novo dataframe (recebido pela variável data2) e depois salvando num outro arquivo csv (com to_csv):"
      ]
    },
    {
      "cell_type": "code",
      "metadata": {
        "id": "ZHbA6vbaODrq",
        "outputId": "936fbe31-a1fa-4eb4-9222-cb13ac4d23dc",
        "colab": {
          "base_uri": "https://localhost:8080/",
          "height": 225
        }
      },
      "source": [
        "data2 = data.drop('DESDOBRAMENTO', axis=1)\n",
        "data2.to_csv('data_semDesdob.csv', index= False)\n",
        "data2.head()"
      ],
      "execution_count": 6,
      "outputs": [
        {
          "output_type": "execute_result",
          "data": {
            "text/html": [
              "<div>\n",
              "<style scoped>\n",
              "    .dataframe tbody tr th:only-of-type {\n",
              "        vertical-align: middle;\n",
              "    }\n",
              "\n",
              "    .dataframe tbody tr th {\n",
              "        vertical-align: top;\n",
              "    }\n",
              "\n",
              "    .dataframe thead th {\n",
              "        text-align: right;\n",
              "    }\n",
              "</style>\n",
              "<table border=\"1\" class=\"dataframe\">\n",
              "  <thead>\n",
              "    <tr style=\"text-align: right;\">\n",
              "      <th></th>\n",
              "      <th>NUM_BO</th>\n",
              "      <th>ANO_BO</th>\n",
              "      <th>ID_DELEGACIA</th>\n",
              "      <th>NOME_DEPARTAMENTO</th>\n",
              "      <th>NOME_SECCIONAL</th>\n",
              "      <th>DELEGACIA</th>\n",
              "      <th>NOME_DEPARTAMENTO_CIRC</th>\n",
              "      <th>NOME_SECCIONAL_CIRC</th>\n",
              "      <th>NOME_DELEGACIA_CIRC</th>\n",
              "      <th>ANO</th>\n",
              "      <th>MES</th>\n",
              "      <th>FLAG_STATUS</th>\n",
              "      <th>RUBRICA</th>\n",
              "      <th>CONDUTA</th>\n",
              "      <th>LATITUDE</th>\n",
              "      <th>LONGITUDE</th>\n",
              "      <th>CIDADE</th>\n",
              "      <th>LOGRADOURO</th>\n",
              "      <th>NUMERO_LOGRADOURO</th>\n",
              "      <th>FLAG_STATUS.1</th>\n",
              "      <th>Unnamed: 21</th>\n",
              "    </tr>\n",
              "  </thead>\n",
              "  <tbody>\n",
              "    <tr>\n",
              "      <th>0</th>\n",
              "      <td>3784</td>\n",
              "      <td>2016</td>\n",
              "      <td>10101</td>\n",
              "      <td>DECAP</td>\n",
              "      <td>DEL.SEC.1CENTRO</td>\n",
              "      <td>01D.P.SE</td>\n",
              "      <td>DECAP</td>\n",
              "      <td>DEL.SEC.1CENTRO</td>\n",
              "      <td>78D.P.JARDINS</td>\n",
              "      <td>2016</td>\n",
              "      <td>7</td>\n",
              "      <td>C</td>\n",
              "      <td>Furto</td>\n",
              "      <td>TRANSEUNTE</td>\n",
              "      <td>-23.564984</td>\n",
              "      <td>46.652035</td>\n",
              "      <td>S.PAULO</td>\n",
              "      <td>AVENIDAPAULISTA</td>\n",
              "      <td>1000</td>\n",
              "      <td>C</td>\n",
              "      <td>NaN</td>\n",
              "    </tr>\n",
              "    <tr>\n",
              "      <th>1</th>\n",
              "      <td>3426</td>\n",
              "      <td>2016</td>\n",
              "      <td>10102</td>\n",
              "      <td>DECAP</td>\n",
              "      <td>DEL.SEC.1CENTRO</td>\n",
              "      <td>02D.P.BOMRETIRO</td>\n",
              "      <td>DECAP</td>\n",
              "      <td>DEL.SEC.1CENTRO</td>\n",
              "      <td>03D.P.CAMPOSELISEOS</td>\n",
              "      <td>2016</td>\n",
              "      <td>5</td>\n",
              "      <td>C</td>\n",
              "      <td>Roubo</td>\n",
              "      <td>TRANSEUNTE</td>\n",
              "      <td>-23.542476</td>\n",
              "      <td>-46.641928</td>\n",
              "      <td>S.PAULO</td>\n",
              "      <td>PRAADAREPUBLICA</td>\n",
              "      <td>0</td>\n",
              "      <td>C</td>\n",
              "      <td>NaN</td>\n",
              "    </tr>\n",
              "    <tr>\n",
              "      <th>2</th>\n",
              "      <td>6359</td>\n",
              "      <td>2016</td>\n",
              "      <td>10102</td>\n",
              "      <td>DECAP</td>\n",
              "      <td>DEL.SEC.1CENTRO</td>\n",
              "      <td>02D.P.BOMRETIRO</td>\n",
              "      <td>DECAP</td>\n",
              "      <td>DEL.SEC.1CENTRO</td>\n",
              "      <td>03D.P.CAMPOSELISEOS</td>\n",
              "      <td>2016</td>\n",
              "      <td>10</td>\n",
              "      <td>C</td>\n",
              "      <td>Drogas</td>\n",
              "      <td>NaN</td>\n",
              "      <td>-23.542183</td>\n",
              "      <td>-46.640599</td>\n",
              "      <td>S.PAULO</td>\n",
              "      <td>RUACONSELHEIRONEBIAS</td>\n",
              "      <td>0</td>\n",
              "      <td>C</td>\n",
              "      <td>NaN</td>\n",
              "    </tr>\n",
              "    <tr>\n",
              "      <th>3</th>\n",
              "      <td>1267</td>\n",
              "      <td>2016</td>\n",
              "      <td>10103</td>\n",
              "      <td>DECAP</td>\n",
              "      <td>DEL.SEC.1CENTRO</td>\n",
              "      <td>03D.P.CAMPOSELISEOS</td>\n",
              "      <td>DECAP</td>\n",
              "      <td>DEL.SEC.8SAOMATEUS</td>\n",
              "      <td>49D.P.SAOMATEUS</td>\n",
              "      <td>2016</td>\n",
              "      <td>3</td>\n",
              "      <td>C</td>\n",
              "      <td>Roubo</td>\n",
              "      <td>CARGA</td>\n",
              "      <td>-23.609275</td>\n",
              "      <td>-46.455087</td>\n",
              "      <td>S.PAULO</td>\n",
              "      <td>RUAMADUREIRACALHEIROS</td>\n",
              "      <td>15</td>\n",
              "      <td>C</td>\n",
              "      <td>NaN</td>\n",
              "    </tr>\n",
              "    <tr>\n",
              "      <th>4</th>\n",
              "      <td>4804</td>\n",
              "      <td>2016</td>\n",
              "      <td>10106</td>\n",
              "      <td>DECAP</td>\n",
              "      <td>DEL.SEC.1CENTRO</td>\n",
              "      <td>06D.P.CAMBUCI</td>\n",
              "      <td>DECAP</td>\n",
              "      <td>DEL.SEC.1CENTRO</td>\n",
              "      <td>06D.P.CAMBUCI</td>\n",
              "      <td>2016</td>\n",
              "      <td>12</td>\n",
              "      <td>C</td>\n",
              "      <td>Lesao</td>\n",
              "      <td>NaN</td>\n",
              "      <td>-23.573928</td>\n",
              "      <td>-46.620693</td>\n",
              "      <td>S.PAULO</td>\n",
              "      <td>RUAROBERTSON</td>\n",
              "      <td>625</td>\n",
              "      <td>C</td>\n",
              "      <td>NaN</td>\n",
              "    </tr>\n",
              "  </tbody>\n",
              "</table>\n",
              "</div>"
            ],
            "text/plain": [
              "   NUM_BO  ANO_BO  ID_DELEGACIA  ... NUMERO_LOGRADOURO FLAG_STATUS.1 Unnamed: 21\n",
              "0    3784    2016         10101  ...              1000             C         NaN\n",
              "1    3426    2016         10102  ...                 0             C         NaN\n",
              "2    6359    2016         10102  ...                 0             C         NaN\n",
              "3    1267    2016         10103  ...                15             C         NaN\n",
              "4    4804    2016         10106  ...               625             C         NaN\n",
              "\n",
              "[5 rows x 21 columns]"
            ]
          },
          "metadata": {
            "tags": []
          },
          "execution_count": 6
        }
      ]
    },
    {
      "cell_type": "code",
      "metadata": {
        "id": "R91q1gPT-hk-",
        "outputId": "a7af6c12-0191-4204-89d5-b7bfb81d1883",
        "colab": {
          "base_uri": "https://localhost:8080/",
          "height": 209
        }
      },
      "source": [
        "data2 = data2.drop('Unnamed: 21', axis=1)\n",
        "data2.to_csv('data_semUnnamed.csv', index= False)\n",
        "data2.head()"
      ],
      "execution_count": 7,
      "outputs": [
        {
          "output_type": "execute_result",
          "data": {
            "text/html": [
              "<div>\n",
              "<style scoped>\n",
              "    .dataframe tbody tr th:only-of-type {\n",
              "        vertical-align: middle;\n",
              "    }\n",
              "\n",
              "    .dataframe tbody tr th {\n",
              "        vertical-align: top;\n",
              "    }\n",
              "\n",
              "    .dataframe thead th {\n",
              "        text-align: right;\n",
              "    }\n",
              "</style>\n",
              "<table border=\"1\" class=\"dataframe\">\n",
              "  <thead>\n",
              "    <tr style=\"text-align: right;\">\n",
              "      <th></th>\n",
              "      <th>NUM_BO</th>\n",
              "      <th>ANO_BO</th>\n",
              "      <th>ID_DELEGACIA</th>\n",
              "      <th>NOME_DEPARTAMENTO</th>\n",
              "      <th>NOME_SECCIONAL</th>\n",
              "      <th>DELEGACIA</th>\n",
              "      <th>NOME_DEPARTAMENTO_CIRC</th>\n",
              "      <th>NOME_SECCIONAL_CIRC</th>\n",
              "      <th>NOME_DELEGACIA_CIRC</th>\n",
              "      <th>ANO</th>\n",
              "      <th>MES</th>\n",
              "      <th>FLAG_STATUS</th>\n",
              "      <th>RUBRICA</th>\n",
              "      <th>CONDUTA</th>\n",
              "      <th>LATITUDE</th>\n",
              "      <th>LONGITUDE</th>\n",
              "      <th>CIDADE</th>\n",
              "      <th>LOGRADOURO</th>\n",
              "      <th>NUMERO_LOGRADOURO</th>\n",
              "      <th>FLAG_STATUS.1</th>\n",
              "    </tr>\n",
              "  </thead>\n",
              "  <tbody>\n",
              "    <tr>\n",
              "      <th>0</th>\n",
              "      <td>3784</td>\n",
              "      <td>2016</td>\n",
              "      <td>10101</td>\n",
              "      <td>DECAP</td>\n",
              "      <td>DEL.SEC.1CENTRO</td>\n",
              "      <td>01D.P.SE</td>\n",
              "      <td>DECAP</td>\n",
              "      <td>DEL.SEC.1CENTRO</td>\n",
              "      <td>78D.P.JARDINS</td>\n",
              "      <td>2016</td>\n",
              "      <td>7</td>\n",
              "      <td>C</td>\n",
              "      <td>Furto</td>\n",
              "      <td>TRANSEUNTE</td>\n",
              "      <td>-23.564984</td>\n",
              "      <td>46.652035</td>\n",
              "      <td>S.PAULO</td>\n",
              "      <td>AVENIDAPAULISTA</td>\n",
              "      <td>1000</td>\n",
              "      <td>C</td>\n",
              "    </tr>\n",
              "    <tr>\n",
              "      <th>1</th>\n",
              "      <td>3426</td>\n",
              "      <td>2016</td>\n",
              "      <td>10102</td>\n",
              "      <td>DECAP</td>\n",
              "      <td>DEL.SEC.1CENTRO</td>\n",
              "      <td>02D.P.BOMRETIRO</td>\n",
              "      <td>DECAP</td>\n",
              "      <td>DEL.SEC.1CENTRO</td>\n",
              "      <td>03D.P.CAMPOSELISEOS</td>\n",
              "      <td>2016</td>\n",
              "      <td>5</td>\n",
              "      <td>C</td>\n",
              "      <td>Roubo</td>\n",
              "      <td>TRANSEUNTE</td>\n",
              "      <td>-23.542476</td>\n",
              "      <td>-46.641928</td>\n",
              "      <td>S.PAULO</td>\n",
              "      <td>PRAADAREPUBLICA</td>\n",
              "      <td>0</td>\n",
              "      <td>C</td>\n",
              "    </tr>\n",
              "    <tr>\n",
              "      <th>2</th>\n",
              "      <td>6359</td>\n",
              "      <td>2016</td>\n",
              "      <td>10102</td>\n",
              "      <td>DECAP</td>\n",
              "      <td>DEL.SEC.1CENTRO</td>\n",
              "      <td>02D.P.BOMRETIRO</td>\n",
              "      <td>DECAP</td>\n",
              "      <td>DEL.SEC.1CENTRO</td>\n",
              "      <td>03D.P.CAMPOSELISEOS</td>\n",
              "      <td>2016</td>\n",
              "      <td>10</td>\n",
              "      <td>C</td>\n",
              "      <td>Drogas</td>\n",
              "      <td>NaN</td>\n",
              "      <td>-23.542183</td>\n",
              "      <td>-46.640599</td>\n",
              "      <td>S.PAULO</td>\n",
              "      <td>RUACONSELHEIRONEBIAS</td>\n",
              "      <td>0</td>\n",
              "      <td>C</td>\n",
              "    </tr>\n",
              "    <tr>\n",
              "      <th>3</th>\n",
              "      <td>1267</td>\n",
              "      <td>2016</td>\n",
              "      <td>10103</td>\n",
              "      <td>DECAP</td>\n",
              "      <td>DEL.SEC.1CENTRO</td>\n",
              "      <td>03D.P.CAMPOSELISEOS</td>\n",
              "      <td>DECAP</td>\n",
              "      <td>DEL.SEC.8SAOMATEUS</td>\n",
              "      <td>49D.P.SAOMATEUS</td>\n",
              "      <td>2016</td>\n",
              "      <td>3</td>\n",
              "      <td>C</td>\n",
              "      <td>Roubo</td>\n",
              "      <td>CARGA</td>\n",
              "      <td>-23.609275</td>\n",
              "      <td>-46.455087</td>\n",
              "      <td>S.PAULO</td>\n",
              "      <td>RUAMADUREIRACALHEIROS</td>\n",
              "      <td>15</td>\n",
              "      <td>C</td>\n",
              "    </tr>\n",
              "    <tr>\n",
              "      <th>4</th>\n",
              "      <td>4804</td>\n",
              "      <td>2016</td>\n",
              "      <td>10106</td>\n",
              "      <td>DECAP</td>\n",
              "      <td>DEL.SEC.1CENTRO</td>\n",
              "      <td>06D.P.CAMBUCI</td>\n",
              "      <td>DECAP</td>\n",
              "      <td>DEL.SEC.1CENTRO</td>\n",
              "      <td>06D.P.CAMBUCI</td>\n",
              "      <td>2016</td>\n",
              "      <td>12</td>\n",
              "      <td>C</td>\n",
              "      <td>Lesao</td>\n",
              "      <td>NaN</td>\n",
              "      <td>-23.573928</td>\n",
              "      <td>-46.620693</td>\n",
              "      <td>S.PAULO</td>\n",
              "      <td>RUAROBERTSON</td>\n",
              "      <td>625</td>\n",
              "      <td>C</td>\n",
              "    </tr>\n",
              "  </tbody>\n",
              "</table>\n",
              "</div>"
            ],
            "text/plain": [
              "   NUM_BO  ANO_BO  ...  NUMERO_LOGRADOURO FLAG_STATUS.1\n",
              "0    3784    2016  ...               1000             C\n",
              "1    3426    2016  ...                  0             C\n",
              "2    6359    2016  ...                  0             C\n",
              "3    1267    2016  ...                 15             C\n",
              "4    4804    2016  ...                625             C\n",
              "\n",
              "[5 rows x 20 columns]"
            ]
          },
          "metadata": {
            "tags": []
          },
          "execution_count": 7
        }
      ]
    },
    {
      "cell_type": "code",
      "metadata": {
        "id": "03s_tUEZESgn",
        "outputId": "524b46fe-c8cc-4fb5-f575-74e0d7f0be7d",
        "colab": {
          "base_uri": "https://localhost:8080/",
          "height": 209
        }
      },
      "source": [
        "data2 = data2.drop('FLAG_STATUS.1', axis=1)\n",
        "data2.to_csv('data_semFlag.1.csv', index= False)\n",
        "data2.head()"
      ],
      "execution_count": 8,
      "outputs": [
        {
          "output_type": "execute_result",
          "data": {
            "text/html": [
              "<div>\n",
              "<style scoped>\n",
              "    .dataframe tbody tr th:only-of-type {\n",
              "        vertical-align: middle;\n",
              "    }\n",
              "\n",
              "    .dataframe tbody tr th {\n",
              "        vertical-align: top;\n",
              "    }\n",
              "\n",
              "    .dataframe thead th {\n",
              "        text-align: right;\n",
              "    }\n",
              "</style>\n",
              "<table border=\"1\" class=\"dataframe\">\n",
              "  <thead>\n",
              "    <tr style=\"text-align: right;\">\n",
              "      <th></th>\n",
              "      <th>NUM_BO</th>\n",
              "      <th>ANO_BO</th>\n",
              "      <th>ID_DELEGACIA</th>\n",
              "      <th>NOME_DEPARTAMENTO</th>\n",
              "      <th>NOME_SECCIONAL</th>\n",
              "      <th>DELEGACIA</th>\n",
              "      <th>NOME_DEPARTAMENTO_CIRC</th>\n",
              "      <th>NOME_SECCIONAL_CIRC</th>\n",
              "      <th>NOME_DELEGACIA_CIRC</th>\n",
              "      <th>ANO</th>\n",
              "      <th>MES</th>\n",
              "      <th>FLAG_STATUS</th>\n",
              "      <th>RUBRICA</th>\n",
              "      <th>CONDUTA</th>\n",
              "      <th>LATITUDE</th>\n",
              "      <th>LONGITUDE</th>\n",
              "      <th>CIDADE</th>\n",
              "      <th>LOGRADOURO</th>\n",
              "      <th>NUMERO_LOGRADOURO</th>\n",
              "    </tr>\n",
              "  </thead>\n",
              "  <tbody>\n",
              "    <tr>\n",
              "      <th>0</th>\n",
              "      <td>3784</td>\n",
              "      <td>2016</td>\n",
              "      <td>10101</td>\n",
              "      <td>DECAP</td>\n",
              "      <td>DEL.SEC.1CENTRO</td>\n",
              "      <td>01D.P.SE</td>\n",
              "      <td>DECAP</td>\n",
              "      <td>DEL.SEC.1CENTRO</td>\n",
              "      <td>78D.P.JARDINS</td>\n",
              "      <td>2016</td>\n",
              "      <td>7</td>\n",
              "      <td>C</td>\n",
              "      <td>Furto</td>\n",
              "      <td>TRANSEUNTE</td>\n",
              "      <td>-23.564984</td>\n",
              "      <td>46.652035</td>\n",
              "      <td>S.PAULO</td>\n",
              "      <td>AVENIDAPAULISTA</td>\n",
              "      <td>1000</td>\n",
              "    </tr>\n",
              "    <tr>\n",
              "      <th>1</th>\n",
              "      <td>3426</td>\n",
              "      <td>2016</td>\n",
              "      <td>10102</td>\n",
              "      <td>DECAP</td>\n",
              "      <td>DEL.SEC.1CENTRO</td>\n",
              "      <td>02D.P.BOMRETIRO</td>\n",
              "      <td>DECAP</td>\n",
              "      <td>DEL.SEC.1CENTRO</td>\n",
              "      <td>03D.P.CAMPOSELISEOS</td>\n",
              "      <td>2016</td>\n",
              "      <td>5</td>\n",
              "      <td>C</td>\n",
              "      <td>Roubo</td>\n",
              "      <td>TRANSEUNTE</td>\n",
              "      <td>-23.542476</td>\n",
              "      <td>-46.641928</td>\n",
              "      <td>S.PAULO</td>\n",
              "      <td>PRAADAREPUBLICA</td>\n",
              "      <td>0</td>\n",
              "    </tr>\n",
              "    <tr>\n",
              "      <th>2</th>\n",
              "      <td>6359</td>\n",
              "      <td>2016</td>\n",
              "      <td>10102</td>\n",
              "      <td>DECAP</td>\n",
              "      <td>DEL.SEC.1CENTRO</td>\n",
              "      <td>02D.P.BOMRETIRO</td>\n",
              "      <td>DECAP</td>\n",
              "      <td>DEL.SEC.1CENTRO</td>\n",
              "      <td>03D.P.CAMPOSELISEOS</td>\n",
              "      <td>2016</td>\n",
              "      <td>10</td>\n",
              "      <td>C</td>\n",
              "      <td>Drogas</td>\n",
              "      <td>NaN</td>\n",
              "      <td>-23.542183</td>\n",
              "      <td>-46.640599</td>\n",
              "      <td>S.PAULO</td>\n",
              "      <td>RUACONSELHEIRONEBIAS</td>\n",
              "      <td>0</td>\n",
              "    </tr>\n",
              "    <tr>\n",
              "      <th>3</th>\n",
              "      <td>1267</td>\n",
              "      <td>2016</td>\n",
              "      <td>10103</td>\n",
              "      <td>DECAP</td>\n",
              "      <td>DEL.SEC.1CENTRO</td>\n",
              "      <td>03D.P.CAMPOSELISEOS</td>\n",
              "      <td>DECAP</td>\n",
              "      <td>DEL.SEC.8SAOMATEUS</td>\n",
              "      <td>49D.P.SAOMATEUS</td>\n",
              "      <td>2016</td>\n",
              "      <td>3</td>\n",
              "      <td>C</td>\n",
              "      <td>Roubo</td>\n",
              "      <td>CARGA</td>\n",
              "      <td>-23.609275</td>\n",
              "      <td>-46.455087</td>\n",
              "      <td>S.PAULO</td>\n",
              "      <td>RUAMADUREIRACALHEIROS</td>\n",
              "      <td>15</td>\n",
              "    </tr>\n",
              "    <tr>\n",
              "      <th>4</th>\n",
              "      <td>4804</td>\n",
              "      <td>2016</td>\n",
              "      <td>10106</td>\n",
              "      <td>DECAP</td>\n",
              "      <td>DEL.SEC.1CENTRO</td>\n",
              "      <td>06D.P.CAMBUCI</td>\n",
              "      <td>DECAP</td>\n",
              "      <td>DEL.SEC.1CENTRO</td>\n",
              "      <td>06D.P.CAMBUCI</td>\n",
              "      <td>2016</td>\n",
              "      <td>12</td>\n",
              "      <td>C</td>\n",
              "      <td>Lesao</td>\n",
              "      <td>NaN</td>\n",
              "      <td>-23.573928</td>\n",
              "      <td>-46.620693</td>\n",
              "      <td>S.PAULO</td>\n",
              "      <td>RUAROBERTSON</td>\n",
              "      <td>625</td>\n",
              "    </tr>\n",
              "  </tbody>\n",
              "</table>\n",
              "</div>"
            ],
            "text/plain": [
              "   NUM_BO  ANO_BO  ...             LOGRADOURO NUMERO_LOGRADOURO\n",
              "0    3784    2016  ...        AVENIDAPAULISTA              1000\n",
              "1    3426    2016  ...        PRAADAREPUBLICA                 0\n",
              "2    6359    2016  ...   RUACONSELHEIRONEBIAS                 0\n",
              "3    1267    2016  ...  RUAMADUREIRACALHEIROS                15\n",
              "4    4804    2016  ...           RUAROBERTSON               625\n",
              "\n",
              "[5 rows x 19 columns]"
            ]
          },
          "metadata": {
            "tags": []
          },
          "execution_count": 8
        }
      ]
    },
    {
      "cell_type": "markdown",
      "metadata": {
        "id": "NVvqezoasm0x"
      },
      "source": [
        "*Observações:*\n",
        "\n",
        "Ao vermos a contagem da tabela Flag_status, vemos que todos os seus valores são iguais, portanto será deletada por não ter utilidade no estudo."
      ]
    },
    {
      "cell_type": "code",
      "metadata": {
        "id": "mh1FAfTsyPQW",
        "outputId": "74c9267f-fd1d-43bc-94b4-41688c63d86f",
        "colab": {
          "base_uri": "https://localhost:8080/"
        }
      },
      "source": [
        "data2['FLAG_STATUS'].value_counts()"
      ],
      "execution_count": 9,
      "outputs": [
        {
          "output_type": "execute_result",
          "data": {
            "text/plain": [
              "C    199\n",
              "Name: FLAG_STATUS, dtype: int64"
            ]
          },
          "metadata": {
            "tags": []
          },
          "execution_count": 9
        }
      ]
    },
    {
      "cell_type": "code",
      "metadata": {
        "id": "3pp5xi3MslmB"
      },
      "source": [
        "data2 = data2.drop('FLAG_STATUS', axis=1)\n",
        "data2.to_csv('data_semFlag2.csv', index= False)"
      ],
      "execution_count": 10,
      "outputs": []
    },
    {
      "cell_type": "markdown",
      "metadata": {
        "id": "DTizs9J6KYQD"
      },
      "source": [
        "*Observações:*\n",
        "\n",
        "Falta tratar as colunas CONDUTA, LATITUDE E LONGITUDE."
      ]
    },
    {
      "cell_type": "code",
      "metadata": {
        "id": "0MAvQvx4Kr06",
        "outputId": "fcb282ad-16e4-4dc5-ff3e-bee7151c38c5",
        "colab": {
          "base_uri": "https://localhost:8080/"
        }
      },
      "source": [
        "print(data2.isnull().any())\n",
        "print()"
      ],
      "execution_count": 11,
      "outputs": [
        {
          "output_type": "stream",
          "text": [
            "NUM_BO                    False\n",
            "ANO_BO                    False\n",
            "ID_DELEGACIA              False\n",
            "NOME_DEPARTAMENTO         False\n",
            "NOME_SECCIONAL            False\n",
            "DELEGACIA                 False\n",
            "NOME_DEPARTAMENTO_CIRC    False\n",
            "NOME_SECCIONAL_CIRC       False\n",
            "NOME_DELEGACIA_CIRC       False\n",
            "ANO                       False\n",
            "MES                       False\n",
            "RUBRICA                   False\n",
            "CONDUTA                    True\n",
            "LATITUDE                   True\n",
            "LONGITUDE                  True\n",
            "CIDADE                    False\n",
            "LOGRADOURO                False\n",
            "NUMERO_LOGRADOURO         False\n",
            "dtype: bool\n",
            "\n"
          ],
          "name": "stdout"
        }
      ]
    },
    {
      "cell_type": "markdown",
      "metadata": {
        "id": "IFdtalYgK2fl"
      },
      "source": [
        "Começando por CONDUTA, vemos que um dos valores é muito frequente e poderia ser usado para substituir os dados NA."
      ]
    },
    {
      "cell_type": "code",
      "metadata": {
        "id": "m7BqlhMMKOmd",
        "outputId": "f7a22451-48ff-47ba-c6fe-86f8d01f6f16",
        "colab": {
          "base_uri": "https://localhost:8080/"
        }
      },
      "source": [
        "data2['CONDUTA'].value_counts()"
      ],
      "execution_count": 12,
      "outputs": [
        {
          "output_type": "execute_result",
          "data": {
            "text/plain": [
              "TRANSEUNTE                    80\n",
              "VEICULO                       35\n",
              "OUTROS                        19\n",
              "INTERIORTRANSPORTECOLETIVO    18\n",
              "INTERIORDEVEICULO              9\n",
              "RESIDENCIA                     8\n",
              "INTERIORESTABELECIMENTO        7\n",
              "ESTABELECIMENTOCOMERCIAL       3\n",
              "CARGA                          2\n",
              "ESTABELECIMENTO-OUTROS         1\n",
              "ESTABELECIMENTOBANCARIO        1\n",
              "ESTABELECIMENTOENSINO          1\n",
              "CONDOMINIOCOMERCIAL            1\n",
              "Name: CONDUTA, dtype: int64"
            ]
          },
          "metadata": {
            "tags": []
          },
          "execution_count": 12
        }
      ]
    },
    {
      "cell_type": "markdown",
      "metadata": {
        "id": "ED34ANCPLKUA"
      },
      "source": [
        "Assim, preencheremos NA e NaN com a palavra TRANSEUNTE."
      ]
    },
    {
      "cell_type": "code",
      "metadata": {
        "id": "I_h81za9LJ3i"
      },
      "source": [
        "data2['CONDUTA'].fillna('TRANSEUNTE', inplace=True)"
      ],
      "execution_count": 13,
      "outputs": []
    },
    {
      "cell_type": "code",
      "metadata": {
        "id": "Gf6_QKdxL-_J",
        "outputId": "43c8c8b0-18a2-4640-e173-2a7ee56def2d",
        "colab": {
          "base_uri": "https://localhost:8080/"
        }
      },
      "source": [
        "data2['CONDUTA'].value_counts()"
      ],
      "execution_count": 14,
      "outputs": [
        {
          "output_type": "execute_result",
          "data": {
            "text/plain": [
              "TRANSEUNTE                    94\n",
              "VEICULO                       35\n",
              "OUTROS                        19\n",
              "INTERIORTRANSPORTECOLETIVO    18\n",
              "INTERIORDEVEICULO              9\n",
              "RESIDENCIA                     8\n",
              "INTERIORESTABELECIMENTO        7\n",
              "ESTABELECIMENTOCOMERCIAL       3\n",
              "CARGA                          2\n",
              "ESTABELECIMENTO-OUTROS         1\n",
              "ESTABELECIMENTOBANCARIO        1\n",
              "ESTABELECIMENTOENSINO          1\n",
              "CONDOMINIOCOMERCIAL            1\n",
              "Name: CONDUTA, dtype: int64"
            ]
          },
          "metadata": {
            "tags": []
          },
          "execution_count": 14
        }
      ]
    },
    {
      "cell_type": "markdown",
      "metadata": {
        "id": "3JoMLGpUM6yY"
      },
      "source": [
        "Faremos o mesmo com as colunas restantes (latitude e longitude). Preencheremos NA e NaN com o dado mais frequente:"
      ]
    },
    {
      "cell_type": "code",
      "metadata": {
        "id": "stSP0L2kNEVR",
        "outputId": "b7af8ed5-06b7-4755-91cd-8b8cda4df47a",
        "colab": {
          "base_uri": "https://localhost:8080/"
        }
      },
      "source": [
        "data2['LATITUDE'].value_counts()"
      ],
      "execution_count": 15,
      "outputs": [
        {
          "output_type": "execute_result",
          "data": {
            "text/plain": [
              "-23.542476    2\n",
              "-23.609275    1\n",
              "-23.800623    1\n",
              "-23.657200    1\n",
              "-23.559255    1\n",
              "             ..\n",
              "-23.556510    1\n",
              "-23.605368    1\n",
              "-23.434273    1\n",
              "-23.611308    1\n",
              "-23.491977    1\n",
              "Name: LATITUDE, Length: 187, dtype: int64"
            ]
          },
          "metadata": {
            "tags": []
          },
          "execution_count": 15
        }
      ]
    },
    {
      "cell_type": "code",
      "metadata": {
        "id": "gQ9Jc7iiNKIi"
      },
      "source": [
        "data2['LATITUDE'].fillna('-23.542476', inplace=True)"
      ],
      "execution_count": 16,
      "outputs": []
    },
    {
      "cell_type": "code",
      "metadata": {
        "id": "FT70q-jSOPDt",
        "outputId": "93606a03-6592-463a-eee3-0f994707ecab",
        "colab": {
          "base_uri": "https://localhost:8080/"
        }
      },
      "source": [
        "data2.info()"
      ],
      "execution_count": 17,
      "outputs": [
        {
          "output_type": "stream",
          "text": [
            "<class 'pandas.core.frame.DataFrame'>\n",
            "RangeIndex: 199 entries, 0 to 198\n",
            "Data columns (total 18 columns):\n",
            " #   Column                  Non-Null Count  Dtype  \n",
            "---  ------                  --------------  -----  \n",
            " 0   NUM_BO                  199 non-null    int64  \n",
            " 1   ANO_BO                  199 non-null    int64  \n",
            " 2   ID_DELEGACIA            199 non-null    int64  \n",
            " 3   NOME_DEPARTAMENTO       199 non-null    object \n",
            " 4   NOME_SECCIONAL          199 non-null    object \n",
            " 5   DELEGACIA               199 non-null    object \n",
            " 6   NOME_DEPARTAMENTO_CIRC  199 non-null    object \n",
            " 7   NOME_SECCIONAL_CIRC     199 non-null    object \n",
            " 8   NOME_DELEGACIA_CIRC     199 non-null    object \n",
            " 9   ANO                     199 non-null    int64  \n",
            " 10  MES                     199 non-null    int64  \n",
            " 11  RUBRICA                 199 non-null    object \n",
            " 12  CONDUTA                 199 non-null    object \n",
            " 13  LATITUDE                199 non-null    object \n",
            " 14  LONGITUDE               188 non-null    float64\n",
            " 15  CIDADE                  199 non-null    object \n",
            " 16  LOGRADOURO              199 non-null    object \n",
            " 17  NUMERO_LOGRADOURO       199 non-null    int64  \n",
            "dtypes: float64(1), int64(6), object(11)\n",
            "memory usage: 28.1+ KB\n"
          ],
          "name": "stdout"
        }
      ]
    },
    {
      "cell_type": "code",
      "metadata": {
        "id": "RWPBFDj4NPPd",
        "outputId": "248942ce-54fa-4d57-d46e-64c28119a40f",
        "colab": {
          "base_uri": "https://localhost:8080/"
        }
      },
      "source": [
        "data2['LONGITUDE'].value_counts()"
      ],
      "execution_count": 18,
      "outputs": [
        {
          "output_type": "execute_result",
          "data": {
            "text/plain": [
              "-46.641928    2\n",
              "-46.515966    1\n",
              "-46.506067    1\n",
              "-46.746090    1\n",
              "-46.635213    1\n",
              "             ..\n",
              "-46.405933    1\n",
              "-46.630083    1\n",
              "-46.548444    1\n",
              "-46.558250    1\n",
              "-46.706705    1\n",
              "Name: LONGITUDE, Length: 187, dtype: int64"
            ]
          },
          "metadata": {
            "tags": []
          },
          "execution_count": 18
        }
      ]
    },
    {
      "cell_type": "code",
      "metadata": {
        "id": "2XHdogdRNPPj"
      },
      "source": [
        "data2['LONGITUDE'].fillna('-46.641928', inplace=True)"
      ],
      "execution_count": 19,
      "outputs": []
    },
    {
      "cell_type": "code",
      "metadata": {
        "id": "sefSy5yfNPPo",
        "outputId": "b628a290-6353-4f94-ec5d-c87830d8e83e",
        "colab": {
          "base_uri": "https://localhost:8080/"
        }
      },
      "source": [
        "data2.info()"
      ],
      "execution_count": 20,
      "outputs": [
        {
          "output_type": "stream",
          "text": [
            "<class 'pandas.core.frame.DataFrame'>\n",
            "RangeIndex: 199 entries, 0 to 198\n",
            "Data columns (total 18 columns):\n",
            " #   Column                  Non-Null Count  Dtype \n",
            "---  ------                  --------------  ----- \n",
            " 0   NUM_BO                  199 non-null    int64 \n",
            " 1   ANO_BO                  199 non-null    int64 \n",
            " 2   ID_DELEGACIA            199 non-null    int64 \n",
            " 3   NOME_DEPARTAMENTO       199 non-null    object\n",
            " 4   NOME_SECCIONAL          199 non-null    object\n",
            " 5   DELEGACIA               199 non-null    object\n",
            " 6   NOME_DEPARTAMENTO_CIRC  199 non-null    object\n",
            " 7   NOME_SECCIONAL_CIRC     199 non-null    object\n",
            " 8   NOME_DELEGACIA_CIRC     199 non-null    object\n",
            " 9   ANO                     199 non-null    int64 \n",
            " 10  MES                     199 non-null    int64 \n",
            " 11  RUBRICA                 199 non-null    object\n",
            " 12  CONDUTA                 199 non-null    object\n",
            " 13  LATITUDE                199 non-null    object\n",
            " 14  LONGITUDE               199 non-null    object\n",
            " 15  CIDADE                  199 non-null    object\n",
            " 16  LOGRADOURO              199 non-null    object\n",
            " 17  NUMERO_LOGRADOURO       199 non-null    int64 \n",
            "dtypes: int64(6), object(12)\n",
            "memory usage: 28.1+ KB\n"
          ],
          "name": "stdout"
        }
      ]
    },
    {
      "cell_type": "markdown",
      "metadata": {
        "id": "tEeFAnXVR7rm"
      },
      "source": [
        "Agora todos os campos estão preenchidos, então a pesquisa por nulos retorna False:"
      ]
    },
    {
      "cell_type": "code",
      "metadata": {
        "id": "YAZCNWRCSARl",
        "outputId": "d749d835-8ff4-4438-da19-83b3f29e0236",
        "colab": {
          "base_uri": "https://localhost:8080/"
        }
      },
      "source": [
        "print(data2.isnull().any())\n",
        "print()"
      ],
      "execution_count": 21,
      "outputs": [
        {
          "output_type": "stream",
          "text": [
            "NUM_BO                    False\n",
            "ANO_BO                    False\n",
            "ID_DELEGACIA              False\n",
            "NOME_DEPARTAMENTO         False\n",
            "NOME_SECCIONAL            False\n",
            "DELEGACIA                 False\n",
            "NOME_DEPARTAMENTO_CIRC    False\n",
            "NOME_SECCIONAL_CIRC       False\n",
            "NOME_DELEGACIA_CIRC       False\n",
            "ANO                       False\n",
            "MES                       False\n",
            "RUBRICA                   False\n",
            "CONDUTA                   False\n",
            "LATITUDE                  False\n",
            "LONGITUDE                 False\n",
            "CIDADE                    False\n",
            "LOGRADOURO                False\n",
            "NUMERO_LOGRADOURO         False\n",
            "dtype: bool\n",
            "\n"
          ],
          "name": "stdout"
        }
      ]
    },
    {
      "cell_type": "markdown",
      "metadata": {
        "id": "MhJMer8Gxq7P"
      },
      "source": [
        "# Analisando os dados\n",
        "- Com describe, vemos que apesar de ser referente ao ano de 2016, há pelo menos uma ocorrência de 2017 (última linha -> max, col ANO_BO), o que pode significar que ao menos um crime ocorrido em 2016 só foi registrado no ano seguinte.\n"
      ]
    },
    {
      "cell_type": "code",
      "metadata": {
        "id": "XiJ6s1sC-ZmS",
        "outputId": "dd61d343-14e0-4a1b-b366-537ff8bab006",
        "colab": {
          "base_uri": "https://localhost:8080/",
          "height": 274
        }
      },
      "source": [
        "data2.describe()"
      ],
      "execution_count": 22,
      "outputs": [
        {
          "output_type": "execute_result",
          "data": {
            "text/html": [
              "<div>\n",
              "<style scoped>\n",
              "    .dataframe tbody tr th:only-of-type {\n",
              "        vertical-align: middle;\n",
              "    }\n",
              "\n",
              "    .dataframe tbody tr th {\n",
              "        vertical-align: top;\n",
              "    }\n",
              "\n",
              "    .dataframe thead th {\n",
              "        text-align: right;\n",
              "    }\n",
              "</style>\n",
              "<table border=\"1\" class=\"dataframe\">\n",
              "  <thead>\n",
              "    <tr style=\"text-align: right;\">\n",
              "      <th></th>\n",
              "      <th>NUM_BO</th>\n",
              "      <th>ANO_BO</th>\n",
              "      <th>ID_DELEGACIA</th>\n",
              "      <th>ANO</th>\n",
              "      <th>MES</th>\n",
              "      <th>NUMERO_LOGRADOURO</th>\n",
              "    </tr>\n",
              "  </thead>\n",
              "  <tbody>\n",
              "    <tr>\n",
              "      <th>count</th>\n",
              "      <td>1.990000e+02</td>\n",
              "      <td>199.000000</td>\n",
              "      <td>199.000000</td>\n",
              "      <td>199.0</td>\n",
              "      <td>199.000000</td>\n",
              "      <td>199.000000</td>\n",
              "    </tr>\n",
              "    <tr>\n",
              "      <th>mean</th>\n",
              "      <td>4.687784e+05</td>\n",
              "      <td>2016.020101</td>\n",
              "      <td>500213.251256</td>\n",
              "      <td>2016.0</td>\n",
              "      <td>6.658291</td>\n",
              "      <td>688.437186</td>\n",
              "    </tr>\n",
              "    <tr>\n",
              "      <th>std</th>\n",
              "      <td>5.535074e+05</td>\n",
              "      <td>0.140698</td>\n",
              "      <td>437009.554279</td>\n",
              "      <td>0.0</td>\n",
              "      <td>3.374566</td>\n",
              "      <td>1437.826725</td>\n",
              "    </tr>\n",
              "    <tr>\n",
              "      <th>min</th>\n",
              "      <td>3.600000e+01</td>\n",
              "      <td>2016.000000</td>\n",
              "      <td>10004.000000</td>\n",
              "      <td>2016.0</td>\n",
              "      <td>1.000000</td>\n",
              "      <td>0.000000</td>\n",
              "    </tr>\n",
              "    <tr>\n",
              "      <th>25%</th>\n",
              "      <td>3.555500e+03</td>\n",
              "      <td>2016.000000</td>\n",
              "      <td>25201.500000</td>\n",
              "      <td>2016.0</td>\n",
              "      <td>4.000000</td>\n",
              "      <td>37.500000</td>\n",
              "    </tr>\n",
              "    <tr>\n",
              "      <th>50%</th>\n",
              "      <td>1.442190e+05</td>\n",
              "      <td>2016.000000</td>\n",
              "      <td>900020.000000</td>\n",
              "      <td>2016.0</td>\n",
              "      <td>7.000000</td>\n",
              "      <td>248.000000</td>\n",
              "    </tr>\n",
              "    <tr>\n",
              "      <th>75%</th>\n",
              "      <td>8.584790e+05</td>\n",
              "      <td>2016.000000</td>\n",
              "      <td>900020.000000</td>\n",
              "      <td>2016.0</td>\n",
              "      <td>10.000000</td>\n",
              "      <td>549.000000</td>\n",
              "    </tr>\n",
              "    <tr>\n",
              "      <th>max</th>\n",
              "      <td>1.649798e+06</td>\n",
              "      <td>2017.000000</td>\n",
              "      <td>900020.000000</td>\n",
              "      <td>2016.0</td>\n",
              "      <td>12.000000</td>\n",
              "      <td>13913.000000</td>\n",
              "    </tr>\n",
              "  </tbody>\n",
              "</table>\n",
              "</div>"
            ],
            "text/plain": [
              "             NUM_BO       ANO_BO  ...         MES  NUMERO_LOGRADOURO\n",
              "count  1.990000e+02   199.000000  ...  199.000000         199.000000\n",
              "mean   4.687784e+05  2016.020101  ...    6.658291         688.437186\n",
              "std    5.535074e+05     0.140698  ...    3.374566        1437.826725\n",
              "min    3.600000e+01  2016.000000  ...    1.000000           0.000000\n",
              "25%    3.555500e+03  2016.000000  ...    4.000000          37.500000\n",
              "50%    1.442190e+05  2016.000000  ...    7.000000         248.000000\n",
              "75%    8.584790e+05  2016.000000  ...   10.000000         549.000000\n",
              "max    1.649798e+06  2017.000000  ...   12.000000       13913.000000\n",
              "\n",
              "[8 rows x 6 columns]"
            ]
          },
          "metadata": {
            "tags": []
          },
          "execution_count": 22
        }
      ]
    },
    {
      "cell_type": "markdown",
      "metadata": {
        "id": "7CitzILCAzLW"
      },
      "source": [
        "#Verificando frequência de crimes\n"
      ]
    },
    {
      "cell_type": "markdown",
      "metadata": {
        "id": "X3R1Co8bZ7oQ"
      },
      "source": [
        "*Observações:*\n",
        "\n",
        "O mês com maior ocorrência de crimes é Julho, seguido de Novembro e Abril, tendo estes dois últimos o mesmo resultado."
      ]
    },
    {
      "cell_type": "code",
      "metadata": {
        "id": "XfXy13dLqmDg",
        "outputId": "7d6518d6-c44e-4995-ea9d-f50ecac89074",
        "colab": {
          "base_uri": "https://localhost:8080/"
        }
      },
      "source": [
        "data2['MES'].value_counts()"
      ],
      "execution_count": 23,
      "outputs": [
        {
          "output_type": "execute_result",
          "data": {
            "text/plain": [
              "7     23\n",
              "11    21\n",
              "4     21\n",
              "6     17\n",
              "12    16\n",
              "3     16\n",
              "10    15\n",
              "8     15\n",
              "9     14\n",
              "5     14\n",
              "2     14\n",
              "1     13\n",
              "Name: MES, dtype: int64"
            ]
          },
          "metadata": {
            "tags": []
          },
          "execution_count": 23
        }
      ]
    },
    {
      "cell_type": "code",
      "metadata": {
        "id": "fzoDAeLb7zEm"
      },
      "source": [
        "mes = data2[\"MES\"]\n",
        "delito = data2[\"RUBRICA\"]\n"
      ],
      "execution_count": 24,
      "outputs": []
    },
    {
      "cell_type": "code",
      "metadata": {
        "id": "MmrR59mTAxyJ",
        "outputId": "fca55c95-287c-4cc0-8a6b-26eb44686ec8",
        "colab": {
          "base_uri": "https://localhost:8080/",
          "height": 621
        }
      },
      "source": [
        "plt.style.use('dark_background')\n",
        "plt.figure(figsize=(20,10))\n",
        "plt.hist(mes, bins=40, color = \"skyblue\", ec=\"darkblue\")\n",
        "plt.title('Frequência de Crimes por Mês')\n",
        "plt.ylabel('Número de Crimes')\n",
        "plt.xlabel('Mês/2016')\n",
        "plt.rcParams.update({'font.size': 20})\n",
        "plt.show()"
      ],
      "execution_count": 25,
      "outputs": [
        {
          "output_type": "display_data",
          "data": {
            "image/png": "[encoded data removed]",
            "text/plain": [
              "<Figure size 1440x720 with 1 Axes>"
            ]
          },
          "metadata": {
            "tags": []
          }
        }
      ]
    },
    {
      "cell_type": "markdown",
      "metadata": {
        "id": "t2hdP33USfko"
      },
      "source": [
        "*Observações:*\n",
        "\n",
        "A coluna mais importante para o nosso estudo é a Rubrica, a qual traz a natureza do crime. Podemos ver que o tipo de crime mais frequente é o furto, seguido do roubo. "
      ]
    },
    {
      "cell_type": "code",
      "metadata": {
        "id": "hb0sZAOCzMjm",
        "outputId": "bc719464-06c2-4963-8e8f-7045161958fc",
        "colab": {
          "base_uri": "https://localhost:8080/"
        }
      },
      "source": [
        "data2['RUBRICA'].value_counts()"
      ],
      "execution_count": 26,
      "outputs": [
        {
          "output_type": "execute_result",
          "data": {
            "text/plain": [
              "Furto               92\n",
              "Roubo               78\n",
              "FurtoQualificado    15\n",
              "Lesao               10\n",
              "LesaoPorVeiculo      2\n",
              "Drogas               2\n",
              "Name: RUBRICA, dtype: int64"
            ]
          },
          "metadata": {
            "tags": []
          },
          "execution_count": 26
        }
      ]
    },
    {
      "cell_type": "code",
      "metadata": {
        "id": "TiuR6AWvmEa9",
        "outputId": "8a02b244-76b2-437f-eafe-15ba0ce3ee37",
        "colab": {
          "base_uri": "https://localhost:8080/",
          "height": 595
        }
      },
      "source": [
        "plt.style.use('dark_background')\n",
        "plt.figure(figsize=(15,9))\n",
        "plt.xlabel('Número de Crimes')\n",
        "data2['RUBRICA'].value_counts().plot(kind='barh', title='Frequência de crimes por tipo')\n",
        "plt.show()\n"
      ],
      "execution_count": 27,
      "outputs": [
        {
          "output_type": "display_data",
          "data": {
            "image/png": "[encoded data removed]",
            "text/plain": [
              "<Figure size 1080x648 with 1 Axes>"
            ]
          },
          "metadata": {
            "tags": []
          }
        }
      ]
    },
    {
      "cell_type": "code",
      "metadata": {
        "id": "QT6z8m1EEgA6",
        "outputId": "32e914b6-f8e3-4019-f1ee-f366588a9aea",
        "colab": {
          "base_uri": "https://localhost:8080/",
          "height": 123
        }
      },
      "source": [
        "novas_colunas = pd.get_dummies(data2['RUBRICA']) \n",
        "data3 = pd.concat([data2,novas_colunas], axis=1) \n",
        "data3.head(2)"
      ],
      "execution_count": 28,
      "outputs": [
        {
          "output_type": "execute_result",
          "data": {
            "text/html": [
              "<div>\n",
              "<style scoped>\n",
              "    .dataframe tbody tr th:only-of-type {\n",
              "        vertical-align: middle;\n",
              "    }\n",
              "\n",
              "    .dataframe tbody tr th {\n",
              "        vertical-align: top;\n",
              "    }\n",
              "\n",
              "    .dataframe thead th {\n",
              "        text-align: right;\n",
              "    }\n",
              "</style>\n",
              "<table border=\"1\" class=\"dataframe\">\n",
              "  <thead>\n",
              "    <tr style=\"text-align: right;\">\n",
              "      <th></th>\n",
              "      <th>NUM_BO</th>\n",
              "      <th>ANO_BO</th>\n",
              "      <th>ID_DELEGACIA</th>\n",
              "      <th>NOME_DEPARTAMENTO</th>\n",
              "      <th>NOME_SECCIONAL</th>\n",
              "      <th>DELEGACIA</th>\n",
              "      <th>NOME_DEPARTAMENTO_CIRC</th>\n",
              "      <th>NOME_SECCIONAL_CIRC</th>\n",
              "      <th>NOME_DELEGACIA_CIRC</th>\n",
              "      <th>ANO</th>\n",
              "      <th>MES</th>\n",
              "      <th>RUBRICA</th>\n",
              "      <th>CONDUTA</th>\n",
              "      <th>LATITUDE</th>\n",
              "      <th>LONGITUDE</th>\n",
              "      <th>CIDADE</th>\n",
              "      <th>LOGRADOURO</th>\n",
              "      <th>NUMERO_LOGRADOURO</th>\n",
              "      <th>Drogas</th>\n",
              "      <th>Furto</th>\n",
              "      <th>FurtoQualificado</th>\n",
              "      <th>Lesao</th>\n",
              "      <th>LesaoPorVeiculo</th>\n",
              "      <th>Roubo</th>\n",
              "    </tr>\n",
              "  </thead>\n",
              "  <tbody>\n",
              "    <tr>\n",
              "      <th>0</th>\n",
              "      <td>3784</td>\n",
              "      <td>2016</td>\n",
              "      <td>10101</td>\n",
              "      <td>DECAP</td>\n",
              "      <td>DEL.SEC.1CENTRO</td>\n",
              "      <td>01D.P.SE</td>\n",
              "      <td>DECAP</td>\n",
              "      <td>DEL.SEC.1CENTRO</td>\n",
              "      <td>78D.P.JARDINS</td>\n",
              "      <td>2016</td>\n",
              "      <td>7</td>\n",
              "      <td>Furto</td>\n",
              "      <td>TRANSEUNTE</td>\n",
              "      <td>-23.565</td>\n",
              "      <td>46.652</td>\n",
              "      <td>S.PAULO</td>\n",
              "      <td>AVENIDAPAULISTA</td>\n",
              "      <td>1000</td>\n",
              "      <td>0</td>\n",
              "      <td>1</td>\n",
              "      <td>0</td>\n",
              "      <td>0</td>\n",
              "      <td>0</td>\n",
              "      <td>0</td>\n",
              "    </tr>\n",
              "    <tr>\n",
              "      <th>1</th>\n",
              "      <td>3426</td>\n",
              "      <td>2016</td>\n",
              "      <td>10102</td>\n",
              "      <td>DECAP</td>\n",
              "      <td>DEL.SEC.1CENTRO</td>\n",
              "      <td>02D.P.BOMRETIRO</td>\n",
              "      <td>DECAP</td>\n",
              "      <td>DEL.SEC.1CENTRO</td>\n",
              "      <td>03D.P.CAMPOSELISEOS</td>\n",
              "      <td>2016</td>\n",
              "      <td>5</td>\n",
              "      <td>Roubo</td>\n",
              "      <td>TRANSEUNTE</td>\n",
              "      <td>-23.5425</td>\n",
              "      <td>-46.6419</td>\n",
              "      <td>S.PAULO</td>\n",
              "      <td>PRAADAREPUBLICA</td>\n",
              "      <td>0</td>\n",
              "      <td>0</td>\n",
              "      <td>0</td>\n",
              "      <td>0</td>\n",
              "      <td>0</td>\n",
              "      <td>0</td>\n",
              "      <td>1</td>\n",
              "    </tr>\n",
              "  </tbody>\n",
              "</table>\n",
              "</div>"
            ],
            "text/plain": [
              "   NUM_BO  ANO_BO  ID_DELEGACIA  ... Lesao LesaoPorVeiculo Roubo\n",
              "0    3784    2016         10101  ...     0               0     0\n",
              "1    3426    2016         10102  ...     0               0     1\n",
              "\n",
              "[2 rows x 24 columns]"
            ]
          },
          "metadata": {
            "tags": []
          },
          "execution_count": 28
        }
      ]
    },
    {
      "cell_type": "markdown",
      "metadata": {
        "id": "9NVNn2wk2wXh"
      },
      "source": [
        "# Visualizando o mapa de calor para a ocorrência de crimes por região geográfica do estado de São Paulo."
      ]
    },
    {
      "cell_type": "markdown",
      "metadata": {
        "id": "Fd-3vkVpo63S"
      },
      "source": [
        "Por meio do mapa seguinte, observamos o quanto as ocorrências estão concentrados na capital, certamente devido à densidade populacional desta área. "
      ]
    },
    {
      "cell_type": "markdown",
      "metadata": {
        "id": "Q9_ZfGoQ_dH9"
      },
      "source": [
        "Para visualizar no mapa, precisaremos instalar e importar a lib Folium"
      ]
    },
    {
      "cell_type": "code",
      "metadata": {
        "id": "akmmBgMW-YQv",
        "outputId": "ff3d2348-1c4c-44e8-8380-1fef30c241ad",
        "colab": {
          "base_uri": "https://localhost:8080/"
        }
      },
      "source": [
        "!pip install git+https://github.com/python-visualization/folium"
      ],
      "execution_count": 29,
      "outputs": [
        {
          "output_type": "stream",
          "text": [
            "Collecting git+https://github.com/python-visualization/folium\n",
            "  Cloning https://github.com/python-visualization/folium to /tmp/pip-req-build-irqv5v7u\n",
            "  Running command git clone -q https://github.com/python-visualization/folium /tmp/pip-req-build-irqv5v7u\n",
            "Requirement already satisfied: branca>=0.3.0 in /usr/local/lib/python3.6/dist-packages (from folium==0.11.0+32.g0de6914) (0.4.1)\n",
            "Requirement already satisfied: jinja2>=2.9 in /usr/local/lib/python3.6/dist-packages (from folium==0.11.0+32.g0de6914) (2.11.2)\n",
            "Requirement already satisfied: numpy in /usr/local/lib/python3.6/dist-packages (from folium==0.11.0+32.g0de6914) (1.18.5)\n",
            "Requirement already satisfied: requests in /usr/local/lib/python3.6/dist-packages (from folium==0.11.0+32.g0de6914) (2.23.0)\n",
            "Requirement already satisfied: MarkupSafe>=0.23 in /usr/local/lib/python3.6/dist-packages (from jinja2>=2.9->folium==0.11.0+32.g0de6914) (1.1.1)\n",
            "Requirement already satisfied: certifi>=2017.4.17 in /usr/local/lib/python3.6/dist-packages (from requests->folium==0.11.0+32.g0de6914) (2020.6.20)\n",
            "Requirement already satisfied: idna<3,>=2.5 in /usr/local/lib/python3.6/dist-packages (from requests->folium==0.11.0+32.g0de6914) (2.10)\n",
            "Requirement already satisfied: urllib3!=1.25.0,!=1.25.1,<1.26,>=1.21.1 in /usr/local/lib/python3.6/dist-packages (from requests->folium==0.11.0+32.g0de6914) (1.24.3)\n",
            "Requirement already satisfied: chardet<4,>=3.0.2 in /usr/local/lib/python3.6/dist-packages (from requests->folium==0.11.0+32.g0de6914) (3.0.4)\n",
            "Building wheels for collected packages: folium\n",
            "  Building wheel for folium (setup.py) ... \u001b[?25l\u001b[?25hdone\n",
            "  Created wheel for folium: filename=folium-0.11.0+32.g0de6914-py2.py3-none-any.whl size=94726 sha256=c04e9598c8d244f0e0c981f3c0d25e12ec95b7b06b8b8286a7253f7f16123ec4\n",
            "  Stored in directory: /tmp/pip-ephem-wheel-cache-z1dzy47i/wheels/1e/e1/75/ecbc91fd5dd5d90befb0b533bf7492d38acffa033310731862\n",
            "Successfully built folium\n",
            "\u001b[31mERROR: datascience 0.10.6 has requirement folium==0.2.1, but you'll have folium 0.11.0+32.g0de6914 which is incompatible.\u001b[0m\n",
            "Installing collected packages: folium\n",
            "  Found existing installation: folium 0.8.3\n",
            "    Uninstalling folium-0.8.3:\n",
            "      Successfully uninstalled folium-0.8.3\n",
            "Successfully installed folium-0.11.0+32.g0de6914\n"
          ],
          "name": "stdout"
        }
      ]
    },
    {
      "cell_type": "code",
      "metadata": {
        "id": "VWP5w7I9-tDA",
        "outputId": "9f72af82-0540-464c-c1e0-7a897f0b36e4",
        "colab": {
          "base_uri": "https://localhost:8080/"
        }
      },
      "source": [
        "import os\n",
        "import folium\n",
        "import pandas as pd\n",
        "print(folium.__version__)"
      ],
      "execution_count": 30,
      "outputs": [
        {
          "output_type": "stream",
          "text": [
            "0.11.0+32.g0de6914\n"
          ],
          "name": "stdout"
        }
      ]
    },
    {
      "cell_type": "code",
      "metadata": {
        "id": "zlwBxzYKoiCg",
        "outputId": "bfa0a02c-78e8-41c8-f138-2a7b414f5f6b",
        "colab": {
          "base_uri": "https://localhost:8080/",
          "height": 993
        }
      },
      "source": [
        "from folium import plugins\n",
        "coordenadas = []\n",
        "lat = data2['LATITUDE'][:100].values\n",
        "long = data2['LONGITUDE'][:100].values\n",
        "\n",
        "mapa = folium.Map(location=[-23.542183, -46.640599],tiles='Stamen Toner',zoom_start=12)\n",
        "\n",
        "for la,lo in zip(lat,long):\n",
        "    coordenadas.append([la,lo])\n",
        "\n",
        "mapa.add_child(plugins.HeatMap(coordenadas))\n",
        "mapa"
      ],
      "execution_count": 31,
      "outputs": [
        {
          "output_type": "execute_result",
          "data": {
            "text/html": [
              "<div style=\"width:100%;\"><div style=\"position:relative;width:100%;height:0;padding-bottom:60%;\"><span style=\"color:#565656\">Make this Notebook Trusted to load map: File -> Trust Notebook</span><iframe src=\"about:blank\" style=\"position:absolute;width:100%;height:100%;left:0;top:0;border:none !important;\" data-html=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 onload=\"this.contentDocument.open();this.contentDocument.write(atob(this.getAttribute('data-html')));this.contentDocument.close();\" allowfullscreen webkitallowfullscreen mozallowfullscreen></iframe></div></div>"
            ],
            "text/plain": [
              "<folium.folium.Map at 0x7f6ac6a9da90>"
            ]
          },
          "metadata": {
            "tags": []
          },
          "execution_count": 31
        }
      ]
    }
  ]
}