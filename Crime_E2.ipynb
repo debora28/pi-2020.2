{
  "nbformat": 4,
  "nbformat_minor": 0,
  "metadata": {
    "colab": {
      "name": "Crime_E2.ipynb",
      "provenance": [],
      "collapsed_sections": [],
      "include_colab_link": true
    },
    "kernelspec": {
      "name": "python3",
      "display_name": "Python 3"
    }
  },
  "cells": [
    {
      "cell_type": "markdown",
      "metadata": {
        "id": "view-in-github",
        "colab_type": "text"
      },
      "source": [
        "<a href=\"https://colab.research.google.com/github/debora28/pi-2020.2/blob/main/Crime_E2.ipynb\" target=\"_parent\"><img src=\"https://colab.research.google.com/assets/colab-badge.svg\" alt=\"Open In Colab\"/></a>"
      ]
    },
    {
      "cell_type": "markdown",
      "metadata": {
        "id": "n0DV_jxj6uXV"
      },
      "source": [
        "# Dataset sobre taxa de ocorrência de crimes como roubo, furto e relacionados\n",
        "*Os dados foram extraídos do sistema de Registro Digital de Ocorrências (R.D.O.) disponível no site www.ssp.sp.gov.br referente ao ano de 2016.*"
      ]
    },
    {
      "cell_type": "markdown",
      "metadata": {
        "id": "9zn-xbiluvsI"
      },
      "source": [
        "Importando as bibliotecas necessárias para tratamento, estatística e visualização de dados:"
      ]
    },
    {
      "cell_type": "code",
      "metadata": {
        "id": "6ajaPsiOufgm"
      },
      "source": [
        "import numpy as np\n",
        "import pandas as pd\n",
        "import matplotlib.pyplot as plt\n",
        "import seaborn as sns"
      ],
      "execution_count": null,
      "outputs": []
    },
    {
      "cell_type": "markdown",
      "metadata": {
        "id": "TyWEGUY1IzT2"
      },
      "source": [
        "Carregando o arquivo:"
      ]
    },
    {
      "cell_type": "code",
      "metadata": {
        "id": "GT4Tvbaq4cKO"
      },
      "source": [
        "# Diretamente do GitHub:\n",
        "url = 'https://raw.githubusercontent.com/debora28/pi-2020.2/main/Edited_CrimeRatesBrazil.csv'\n",
        "data = pd.read_csv(url)"
      ],
      "execution_count": null,
      "outputs": []
    },
    {
      "cell_type": "code",
      "metadata": {
        "id": "XO_2eRJ9xSrz"
      },
      "source": [
        "# Lendo o arquivo CSV que foi carregado na página:\n",
        "# data = pd.read_csv('Edited_CrimeRatesBrazil.csv')"
      ],
      "execution_count": null,
      "outputs": []
    },
    {
      "cell_type": "markdown",
      "metadata": {
        "id": "dnbQxTMCxSSJ"
      },
      "source": [
        "# Siglas e termos\n",
        "\n",
        "*DECAP = Departamento de Polícia Judiciária da Capital;\n",
        "\n",
        "\n",
        "\n",
        "# Descrição das colunas\n",
        "                    \n",
        "\n",
        "*   NUM_BO = Número do B.O.\n",
        "*   ANO_BO = Ano de resgitro do B.O.\n",
        "*   ID_DELEGACIA = Código da delegacia responsável pelo registro da ocorrencia\n",
        "*   NOME_DEPARTAMENTO = Nome do Dep\n",
        "*   NOME_SECCIONAL = Nome da Delegacia Seccional responsável pelo registro\n",
        "*   DELEGACIA = Nome da Delegacia responsável pelo registro\n",
        "*   NOME_DEPARTAMENTO_CIRC = Nome do Departamento de Circunscrição\n",
        "*   NOME_SECCIONAL_CIRC = Seccional de Circunscrição\n",
        "*   NOME_DELEGACIA_CIRC = Delegacia de Circunscrição\n",
        "*   ANO = Ano da ocorrência\n",
        "*   MES = Mês da ocorrência\n",
        "*   FLAG_STATUS = Status da Ocorrência\n",
        "*   RUBRICA = Natureza jurídica da ocorrência\n",
        "*   DESDOBRAMENTO = Desdobramento na Ocorrência\n",
        "*   CONDUTA = Conduta na Ocorrência\n",
        "*   LATITUDE = Latitude da Ocorrência \n",
        "*   LONGITUDE = Longitude da Ocorrência\n",
        "*   CIDADE = Conduta da Ocorrência\n",
        "*   LOGRADOURO = Logradouro dos fatos\n",
        "*   NUMERO_LOGRADOURO = Numero do Logradouro dos fatos"
      ]
    },
    {
      "cell_type": "markdown",
      "metadata": {
        "id": "SPe2ue5KMvPL"
      },
      "source": [
        "#Limpeza e Tratamento\n",
        "Procurando nulos e removendo: NA - Not Available e NaN - Not a Number.\n",
        "Podemos ver que 5 colunas retornaram True, ou seja, possuem pelo menos um valor (any) indisponível ou vazio (isnull)."
      ]
    },
    {
      "cell_type": "code",
      "metadata": {
        "id": "TAGDs3A1M8bt",
        "outputId": "f6ddaf95-1979-4738-fe10-2726754702f5",
        "colab": {
          "base_uri": "https://localhost:8080/"
        }
      },
      "source": [
        "print(data.isnull().any())\n",
        "print()"
      ],
      "execution_count": null,
      "outputs": [
        {
          "output_type": "stream",
          "text": [
            "NUM_BO                    False\n",
            "ANO_BO                    False\n",
            "ID_DELEGACIA              False\n",
            "NOME_DEPartAMENTO         False\n",
            "NOME_SECCIONAL            False\n",
            "DELEGACIA                 False\n",
            "NOME_DEPARTAMENTO_CIRC    False\n",
            "NOME_SECCIONAL_CIRC       False\n",
            "NOME_DELEGACIA_CIRC       False\n",
            "ANO                       False\n",
            "MES                       False\n",
            "FLAG_STATUS               False\n",
            "RUBRICA                   False\n",
            "DESDOBRAMENTO              True\n",
            "CONDUTA                    True\n",
            "LATITUDE                   True\n",
            "LONGITUDE                  True\n",
            "CIDADE                    False\n",
            "LOGRADOURO                False\n",
            "NUMERO_LOGRADOURO         False\n",
            "FLAG_STATUS.1             False\n",
            "Unnamed: 21                True\n",
            "dtype: bool\n",
            "\n"
          ],
          "name": "stdout"
        }
      ]
    },
    {
      "cell_type": "markdown",
      "metadata": {
        "id": "Bmh1rKPQO0lU"
      },
      "source": [
        "*Observações:*\n",
        "- A coluna DESDOBRAMENTO tem apenas 5 valores;\n",
        "- As colunas CONDUTA, LATITUDE e LONGITUDE estão quase completas;\n",
        "- Unnamed: 21 está vazia;\n",
        "- FLAG_STATUS.1 é uma repetição de FLAG_STATUS."
      ]
    },
    {
      "cell_type": "code",
      "metadata": {
        "id": "nPJDJ7WKM8hQ",
        "outputId": "506d6e62-8e30-4e71-984a-9300fff50942",
        "colab": {
          "base_uri": "https://localhost:8080/"
        }
      },
      "source": [
        "print(data.info())"
      ],
      "execution_count": null,
      "outputs": [
        {
          "output_type": "stream",
          "text": [
            "<class 'pandas.core.frame.DataFrame'>\n",
            "RangeIndex: 199 entries, 0 to 198\n",
            "Data columns (total 22 columns):\n",
            " #   Column                  Non-Null Count  Dtype  \n",
            "---  ------                  --------------  -----  \n",
            " 0   NUM_BO                  199 non-null    int64  \n",
            " 1   ANO_BO                  199 non-null    int64  \n",
            " 2   ID_DELEGACIA            199 non-null    int64  \n",
            " 3   NOME_DEPartAMENTO       199 non-null    object \n",
            " 4   NOME_SECCIONAL          199 non-null    object \n",
            " 5   DELEGACIA               199 non-null    object \n",
            " 6   NOME_DEPARTAMENTO_CIRC  199 non-null    object \n",
            " 7   NOME_SECCIONAL_CIRC     199 non-null    object \n",
            " 8   NOME_DELEGACIA_CIRC     199 non-null    object \n",
            " 9   ANO                     199 non-null    int64  \n",
            " 10  MES                     199 non-null    int64  \n",
            " 11  FLAG_STATUS             199 non-null    object \n",
            " 12  RUBRICA                 199 non-null    object \n",
            " 13  DESDOBRAMENTO           5 non-null      object \n",
            " 14  CONDUTA                 185 non-null    object \n",
            " 15  LATITUDE                188 non-null    float64\n",
            " 16  LONGITUDE               188 non-null    float64\n",
            " 17  CIDADE                  199 non-null    object \n",
            " 18  LOGRADOURO              199 non-null    object \n",
            " 19  NUMERO_LOGRADOURO       199 non-null    int64  \n",
            " 20  FLAG_STATUS.1           199 non-null    object \n",
            " 21  Unnamed: 21             0 non-null      float64\n",
            "dtypes: float64(3), int64(6), object(13)\n",
            "memory usage: 34.3+ KB\n",
            "None\n"
          ],
          "name": "stdout"
        }
      ]
    },
    {
      "cell_type": "markdown",
      "metadata": {
        "id": "gB1p9ZqVP1XH"
      },
      "source": [
        "*Observações:*\n",
        "\n",
        "Podemos então apagar as colunas DESDOBRAMENTO, Unnamed: 21 e FLAG_STATUS.1, por falta ou insuficiência de valores.\n",
        "\n",
        "Com drop podemos excluir as colunas (axis=1 são colunas, axis=0 são linhas) sem utilidade, salvando em um novo dataframe (recebido pela variável data2) e depois salvando num outro arquivo csv (com to_csv):"
      ]
    },
    {
      "cell_type": "code",
      "metadata": {
        "id": "ZHbA6vbaODrq",
        "outputId": "e7113a26-55ce-48f7-be91-9c50923a244b",
        "colab": {
          "base_uri": "https://localhost:8080/",
          "height": 240
        }
      },
      "source": [
        "data2 = data.drop('DESDOBRAMENTO', axis=1)\n",
        "data2.to_csv('data_semDesdob.csv', index= False)\n",
        "data2.head()"
      ],
      "execution_count": null,
      "outputs": [
        {
          "output_type": "execute_result",
          "data": {
            "text/html": [
              "<div>\n",
              "<style scoped>\n",
              "    .dataframe tbody tr th:only-of-type {\n",
              "        vertical-align: middle;\n",
              "    }\n",
              "\n",
              "    .dataframe tbody tr th {\n",
              "        vertical-align: top;\n",
              "    }\n",
              "\n",
              "    .dataframe thead th {\n",
              "        text-align: right;\n",
              "    }\n",
              "</style>\n",
              "<table border=\"1\" class=\"dataframe\">\n",
              "  <thead>\n",
              "    <tr style=\"text-align: right;\">\n",
              "      <th></th>\n",
              "      <th>NUM_BO</th>\n",
              "      <th>ANO_BO</th>\n",
              "      <th>ID_DELEGACIA</th>\n",
              "      <th>NOME_DEPartAMENTO</th>\n",
              "      <th>NOME_SECCIONAL</th>\n",
              "      <th>DELEGACIA</th>\n",
              "      <th>NOME_DEPARTAMENTO_CIRC</th>\n",
              "      <th>NOME_SECCIONAL_CIRC</th>\n",
              "      <th>NOME_DELEGACIA_CIRC</th>\n",
              "      <th>ANO</th>\n",
              "      <th>MES</th>\n",
              "      <th>FLAG_STATUS</th>\n",
              "      <th>RUBRICA</th>\n",
              "      <th>CONDUTA</th>\n",
              "      <th>LATITUDE</th>\n",
              "      <th>LONGITUDE</th>\n",
              "      <th>CIDADE</th>\n",
              "      <th>LOGRADOURO</th>\n",
              "      <th>NUMERO_LOGRADOURO</th>\n",
              "      <th>FLAG_STATUS.1</th>\n",
              "      <th>Unnamed: 21</th>\n",
              "    </tr>\n",
              "  </thead>\n",
              "  <tbody>\n",
              "    <tr>\n",
              "      <th>0</th>\n",
              "      <td>3784</td>\n",
              "      <td>2016</td>\n",
              "      <td>10101</td>\n",
              "      <td>DECAP</td>\n",
              "      <td>DEL.SEC.1CENTRO</td>\n",
              "      <td>01D.P.SE</td>\n",
              "      <td>DECAP</td>\n",
              "      <td>DEL.SEC.1CENTRO</td>\n",
              "      <td>78D.P.JARDINS</td>\n",
              "      <td>2016</td>\n",
              "      <td>7</td>\n",
              "      <td>C</td>\n",
              "      <td>Furto(art.155)</td>\n",
              "      <td>TRANSEUNTE</td>\n",
              "      <td>-23.564984</td>\n",
              "      <td>46.652035</td>\n",
              "      <td>S.PAULO</td>\n",
              "      <td>AVENIDAPAULISTA</td>\n",
              "      <td>1000</td>\n",
              "      <td>C</td>\n",
              "      <td>NaN</td>\n",
              "    </tr>\n",
              "    <tr>\n",
              "      <th>1</th>\n",
              "      <td>3426</td>\n",
              "      <td>2016</td>\n",
              "      <td>10102</td>\n",
              "      <td>DECAP</td>\n",
              "      <td>DEL.SEC.1CENTRO</td>\n",
              "      <td>02D.P.BOMRETIRO</td>\n",
              "      <td>DECAP</td>\n",
              "      <td>DEL.SEC.1CENTRO</td>\n",
              "      <td>03D.P.CAMPOSELISEOS</td>\n",
              "      <td>2016</td>\n",
              "      <td>5</td>\n",
              "      <td>C</td>\n",
              "      <td>Roubo(art.157)</td>\n",
              "      <td>TRANSEUNTE</td>\n",
              "      <td>-23.542476</td>\n",
              "      <td>-46.641928</td>\n",
              "      <td>S.PAULO</td>\n",
              "      <td>PRAADAREPUBLICA</td>\n",
              "      <td>0</td>\n",
              "      <td>C</td>\n",
              "      <td>NaN</td>\n",
              "    </tr>\n",
              "    <tr>\n",
              "      <th>2</th>\n",
              "      <td>6359</td>\n",
              "      <td>2016</td>\n",
              "      <td>10102</td>\n",
              "      <td>DECAP</td>\n",
              "      <td>DEL.SEC.1CENTRO</td>\n",
              "      <td>02D.P.BOMRETIRO</td>\n",
              "      <td>DECAP</td>\n",
              "      <td>DEL.SEC.1CENTRO</td>\n",
              "      <td>03D.P.CAMPOSELISEOS</td>\n",
              "      <td>2016</td>\n",
              "      <td>10</td>\n",
              "      <td>C</td>\n",
              "      <td>DrogasSemAutorizacaoOuEmDesacordo(art.33_caput)</td>\n",
              "      <td>NaN</td>\n",
              "      <td>-23.542183</td>\n",
              "      <td>-46.640599</td>\n",
              "      <td>S.PAULO</td>\n",
              "      <td>RUACONSELHEIRONEBIAS</td>\n",
              "      <td>0</td>\n",
              "      <td>C</td>\n",
              "      <td>NaN</td>\n",
              "    </tr>\n",
              "    <tr>\n",
              "      <th>3</th>\n",
              "      <td>1267</td>\n",
              "      <td>2016</td>\n",
              "      <td>10103</td>\n",
              "      <td>DECAP</td>\n",
              "      <td>DEL.SEC.1CENTRO</td>\n",
              "      <td>03D.P.CAMPOSELISEOS</td>\n",
              "      <td>DECAP</td>\n",
              "      <td>DEL.SEC.8SAOMATEUS</td>\n",
              "      <td>49D.P.SAOMATEUS</td>\n",
              "      <td>2016</td>\n",
              "      <td>3</td>\n",
              "      <td>C</td>\n",
              "      <td>Roubo(art.157)</td>\n",
              "      <td>CARGA</td>\n",
              "      <td>-23.609275</td>\n",
              "      <td>-46.455087</td>\n",
              "      <td>S.PAULO</td>\n",
              "      <td>RUAMADUREIRACALHEIROS</td>\n",
              "      <td>15</td>\n",
              "      <td>C</td>\n",
              "      <td>NaN</td>\n",
              "    </tr>\n",
              "    <tr>\n",
              "      <th>4</th>\n",
              "      <td>4804</td>\n",
              "      <td>2016</td>\n",
              "      <td>10106</td>\n",
              "      <td>DECAP</td>\n",
              "      <td>DEL.SEC.1CENTRO</td>\n",
              "      <td>06D.P.CAMBUCI</td>\n",
              "      <td>DECAP</td>\n",
              "      <td>DEL.SEC.1CENTRO</td>\n",
              "      <td>06D.P.CAMBUCI</td>\n",
              "      <td>2016</td>\n",
              "      <td>12</td>\n",
              "      <td>C</td>\n",
              "      <td>LesaoCorporal(art.129)</td>\n",
              "      <td>NaN</td>\n",
              "      <td>-23.573928</td>\n",
              "      <td>-46.620693</td>\n",
              "      <td>S.PAULO</td>\n",
              "      <td>RUAROBERTSON</td>\n",
              "      <td>625</td>\n",
              "      <td>C</td>\n",
              "      <td>NaN</td>\n",
              "    </tr>\n",
              "  </tbody>\n",
              "</table>\n",
              "</div>"
            ],
            "text/plain": [
              "   NUM_BO  ANO_BO  ID_DELEGACIA  ... NUMERO_LOGRADOURO FLAG_STATUS.1 Unnamed: 21\n",
              "0    3784    2016         10101  ...              1000             C         NaN\n",
              "1    3426    2016         10102  ...                 0             C         NaN\n",
              "2    6359    2016         10102  ...                 0             C         NaN\n",
              "3    1267    2016         10103  ...                15             C         NaN\n",
              "4    4804    2016         10106  ...               625             C         NaN\n",
              "\n",
              "[5 rows x 21 columns]"
            ]
          },
          "metadata": {
            "tags": []
          },
          "execution_count": 420
        }
      ]
    },
    {
      "cell_type": "code",
      "metadata": {
        "id": "R91q1gPT-hk-",
        "outputId": "c4fe03a2-8237-41bf-ab03-945ca962641f",
        "colab": {
          "base_uri": "https://localhost:8080/",
          "height": 222
        }
      },
      "source": [
        "data2 = data2.drop('Unnamed: 21', axis=1)\n",
        "data2.to_csv('data_semUnnamed.csv', index= False)\n",
        "data2.head()"
      ],
      "execution_count": null,
      "outputs": [
        {
          "output_type": "execute_result",
          "data": {
            "text/html": [
              "<div>\n",
              "<style scoped>\n",
              "    .dataframe tbody tr th:only-of-type {\n",
              "        vertical-align: middle;\n",
              "    }\n",
              "\n",
              "    .dataframe tbody tr th {\n",
              "        vertical-align: top;\n",
              "    }\n",
              "\n",
              "    .dataframe thead th {\n",
              "        text-align: right;\n",
              "    }\n",
              "</style>\n",
              "<table border=\"1\" class=\"dataframe\">\n",
              "  <thead>\n",
              "    <tr style=\"text-align: right;\">\n",
              "      <th></th>\n",
              "      <th>NUM_BO</th>\n",
              "      <th>ANO_BO</th>\n",
              "      <th>ID_DELEGACIA</th>\n",
              "      <th>NOME_DEPartAMENTO</th>\n",
              "      <th>NOME_SECCIONAL</th>\n",
              "      <th>DELEGACIA</th>\n",
              "      <th>NOME_DEPARTAMENTO_CIRC</th>\n",
              "      <th>NOME_SECCIONAL_CIRC</th>\n",
              "      <th>NOME_DELEGACIA_CIRC</th>\n",
              "      <th>ANO</th>\n",
              "      <th>MES</th>\n",
              "      <th>FLAG_STATUS</th>\n",
              "      <th>RUBRICA</th>\n",
              "      <th>CONDUTA</th>\n",
              "      <th>LATITUDE</th>\n",
              "      <th>LONGITUDE</th>\n",
              "      <th>CIDADE</th>\n",
              "      <th>LOGRADOURO</th>\n",
              "      <th>NUMERO_LOGRADOURO</th>\n",
              "      <th>FLAG_STATUS.1</th>\n",
              "    </tr>\n",
              "  </thead>\n",
              "  <tbody>\n",
              "    <tr>\n",
              "      <th>0</th>\n",
              "      <td>3784</td>\n",
              "      <td>2016</td>\n",
              "      <td>10101</td>\n",
              "      <td>DECAP</td>\n",
              "      <td>DEL.SEC.1CENTRO</td>\n",
              "      <td>01D.P.SE</td>\n",
              "      <td>DECAP</td>\n",
              "      <td>DEL.SEC.1CENTRO</td>\n",
              "      <td>78D.P.JARDINS</td>\n",
              "      <td>2016</td>\n",
              "      <td>7</td>\n",
              "      <td>C</td>\n",
              "      <td>Furto(art.155)</td>\n",
              "      <td>TRANSEUNTE</td>\n",
              "      <td>-23.564984</td>\n",
              "      <td>46.652035</td>\n",
              "      <td>S.PAULO</td>\n",
              "      <td>AVENIDAPAULISTA</td>\n",
              "      <td>1000</td>\n",
              "      <td>C</td>\n",
              "    </tr>\n",
              "    <tr>\n",
              "      <th>1</th>\n",
              "      <td>3426</td>\n",
              "      <td>2016</td>\n",
              "      <td>10102</td>\n",
              "      <td>DECAP</td>\n",
              "      <td>DEL.SEC.1CENTRO</td>\n",
              "      <td>02D.P.BOMRETIRO</td>\n",
              "      <td>DECAP</td>\n",
              "      <td>DEL.SEC.1CENTRO</td>\n",
              "      <td>03D.P.CAMPOSELISEOS</td>\n",
              "      <td>2016</td>\n",
              "      <td>5</td>\n",
              "      <td>C</td>\n",
              "      <td>Roubo(art.157)</td>\n",
              "      <td>TRANSEUNTE</td>\n",
              "      <td>-23.542476</td>\n",
              "      <td>-46.641928</td>\n",
              "      <td>S.PAULO</td>\n",
              "      <td>PRAADAREPUBLICA</td>\n",
              "      <td>0</td>\n",
              "      <td>C</td>\n",
              "    </tr>\n",
              "    <tr>\n",
              "      <th>2</th>\n",
              "      <td>6359</td>\n",
              "      <td>2016</td>\n",
              "      <td>10102</td>\n",
              "      <td>DECAP</td>\n",
              "      <td>DEL.SEC.1CENTRO</td>\n",
              "      <td>02D.P.BOMRETIRO</td>\n",
              "      <td>DECAP</td>\n",
              "      <td>DEL.SEC.1CENTRO</td>\n",
              "      <td>03D.P.CAMPOSELISEOS</td>\n",
              "      <td>2016</td>\n",
              "      <td>10</td>\n",
              "      <td>C</td>\n",
              "      <td>DrogasSemAutorizacaoOuEmDesacordo(art.33_caput)</td>\n",
              "      <td>NaN</td>\n",
              "      <td>-23.542183</td>\n",
              "      <td>-46.640599</td>\n",
              "      <td>S.PAULO</td>\n",
              "      <td>RUACONSELHEIRONEBIAS</td>\n",
              "      <td>0</td>\n",
              "      <td>C</td>\n",
              "    </tr>\n",
              "    <tr>\n",
              "      <th>3</th>\n",
              "      <td>1267</td>\n",
              "      <td>2016</td>\n",
              "      <td>10103</td>\n",
              "      <td>DECAP</td>\n",
              "      <td>DEL.SEC.1CENTRO</td>\n",
              "      <td>03D.P.CAMPOSELISEOS</td>\n",
              "      <td>DECAP</td>\n",
              "      <td>DEL.SEC.8SAOMATEUS</td>\n",
              "      <td>49D.P.SAOMATEUS</td>\n",
              "      <td>2016</td>\n",
              "      <td>3</td>\n",
              "      <td>C</td>\n",
              "      <td>Roubo(art.157)</td>\n",
              "      <td>CARGA</td>\n",
              "      <td>-23.609275</td>\n",
              "      <td>-46.455087</td>\n",
              "      <td>S.PAULO</td>\n",
              "      <td>RUAMADUREIRACALHEIROS</td>\n",
              "      <td>15</td>\n",
              "      <td>C</td>\n",
              "    </tr>\n",
              "    <tr>\n",
              "      <th>4</th>\n",
              "      <td>4804</td>\n",
              "      <td>2016</td>\n",
              "      <td>10106</td>\n",
              "      <td>DECAP</td>\n",
              "      <td>DEL.SEC.1CENTRO</td>\n",
              "      <td>06D.P.CAMBUCI</td>\n",
              "      <td>DECAP</td>\n",
              "      <td>DEL.SEC.1CENTRO</td>\n",
              "      <td>06D.P.CAMBUCI</td>\n",
              "      <td>2016</td>\n",
              "      <td>12</td>\n",
              "      <td>C</td>\n",
              "      <td>LesaoCorporal(art.129)</td>\n",
              "      <td>NaN</td>\n",
              "      <td>-23.573928</td>\n",
              "      <td>-46.620693</td>\n",
              "      <td>S.PAULO</td>\n",
              "      <td>RUAROBERTSON</td>\n",
              "      <td>625</td>\n",
              "      <td>C</td>\n",
              "    </tr>\n",
              "  </tbody>\n",
              "</table>\n",
              "</div>"
            ],
            "text/plain": [
              "   NUM_BO  ANO_BO  ...  NUMERO_LOGRADOURO FLAG_STATUS.1\n",
              "0    3784    2016  ...               1000             C\n",
              "1    3426    2016  ...                  0             C\n",
              "2    6359    2016  ...                  0             C\n",
              "3    1267    2016  ...                 15             C\n",
              "4    4804    2016  ...                625             C\n",
              "\n",
              "[5 rows x 20 columns]"
            ]
          },
          "metadata": {
            "tags": []
          },
          "execution_count": 421
        }
      ]
    },
    {
      "cell_type": "code",
      "metadata": {
        "id": "03s_tUEZESgn",
        "outputId": "2b233edf-f063-424a-9f58-93024178dd66",
        "colab": {
          "base_uri": "https://localhost:8080/",
          "height": 222
        }
      },
      "source": [
        "data2 = data2.drop('FLAG_STATUS.1', axis=1)\n",
        "data2.to_csv('data_semFlag.1.csv', index= False)\n",
        "data2.head()"
      ],
      "execution_count": null,
      "outputs": [
        {
          "output_type": "execute_result",
          "data": {
            "text/html": [
              "<div>\n",
              "<style scoped>\n",
              "    .dataframe tbody tr th:only-of-type {\n",
              "        vertical-align: middle;\n",
              "    }\n",
              "\n",
              "    .dataframe tbody tr th {\n",
              "        vertical-align: top;\n",
              "    }\n",
              "\n",
              "    .dataframe thead th {\n",
              "        text-align: right;\n",
              "    }\n",
              "</style>\n",
              "<table border=\"1\" class=\"dataframe\">\n",
              "  <thead>\n",
              "    <tr style=\"text-align: right;\">\n",
              "      <th></th>\n",
              "      <th>NUM_BO</th>\n",
              "      <th>ANO_BO</th>\n",
              "      <th>ID_DELEGACIA</th>\n",
              "      <th>NOME_DEPartAMENTO</th>\n",
              "      <th>NOME_SECCIONAL</th>\n",
              "      <th>DELEGACIA</th>\n",
              "      <th>NOME_DEPARTAMENTO_CIRC</th>\n",
              "      <th>NOME_SECCIONAL_CIRC</th>\n",
              "      <th>NOME_DELEGACIA_CIRC</th>\n",
              "      <th>ANO</th>\n",
              "      <th>MES</th>\n",
              "      <th>FLAG_STATUS</th>\n",
              "      <th>RUBRICA</th>\n",
              "      <th>CONDUTA</th>\n",
              "      <th>LATITUDE</th>\n",
              "      <th>LONGITUDE</th>\n",
              "      <th>CIDADE</th>\n",
              "      <th>LOGRADOURO</th>\n",
              "      <th>NUMERO_LOGRADOURO</th>\n",
              "    </tr>\n",
              "  </thead>\n",
              "  <tbody>\n",
              "    <tr>\n",
              "      <th>0</th>\n",
              "      <td>3784</td>\n",
              "      <td>2016</td>\n",
              "      <td>10101</td>\n",
              "      <td>DECAP</td>\n",
              "      <td>DEL.SEC.1CENTRO</td>\n",
              "      <td>01D.P.SE</td>\n",
              "      <td>DECAP</td>\n",
              "      <td>DEL.SEC.1CENTRO</td>\n",
              "      <td>78D.P.JARDINS</td>\n",
              "      <td>2016</td>\n",
              "      <td>7</td>\n",
              "      <td>C</td>\n",
              "      <td>Furto(art.155)</td>\n",
              "      <td>TRANSEUNTE</td>\n",
              "      <td>-23.564984</td>\n",
              "      <td>46.652035</td>\n",
              "      <td>S.PAULO</td>\n",
              "      <td>AVENIDAPAULISTA</td>\n",
              "      <td>1000</td>\n",
              "    </tr>\n",
              "    <tr>\n",
              "      <th>1</th>\n",
              "      <td>3426</td>\n",
              "      <td>2016</td>\n",
              "      <td>10102</td>\n",
              "      <td>DECAP</td>\n",
              "      <td>DEL.SEC.1CENTRO</td>\n",
              "      <td>02D.P.BOMRETIRO</td>\n",
              "      <td>DECAP</td>\n",
              "      <td>DEL.SEC.1CENTRO</td>\n",
              "      <td>03D.P.CAMPOSELISEOS</td>\n",
              "      <td>2016</td>\n",
              "      <td>5</td>\n",
              "      <td>C</td>\n",
              "      <td>Roubo(art.157)</td>\n",
              "      <td>TRANSEUNTE</td>\n",
              "      <td>-23.542476</td>\n",
              "      <td>-46.641928</td>\n",
              "      <td>S.PAULO</td>\n",
              "      <td>PRAADAREPUBLICA</td>\n",
              "      <td>0</td>\n",
              "    </tr>\n",
              "    <tr>\n",
              "      <th>2</th>\n",
              "      <td>6359</td>\n",
              "      <td>2016</td>\n",
              "      <td>10102</td>\n",
              "      <td>DECAP</td>\n",
              "      <td>DEL.SEC.1CENTRO</td>\n",
              "      <td>02D.P.BOMRETIRO</td>\n",
              "      <td>DECAP</td>\n",
              "      <td>DEL.SEC.1CENTRO</td>\n",
              "      <td>03D.P.CAMPOSELISEOS</td>\n",
              "      <td>2016</td>\n",
              "      <td>10</td>\n",
              "      <td>C</td>\n",
              "      <td>DrogasSemAutorizacaoOuEmDesacordo(art.33_caput)</td>\n",
              "      <td>NaN</td>\n",
              "      <td>-23.542183</td>\n",
              "      <td>-46.640599</td>\n",
              "      <td>S.PAULO</td>\n",
              "      <td>RUACONSELHEIRONEBIAS</td>\n",
              "      <td>0</td>\n",
              "    </tr>\n",
              "    <tr>\n",
              "      <th>3</th>\n",
              "      <td>1267</td>\n",
              "      <td>2016</td>\n",
              "      <td>10103</td>\n",
              "      <td>DECAP</td>\n",
              "      <td>DEL.SEC.1CENTRO</td>\n",
              "      <td>03D.P.CAMPOSELISEOS</td>\n",
              "      <td>DECAP</td>\n",
              "      <td>DEL.SEC.8SAOMATEUS</td>\n",
              "      <td>49D.P.SAOMATEUS</td>\n",
              "      <td>2016</td>\n",
              "      <td>3</td>\n",
              "      <td>C</td>\n",
              "      <td>Roubo(art.157)</td>\n",
              "      <td>CARGA</td>\n",
              "      <td>-23.609275</td>\n",
              "      <td>-46.455087</td>\n",
              "      <td>S.PAULO</td>\n",
              "      <td>RUAMADUREIRACALHEIROS</td>\n",
              "      <td>15</td>\n",
              "    </tr>\n",
              "    <tr>\n",
              "      <th>4</th>\n",
              "      <td>4804</td>\n",
              "      <td>2016</td>\n",
              "      <td>10106</td>\n",
              "      <td>DECAP</td>\n",
              "      <td>DEL.SEC.1CENTRO</td>\n",
              "      <td>06D.P.CAMBUCI</td>\n",
              "      <td>DECAP</td>\n",
              "      <td>DEL.SEC.1CENTRO</td>\n",
              "      <td>06D.P.CAMBUCI</td>\n",
              "      <td>2016</td>\n",
              "      <td>12</td>\n",
              "      <td>C</td>\n",
              "      <td>LesaoCorporal(art.129)</td>\n",
              "      <td>NaN</td>\n",
              "      <td>-23.573928</td>\n",
              "      <td>-46.620693</td>\n",
              "      <td>S.PAULO</td>\n",
              "      <td>RUAROBERTSON</td>\n",
              "      <td>625</td>\n",
              "    </tr>\n",
              "  </tbody>\n",
              "</table>\n",
              "</div>"
            ],
            "text/plain": [
              "   NUM_BO  ANO_BO  ...             LOGRADOURO NUMERO_LOGRADOURO\n",
              "0    3784    2016  ...        AVENIDAPAULISTA              1000\n",
              "1    3426    2016  ...        PRAADAREPUBLICA                 0\n",
              "2    6359    2016  ...   RUACONSELHEIRONEBIAS                 0\n",
              "3    1267    2016  ...  RUAMADUREIRACALHEIROS                15\n",
              "4    4804    2016  ...           RUAROBERTSON               625\n",
              "\n",
              "[5 rows x 19 columns]"
            ]
          },
          "metadata": {
            "tags": []
          },
          "execution_count": 422
        }
      ]
    },
    {
      "cell_type": "markdown",
      "metadata": {
        "id": "NVvqezoasm0x"
      },
      "source": [
        "*Observações:*\n",
        "\n",
        "Ao vermos a contagem da tabela Flag_status, vemos que todos os seus valores são iguais, portanto será deletada por não ter utilidade no estudo."
      ]
    },
    {
      "cell_type": "code",
      "metadata": {
        "id": "mh1FAfTsyPQW",
        "outputId": "ee7ea823-09e4-42ef-fef6-035d3005041e",
        "colab": {
          "base_uri": "https://localhost:8080/"
        }
      },
      "source": [
        "data2['FLAG_STATUS'].value_counts()"
      ],
      "execution_count": null,
      "outputs": [
        {
          "output_type": "execute_result",
          "data": {
            "text/plain": [
              "C    199\n",
              "Name: FLAG_STATUS, dtype: int64"
            ]
          },
          "metadata": {
            "tags": []
          },
          "execution_count": 423
        }
      ]
    },
    {
      "cell_type": "code",
      "metadata": {
        "id": "3pp5xi3MslmB"
      },
      "source": [
        "data2 = data2.drop('FLAG_STATUS', axis=1)\n",
        "data2.to_csv('data_semFlag2.csv', index= False)"
      ],
      "execution_count": null,
      "outputs": []
    },
    {
      "cell_type": "markdown",
      "metadata": {
        "id": "DTizs9J6KYQD"
      },
      "source": [
        "*Observações:*\n",
        "\n",
        "Falta tratar as colunas CONDUTA, LATITUDE E LONGITUDE."
      ]
    },
    {
      "cell_type": "code",
      "metadata": {
        "id": "0MAvQvx4Kr06",
        "outputId": "20675736-4acf-4208-a18c-6ec607604a17",
        "colab": {
          "base_uri": "https://localhost:8080/"
        }
      },
      "source": [
        "print(data2.isnull().any())\n",
        "print()"
      ],
      "execution_count": null,
      "outputs": [
        {
          "output_type": "stream",
          "text": [
            "NUM_BO                    False\n",
            "ANO_BO                    False\n",
            "ID_DELEGACIA              False\n",
            "NOME_DEPartAMENTO         False\n",
            "NOME_SECCIONAL            False\n",
            "DELEGACIA                 False\n",
            "NOME_DEPARTAMENTO_CIRC    False\n",
            "NOME_SECCIONAL_CIRC       False\n",
            "NOME_DELEGACIA_CIRC       False\n",
            "ANO                       False\n",
            "MES                       False\n",
            "RUBRICA                   False\n",
            "CONDUTA                    True\n",
            "LATITUDE                   True\n",
            "LONGITUDE                  True\n",
            "CIDADE                    False\n",
            "LOGRADOURO                False\n",
            "NUMERO_LOGRADOURO         False\n",
            "dtype: bool\n",
            "\n"
          ],
          "name": "stdout"
        }
      ]
    },
    {
      "cell_type": "markdown",
      "metadata": {
        "id": "IFdtalYgK2fl"
      },
      "source": [
        "Começando por CONDUTA, vemos que um dos valores é muito frequente e poderia ser usado para substituir os dados NA."
      ]
    },
    {
      "cell_type": "code",
      "metadata": {
        "id": "m7BqlhMMKOmd",
        "outputId": "e7dee229-a2b0-4ae5-ada0-3e228058a477",
        "colab": {
          "base_uri": "https://localhost:8080/"
        }
      },
      "source": [
        "data2['CONDUTA'].value_counts()"
      ],
      "execution_count": null,
      "outputs": [
        {
          "output_type": "execute_result",
          "data": {
            "text/plain": [
              "TRANSEUNTE                    80\n",
              "VEICULO                       35\n",
              "OUTROS                        19\n",
              "INTERIORTRANSPORTECOLETIVO    18\n",
              "INTERIORDEVEICULO              9\n",
              "RESIDENCIA                     8\n",
              "INTERIORESTABELECIMENTO        7\n",
              "ESTABELECIMENTOCOMERCIAL       3\n",
              "CARGA                          2\n",
              "ESTABELECIMENTO-OUTROS         1\n",
              "ESTABELECIMENTOBANCARIO        1\n",
              "ESTABELECIMENTOENSINO          1\n",
              "CONDOMINIOCOMERCIAL            1\n",
              "Name: CONDUTA, dtype: int64"
            ]
          },
          "metadata": {
            "tags": []
          },
          "execution_count": 426
        }
      ]
    },
    {
      "cell_type": "markdown",
      "metadata": {
        "id": "ED34ANCPLKUA"
      },
      "source": [
        "Assim, preencheremos NA e NaN com a palavra TRANSEUNTE."
      ]
    },
    {
      "cell_type": "code",
      "metadata": {
        "id": "I_h81za9LJ3i"
      },
      "source": [
        "data2['CONDUTA'].fillna('TRANSEUNTE', inplace=True)"
      ],
      "execution_count": null,
      "outputs": []
    },
    {
      "cell_type": "code",
      "metadata": {
        "id": "Gf6_QKdxL-_J",
        "outputId": "2b2c417f-3170-4923-9c36-3829fce48915",
        "colab": {
          "base_uri": "https://localhost:8080/"
        }
      },
      "source": [
        "data2['CONDUTA'].value_counts()"
      ],
      "execution_count": null,
      "outputs": [
        {
          "output_type": "execute_result",
          "data": {
            "text/plain": [
              "TRANSEUNTE                    94\n",
              "VEICULO                       35\n",
              "OUTROS                        19\n",
              "INTERIORTRANSPORTECOLETIVO    18\n",
              "INTERIORDEVEICULO              9\n",
              "RESIDENCIA                     8\n",
              "INTERIORESTABELECIMENTO        7\n",
              "ESTABELECIMENTOCOMERCIAL       3\n",
              "CARGA                          2\n",
              "ESTABELECIMENTO-OUTROS         1\n",
              "ESTABELECIMENTOBANCARIO        1\n",
              "ESTABELECIMENTOENSINO          1\n",
              "CONDOMINIOCOMERCIAL            1\n",
              "Name: CONDUTA, dtype: int64"
            ]
          },
          "metadata": {
            "tags": []
          },
          "execution_count": 428
        }
      ]
    },
    {
      "cell_type": "markdown",
      "metadata": {
        "id": "3JoMLGpUM6yY"
      },
      "source": [
        "Faremos o mesmo com as colunas restantes (latitude e longitude). Preencheremos NA e NaN com o dado mais frequente:"
      ]
    },
    {
      "cell_type": "code",
      "metadata": {
        "id": "stSP0L2kNEVR",
        "outputId": "8423bf1c-cc0d-49c8-dc18-73cfc1a9a7cb",
        "colab": {
          "base_uri": "https://localhost:8080/"
        }
      },
      "source": [
        "data2['LATITUDE'].value_counts()"
      ],
      "execution_count": null,
      "outputs": [
        {
          "output_type": "execute_result",
          "data": {
            "text/plain": [
              "-23.542476    2\n",
              "-23.609275    1\n",
              "-23.800623    1\n",
              "-23.657200    1\n",
              "-23.559255    1\n",
              "             ..\n",
              "-23.556510    1\n",
              "-23.605368    1\n",
              "-23.434273    1\n",
              "-23.611308    1\n",
              "-23.491977    1\n",
              "Name: LATITUDE, Length: 187, dtype: int64"
            ]
          },
          "metadata": {
            "tags": []
          },
          "execution_count": 429
        }
      ]
    },
    {
      "cell_type": "code",
      "metadata": {
        "id": "gQ9Jc7iiNKIi"
      },
      "source": [
        "data2['LATITUDE'].fillna('-23.542476', inplace=True)"
      ],
      "execution_count": null,
      "outputs": []
    },
    {
      "cell_type": "code",
      "metadata": {
        "id": "FT70q-jSOPDt",
        "outputId": "6a5442c7-80f7-4fcc-aa39-3ed53ec31c27",
        "colab": {
          "base_uri": "https://localhost:8080/"
        }
      },
      "source": [
        "data2.info()"
      ],
      "execution_count": null,
      "outputs": [
        {
          "output_type": "stream",
          "text": [
            "<class 'pandas.core.frame.DataFrame'>\n",
            "RangeIndex: 199 entries, 0 to 198\n",
            "Data columns (total 18 columns):\n",
            " #   Column                  Non-Null Count  Dtype  \n",
            "---  ------                  --------------  -----  \n",
            " 0   NUM_BO                  199 non-null    int64  \n",
            " 1   ANO_BO                  199 non-null    int64  \n",
            " 2   ID_DELEGACIA            199 non-null    int64  \n",
            " 3   NOME_DEPartAMENTO       199 non-null    object \n",
            " 4   NOME_SECCIONAL          199 non-null    object \n",
            " 5   DELEGACIA               199 non-null    object \n",
            " 6   NOME_DEPARTAMENTO_CIRC  199 non-null    object \n",
            " 7   NOME_SECCIONAL_CIRC     199 non-null    object \n",
            " 8   NOME_DELEGACIA_CIRC     199 non-null    object \n",
            " 9   ANO                     199 non-null    int64  \n",
            " 10  MES                     199 non-null    int64  \n",
            " 11  RUBRICA                 199 non-null    object \n",
            " 12  CONDUTA                 199 non-null    object \n",
            " 13  LATITUDE                199 non-null    object \n",
            " 14  LONGITUDE               188 non-null    float64\n",
            " 15  CIDADE                  199 non-null    object \n",
            " 16  LOGRADOURO              199 non-null    object \n",
            " 17  NUMERO_LOGRADOURO       199 non-null    int64  \n",
            "dtypes: float64(1), int64(6), object(11)\n",
            "memory usage: 28.1+ KB\n"
          ],
          "name": "stdout"
        }
      ]
    },
    {
      "cell_type": "code",
      "metadata": {
        "id": "RWPBFDj4NPPd",
        "outputId": "cb11e856-6ccc-456d-f800-7d1bfaa3d513",
        "colab": {
          "base_uri": "https://localhost:8080/"
        }
      },
      "source": [
        "data2['LONGITUDE'].value_counts()"
      ],
      "execution_count": null,
      "outputs": [
        {
          "output_type": "execute_result",
          "data": {
            "text/plain": [
              "-46.641928    2\n",
              "-46.515966    1\n",
              "-46.506067    1\n",
              "-46.746090    1\n",
              "-46.635213    1\n",
              "             ..\n",
              "-46.405933    1\n",
              "-46.630083    1\n",
              "-46.548444    1\n",
              "-46.558250    1\n",
              "-46.706705    1\n",
              "Name: LONGITUDE, Length: 187, dtype: int64"
            ]
          },
          "metadata": {
            "tags": []
          },
          "execution_count": 434
        }
      ]
    },
    {
      "cell_type": "code",
      "metadata": {
        "id": "2XHdogdRNPPj"
      },
      "source": [
        "data2['LONGITUDE'].fillna('-46.641928', inplace=True)"
      ],
      "execution_count": null,
      "outputs": []
    },
    {
      "cell_type": "code",
      "metadata": {
        "id": "sefSy5yfNPPo",
        "outputId": "26aa9779-55b1-492b-abf7-0032fc2054ba",
        "colab": {
          "base_uri": "https://localhost:8080/"
        }
      },
      "source": [
        "data2.info()"
      ],
      "execution_count": null,
      "outputs": [
        {
          "output_type": "stream",
          "text": [
            "<class 'pandas.core.frame.DataFrame'>\n",
            "RangeIndex: 199 entries, 0 to 198\n",
            "Data columns (total 18 columns):\n",
            " #   Column                  Non-Null Count  Dtype \n",
            "---  ------                  --------------  ----- \n",
            " 0   NUM_BO                  199 non-null    int64 \n",
            " 1   ANO_BO                  199 non-null    int64 \n",
            " 2   ID_DELEGACIA            199 non-null    int64 \n",
            " 3   NOME_DEPartAMENTO       199 non-null    object\n",
            " 4   NOME_SECCIONAL          199 non-null    object\n",
            " 5   DELEGACIA               199 non-null    object\n",
            " 6   NOME_DEPARTAMENTO_CIRC  199 non-null    object\n",
            " 7   NOME_SECCIONAL_CIRC     199 non-null    object\n",
            " 8   NOME_DELEGACIA_CIRC     199 non-null    object\n",
            " 9   ANO                     199 non-null    int64 \n",
            " 10  MES                     199 non-null    int64 \n",
            " 11  RUBRICA                 199 non-null    object\n",
            " 12  CONDUTA                 199 non-null    object\n",
            " 13  LATITUDE                199 non-null    object\n",
            " 14  LONGITUDE               199 non-null    object\n",
            " 15  CIDADE                  199 non-null    object\n",
            " 16  LOGRADOURO              199 non-null    object\n",
            " 17  NUMERO_LOGRADOURO       199 non-null    int64 \n",
            "dtypes: int64(6), object(12)\n",
            "memory usage: 28.1+ KB\n"
          ],
          "name": "stdout"
        }
      ]
    },
    {
      "cell_type": "markdown",
      "metadata": {
        "id": "tEeFAnXVR7rm"
      },
      "source": [
        "Agora todos os campos estão preenchidos, então a pesquisa por nulos retorna False:"
      ]
    },
    {
      "cell_type": "code",
      "metadata": {
        "id": "YAZCNWRCSARl",
        "outputId": "9ff81877-66f1-495c-b2a5-40e75f64390d",
        "colab": {
          "base_uri": "https://localhost:8080/"
        }
      },
      "source": [
        "print(data2.isnull().any())\n",
        "print()"
      ],
      "execution_count": null,
      "outputs": [
        {
          "output_type": "stream",
          "text": [
            "NUM_BO                    False\n",
            "ANO_BO                    False\n",
            "ID_DELEGACIA              False\n",
            "NOME_DEPartAMENTO         False\n",
            "NOME_SECCIONAL            False\n",
            "DELEGACIA                 False\n",
            "NOME_DEPARTAMENTO_CIRC    False\n",
            "NOME_SECCIONAL_CIRC       False\n",
            "NOME_DELEGACIA_CIRC       False\n",
            "ANO                       False\n",
            "MES                       False\n",
            "RUBRICA                   False\n",
            "CONDUTA                   False\n",
            "LATITUDE                  False\n",
            "LONGITUDE                 False\n",
            "CIDADE                    False\n",
            "LOGRADOURO                False\n",
            "NUMERO_LOGRADOURO         False\n",
            "dtype: bool\n",
            "\n"
          ],
          "name": "stdout"
        }
      ]
    },
    {
      "cell_type": "markdown",
      "metadata": {
        "id": "MhJMer8Gxq7P"
      },
      "source": [
        "# Analisando os dados\n",
        "Com describe, vemos que apesar de ser referente ao ano de 2016, há pelo menos uma ocorrência de 2017 (última linha -> max)."
      ]
    },
    {
      "cell_type": "code",
      "metadata": {
        "id": "XiJ6s1sC-ZmS",
        "outputId": "dbe4562b-f014-41c2-b3ba-334742c7496f",
        "colab": {
          "base_uri": "https://localhost:8080/",
          "height": 294
        }
      },
      "source": [
        "data2.describe()"
      ],
      "execution_count": null,
      "outputs": [
        {
          "output_type": "execute_result",
          "data": {
            "text/html": [
              "<div>\n",
              "<style scoped>\n",
              "    .dataframe tbody tr th:only-of-type {\n",
              "        vertical-align: middle;\n",
              "    }\n",
              "\n",
              "    .dataframe tbody tr th {\n",
              "        vertical-align: top;\n",
              "    }\n",
              "\n",
              "    .dataframe thead th {\n",
              "        text-align: right;\n",
              "    }\n",
              "</style>\n",
              "<table border=\"1\" class=\"dataframe\">\n",
              "  <thead>\n",
              "    <tr style=\"text-align: right;\">\n",
              "      <th></th>\n",
              "      <th>NUM_BO</th>\n",
              "      <th>ANO_BO</th>\n",
              "      <th>ID_DELEGACIA</th>\n",
              "      <th>ANO</th>\n",
              "      <th>MES</th>\n",
              "      <th>NUMERO_LOGRADOURO</th>\n",
              "    </tr>\n",
              "  </thead>\n",
              "  <tbody>\n",
              "    <tr>\n",
              "      <th>count</th>\n",
              "      <td>1.990000e+02</td>\n",
              "      <td>199.000000</td>\n",
              "      <td>199.000000</td>\n",
              "      <td>199.0</td>\n",
              "      <td>199.000000</td>\n",
              "      <td>199.000000</td>\n",
              "    </tr>\n",
              "    <tr>\n",
              "      <th>mean</th>\n",
              "      <td>4.687784e+05</td>\n",
              "      <td>2016.020101</td>\n",
              "      <td>500213.251256</td>\n",
              "      <td>2016.0</td>\n",
              "      <td>6.658291</td>\n",
              "      <td>688.437186</td>\n",
              "    </tr>\n",
              "    <tr>\n",
              "      <th>std</th>\n",
              "      <td>5.535074e+05</td>\n",
              "      <td>0.140698</td>\n",
              "      <td>437009.554279</td>\n",
              "      <td>0.0</td>\n",
              "      <td>3.374566</td>\n",
              "      <td>1437.826725</td>\n",
              "    </tr>\n",
              "    <tr>\n",
              "      <th>min</th>\n",
              "      <td>3.600000e+01</td>\n",
              "      <td>2016.000000</td>\n",
              "      <td>10004.000000</td>\n",
              "      <td>2016.0</td>\n",
              "      <td>1.000000</td>\n",
              "      <td>0.000000</td>\n",
              "    </tr>\n",
              "    <tr>\n",
              "      <th>25%</th>\n",
              "      <td>3.555500e+03</td>\n",
              "      <td>2016.000000</td>\n",
              "      <td>25201.500000</td>\n",
              "      <td>2016.0</td>\n",
              "      <td>4.000000</td>\n",
              "      <td>37.500000</td>\n",
              "    </tr>\n",
              "    <tr>\n",
              "      <th>50%</th>\n",
              "      <td>1.442190e+05</td>\n",
              "      <td>2016.000000</td>\n",
              "      <td>900020.000000</td>\n",
              "      <td>2016.0</td>\n",
              "      <td>7.000000</td>\n",
              "      <td>248.000000</td>\n",
              "    </tr>\n",
              "    <tr>\n",
              "      <th>75%</th>\n",
              "      <td>8.584790e+05</td>\n",
              "      <td>2016.000000</td>\n",
              "      <td>900020.000000</td>\n",
              "      <td>2016.0</td>\n",
              "      <td>10.000000</td>\n",
              "      <td>549.000000</td>\n",
              "    </tr>\n",
              "    <tr>\n",
              "      <th>max</th>\n",
              "      <td>1.649798e+06</td>\n",
              "      <td>2017.000000</td>\n",
              "      <td>900020.000000</td>\n",
              "      <td>2016.0</td>\n",
              "      <td>12.000000</td>\n",
              "      <td>13913.000000</td>\n",
              "    </tr>\n",
              "  </tbody>\n",
              "</table>\n",
              "</div>"
            ],
            "text/plain": [
              "             NUM_BO       ANO_BO  ...         MES  NUMERO_LOGRADOURO\n",
              "count  1.990000e+02   199.000000  ...  199.000000         199.000000\n",
              "mean   4.687784e+05  2016.020101  ...    6.658291         688.437186\n",
              "std    5.535074e+05     0.140698  ...    3.374566        1437.826725\n",
              "min    3.600000e+01  2016.000000  ...    1.000000           0.000000\n",
              "25%    3.555500e+03  2016.000000  ...    4.000000          37.500000\n",
              "50%    1.442190e+05  2016.000000  ...    7.000000         248.000000\n",
              "75%    8.584790e+05  2016.000000  ...   10.000000         549.000000\n",
              "max    1.649798e+06  2017.000000  ...   12.000000       13913.000000\n",
              "\n",
              "[8 rows x 6 columns]"
            ]
          },
          "metadata": {
            "tags": []
          },
          "execution_count": 437
        }
      ]
    },
    {
      "cell_type": "code",
      "metadata": {
        "id": "qaxuM_lhxleo",
        "outputId": "0a26fa4e-03fc-4e88-c42c-4c4ea6669b19",
        "colab": {
          "base_uri": "https://localhost:8080/",
          "height": 222
        }
      },
      "source": [
        "data2.head()"
      ],
      "execution_count": null,
      "outputs": [
        {
          "output_type": "execute_result",
          "data": {
            "text/html": [
              "<div>\n",
              "<style scoped>\n",
              "    .dataframe tbody tr th:only-of-type {\n",
              "        vertical-align: middle;\n",
              "    }\n",
              "\n",
              "    .dataframe tbody tr th {\n",
              "        vertical-align: top;\n",
              "    }\n",
              "\n",
              "    .dataframe thead th {\n",
              "        text-align: right;\n",
              "    }\n",
              "</style>\n",
              "<table border=\"1\" class=\"dataframe\">\n",
              "  <thead>\n",
              "    <tr style=\"text-align: right;\">\n",
              "      <th></th>\n",
              "      <th>NUM_BO</th>\n",
              "      <th>ANO_BO</th>\n",
              "      <th>ID_DELEGACIA</th>\n",
              "      <th>NOME_DEPartAMENTO</th>\n",
              "      <th>NOME_SECCIONAL</th>\n",
              "      <th>DELEGACIA</th>\n",
              "      <th>NOME_DEPARTAMENTO_CIRC</th>\n",
              "      <th>NOME_SECCIONAL_CIRC</th>\n",
              "      <th>NOME_DELEGACIA_CIRC</th>\n",
              "      <th>ANO</th>\n",
              "      <th>MES</th>\n",
              "      <th>RUBRICA</th>\n",
              "      <th>CONDUTA</th>\n",
              "      <th>LATITUDE</th>\n",
              "      <th>LONGITUDE</th>\n",
              "      <th>CIDADE</th>\n",
              "      <th>LOGRADOURO</th>\n",
              "      <th>NUMERO_LOGRADOURO</th>\n",
              "    </tr>\n",
              "  </thead>\n",
              "  <tbody>\n",
              "    <tr>\n",
              "      <th>0</th>\n",
              "      <td>3784</td>\n",
              "      <td>2016</td>\n",
              "      <td>10101</td>\n",
              "      <td>DECAP</td>\n",
              "      <td>DEL.SEC.1CENTRO</td>\n",
              "      <td>01D.P.SE</td>\n",
              "      <td>DECAP</td>\n",
              "      <td>DEL.SEC.1CENTRO</td>\n",
              "      <td>78D.P.JARDINS</td>\n",
              "      <td>2016</td>\n",
              "      <td>7</td>\n",
              "      <td>Furto(art.155)</td>\n",
              "      <td>TRANSEUNTE</td>\n",
              "      <td>-23.565</td>\n",
              "      <td>46.652</td>\n",
              "      <td>S.PAULO</td>\n",
              "      <td>AVENIDAPAULISTA</td>\n",
              "      <td>1000</td>\n",
              "    </tr>\n",
              "    <tr>\n",
              "      <th>1</th>\n",
              "      <td>3426</td>\n",
              "      <td>2016</td>\n",
              "      <td>10102</td>\n",
              "      <td>DECAP</td>\n",
              "      <td>DEL.SEC.1CENTRO</td>\n",
              "      <td>02D.P.BOMRETIRO</td>\n",
              "      <td>DECAP</td>\n",
              "      <td>DEL.SEC.1CENTRO</td>\n",
              "      <td>03D.P.CAMPOSELISEOS</td>\n",
              "      <td>2016</td>\n",
              "      <td>5</td>\n",
              "      <td>Roubo(art.157)</td>\n",
              "      <td>TRANSEUNTE</td>\n",
              "      <td>-23.5425</td>\n",
              "      <td>-46.6419</td>\n",
              "      <td>S.PAULO</td>\n",
              "      <td>PRAADAREPUBLICA</td>\n",
              "      <td>0</td>\n",
              "    </tr>\n",
              "    <tr>\n",
              "      <th>2</th>\n",
              "      <td>6359</td>\n",
              "      <td>2016</td>\n",
              "      <td>10102</td>\n",
              "      <td>DECAP</td>\n",
              "      <td>DEL.SEC.1CENTRO</td>\n",
              "      <td>02D.P.BOMRETIRO</td>\n",
              "      <td>DECAP</td>\n",
              "      <td>DEL.SEC.1CENTRO</td>\n",
              "      <td>03D.P.CAMPOSELISEOS</td>\n",
              "      <td>2016</td>\n",
              "      <td>10</td>\n",
              "      <td>DrogasSemAutorizacaoOuEmDesacordo(art.33_caput)</td>\n",
              "      <td>TRANSEUNTE</td>\n",
              "      <td>-23.5422</td>\n",
              "      <td>-46.6406</td>\n",
              "      <td>S.PAULO</td>\n",
              "      <td>RUACONSELHEIRONEBIAS</td>\n",
              "      <td>0</td>\n",
              "    </tr>\n",
              "    <tr>\n",
              "      <th>3</th>\n",
              "      <td>1267</td>\n",
              "      <td>2016</td>\n",
              "      <td>10103</td>\n",
              "      <td>DECAP</td>\n",
              "      <td>DEL.SEC.1CENTRO</td>\n",
              "      <td>03D.P.CAMPOSELISEOS</td>\n",
              "      <td>DECAP</td>\n",
              "      <td>DEL.SEC.8SAOMATEUS</td>\n",
              "      <td>49D.P.SAOMATEUS</td>\n",
              "      <td>2016</td>\n",
              "      <td>3</td>\n",
              "      <td>Roubo(art.157)</td>\n",
              "      <td>CARGA</td>\n",
              "      <td>-23.6093</td>\n",
              "      <td>-46.4551</td>\n",
              "      <td>S.PAULO</td>\n",
              "      <td>RUAMADUREIRACALHEIROS</td>\n",
              "      <td>15</td>\n",
              "    </tr>\n",
              "    <tr>\n",
              "      <th>4</th>\n",
              "      <td>4804</td>\n",
              "      <td>2016</td>\n",
              "      <td>10106</td>\n",
              "      <td>DECAP</td>\n",
              "      <td>DEL.SEC.1CENTRO</td>\n",
              "      <td>06D.P.CAMBUCI</td>\n",
              "      <td>DECAP</td>\n",
              "      <td>DEL.SEC.1CENTRO</td>\n",
              "      <td>06D.P.CAMBUCI</td>\n",
              "      <td>2016</td>\n",
              "      <td>12</td>\n",
              "      <td>LesaoCorporal(art.129)</td>\n",
              "      <td>TRANSEUNTE</td>\n",
              "      <td>-23.5739</td>\n",
              "      <td>-46.6207</td>\n",
              "      <td>S.PAULO</td>\n",
              "      <td>RUAROBERTSON</td>\n",
              "      <td>625</td>\n",
              "    </tr>\n",
              "  </tbody>\n",
              "</table>\n",
              "</div>"
            ],
            "text/plain": [
              "   NUM_BO  ANO_BO  ...             LOGRADOURO NUMERO_LOGRADOURO\n",
              "0    3784    2016  ...        AVENIDAPAULISTA              1000\n",
              "1    3426    2016  ...        PRAADAREPUBLICA                 0\n",
              "2    6359    2016  ...   RUACONSELHEIRONEBIAS                 0\n",
              "3    1267    2016  ...  RUAMADUREIRACALHEIROS                15\n",
              "4    4804    2016  ...           RUAROBERTSON               625\n",
              "\n",
              "[5 rows x 18 columns]"
            ]
          },
          "metadata": {
            "tags": []
          },
          "execution_count": 438
        }
      ]
    },
    {
      "cell_type": "markdown",
      "metadata": {
        "id": "7CitzILCAzLW"
      },
      "source": [
        "#**Verificando coleções de crimes com a localidade**\n",
        "Pendências:\n",
        "mesmo crimes nomes diferentes\n"
      ]
    },
    {
      "cell_type": "code",
      "metadata": {
        "id": "aXEcgiLVBMac"
      },
      "source": [
        "cidade = data2[\"CIDADE\"]\n",
        "delito = data2[\"RUBRICA\"]\n"
      ],
      "execution_count": 463,
      "outputs": []
    },
    {
      "cell_type": "code",
      "metadata": {
        "id": "9Y0SFWvNGt6B",
        "outputId": "f1c45f6f-911c-46c9-c7cc-01897ce1abdf",
        "colab": {
          "base_uri": "https://localhost:8080/",
          "height": 281
        }
      },
      "source": [
        "# CRIANDO GRUPOS PARA CADA CRIME\n",
        "N = 60\n",
        "g1 = (0.6 + 0.6 * np.random.rand(N), np.random.rand(N))\n",
        "g2 = (0.4+0.3 * np.random.rand(N), 0.5*np.random.rand(N))\n",
        "#g1 = ()\n",
        "#g2 = ()\n",
        "\n",
        "data = (g1, g2)\n",
        "colors = (\"red\", \"green\")\n",
        "groups = (\"Violentos\", \"não-violentos\")\n",
        "\n",
        "# Criando plotagem\n",
        "fig = plt.figure()\n",
        "ax = fig.add_subplot(1, 1, 1, facecolor=\"1.0\")\n",
        "\n",
        "for data, color, group in zip(data, colors, groups):\n",
        "  x, y = data\n",
        "  ax.scatter(x, y, alpha=0.8, c=color, edgecolors='none', s=30, label=group)\n",
        "\n",
        "plt.title('Matplot scatter plot')\n",
        "plt.legend(loc=2)\n",
        "plt.show()"
      ],
      "execution_count": null,
      "outputs": [
        {
          "output_type": "display_data",
          "data": {
            "image/png": "[encoded data removed]",
            "text/plain": [
              "<Figure size 432x288 with 1 Axes>"
            ]
          },
          "metadata": {
            "tags": [],
            "needs_background": "light"
          }
        }
      ]
    },
    {
      "cell_type": "code",
      "metadata": {
        "id": "MmrR59mTAxyJ",
        "outputId": "f8fc9b9b-dcdd-4b95-9aef-70862f633959",
        "colab": {
          "base_uri": "https://localhost:8080/",
          "height": 592
        }
      },
      "source": [
        "plt.figure(figsize=(20,10))\n",
        "#plt.xticks(rotation=90)\n",
        "plt.scatter(cidade, delito)\n",
        "plt.show()"
      ],
      "execution_count": 464,
      "outputs": [
        {
          "output_type": "display_data",
          "data": {
            "image/png": "[encoded data removed]",
            "text/plain": [
              "<Figure size 1440x720 with 1 Axes>"
            ]
          },
          "metadata": {
            "tags": [],
            "needs_background": "light"
          }
        }
      ]
    },
    {
      "cell_type": "markdown",
      "metadata": {
        "id": "t2hdP33USfko"
      },
      "source": [
        "*Observações:*\n",
        "\n",
        "A coluna mais importante para o nosso estudo é a Rubrica, a qual traz a natureza do crime. Podemos ver que o tipo de crime mais frequente é o furto, seguido do roubo. "
      ]
    },
    {
      "cell_type": "code",
      "metadata": {
        "id": "hb0sZAOCzMjm",
        "outputId": "f9363d09-7777-4997-d2ce-e725a2fe3ed2",
        "colab": {
          "base_uri": "https://localhost:8080/"
        }
      },
      "source": [
        "data2['RUBRICA'].value_counts()"
      ],
      "execution_count": null,
      "outputs": [
        {
          "output_type": "execute_result",
          "data": {
            "text/plain": [
              "Furto(art.155)                                              92\n",
              "Roubo(art.157)                                              78\n",
              "FurtoQualificado(art.155_4o.)                               15\n",
              "LesaoCorporal(art.129)                                      10\n",
              "DrogasSemAutorizacaoOuEmDesacordo(art.33_caput)              2\n",
              "LesaoCorporalCulposaNaDirecaoDeVeiculoAutomotor(art.303)     2\n",
              "Name: RUBRICA, dtype: int64"
            ]
          },
          "metadata": {
            "tags": []
          },
          "execution_count": 442
        }
      ]
    },
    {
      "cell_type": "code",
      "metadata": {
        "id": "TiuR6AWvmEa9",
        "outputId": "7184c783-937a-4389-aafc-d3a47dfbfc5e",
        "colab": {
          "base_uri": "https://localhost:8080/",
          "height": 553
        }
      },
      "source": [
        "plt.figure(figsize=(15,9))\n",
        "data2['RUBRICA'].value_counts().plot(kind='barh', title='Frequência de crimes por tipo')\n",
        "plt.show()"
      ],
      "execution_count": null,
      "outputs": [
        {
          "output_type": "display_data",
          "data": {
            "image/png": "[encoded data removed]",
            "text/plain": [
              "<Figure size 1080x648 with 1 Axes>"
            ]
          },
          "metadata": {
            "tags": [],
            "needs_background": "light"
          }
        }
      ]
    },
    {
      "cell_type": "markdown",
      "metadata": {
        "id": "9NVNn2wk2wXh"
      },
      "source": [
        "Visualizando o mapa de calor para a ocorrência de crimes por região geográfica do estado de São Paulo."
      ]
    },
    {
      "cell_type": "markdown",
      "metadata": {
        "id": "Q9_ZfGoQ_dH9"
      },
      "source": [
        "Para visualizar no mapa, precisaremos instalar e importar a lib Folium"
      ]
    },
    {
      "cell_type": "code",
      "metadata": {
        "id": "akmmBgMW-YQv",
        "outputId": "71cb1abc-3a19-4371-9f22-5912aa950147",
        "colab": {
          "base_uri": "https://localhost:8080/"
        }
      },
      "source": [
        "!pip install git+https://github.com/python-visualization/folium"
      ],
      "execution_count": null,
      "outputs": [
        {
          "output_type": "stream",
          "text": [
            "Collecting git+https://github.com/python-visualization/folium\n",
            "  Cloning https://github.com/python-visualization/folium to /tmp/pip-req-build-z3ly7lok\n",
            "  Running command git clone -q https://github.com/python-visualization/folium /tmp/pip-req-build-z3ly7lok\n",
            "Requirement already satisfied (use --upgrade to upgrade): folium==0.11.0+23.g0a8b9b9 from git+https://github.com/python-visualization/folium in /usr/local/lib/python3.6/dist-packages\n",
            "Requirement already satisfied: branca>=0.3.0 in /usr/local/lib/python3.6/dist-packages (from folium==0.11.0+23.g0a8b9b9) (0.4.1)\n",
            "Requirement already satisfied: jinja2>=2.9 in /usr/local/lib/python3.6/dist-packages (from folium==0.11.0+23.g0a8b9b9) (2.11.2)\n",
            "Requirement already satisfied: numpy in /usr/local/lib/python3.6/dist-packages (from folium==0.11.0+23.g0a8b9b9) (1.18.5)\n",
            "Requirement already satisfied: requests in /usr/local/lib/python3.6/dist-packages (from folium==0.11.0+23.g0a8b9b9) (2.23.0)\n",
            "Requirement already satisfied: MarkupSafe>=0.23 in /usr/local/lib/python3.6/dist-packages (from jinja2>=2.9->folium==0.11.0+23.g0a8b9b9) (1.1.1)\n",
            "Requirement already satisfied: chardet<4,>=3.0.2 in /usr/local/lib/python3.6/dist-packages (from requests->folium==0.11.0+23.g0a8b9b9) (3.0.4)\n",
            "Requirement already satisfied: idna<3,>=2.5 in /usr/local/lib/python3.6/dist-packages (from requests->folium==0.11.0+23.g0a8b9b9) (2.10)\n",
            "Requirement already satisfied: certifi>=2017.4.17 in /usr/local/lib/python3.6/dist-packages (from requests->folium==0.11.0+23.g0a8b9b9) (2020.6.20)\n",
            "Requirement already satisfied: urllib3!=1.25.0,!=1.25.1,<1.26,>=1.21.1 in /usr/local/lib/python3.6/dist-packages (from requests->folium==0.11.0+23.g0a8b9b9) (1.24.3)\n",
            "Building wheels for collected packages: folium\n",
            "  Building wheel for folium (setup.py) ... \u001b[?25l\u001b[?25hdone\n",
            "  Created wheel for folium: filename=folium-0.11.0+23.g0a8b9b9-py2.py3-none-any.whl size=97592 sha256=ea0f3f800417689b636b3c3d9f16192ff0c28b50bea6e0a714669ce142e57cef\n",
            "  Stored in directory: /tmp/pip-ephem-wheel-cache-td17ghw0/wheels/1e/e1/75/ecbc91fd5dd5d90befb0b533bf7492d38acffa033310731862\n",
            "Successfully built folium\n"
          ],
          "name": "stdout"
        }
      ]
    },
    {
      "cell_type": "code",
      "metadata": {
        "id": "VWP5w7I9-tDA",
        "outputId": "fc77cef9-31ff-4a53-f4a4-a3849ce6e9b3",
        "colab": {
          "base_uri": "https://localhost:8080/"
        }
      },
      "source": [
        "import os\n",
        "import folium\n",
        "print(folium.__version__)"
      ],
      "execution_count": null,
      "outputs": [
        {
          "output_type": "stream",
          "text": [
            "0.8.3\n"
          ],
          "name": "stdout"
        }
      ]
    },
    {
      "cell_type": "code",
      "metadata": {
        "id": "fgh1vU2D_0bW",
        "outputId": "d407bc6a-c16d-404a-f846-6edfb2b448be",
        "colab": {
          "base_uri": "https://localhost:8080/",
          "height": 1000
        }
      },
      "source": [
        "map = folium.Map(location=[-23.542183, -46.640599], zoom_start=12)\n",
        "for i, row in data2.iterrows():\n",
        "  if i==200: \n",
        "    print(row)\n",
        "    folium.CircleMarker([row['LATITUDE'],row['LONGITUDE']], \n",
        "    popup=html.escape(row[\"RUBRICA\"].astype(str)),\n",
        "    ).add_to(map)\n",
        "map.save('mapasp.html')\n",
        "map"
      ],
      "execution_count": null,
      "outputs": [
        {
          "output_type": "execute_result",
          "data": {
            "text/html": [
              "<div style=\"width:100%;\"><div style=\"position:relative;width:100%;height:0;padding-bottom:60%;\"><span style=\"color:#565656\">Make this Notebook Trusted to load map: File -> Trust Notebook</span><iframe src=\"about:blank\" style=\"position:absolute;width:100%;height:100%;left:0;top:0;border:none !important;\" data-html=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 onload=\"this.contentDocument.open();this.contentDocument.write(atob(this.getAttribute('data-html')));this.contentDocument.close();\" allowfullscreen webkitallowfullscreen mozallowfullscreen></iframe></div></div>"
            ],
            "text/plain": [
              "<folium.folium.Map at 0x7fc4a46a7828>"
            ]
          },
          "metadata": {
            "tags": []
          },
          "execution_count": 446
        }
      ]
    }
  ]
}