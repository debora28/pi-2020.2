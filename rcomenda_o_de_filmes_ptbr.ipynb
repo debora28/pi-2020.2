{
  "nbformat": 4,
  "nbformat_minor": 0,
  "metadata": {
    "kernelspec": {
      "language": "python",
      "display_name": "Python 3",
      "name": "python3"
    },
    "language_info": {
      "pygments_lexer": "ipython3",
      "nbconvert_exporter": "python",
      "version": "3.6.4",
      "file_extension": ".py",
      "codemirror_mode": {
        "name": "ipython",
        "version": 3
      },
      "name": "python",
      "mimetype": "text/x-python"
    },
    "colab": {
      "name": "rcomenda-o-de-filmes-ptbr.ipynb",
      "provenance": [],
      "include_colab_link": true
    }
  },
  "cells": [
    {
      "cell_type": "markdown",
      "metadata": {
        "id": "view-in-github",
        "colab_type": "text"
      },
      "source": [
        "<a href=\"https://colab.research.google.com/github/debora28/pi-2020.2/blob/main/rcomenda_o_de_filmes_ptbr.ipynb\" target=\"_parent\"><img src=\"https://colab.research.google.com/assets/colab-badge.svg\" alt=\"Open In Colab\"/></a>"
      ]
    },
    {
      "cell_type": "markdown",
      "metadata": {
        "id": "-i0lDP5Gt0Ou"
      },
      "source": [
        "O presente documento foi inspirado nesse notebook: https://www.kaggle.com/ibtesama/getting-started-with-a-movie-recommendation-system"
      ]
    },
    {
      "cell_type": "markdown",
      "metadata": {
        "_uuid": "f34fc4dcfba717692c620e1fdfa502ee910c6365",
        "id": "BIkc_IP_t0Oy"
      },
      "source": [
        "Aqui será utilizado esse conjunto de dados [TMDB 5000 Movie Dataset](https://www.kaggle.com/tmdb/tmdb-movie-metadata)."
      ]
    },
    {
      "cell_type": "markdown",
      "metadata": {
        "_uuid": "f9a9405b7e81c1da449bd2e96c2849fb86caa614",
        "id": "6eTawN4bt0O0"
      },
      "source": [
        "**Existem 3 tipos de sistemas de recomendação:**\n",
        "\n",
        "> * **Filtro Demográfico** - Eles oferecem recomendações generalizadas para cada usuário, com base na popularidade e / ou gênero do filme. O Sistema recomenda os mesmos filmes para usuários com características demográficas semelhantes. Como cada usuário é diferente, essa abordagem é considerada muito simples. A ideia básica por trás desse sistema é que os filmes mais populares e aclamados pela crítica terão maior probabilidade de serem apreciados pelo público médio.\n",
        "\n"
      ]
    },
    {
      "cell_type": "markdown",
      "metadata": {
        "_uuid": "60a2df15abf82ba21918e3a42cb0ee46d22fa764",
        "id": "DQnrzHuHt0O2"
      },
      "source": [
        "> * **Filtragem baseada em conteúdo** - Eles sugerem itens semelhantes com base em um item específico. Este sistema usa metadados de itens, como gênero, diretor, descrição, atores, etc. para filmes, para fazer essas recomendações. A ideia geral por trás desses sistemas de recomendação é que, se uma pessoa gostou de um determinado item, também gostará de um item semelhante a ele."
      ]
    },
    {
      "cell_type": "markdown",
      "metadata": {
        "_uuid": "b7e719fcc502c59f098a51ae35e2ceb6d7cdfe4e",
        "id": "AKQWlyiVt0O4"
      },
      "source": [
        "> * **Filtragem colaborativa** - Este sistema combina pessoas com interesses semelhantes e fornece recomendações com base nessa correspondência. Os filtros colaborativos não requerem metadados de itens como suas contrapartes baseadas em conteúdo."
      ]
    },
    {
      "cell_type": "markdown",
      "metadata": {
        "_uuid": "6b418588e3f9139f74cb3a9546f5dca49729579b",
        "id": "lLz_91kdt0O5"
      },
      "source": [
        "Vamos carregar os dados"
      ]
    },
    {
      "cell_type": "code",
      "metadata": {
        "trusted": true,
        "_uuid": "c1fdd129c1cbab68ae3e6bf2062575f01f80b87c",
        "id": "4irH9X7mt0O6"
      },
      "source": [
        "import pandas as pd \n",
        "import numpy as np \n",
        "df1=pd.read_csv('../input/tmdb-movie-metadata/tmdb_5000_credits.csv')\n",
        "df2=pd.read_csv('../input/tmdb-movie-metadata/tmdb_5000_movies.csv')"
      ],
      "execution_count": null,
      "outputs": []
    },
    {
      "cell_type": "markdown",
      "metadata": {
        "id": "tAuh44rIt0PC"
      },
      "source": [
        "> O primeiro conjunto de dados (tmdb_5000_credits.csv) contém os seguintes recursos\n",
        "\n",
        "* movie_id - Um identificador único para cada filme.\n",
        "* cast - O nome dos atores principais e coadjuvantes.\n",
        "* crew - O nome do Diretor, Editor, Compositor, Escritor etc."
      ]
    },
    {
      "cell_type": "code",
      "metadata": {
        "trusted": true,
        "id": "EEjqvRcCt0PF"
      },
      "source": [
        "df1.head()"
      ],
      "execution_count": null,
      "outputs": []
    },
    {
      "cell_type": "markdown",
      "metadata": {
        "_uuid": "402a28d17c13bba3f2060d72c2ff75f5377a9f01",
        "id": "a0bCHyjlt0PJ"
      },
      "source": [
        "O segundo conjunto de dados possui as seguintes características:\n",
        "\n",
        "* budget - O orçamento em que o filme foi feito.\n",
        "* genre - O gênero do filme, ação, comédia, suspense etc.\n",
        "* homepage - Um link para a página inicial do filme.\n",
        "* id - Este é, de fato, o movie_id como no primeiro conjunto de dados.\n",
        "* keywords - As palavras-chave ou tags relacionadas ao filme.\n",
        "* original_language - O idioma em que o filme foi feito.\n",
        "* original_title - O título do filme antes da tradução ou adaptação.\n",
        "* overview - Uma breve descrição do filme.\n",
        "* popularity - Uma quantidade numérica que especifica a popularidade do filme.\n",
        "* production_companies - A casa de produção do filme.\n",
        "* production_countries - O país em que foi produzido.\n",
        "* release_date - A data em que foi lançado.\n",
        "* revenue - A receita mundial gerada pelo filme.\n",
        "* runtime - O tempo de execução do filme em minutos.\n",
        "* status - \"Lançado\" ou \"Rumor\".\n",
        "* tagline - Slogan do filme.\n",
        "* title - Título do filme.\n",
        "* vote_average - classificações médias que o filme recebeu.\n",
        "* vote_count - a contagem dos votos recebidos.\n",
        "\n",
        "Vamos juntar os dois conjuntos de dados na coluna 'id'\n"
      ]
    },
    {
      "cell_type": "code",
      "metadata": {
        "trusted": true,
        "_uuid": "c87bda9d56a936be126d03eda0bc743ee35be461",
        "id": "9tY0SW1Bt0PJ"
      },
      "source": [
        "df1.columns = ['id','tittle','cast','crew'] #criando um array com as colunas que vão ser copiadas\n",
        "df2= df2.merge(df1,on='id') #mergiando e definindo qual o identificador para ser usado como chave primária"
      ],
      "execution_count": null,
      "outputs": []
    },
    {
      "cell_type": "markdown",
      "metadata": {
        "_uuid": "e88ed16f798ec3a094fce8aaf8a971f7b2aae83e",
        "id": "8x7STa4Tt0PN"
      },
      "source": [
        "Basta dar uma olhada em nossos dados."
      ]
    },
    {
      "cell_type": "code",
      "metadata": {
        "trusted": true,
        "_uuid": "71d266ed92947c51acf07189d3b42379134ef6e7",
        "id": "bFyhFyjrt0PO"
      },
      "source": [
        "df2.head(5)"
      ],
      "execution_count": null,
      "outputs": []
    },
    {
      "cell_type": "markdown",
      "metadata": {
        "_uuid": "ee603279675033fc397f0c94738e20b34f35312b",
        "id": "ADZVYtpDt0PT"
      },
      "source": [
        "# **Filtragem demográfica** -\n",
        "Antes de começar com isso -\n",
        "* precisamos de uma métrica para pontuar ou avaliar o filme\n",
        "* Calcule a pontuação de cada filme\n",
        "* Classifique as pontuações e recomende o filme com melhor classificação aos usuários.\n",
        "\n",
        "Podemos usar as classificações médias do filme como pontuação, mas usar isso não será justo, pois um filme com classificação média de 8,9 e apenas 3 votos não pode ser considerado melhor do que o filme com classificação média de 7,8, mas 40 votos.\n",
        "Portanto, usarei a classificação ponderada do IMDB (wr), que é fornecida como :-\n",
        "\n",
        "![](https://image.ibb.co/jYWZp9/wr.png)\n",
        "where,\n",
        "* v é o número de votos do filme;\n",
        "* m é o número mínimo de votos exigidos para serem listados no gráfico;\n",
        "* R é a avaliação média do filme; E\n",
        "* C é o voto médio global, utilizando todos os dados disponíveis\n",
        "\n",
        "Já temos v (** vote_count **) e R (** vote_average **) e C pode ser calculado como"
      ]
    },
    {
      "cell_type": "code",
      "metadata": {
        "trusted": true,
        "_uuid": "5799b99c5e5ed5b7723ae8b31e1fc9fb1e7b89ec",
        "id": "lF5srBF1t0PT"
      },
      "source": [
        "C= df2['vote_average'].mean()\n",
        "C"
      ],
      "execution_count": null,
      "outputs": []
    },
    {
      "cell_type": "markdown",
      "metadata": {
        "_uuid": "02fa8642f75bcef6d4a79e029af6dfeebf19e3a5",
        "id": "osIyPzqNt0PX"
      },
      "source": [
        "Portanto, a classificação média para todos os filmes é de aproximadamente 6 em uma escala de 10. \n",
        "A próxima etapa é determinar um valor apropriado para m, os votos mínimos necessários para serem listados no gráfico. \n",
        "Usaremos o percentil 90 como nosso ponto de corte. \n",
        "Em outras palavras, para um filme figurar nas paradas, ele deve ter mais votos do que pelo menos 90% dos filmes da lista."
      ]
    },
    {
      "cell_type": "code",
      "metadata": {
        "trusted": true,
        "_uuid": "f2f1eaff1e4349b5d2d11dd5ce79c19a85561148",
        "id": "XMEyJwf_t0PY"
      },
      "source": [
        "m= df2['vote_count'].quantile(0.9)\n",
        "m"
      ],
      "execution_count": null,
      "outputs": []
    },
    {
      "cell_type": "markdown",
      "metadata": {
        "_uuid": "b77dea5a38ca2c399e3abeac1487e784fe146078",
        "id": "xwtgFM8ot0Pd"
      },
      "source": [
        "Agora, podemos filtrar os filmes que se qualificam para o gráfico"
      ]
    },
    {
      "cell_type": "code",
      "metadata": {
        "trusted": true,
        "_uuid": "a22008df6d81d3b716d39a56efd3d547345bfbce",
        "id": "eOjs2bGtt0Pe"
      },
      "source": [
        "q_movies = df2.copy().loc[df2['vote_count'] >= m]\n",
        "q_movies.shape"
      ],
      "execution_count": null,
      "outputs": []
    },
    {
      "cell_type": "code",
      "metadata": {
        "trusted": true,
        "id": "Rdp_8Tiit0Pi"
      },
      "source": [
        "q_movies"
      ],
      "execution_count": null,
      "outputs": []
    },
    {
      "cell_type": "markdown",
      "metadata": {
        "_uuid": "cf1fe5a3692caee41a6e7a74c3fde6aeb8a62947",
        "id": "gxJ-LEmot0Pl"
      },
      "source": [
        "Vemos que existem 481 filmes que se qualificam para esta lista. \n",
        "Agora, precisamos calcular nossa métrica para cada filme qualificado. \n",
        "Para fazer isso, definiremos uma função **weighted_rating()** e definiremos um novo recurso **score**, do qual calcularemos o valor aplicando esta função ao nosso DataFrame de filmes qualificados:"
      ]
    },
    {
      "cell_type": "code",
      "metadata": {
        "trusted": true,
        "_uuid": "bb680ed0fb1c3020785d34152c57c6e2279d4424",
        "id": "df-fGdont0Pl"
      },
      "source": [
        "def weighted_rating(x, m=m, C=C):\n",
        "    v = x['vote_count']\n",
        "    R = x['vote_average']\n",
        "    # Calculation based on the IMDB formula\n",
        "    return (v/(v+m) * R) + (m/(m+v) * C)"
      ],
      "execution_count": null,
      "outputs": []
    },
    {
      "cell_type": "code",
      "metadata": {
        "trusted": true,
        "_uuid": "d2d189929715237ab19a18fb8747239b86092968",
        "id": "Y_BjjKYqt0Po"
      },
      "source": [
        "# Define a new feature 'score' and calculate its value with `weighted_rating()`\n",
        "q_movies['score'] = q_movies.apply(weighted_rating, axis=1)"
      ],
      "execution_count": null,
      "outputs": []
    },
    {
      "cell_type": "markdown",
      "metadata": {
        "_uuid": "4cdd60c146173606146ec4fc3a1c9d8c184cb81c",
        "id": "mBxKJ0Dlt0Pt"
      },
      "source": [
        "Finalmente, vamos ordenar o dataframe baseado no score e mostrar os 10 filmes com melhor score"
      ]
    },
    {
      "cell_type": "code",
      "metadata": {
        "trusted": true,
        "_uuid": "a9a9fc3810ea67c31908bbdf8bb930daa918102b",
        "id": "xyLI5LKvt0Pu"
      },
      "source": [
        "#Sort movies based on score calculated above\n",
        "q_movies = q_movies.sort_values('score', ascending=False)\n",
        "\n",
        "#Print the top 10 movies\n",
        "q_movies[['title', 'vote_count', 'vote_average', 'score']].head(10)"
      ],
      "execution_count": null,
      "outputs": []
    },
    {
      "cell_type": "markdown",
      "metadata": {
        "id": "NSa1DRAgt0P0"
      },
      "source": [
        "Usando o vote average"
      ]
    },
    {
      "cell_type": "code",
      "metadata": {
        "trusted": true,
        "id": "PXtuckFat0P1"
      },
      "source": [
        "q_movies = q_movies.sort_values('vote_average', ascending=False)\n",
        "\n",
        "#Print the top 15 movies\n",
        "q_movies[['title', 'vote_count', 'vote_average', 'score']].head(10)"
      ],
      "execution_count": null,
      "outputs": []
    },
    {
      "cell_type": "markdown",
      "metadata": {
        "_uuid": "7625c6d5bd647f4f75eafd7880b7ca2d07938cf7",
        "id": "2t75nGSTt0P5"
      },
      "source": [
        "Muitos sistemas de recomendação apenas mostram os filmes mais populares, vamos construir um gráfico para mostrar como seria"
      ]
    },
    {
      "cell_type": "code",
      "metadata": {
        "trusted": true,
        "_uuid": "207f7058f92698b5fd776f7771a3ac0cc2928bf1",
        "id": "hzNS8Z3Jt0P5"
      },
      "source": [
        "pop= df2.sort_values('popularity', ascending=False).head(10)\n",
        "\n",
        "import matplotlib.pyplot as plt\n",
        "plt.figure(figsize=(12,4))\n",
        "plt.barh(pop['title'],pop['popularity'], align='center', color='red')\n",
        "plt.gca().invert_yaxis() # para mostrar essa \n",
        "plt.xlabel(\"Popularity\")\n",
        "plt.title(\"Popular Movies\")\n"
      ],
      "execution_count": null,
      "outputs": []
    },
    {
      "cell_type": "markdown",
      "metadata": {
        "_uuid": "d1cf28fc0c22afa80edc6d464177035357721d35",
        "id": "T_BDZbeVt0P9"
      },
      "source": [
        "Agora, algo para se ter em mente é que esses recomendadores demográficos fornecem um gráfico geral de filmes recomendados para todos os usuários. Eles não são sensíveis aos interesses e gostos de um usuário específico.\n",
        "É então que passamos para um sistema mais refinado - Filtragem de base de conteúdo."
      ]
    },
    {
      "cell_type": "markdown",
      "metadata": {
        "_uuid": "fe716df6e5e5a354ac53d556087147c0a64df2cc",
        "id": "VlNujZPyt0P9"
      },
      "source": [
        "# **Filtragem Baseada em Conteúdo**\n",
        "Neste sistema de recomendação, o conteúdo do filme (visão geral, elenco, equipe, palavra-chave, slogan, etc.) é usado para encontrar sua semelhança com outros filmes. \n",
        "\n",
        "Então, os filmes com maior probabilidade de serem semelhantes são recomendados.\n",
        "\n",
        "![](https://image.ibb.co/f6mDXU/conten.png)"
      ]
    },
    {
      "cell_type": "markdown",
      "metadata": {
        "_uuid": "b0a813c803b0ba1f0204188ab2a63dc7f59ce2eb",
        "id": "kLlXbJqxt0P-"
      },
      "source": [
        "Nós calcularemos as pontuações de similaridade em pares para todos os filmes com base em suas descrições de enredo e recomendaremos filmes com base nessa pontuação de similaridade. \n",
        "A descrição do gráfico é fornecida na coluna **overview** do nosso conjunto de dados.\n",
        "\n",
        "Vamos dar uma olhada nos dados. .."
      ]
    },
    {
      "cell_type": "code",
      "metadata": {
        "trusted": true,
        "_uuid": "5e676c38ace04a24205b76b16dac0fa3e058027f",
        "id": "YXG8_ulot0P_"
      },
      "source": [
        "df2['overview'].head(5)"
      ],
      "execution_count": null,
      "outputs": []
    },
    {
      "cell_type": "markdown",
      "metadata": {
        "_uuid": "277a9bb5b00a6bd2469c45777f9c659066f402b3",
        "id": "oEZEoypyt0QE"
      },
      "source": [
        "Precisamos converter o vetor de palavras de cada overview.\n",
        "Para tal, calcularemos os vetores Term Frequency-Inverse Document Frequency (TF-IDF) para cada overview.\n",
        "TF-IDF é uma medida estatística que tem o intuito de indicar a importância de uma palavra de um documento em relação a uma coleção de documentos\n",
        "\n",
        "Isso lhe dará uma matriz onde cada coluna representa uma palavra no vocabulário geral (todas as palavras que aparecem em pelo menos um documento) e cada linha representa um filme, como antes. Isso é feito para reduzir a importância das palavras que ocorrem com frequência em visões gerais de plotagem e, portanto, sua importância no cálculo da pontuação final de similaridade.\n",
        "\n",
        "Felizmente, o scikit-learn oferece uma classe TfIdfVectorizer integrada que produz a matriz TF-IDF em algumas linhas. Isso é ótimo, não é?"
      ]
    },
    {
      "cell_type": "code",
      "metadata": {
        "trusted": true,
        "_uuid": "a92da8cde39c61deef5a1b8efa31ed84cda7f5fe",
        "id": "WSwg5635t0QE"
      },
      "source": [
        "#Importar TfIdfVectorizer do scikit-learn\n",
        "from sklearn.feature_extraction.text import TfidfVectorizer\n",
        "\n",
        "#Define a TF-IDF Vectorizer Object. Remove all english stop words such as 'the', 'a'\n",
        "tfidf = TfidfVectorizer(stop_words='english')\n",
        "\n",
        "#Replace NaN with an empty string\n",
        "df2['overview'] = df2['overview'].fillna('')\n",
        "\n",
        "#Construct the required TF-IDF matrix by fitting and transforming the data\n",
        "tfidf_matrix = tfidf.fit_transform(df2['overview'])\n",
        "\n",
        "#Output the shape of tfidf_matrix\n",
        "tfidf_matrix.shape"
      ],
      "execution_count": null,
      "outputs": []
    },
    {
      "cell_type": "markdown",
      "metadata": {
        "_uuid": "6bde57434bf9a0e8f8b229d36901d75b77ff962f",
        "id": "5tq0KS55t0QH"
      },
      "source": [
        "Vemos que mais de 20.000 palavras diferentes foram usadas para descrever os 4800 filmes em nosso conjunto de dados.\n",
        "\n",
        "Com essa matriz em mãos, agora podemos calcular uma pontuação de similaridade. Existem vários candidatos para isso; como o euclidiano, o Pearson e o pontuações de similaridade de cosseno (https://en.wikipedia.org/wiki/Cosine_similarity). Não existe uma resposta certa para qual pontuação é a melhor. Pontuações diferentes funcionam bem em cenários diferentes e, muitas vezes, é uma boa ideia experimentar métricas diferentes.\n",
        "\n",
        "Estaremos usando a similaridade do cosseno para calcular uma quantidade numérica que denota a similaridade entre dois filmes. Usamos a pontuação de similaridade do cosseno, pois é independente da magnitude e é relativamente fácil e rápido de calcular. Matematicamente, é definido da seguinte forma:\n",
        "![](data:image/png;base64,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)"
      ]
    },
    {
      "cell_type": "markdown",
      "metadata": {
        "_uuid": "c1c138ae64648cb5a94127a06441d88dddc2bd9a",
        "id": "3s5MvYpft0QI"
      },
      "source": [
        "Como usamos o vetorizador TF-IDF, o cálculo do produto escalar nos dará diretamente a pontuação de similaridade do cosseno. \n",
        "Portanto, usaremos **linear_kernel()** de sklearn em vez de cosine_similarities(), pois é mais rápido."
      ]
    },
    {
      "cell_type": "code",
      "metadata": {
        "trusted": true,
        "_uuid": "5eb17d12220eecab4faf01bbfd13e79d8e446537",
        "id": "rAzLkA_Vt0QJ"
      },
      "source": [
        "# Import linear_kernel\n",
        "from sklearn.metrics.pairwise import cosine_similarity\n",
        "\n",
        "# Compute the cosine similarity matrix\n",
        "cosine_sim = cosine_similarity(tfidf_matrix, tfidf_matrix)"
      ],
      "execution_count": null,
      "outputs": []
    },
    {
      "cell_type": "code",
      "metadata": {
        "trusted": true,
        "id": "g5z0PMT3t0QL"
      },
      "source": [
        "cosine_sim"
      ],
      "execution_count": null,
      "outputs": []
    },
    {
      "cell_type": "markdown",
      "metadata": {
        "_uuid": "f5ca112fbbe25b11f0f3356a31d1604727242700",
        "id": "hKZmkyu3t0QO"
      },
      "source": [
        "Vamos definir uma função que recebe o título de um filme como entrada e gera uma lista dos 10 filmes mais semelhantes. \n",
        "Em primeiro lugar, para isso, precisamos de um mapeamento reverso de títulos de filmes e índices DataFrame. \n",
        "Em outras palavras, precisamos de um mecanismo para identificar o índice de um filme em nosso DataFrame de metadados, dado seu título."
      ]
    },
    {
      "cell_type": "code",
      "metadata": {
        "trusted": true,
        "_uuid": "55df2df36be98e6dec5f617a5aa51b77c500faa4",
        "id": "AigF37nPt0QP"
      },
      "source": [
        "#Construa um mapa reverso de índices e títulos de filmes\n",
        "indices = pd.Series(df2.index, index=df2['title']).drop_duplicates()\n"
      ],
      "execution_count": null,
      "outputs": []
    },
    {
      "cell_type": "code",
      "metadata": {
        "trusted": true,
        "id": "32M82BDat0QS"
      },
      "source": [
        "indices"
      ],
      "execution_count": null,
      "outputs": []
    },
    {
      "cell_type": "markdown",
      "metadata": {
        "_uuid": "da5896c6ccfd44c3347af3097275d0aa707c1001",
        "id": "1ngviFk0t0QW"
      },
      "source": [
        "Agora estamos em uma boa posição para definir nossa função de recomendação. Estas são as seguintes etapas que seguiremos: -\n",
        "* Obtenha o índice do filme dado seu título.\n",
        "* Obtenha a lista de pontuações de similaridade de cosseno para aquele filme específico com todos os filmes. Converta-o em uma lista de tuplas em que o primeiro elemento é sua posição e o segundo é a pontuação de similaridade.\n",
        "* Classifique a lista de tuplas mencionada acima com base nas pontuações de similaridade; ou seja, o segundo elemento.\n",
        "* Obtenha os 10 principais elementos desta lista. Ignore o primeiro elemento, pois ele se refere a si mesmo (o filme mais semelhante a um determinado filme é o próprio filme).\n",
        "* Retorne os títulos correspondentes aos índices dos elementos principais."
      ]
    },
    {
      "cell_type": "markdown",
      "metadata": {
        "id": "RimsApcIt0QX"
      },
      "source": [
        "Simulando filme: \n",
        "    Spider-Man 3                                      \n",
        "    Index: 5"
      ]
    },
    {
      "cell_type": "code",
      "metadata": {
        "trusted": true,
        "id": "IdU1fh7vt0QX"
      },
      "source": [
        "# Obtenha o índice do filme que corresponde ao título\n",
        "idx = indices['Spider-Man 3']\n",
        "idx"
      ],
      "execution_count": null,
      "outputs": []
    },
    {
      "cell_type": "code",
      "metadata": {
        "trusted": true,
        "id": "Ebi99AWut0Qc"
      },
      "source": [
        "# Obtenha as pontuações de semelhança entre pares de todos os filmes com aquele filme\n",
        "sim_scores = list(enumerate(cosine_sim[idx]))\n",
        "sim_scores"
      ],
      "execution_count": null,
      "outputs": []
    },
    {
      "cell_type": "code",
      "metadata": {
        "trusted": true,
        "id": "JoGH8Rlwt0Qg"
      },
      "source": [
        "# Classifique os filmes com base nas pontuações de similaridade\n",
        "sim_scores = sorted(sim_scores, key=lambda x: x[1], reverse=True)\n",
        "sim_scores"
      ],
      "execution_count": null,
      "outputs": []
    },
    {
      "cell_type": "code",
      "metadata": {
        "trusted": true,
        "id": "p8AiUL--t0Ql"
      },
      "source": [
        "# Obtenha as pontuações dos 10 filmes mais semelhantes\n",
        "sim_scores = sim_scores[1:11]\n",
        "sim_scores"
      ],
      "execution_count": null,
      "outputs": []
    },
    {
      "cell_type": "code",
      "metadata": {
        "trusted": true,
        "id": "yYPuyNQ9t0Qo"
      },
      "source": [
        "# Obtenha os índices de filmes\n",
        "movie_indices = [i[0] for i in sim_scores]\n",
        "movie_indices"
      ],
      "execution_count": null,
      "outputs": []
    },
    {
      "cell_type": "code",
      "metadata": {
        "trusted": true,
        "id": "NutQyTS9t0Qq"
      },
      "source": [
        "# Retorne os 10 principais filmes mais semelhantes\n",
        "df2['title'].iloc[movie_indices]"
      ],
      "execution_count": null,
      "outputs": []
    },
    {
      "cell_type": "code",
      "metadata": {
        "trusted": true,
        "id": "deZkhlZXt0Qt"
      },
      "source": [
        "# Função que recebe o título do filme como entrada e produz a maioria dos filmes semelhantes\n",
        "def get_recommendations(title, cosine_sim=cosine_sim):\n",
        "    # Obtenha o índice do filme que corresponde ao título\n",
        "    idx = indices[title]\n",
        "\n",
        "    # Obtenha as pontuações de semelhança entre pares de todos os filmes com aquele filme\n",
        "    sim_scores = list(enumerate(cosine_sim[idx]))\n",
        "\n",
        "    # Classifique os filmes com base nas pontuações de similaridade\n",
        "    sim_scores = sorted(sim_scores, key=lambda x: x[1], reverse=True)\n",
        "\n",
        "    # Obtenha as pontuações dos 10 filmes mais semelhantes\n",
        "    sim_scores = sim_scores[1:11]\n",
        "\n",
        "    # Obtenha os índices de filmes\n",
        "    movie_indices = [i[0] for i in sim_scores]\n",
        "\n",
        "    # Retorne os 10 principais filmes mais semelhantes\n",
        "    return df2['title'].iloc[movie_indices]"
      ],
      "execution_count": null,
      "outputs": []
    },
    {
      "cell_type": "code",
      "metadata": {
        "trusted": true,
        "_uuid": "14d722124f82e69cb444adcc589e396c75cbb4ff",
        "id": "cW_Ivn8Xt0Qy"
      },
      "source": [
        "get_recommendations('The Dark Knight Rises')"
      ],
      "execution_count": null,
      "outputs": []
    },
    {
      "cell_type": "code",
      "metadata": {
        "trusted": true,
        "_uuid": "902b9f1ab91921889c85e9008818dcc0b4710ccd",
        "id": "3YTl1sXrt0Q1"
      },
      "source": [
        "get_recommendations('The Avengers')"
      ],
      "execution_count": null,
      "outputs": []
    },
    {
      "cell_type": "markdown",
      "metadata": {
        "_uuid": "146302c25776b2c0076e64663a5e2e41e977fd2c",
        "id": "vtiIfqZ9t0Q4"
      },
      "source": [
        "A recomendação pode ser boa, mas o overview de dois filmes podem ser diferentes e mesmo assim eles podem ser boas recomendações para um usuário.\n",
        "Para não utilizar apenas a descrição do filme como fator de recomendação, podemos utilizar a filtragem colaborativa "
      ]
    },
    {
      "cell_type": "markdown",
      "metadata": {
        "_uuid": "71b15b5c090694303fa5e8d67b8bf394e07f45d6",
        "id": "CSIl3Fllt0Q4"
      },
      "source": [
        "# **Filtragem Colaborativa (CF)**\n",
        "\n",
        "Nosso mecanismo baseado em conteúdo sofre de algumas limitações severas. Ele só é capaz de sugerir filmes próximos a um determinado filme. \n",
        "Ou seja, não é capaz de capturar gostos e fornecer recomendações entre gêneros.\n",
        "\n",
        "Além disso, o mecanismo que construímos não é realmente pessoal, pois não captura os gostos e preconceitos pessoais de um usuário. \n",
        "Qualquer pessoa que consultar nosso mecanismo para recomendações baseadas em um filme receberá as mesmas recomendações para aquele filme, independentemente de quem ele / ela seja.\n",
        "\n",
        "Portanto, nesta seção, usaremos uma técnica chamada Filtragem Colaborativa para fazer recomendações aos Movie Watchers.\n",
        "É basicamente de dois tipos: -\n",
        "\n",
        "*  **Filtragem baseada em usuário**-  Esses sistemas recomendam produtos para um usuário que usuários semelhantes gostaram. Para medir a similaridade entre dois usuários, podemos usar a correlação de Pearson ou a similaridade de cosseno.\n",
        "Essa técnica de filtragem pode ser ilustrada com um exemplo. \n",
        "Nas matrizes a seguir, cada linha representa um usuário, enquanto as colunas correspondem a filmes diferentes, exceto o último que registra a semelhança entre aquele usuário e o usuário alvo. \n",
        "Cada célula representa a avaliação que o usuário dá a esse filme. Suponha que o usuário E seja o alvo.\n",
        "![](https://cdn-images-1.medium.com/max/1000/1*9NBFo4AUQABKfoUOpE3F8Q.png)\n",
        "\n",
        "Como os usuários A e F não compartilham nenhuma classificação de filme em comum com o usuário E, suas semelhanças com o usuário E não são definidas na correlação de Pearson. Portanto, precisamos apenas considerar os usuários B, C e D.\n",
        "Com base na correlação de Pearson, podemos calcular a seguinte similaridade.\n",
        "![](https://cdn-images-1.medium.com/max/1000/1*jZIMJzKM1hKTFftHfcSxRw.png)\n",
        "\n",
        "Na tabela acima, podemos ver que o usuário D é muito diferente do usuário E, pois a correlação de Pearson entre eles é negativa. Ele avaliou Me Before You acima de sua média de avaliação, enquanto o usuário E fez o oposto. Agora, podemos começar a preencher a lacuna para os filmes que o usuário E não classificou com base em outros usuários.\n",
        "![](https://cdn-images-1.medium.com/max/1000/1*9TC6BrfxYttJwiATFAIFBg.png)\n",
        "\n",
        "Embora computar o CF baseado no usuário seja muito simples, ele apresenta vários problemas. \n",
        "Um dos principais problemas é que as preferências dos usuários podem mudar com o tempo. \n",
        "Isso indica que pré-computar a matriz com base nos usuários vizinhos pode levar a um desempenho ruim. Para resolver este problema, podemos aplicar o CF baseado em item.\n",
        "\n",
        "* **Filtragem baseada em item** - Em vez de medir a semelhança entre os usuários, o CF baseado em item recomenda itens com base em sua semelhança com os itens que o usuário-alvo classificou. Da mesma forma, a similaridade pode ser calculada com correlação de Pearson ou similaridade de cosseno. A principal diferença é que, com a filtragem colaborativa baseada em item, preenchemos o espaço em branco verticalmente, em oposição à maneira horizontal que o CF baseado no usuário faz. A tabela a seguir mostra como fazer isso no filme Eu antes de você.\n",
        "![](https://cdn-images-1.medium.com/max/1000/1*LqFnWb-cm92HoMYBL840Ew.png)\n",
        "\n",
        "Ele evita com sucesso o problema representado pela preferência dinâmica do usuário, pois o CF baseado em item é mais estático. \n",
        "No entanto, vários problemas permanecem para este método. \n",
        "Primeiro, o problema principal é ***escalabilidade***. O cálculo cresce com o cliente e com o produto. \n",
        "O pior caso de complexidade é O (mn) com m usuários e n itens. \n",
        "Além disso, ***esparsidade*** é outra preocupação. \n",
        "Dê uma olhada na tabela acima novamente. \n",
        "Embora haja apenas um usuário que classificou Matrix e Titanic, a semelhança entre eles é 1. \n",
        "Em casos extremos, podemos ter milhões de usuários e a semelhança entre dois filmes bastante diferentes pode ser muito alta simplesmente porque eles têm uma classificação semelhante para o único usuário que classificou os dois.\n",
        "\n"
      ]
    },
    {
      "cell_type": "markdown",
      "metadata": {
        "_uuid": "4307f75107f9c5e5f911d52a6f1dc5530990c75e",
        "id": "9-B13W7at0Q5"
      },
      "source": [
        "### **Single Value Decomposition**\n",
        "\n",
        "Uma maneira de lidar com o problema de escalabilidade e dispersão criado pelo CF é utilizar um **Single Value Decomposition** para capturar a semelhança entre usuários e itens. Essencialmente, queremos transformar o problema de recomendação em um problema de otimização. Podemos ver como somos bons em prever a classificação de itens dados a um usuário. Uma métrica comum é Root Mean Square Error (RMSE). **Quanto menor o RMSE, melhor será o desempenho**.\n",
        "\n",
        "Agora, falando sobre fator latente, você pode estar se perguntando o que é? \n",
        "\n",
        "É uma ideia ampla que descreve uma propriedade ou conceito que um usuário ou um item tem. Por exemplo, para música, o fator latente pode se referir ao gênero ao qual a música pertence. \n",
        "SVD diminui a dimensão da matriz de utilidade, extraindo seus fatores latentes. \n",
        "Essencialmente, mapeamos cada usuário e cada item em um espaço latente com dimensão r. \n",
        "Portanto, isso nos ajuda a entender melhor a relação entre usuários e itens à medida que se tornam diretamente comparáveis. \n",
        "\n",
        "A figura abaixo ilustra essa ideia.\n",
        "\n",
        "![](https://cdn-images-1.medium.com/max/800/1*GUw90kG2ltTd2k_iv3Vo0Q.png)"
      ]
    },
    {
      "cell_type": "markdown",
      "metadata": {
        "_uuid": "defca8163cfc24a97bee620d6a3d501aa2ec95ae",
        "id": "AM2IlfQZt0Q5"
      },
      "source": [
        "Dito isso, vamos ver como implementar isso.\n",
        "Como o conjunto de dados que usamos antes não tinha userId (que é necessário para a filtragem colaborativa), vamos carregar outro conjunto de dados. \n",
        "\n",
        "Estaremos usando a [**Surpresa**]\n",
        "(https://surprise.readthedocs.io/en/stable/index.html) biblioteca para implementar o SVD."
      ]
    },
    {
      "cell_type": "code",
      "metadata": {
        "trusted": true,
        "_uuid": "9a7faf48bf42293d18b29efac95e15010f6c900e",
        "id": "gqUdbKQHt0Q6"
      },
      "source": [
        "#https://surprise.readthedocs.io/en/stable/getting_started.html\n",
        "from surprise import Reader, Dataset, SVD, evaluate\n",
        "from surprise.model_selection import cross_validate\n",
        "reader = Reader()\n",
        "ratings = pd.read_csv('../input/the-movies-dataset/ratings_small.csv')\n",
        "ratings.head()"
      ],
      "execution_count": null,
      "outputs": []
    },
    {
      "cell_type": "markdown",
      "metadata": {
        "_uuid": "f8a5cd5580510c27846a564bfa6d13f1a6dfa6de",
        "id": "AKfWjw8Ft0Q9"
      },
      "source": [
        "Note that in this dataset movies are rated on a scale of 5 unlike the earlier one."
      ]
    },
    {
      "cell_type": "code",
      "metadata": {
        "trusted": true,
        "_uuid": "75166cecd9821bab4299605b66ea2a7787a4c3b7",
        "id": "QOFIIDsat0Q-"
      },
      "source": [
        "data = Dataset.load_from_df(ratings[['userId', 'movieId', 'rating']], reader)\n",
        "#data.split(n_folds=5)"
      ],
      "execution_count": null,
      "outputs": []
    },
    {
      "cell_type": "code",
      "metadata": {
        "trusted": true,
        "id": "q8WMEXzpt0RC"
      },
      "source": [
        "svd = SVD()\n",
        "#knn = KNNBasic()\n",
        "cross_validate(svd, data, measures=['RMSE', 'MAE'], cv=5, verbose=True)\n",
        "#https://www.linkedin.com/pulse/rmse-ou-mae-como-avaliar-meu-modelo-de-machine-learning-rezende/?originalSubdomain=pt"
      ],
      "execution_count": null,
      "outputs": []
    },
    {
      "cell_type": "markdown",
      "metadata": {
        "_uuid": "81f6d5f460d4cbaaa43b6bb86a0abd9bce1a3134",
        "id": "NPp-nPdBt0RH"
      },
      "source": [
        "Obtemos um erro médio quadrático médio de 0,89 aprox, que é mais do que bom o suficiente para nosso caso. Vamos agora treinar em nosso conjunto de dados e chegar às previsões."
      ]
    },
    {
      "cell_type": "code",
      "metadata": {
        "trusted": true,
        "_uuid": "58007ee500ce1735d173c247d188a5cd603b803c",
        "id": "NW1MokIBt0RI"
      },
      "source": [
        "trainset = data.build_full_trainset()\n",
        "svd.fit(trainset)"
      ],
      "execution_count": null,
      "outputs": []
    },
    {
      "cell_type": "markdown",
      "metadata": {
        "_uuid": "e130ef65d2c6a59823869d5b08c44e96e06f3b94",
        "id": "hfYnVn3rt0RM"
      },
      "source": [
        "Vamos escolher o usuário com ID de usuário 1 e verificar as avaliações que ele / ela deu."
      ]
    },
    {
      "cell_type": "code",
      "metadata": {
        "trusted": true,
        "_uuid": "5a526fddacb2f7234e524e71224fdd1aecdd6ec0",
        "id": "cH3zIzxht0RN"
      },
      "source": [
        "ratings[ratings['userId'] == 1]"
      ],
      "execution_count": null,
      "outputs": []
    },
    {
      "cell_type": "code",
      "metadata": {
        "trusted": true,
        "_uuid": "0cb981abe36b30f8f27b4c5dc1b1d0e090431651",
        "id": "1X1Ud02wt0RQ"
      },
      "source": [
        "svd.predict('1', '302', 5, verbose=True) # user, item, r_ui\n",
        "#r_ui: https://stackoverflow.com/questions/62723847/what-is-the-use-of-r-ui-true-rating-argument-in-sklearn-surprise-predict-meth"
      ],
      "execution_count": null,
      "outputs": []
    },
    {
      "cell_type": "markdown",
      "metadata": {
        "_uuid": "aece2ca6c5dcfcc8287562733f74a31fa115605c",
        "id": "ZJJ6WKHdt0RX"
      },
      "source": [
        "## **Conclusion** \n",
        "Criamos recomendadores usando filtragem demográfica, baseada em conteúdo e colaborativa. \n",
        "Embora a filtragem demográfica seja muito elementar e não possa ser usada na prática, os **Sistemas Híbridos** podem tirar proveito da filtragem colaborativa e baseada em conteúdo, pois as duas abordagens são comprovadamente complementares.\n",
        "Este modelo foi muito básico e fornece apenas uma estrutura fundamental para começar.\n",
        "\n",
        "Referências:\n",
        "https://www.kaggle.com/ibtesama/getting-started-with-a-movie-recommendation-system\n",
        "\n",
        "1. [https://hackernoon.com/introduction-to-recommender-system-part-1-collaborative-filtering-singular-value-decomposition-44c9659c5e75](https://hackernoon.com/introduction-to-recommender-system-part-1-collaborative-filtering-singular-value-decomposition-44c9659c5e75)\n",
        "2. [https://www.kaggle.com/rounakbanik/movie-recommender-systems](https://www.kaggle.com/rounakbanik/movie-recommender-systems)\n",
        "3. [http://trouvus.com/wp-content/uploads/2016/03/A-hybrid-movie-recommender-system-based-on-neural-networks.pdf](http://trouvus.com/wp-content/uploads/2016/03/A-hybrid-movie-recommender-system-based-on-neural-networks.pdf)\n"
      ]
    }
  ]
}