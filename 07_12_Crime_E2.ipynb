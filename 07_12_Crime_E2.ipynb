{
  "nbformat": 4,
  "nbformat_minor": 0,
  "metadata": {
    "colab": {
      "name": "07-12 Crime_E2.ipynb",
      "provenance": [],
      "collapsed_sections": [],
      "include_colab_link": true
    },
    "kernelspec": {
      "display_name": "Python 3",
      "name": "python3"
    }
  },
  "cells": [
    {
      "cell_type": "markdown",
      "metadata": {
        "id": "view-in-github",
        "colab_type": "text"
      },
      "source": [
        "<a href=\"https://colab.research.google.com/github/debora28/pi-2020.2/blob/main/07_12_Crime_E2.ipynb\" target=\"_parent\"><img src=\"https://colab.research.google.com/assets/colab-badge.svg\" alt=\"Open In Colab\"/></a>"
      ]
    },
    {
      "cell_type": "code",
      "metadata": {
        "id": "6ajaPsiOufgm"
      },
      "source": [
        "import numpy as np\n",
        "import pandas as pd\n",
        "import matplotlib.pyplot as plt\n",
        "import seaborn as sns\n",
        "import os\n",
        "import folium"
      ],
      "execution_count": 251,
      "outputs": []
    },
    {
      "cell_type": "code",
      "metadata": {
        "id": "QmE7KtmleOdV"
      },
      "source": [
        "# Diretamente do GitHub (dataset 2014):\r\n",
        "url = 'https://raw.githubusercontent.com/debora28/pi-2020.2/main/2014-1-10mil.csv'\r\n",
        "data = pd.read_csv(url)"
      ],
      "execution_count": 252,
      "outputs": []
    },
    {
      "cell_type": "code",
      "metadata": {
        "id": "6QHpT864sUf2"
      },
      "source": [
        "# (dataset 2014 antigo):\r\n",
        "# url = 'https://raw.githubusercontent.com/debora28/pi-2020.2/main/2014-1-100mil.csv'\r\n",
        "# data = pd.read_csv(url)"
      ],
      "execution_count": 253,
      "outputs": []
    },
    {
      "cell_type": "code",
      "metadata": {
        "id": "Wx_ExULBskri"
      },
      "source": [
        "# data.to_csv('2014-1-100mil.csv', index= True)"
      ],
      "execution_count": 254,
      "outputs": []
    },
    {
      "cell_type": "code",
      "metadata": {
        "colab": {
          "base_uri": "https://localhost:8080/"
        },
        "id": "TAGDs3A1M8bt",
        "outputId": "69692486-bc8b-4366-b650-9491e05a69d9"
      },
      "source": [
        "print(data.isnull().sum())\n",
        "print(data)"
      ],
      "execution_count": 255,
      "outputs": [
        {
          "output_type": "stream",
          "text": [
            "NUM_BO                       0\n",
            "ANO_BO                       0\n",
            "ID_DELEGACIA                 0\n",
            "NOME_DEPARTAMENTO            0\n",
            "NOME_SECCIONAL               0\n",
            "DELEGACIA                    0\n",
            "NOME_DEPARTAMENTO_CIRC       0\n",
            "NOME_SECCIONAL_CIRC          0\n",
            "NOME_DELEGACIA_CIRC          0\n",
            "ANO                          0\n",
            "MES                          0\n",
            "DATA_OCORRENCIA_BO          87\n",
            "HORA_OCORRENCIA_BO        1040\n",
            "FLAG_STATUS                  0\n",
            "RUBRICA                      0\n",
            "DESDOBRAMENTO             9351\n",
            "CONDUTA                   4835\n",
            "LATITUDE                  1164\n",
            "LONGITUDE                 1164\n",
            "CIDADE                       0\n",
            "LOGRADOURO                   0\n",
            "NUMERO_LOGRADOURO           55\n",
            "FLAG_STATUS.1                0\n",
            "DESCR_TIPO_PESSOA            0\n",
            "CONT_PESSOA                  0\n",
            "SEXO_PESSOA                  0\n",
            "IDADE_PESSOA              1902\n",
            "COR                       2372\n",
            "DESCR_PROFISSAO           2995\n",
            "DESCR_GRAU_INSTRUCAO      2832\n",
            "dtype: int64\n",
            "      NUM_BO  ANO_BO  ...   DESCR_PROFISSAO DESCR_GRAU_INSTRUCAO\n",
            "0          1    2014  ...               NaN                  NaN\n",
            "1          1    2014  ...               NaN                  NaN\n",
            "2          1    2014  ...    AJUDANTE GERAL     1 Grau completo \n",
            "3          1    2014  ...     APOSENTADO(A)                  NaN\n",
            "4          1    2014  ...   DESEMPREGADO(A)     2 Grau completo \n",
            "...      ...     ...  ...               ...                  ...\n",
            "9995      57    2014  ...               NaN                  NaN\n",
            "9996      57    2014  ...         MOTORISTA     2 Grau completo \n",
            "9997      57    2014  ...         ATENDENTE                  NaN\n",
            "9998      57    2014  ...       CONTADOR(A)    Superior completo\n",
            "9999      57    2014  ...  POLICIAL MILITAR     2 Grau completo \n",
            "\n",
            "[10000 rows x 30 columns]\n"
          ],
          "name": "stdout"
        }
      ]
    },
    {
      "cell_type": "code",
      "metadata": {
        "colab": {
          "base_uri": "https://localhost:8080/"
        },
        "id": "RJzpGPTmaCbd",
        "outputId": "afaf18a7-b7cb-4b33-ee59-cf7fed17ff86"
      },
      "source": [
        "data.shape"
      ],
      "execution_count": 256,
      "outputs": [
        {
          "output_type": "execute_result",
          "data": {
            "text/plain": [
              "(10000, 30)"
            ]
          },
          "metadata": {
            "tags": []
          },
          "execution_count": 256
        }
      ]
    },
    {
      "cell_type": "code",
      "metadata": {
        "colab": {
          "base_uri": "https://localhost:8080/"
        },
        "id": "nPJDJ7WKM8hQ",
        "outputId": "243391a0-795d-40ff-8cba-fb307db988e2"
      },
      "source": [
        "print(data.info())"
      ],
      "execution_count": 257,
      "outputs": [
        {
          "output_type": "stream",
          "text": [
            "<class 'pandas.core.frame.DataFrame'>\n",
            "RangeIndex: 10000 entries, 0 to 9999\n",
            "Data columns (total 30 columns):\n",
            " #   Column                  Non-Null Count  Dtype  \n",
            "---  ------                  --------------  -----  \n",
            " 0   NUM_BO                  10000 non-null  int64  \n",
            " 1   ANO_BO                  10000 non-null  int64  \n",
            " 2   ID_DELEGACIA            10000 non-null  int64  \n",
            " 3   NOME_DEPARTAMENTO       10000 non-null  object \n",
            " 4   NOME_SECCIONAL          10000 non-null  object \n",
            " 5   DELEGACIA               10000 non-null  object \n",
            " 6   NOME_DEPARTAMENTO_CIRC  10000 non-null  object \n",
            " 7   NOME_SECCIONAL_CIRC     10000 non-null  object \n",
            " 8   NOME_DELEGACIA_CIRC     10000 non-null  object \n",
            " 9   ANO                     10000 non-null  int64  \n",
            " 10  MES                     10000 non-null  int64  \n",
            " 11  DATA_OCORRENCIA_BO      9913 non-null   object \n",
            " 12  HORA_OCORRENCIA_BO      8960 non-null   object \n",
            " 13  FLAG_STATUS             10000 non-null  object \n",
            " 14  RUBRICA                 10000 non-null  object \n",
            " 15  DESDOBRAMENTO           649 non-null    object \n",
            " 16  CONDUTA                 5165 non-null   object \n",
            " 17  LATITUDE                8836 non-null   object \n",
            " 18  LONGITUDE               8836 non-null   object \n",
            " 19  CIDADE                  10000 non-null  object \n",
            " 20  LOGRADOURO              10000 non-null  object \n",
            " 21  NUMERO_LOGRADOURO       9945 non-null   object \n",
            " 22  FLAG_STATUS.1           10000 non-null  object \n",
            " 23  DESCR_TIPO_PESSOA       10000 non-null  object \n",
            " 24  CONT_PESSOA             10000 non-null  int64  \n",
            " 25  SEXO_PESSOA             10000 non-null  object \n",
            " 26  IDADE_PESSOA            8098 non-null   float64\n",
            " 27  COR                     7628 non-null   object \n",
            " 28  DESCR_PROFISSAO         7005 non-null   object \n",
            " 29  DESCR_GRAU_INSTRUCAO    7168 non-null   object \n",
            "dtypes: float64(1), int64(6), object(23)\n",
            "memory usage: 2.3+ MB\n",
            "None\n"
          ],
          "name": "stdout"
        }
      ]
    },
    {
      "cell_type": "code",
      "metadata": {
        "colab": {
          "base_uri": "https://localhost:8080/",
          "height": 391
        },
        "id": "ZHbA6vbaODrq",
        "outputId": "ac747b36-9600-489c-9647-9090ed42b7ad"
      },
      "source": [
        "data2 = data.drop('DESDOBRAMENTO', axis=1)\n",
        "data2.to_csv('data_semDesdob.csv', index= False)\n",
        "data2.head()"
      ],
      "execution_count": 258,
      "outputs": [
        {
          "output_type": "execute_result",
          "data": {
            "text/html": [
              "<div>\n",
              "<style scoped>\n",
              "    .dataframe tbody tr th:only-of-type {\n",
              "        vertical-align: middle;\n",
              "    }\n",
              "\n",
              "    .dataframe tbody tr th {\n",
              "        vertical-align: top;\n",
              "    }\n",
              "\n",
              "    .dataframe thead th {\n",
              "        text-align: right;\n",
              "    }\n",
              "</style>\n",
              "<table border=\"1\" class=\"dataframe\">\n",
              "  <thead>\n",
              "    <tr style=\"text-align: right;\">\n",
              "      <th></th>\n",
              "      <th>NUM_BO</th>\n",
              "      <th>ANO_BO</th>\n",
              "      <th>ID_DELEGACIA</th>\n",
              "      <th>NOME_DEPARTAMENTO</th>\n",
              "      <th>NOME_SECCIONAL</th>\n",
              "      <th>DELEGACIA</th>\n",
              "      <th>NOME_DEPARTAMENTO_CIRC</th>\n",
              "      <th>NOME_SECCIONAL_CIRC</th>\n",
              "      <th>NOME_DELEGACIA_CIRC</th>\n",
              "      <th>ANO</th>\n",
              "      <th>MES</th>\n",
              "      <th>DATA_OCORRENCIA_BO</th>\n",
              "      <th>HORA_OCORRENCIA_BO</th>\n",
              "      <th>FLAG_STATUS</th>\n",
              "      <th>RUBRICA</th>\n",
              "      <th>CONDUTA</th>\n",
              "      <th>LATITUDE</th>\n",
              "      <th>LONGITUDE</th>\n",
              "      <th>CIDADE</th>\n",
              "      <th>LOGRADOURO</th>\n",
              "      <th>NUMERO_LOGRADOURO</th>\n",
              "      <th>FLAG_STATUS.1</th>\n",
              "      <th>DESCR_TIPO_PESSOA</th>\n",
              "      <th>CONT_PESSOA</th>\n",
              "      <th>SEXO_PESSOA</th>\n",
              "      <th>IDADE_PESSOA</th>\n",
              "      <th>COR</th>\n",
              "      <th>DESCR_PROFISSAO</th>\n",
              "      <th>DESCR_GRAU_INSTRUCAO</th>\n",
              "    </tr>\n",
              "  </thead>\n",
              "  <tbody>\n",
              "    <tr>\n",
              "      <th>0</th>\n",
              "      <td>1</td>\n",
              "      <td>2014</td>\n",
              "      <td>10363</td>\n",
              "      <td>DECAP</td>\n",
              "      <td>DEL.SEC.2 SUL</td>\n",
              "      <td>83 D.P. PARQUE BRISTOL</td>\n",
              "      <td>DECAP</td>\n",
              "      <td>DEL.SEC.2 SUL</td>\n",
              "      <td>83 D.P. PARQUE BRISTOL</td>\n",
              "      <td>2014</td>\n",
              "      <td>1</td>\n",
              "      <td>02/01/2014</td>\n",
              "      <td>06:30</td>\n",
              "      <td>C</td>\n",
              "      <td>Roubo (art. 157)</td>\n",
              "      <td>VEICULO</td>\n",
              "      <td>-23.65760046</td>\n",
              "      <td>-46.61717673</td>\n",
              "      <td>S.PAULO</td>\n",
              "      <td>AV MIGUEL STEFANO</td>\n",
              "      <td>9999</td>\n",
              "      <td>C</td>\n",
              "      <td>Autor</td>\n",
              "      <td>2</td>\n",
              "      <td>M</td>\n",
              "      <td>NaN</td>\n",
              "      <td>Preta</td>\n",
              "      <td>NaN</td>\n",
              "      <td>NaN</td>\n",
              "    </tr>\n",
              "    <tr>\n",
              "      <th>1</th>\n",
              "      <td>1</td>\n",
              "      <td>2014</td>\n",
              "      <td>10373</td>\n",
              "      <td>DECAP</td>\n",
              "      <td>DEL.SEC.6 SANTO AMARO</td>\n",
              "      <td>100 D.P. JDIM HERCULANO</td>\n",
              "      <td>DECAP</td>\n",
              "      <td>DEL.SEC.6 SANTO AMARO</td>\n",
              "      <td>100 D.P. JDIM HERCULANO</td>\n",
              "      <td>2014</td>\n",
              "      <td>1</td>\n",
              "      <td>02/01/2014</td>\n",
              "      <td>NaN</td>\n",
              "      <td>C</td>\n",
              "      <td>Roubo (art. 157)</td>\n",
              "      <td>TRANSEUNTE</td>\n",
              "      <td>-23.68989209</td>\n",
              "      <td>-46.77386022</td>\n",
              "      <td>S.PAULO</td>\n",
              "      <td>EST DO M BOI MIRIM</td>\n",
              "      <td>5000</td>\n",
              "      <td>C</td>\n",
              "      <td>Vitima</td>\n",
              "      <td>1</td>\n",
              "      <td>F</td>\n",
              "      <td>39.0</td>\n",
              "      <td>Branca</td>\n",
              "      <td>NaN</td>\n",
              "      <td>NaN</td>\n",
              "    </tr>\n",
              "    <tr>\n",
              "      <th>2</th>\n",
              "      <td>1</td>\n",
              "      <td>2014</td>\n",
              "      <td>20200</td>\n",
              "      <td>DECAP</td>\n",
              "      <td>DEL.SEC.5 LESTE</td>\n",
              "      <td>DEL.SEC.5 LESTE</td>\n",
              "      <td>DECAP</td>\n",
              "      <td>DEL.SEC.1 CENTRO</td>\n",
              "      <td>12 D.P. PARI</td>\n",
              "      <td>2014</td>\n",
              "      <td>2</td>\n",
              "      <td>22/02/2014</td>\n",
              "      <td>NaN</td>\n",
              "      <td>C</td>\n",
              "      <td>Furto (art. 155)</td>\n",
              "      <td>OUTROS</td>\n",
              "      <td>-23.52095371</td>\n",
              "      <td>-46.6253548</td>\n",
              "      <td>S.PAULO</td>\n",
              "      <td>PONTE CRUZEIRO DO SUL</td>\n",
              "      <td>1100</td>\n",
              "      <td>C</td>\n",
              "      <td>Vitima</td>\n",
              "      <td>1</td>\n",
              "      <td>M</td>\n",
              "      <td>52.0</td>\n",
              "      <td>Parda</td>\n",
              "      <td>AJUDANTE GERAL</td>\n",
              "      <td>1 Grau completo</td>\n",
              "    </tr>\n",
              "    <tr>\n",
              "      <th>3</th>\n",
              "      <td>1</td>\n",
              "      <td>2014</td>\n",
              "      <td>30105</td>\n",
              "      <td>DEMACRO</td>\n",
              "      <td>DEL.SEC.SANTO ANDRE</td>\n",
              "      <td>04 D.P. SANTO ANDRE</td>\n",
              "      <td>DEMACRO</td>\n",
              "      <td>DEL.SEC.SANTO ANDRE</td>\n",
              "      <td>06 D.P. SANTO ANDRE</td>\n",
              "      <td>2014</td>\n",
              "      <td>1</td>\n",
              "      <td>01/01/2014</td>\n",
              "      <td>01:00</td>\n",
              "      <td>C</td>\n",
              "      <td>Furto (art. 155)</td>\n",
              "      <td>VEICULO</td>\n",
              "      <td>-23.69004592</td>\n",
              "      <td>-46.51597554</td>\n",
              "      <td>S.ANDRE</td>\n",
              "      <td>AV AUREA</td>\n",
              "      <td>785</td>\n",
              "      <td>C</td>\n",
              "      <td>Curador</td>\n",
              "      <td>14</td>\n",
              "      <td>F</td>\n",
              "      <td>60.0</td>\n",
              "      <td>NaN</td>\n",
              "      <td>APOSENTADO(A)</td>\n",
              "      <td>NaN</td>\n",
              "    </tr>\n",
              "    <tr>\n",
              "      <th>4</th>\n",
              "      <td>1</td>\n",
              "      <td>2014</td>\n",
              "      <td>30105</td>\n",
              "      <td>DEMACRO</td>\n",
              "      <td>DEL.SEC.SANTO ANDRE</td>\n",
              "      <td>04 D.P. SANTO ANDRE</td>\n",
              "      <td>DEMACRO</td>\n",
              "      <td>DEL.SEC.SANTO ANDRE</td>\n",
              "      <td>06 D.P. SANTO ANDRE</td>\n",
              "      <td>2014</td>\n",
              "      <td>1</td>\n",
              "      <td>01/01/2014</td>\n",
              "      <td>01:00</td>\n",
              "      <td>C</td>\n",
              "      <td>Furto (art. 155)</td>\n",
              "      <td>VEICULO</td>\n",
              "      <td>-23.69004592</td>\n",
              "      <td>-46.51597554</td>\n",
              "      <td>S.ANDRE</td>\n",
              "      <td>AV AUREA</td>\n",
              "      <td>785</td>\n",
              "      <td>C</td>\n",
              "      <td>Indiciado</td>\n",
              "      <td>3</td>\n",
              "      <td>M</td>\n",
              "      <td>26.0</td>\n",
              "      <td>Parda</td>\n",
              "      <td>DESEMPREGADO(A)</td>\n",
              "      <td>2 Grau completo</td>\n",
              "    </tr>\n",
              "  </tbody>\n",
              "</table>\n",
              "</div>"
            ],
            "text/plain": [
              "   NUM_BO  ANO_BO  ID_DELEGACIA  ...     COR  DESCR_PROFISSAO DESCR_GRAU_INSTRUCAO\n",
              "0       1    2014         10363  ...   Preta              NaN                  NaN\n",
              "1       1    2014         10373  ...  Branca              NaN                  NaN\n",
              "2       1    2014         20200  ...   Parda   AJUDANTE GERAL     1 Grau completo \n",
              "3       1    2014         30105  ...     NaN    APOSENTADO(A)                  NaN\n",
              "4       1    2014         30105  ...   Parda  DESEMPREGADO(A)     2 Grau completo \n",
              "\n",
              "[5 rows x 29 columns]"
            ]
          },
          "metadata": {
            "tags": []
          },
          "execution_count": 258
        }
      ]
    },
    {
      "cell_type": "code",
      "metadata": {
        "colab": {
          "base_uri": "https://localhost:8080/"
        },
        "id": "m7BqlhMMKOmd",
        "outputId": "4cd5b72d-263a-44f3-a93a-b530aa682771"
      },
      "source": [
        "data2['CONDUTA'].value_counts()"
      ],
      "execution_count": 259,
      "outputs": [
        {
          "output_type": "execute_result",
          "data": {
            "text/plain": [
              "VEICULO                         1386\n",
              "TRANSEUNTE                      1369\n",
              "OUTROS                           681\n",
              "RESIDENCIA                       422\n",
              "INTERIOR DE VEICULO              354\n",
              "ESTABELECIMENTO COMERCIAL        326\n",
              "CARGA                            273\n",
              "INTERIOR ESTABELECIMENTO         112\n",
              "ESTABELECIMENTO BANCARIO          75\n",
              "ESTABELECIMENTO-OUTROS            62\n",
              "INTERIOR TRANSPORTE COLETIVO      46\n",
              "ESTABELECIMENTO ENSINO            37\n",
              "COLETIVO                          13\n",
              "CONDOMINIO RESIDENCIAL             7\n",
              "CONDOMINIO COMERCIAL               2\n",
              "Name: CONDUTA, dtype: int64"
            ]
          },
          "metadata": {
            "tags": []
          },
          "execution_count": 259
        }
      ]
    },
    {
      "cell_type": "code",
      "metadata": {
        "id": "I_h81za9LJ3i"
      },
      "source": [
        "data2['CONDUTA'].fillna('VEICULO', inplace=True)"
      ],
      "execution_count": 260,
      "outputs": []
    },
    {
      "cell_type": "code",
      "metadata": {
        "id": "Gf6_QKdxL-_J",
        "colab": {
          "base_uri": "https://localhost:8080/"
        },
        "outputId": "4be88f03-11f6-45d5-bec1-ff12604603fd"
      },
      "source": [
        "data2['CONDUTA'].value_counts()"
      ],
      "execution_count": 261,
      "outputs": [
        {
          "output_type": "execute_result",
          "data": {
            "text/plain": [
              "VEICULO                         6221\n",
              "TRANSEUNTE                      1369\n",
              "OUTROS                           681\n",
              "RESIDENCIA                       422\n",
              "INTERIOR DE VEICULO              354\n",
              "ESTABELECIMENTO COMERCIAL        326\n",
              "CARGA                            273\n",
              "INTERIOR ESTABELECIMENTO         112\n",
              "ESTABELECIMENTO BANCARIO          75\n",
              "ESTABELECIMENTO-OUTROS            62\n",
              "INTERIOR TRANSPORTE COLETIVO      46\n",
              "ESTABELECIMENTO ENSINO            37\n",
              "COLETIVO                          13\n",
              "CONDOMINIO RESIDENCIAL             7\n",
              "CONDOMINIO COMERCIAL               2\n",
              "Name: CONDUTA, dtype: int64"
            ]
          },
          "metadata": {
            "tags": []
          },
          "execution_count": 261
        }
      ]
    },
    {
      "cell_type": "code",
      "metadata": {
        "colab": {
          "base_uri": "https://localhost:8080/"
        },
        "id": "stSP0L2kNEVR",
        "outputId": "fcac6cd9-7ef7-443f-9978-cf3b8fa25ed7"
      },
      "source": [
        "data2['LATITUDE'].value_counts()"
      ],
      "execution_count": 262,
      "outputs": [
        {
          "output_type": "execute_result",
          "data": {
            "text/plain": [
              "Informacao restrita (art. 31 da LAI)    429\n",
              "-23.71286115                             48\n",
              "-23.52519435                             23\n",
              "-23.64027263                             23\n",
              "-23.55850851                             22\n",
              "                                       ... \n",
              "-23.54925271                              1\n",
              "-23.68805937                              1\n",
              "-23.54138412                              1\n",
              "-23.4355466                               1\n",
              "-23.55358709                              1\n",
              "Name: LATITUDE, Length: 3440, dtype: int64"
            ]
          },
          "metadata": {
            "tags": []
          },
          "execution_count": 262
        }
      ]
    },
    {
      "cell_type": "code",
      "metadata": {
        "id": "gQ9Jc7iiNKIi"
      },
      "source": [
        "data2['LATITUDE'].fillna('-23.71286115', inplace=True)"
      ],
      "execution_count": 263,
      "outputs": []
    },
    {
      "cell_type": "code",
      "metadata": {
        "colab": {
          "base_uri": "https://localhost:8080/"
        },
        "id": "cuk2YHzmIqMx",
        "outputId": "b7af3c1a-9194-4975-9ee8-35bd2fcbe164"
      },
      "source": [
        "data2['LATITUDE'].replace('Informacao restrita (art. 31 da LAI)', '-23.71286115')"
      ],
      "execution_count": 264,
      "outputs": [
        {
          "output_type": "execute_result",
          "data": {
            "text/plain": [
              "0       -23.65760046\n",
              "1       -23.68989209\n",
              "2       -23.52095371\n",
              "3       -23.69004592\n",
              "4       -23.69004592\n",
              "            ...     \n",
              "9995    -23.59282471\n",
              "9996    -23.68735677\n",
              "9997     -23.7704097\n",
              "9998    -23.58106758\n",
              "9999     -23.6138048\n",
              "Name: LATITUDE, Length: 10000, dtype: object"
            ]
          },
          "metadata": {
            "tags": []
          },
          "execution_count": 264
        }
      ]
    },
    {
      "cell_type": "code",
      "metadata": {
        "colab": {
          "base_uri": "https://localhost:8080/"
        },
        "id": "ax1K1pQ-J0lS",
        "outputId": "3999487e-b14f-439e-ec17-3afdeb0f37ef"
      },
      "source": [
        "data2['LATITUDE'].replace('NULL', '-23.71286115')"
      ],
      "execution_count": 265,
      "outputs": [
        {
          "output_type": "execute_result",
          "data": {
            "text/plain": [
              "0       -23.65760046\n",
              "1       -23.68989209\n",
              "2       -23.52095371\n",
              "3       -23.69004592\n",
              "4       -23.69004592\n",
              "            ...     \n",
              "9995    -23.59282471\n",
              "9996    -23.68735677\n",
              "9997     -23.7704097\n",
              "9998    -23.58106758\n",
              "9999     -23.6138048\n",
              "Name: LATITUDE, Length: 10000, dtype: object"
            ]
          },
          "metadata": {
            "tags": []
          },
          "execution_count": 265
        }
      ]
    },
    {
      "cell_type": "code",
      "metadata": {
        "colab": {
          "base_uri": "https://localhost:8080/"
        },
        "id": "FT70q-jSOPDt",
        "outputId": "9466721a-3736-46f9-9c0f-8f8a0706823d"
      },
      "source": [
        "data2.info()"
      ],
      "execution_count": 266,
      "outputs": [
        {
          "output_type": "stream",
          "text": [
            "<class 'pandas.core.frame.DataFrame'>\n",
            "RangeIndex: 10000 entries, 0 to 9999\n",
            "Data columns (total 29 columns):\n",
            " #   Column                  Non-Null Count  Dtype  \n",
            "---  ------                  --------------  -----  \n",
            " 0   NUM_BO                  10000 non-null  int64  \n",
            " 1   ANO_BO                  10000 non-null  int64  \n",
            " 2   ID_DELEGACIA            10000 non-null  int64  \n",
            " 3   NOME_DEPARTAMENTO       10000 non-null  object \n",
            " 4   NOME_SECCIONAL          10000 non-null  object \n",
            " 5   DELEGACIA               10000 non-null  object \n",
            " 6   NOME_DEPARTAMENTO_CIRC  10000 non-null  object \n",
            " 7   NOME_SECCIONAL_CIRC     10000 non-null  object \n",
            " 8   NOME_DELEGACIA_CIRC     10000 non-null  object \n",
            " 9   ANO                     10000 non-null  int64  \n",
            " 10  MES                     10000 non-null  int64  \n",
            " 11  DATA_OCORRENCIA_BO      9913 non-null   object \n",
            " 12  HORA_OCORRENCIA_BO      8960 non-null   object \n",
            " 13  FLAG_STATUS             10000 non-null  object \n",
            " 14  RUBRICA                 10000 non-null  object \n",
            " 15  CONDUTA                 10000 non-null  object \n",
            " 16  LATITUDE                10000 non-null  object \n",
            " 17  LONGITUDE               8836 non-null   object \n",
            " 18  CIDADE                  10000 non-null  object \n",
            " 19  LOGRADOURO              10000 non-null  object \n",
            " 20  NUMERO_LOGRADOURO       9945 non-null   object \n",
            " 21  FLAG_STATUS.1           10000 non-null  object \n",
            " 22  DESCR_TIPO_PESSOA       10000 non-null  object \n",
            " 23  CONT_PESSOA             10000 non-null  int64  \n",
            " 24  SEXO_PESSOA             10000 non-null  object \n",
            " 25  IDADE_PESSOA            8098 non-null   float64\n",
            " 26  COR                     7628 non-null   object \n",
            " 27  DESCR_PROFISSAO         7005 non-null   object \n",
            " 28  DESCR_GRAU_INSTRUCAO    7168 non-null   object \n",
            "dtypes: float64(1), int64(6), object(22)\n",
            "memory usage: 2.2+ MB\n"
          ],
          "name": "stdout"
        }
      ]
    },
    {
      "cell_type": "code",
      "metadata": {
        "colab": {
          "base_uri": "https://localhost:8080/"
        },
        "id": "RWPBFDj4NPPd",
        "outputId": "0b2bdc87-a0f3-47ba-df0a-04eb9e053bc7"
      },
      "source": [
        "data2['LONGITUDE'].value_counts()"
      ],
      "execution_count": 267,
      "outputs": [
        {
          "output_type": "execute_result",
          "data": {
            "text/plain": [
              "Informacao restrita (art. 31 da LAI)    429\n",
              "-46.78186771                             48\n",
              "-46.39605905                             23\n",
              "-46.81568811                             23\n",
              "-46.72128418                             22\n",
              "                                       ... \n",
              "-46.51308004                              1\n",
              "-46.4396255                               1\n",
              "-46.51269345                              1\n",
              "-46.93463658                              1\n",
              "-46.45599307                              1\n",
              "Name: LONGITUDE, Length: 3440, dtype: int64"
            ]
          },
          "metadata": {
            "tags": []
          },
          "execution_count": 267
        }
      ]
    },
    {
      "cell_type": "code",
      "metadata": {
        "id": "2XHdogdRNPPj"
      },
      "source": [
        "data2['LONGITUDE'].fillna('-46.78186771', inplace=True)"
      ],
      "execution_count": 268,
      "outputs": []
    },
    {
      "cell_type": "code",
      "metadata": {
        "colab": {
          "base_uri": "https://localhost:8080/"
        },
        "id": "sasZLvyTHd0w",
        "outputId": "5ab0617a-743c-4249-d9e3-1ca900cfeb07"
      },
      "source": [
        "data2['LONGITUDE'].replace('Informacao restrita (art. 31 da LAI)', '-46.78186771')"
      ],
      "execution_count": 269,
      "outputs": [
        {
          "output_type": "execute_result",
          "data": {
            "text/plain": [
              "0       -46.61717673\n",
              "1       -46.77386022\n",
              "2        -46.6253548\n",
              "3       -46.51597554\n",
              "4       -46.51597554\n",
              "            ...     \n",
              "9995    -46.80662548\n",
              "9996    -46.66987176\n",
              "9997    -46.72372479\n",
              "9998    -46.75421897\n",
              "9999    -46.53028157\n",
              "Name: LONGITUDE, Length: 10000, dtype: object"
            ]
          },
          "metadata": {
            "tags": []
          },
          "execution_count": 269
        }
      ]
    },
    {
      "cell_type": "code",
      "metadata": {
        "colab": {
          "base_uri": "https://localhost:8080/"
        },
        "id": "Sg4N-elnJsFb",
        "outputId": "2e8995db-4a12-45dc-c81a-4c462b6aae36"
      },
      "source": [
        "data2['LONGITUDE'].replace('NULL', '-46.78186771')"
      ],
      "execution_count": 270,
      "outputs": [
        {
          "output_type": "execute_result",
          "data": {
            "text/plain": [
              "0       -46.61717673\n",
              "1       -46.77386022\n",
              "2        -46.6253548\n",
              "3       -46.51597554\n",
              "4       -46.51597554\n",
              "            ...     \n",
              "9995    -46.80662548\n",
              "9996    -46.66987176\n",
              "9997    -46.72372479\n",
              "9998    -46.75421897\n",
              "9999    -46.53028157\n",
              "Name: LONGITUDE, Length: 10000, dtype: object"
            ]
          },
          "metadata": {
            "tags": []
          },
          "execution_count": 270
        }
      ]
    },
    {
      "cell_type": "code",
      "metadata": {
        "colab": {
          "base_uri": "https://localhost:8080/"
        },
        "id": "sefSy5yfNPPo",
        "outputId": "ee0faf4e-76ff-4bbd-8f67-ec9e2ccd80d5"
      },
      "source": [
        "data2.info()"
      ],
      "execution_count": 271,
      "outputs": [
        {
          "output_type": "stream",
          "text": [
            "<class 'pandas.core.frame.DataFrame'>\n",
            "RangeIndex: 10000 entries, 0 to 9999\n",
            "Data columns (total 29 columns):\n",
            " #   Column                  Non-Null Count  Dtype  \n",
            "---  ------                  --------------  -----  \n",
            " 0   NUM_BO                  10000 non-null  int64  \n",
            " 1   ANO_BO                  10000 non-null  int64  \n",
            " 2   ID_DELEGACIA            10000 non-null  int64  \n",
            " 3   NOME_DEPARTAMENTO       10000 non-null  object \n",
            " 4   NOME_SECCIONAL          10000 non-null  object \n",
            " 5   DELEGACIA               10000 non-null  object \n",
            " 6   NOME_DEPARTAMENTO_CIRC  10000 non-null  object \n",
            " 7   NOME_SECCIONAL_CIRC     10000 non-null  object \n",
            " 8   NOME_DELEGACIA_CIRC     10000 non-null  object \n",
            " 9   ANO                     10000 non-null  int64  \n",
            " 10  MES                     10000 non-null  int64  \n",
            " 11  DATA_OCORRENCIA_BO      9913 non-null   object \n",
            " 12  HORA_OCORRENCIA_BO      8960 non-null   object \n",
            " 13  FLAG_STATUS             10000 non-null  object \n",
            " 14  RUBRICA                 10000 non-null  object \n",
            " 15  CONDUTA                 10000 non-null  object \n",
            " 16  LATITUDE                10000 non-null  object \n",
            " 17  LONGITUDE               10000 non-null  object \n",
            " 18  CIDADE                  10000 non-null  object \n",
            " 19  LOGRADOURO              10000 non-null  object \n",
            " 20  NUMERO_LOGRADOURO       9945 non-null   object \n",
            " 21  FLAG_STATUS.1           10000 non-null  object \n",
            " 22  DESCR_TIPO_PESSOA       10000 non-null  object \n",
            " 23  CONT_PESSOA             10000 non-null  int64  \n",
            " 24  SEXO_PESSOA             10000 non-null  object \n",
            " 25  IDADE_PESSOA            8098 non-null   float64\n",
            " 26  COR                     7628 non-null   object \n",
            " 27  DESCR_PROFISSAO         7005 non-null   object \n",
            " 28  DESCR_GRAU_INSTRUCAO    7168 non-null   object \n",
            "dtypes: float64(1), int64(6), object(22)\n",
            "memory usage: 2.2+ MB\n"
          ],
          "name": "stdout"
        }
      ]
    },
    {
      "cell_type": "code",
      "metadata": {
        "colab": {
          "base_uri": "https://localhost:8080/"
        },
        "id": "baHIVIEadWa1",
        "outputId": "3a04b8c5-2f6b-4b66-a927-926d4b2d08f2"
      },
      "source": [
        "data2['DATA_OCORRENCIA_BO'].value_counts()"
      ],
      "execution_count": 272,
      "outputs": [
        {
          "output_type": "execute_result",
          "data": {
            "text/plain": [
              "01/01/2014    2556\n",
              "02/01/2014    1443\n",
              "03/01/2014     911\n",
              "06/01/2014     550\n",
              "04/01/2014     415\n",
              "              ... \n",
              "09/06/2014       1\n",
              "03/05/2014       1\n",
              "22/03/2014       1\n",
              "25/06/2014       1\n",
              "04/05/2014       1\n",
              "Name: DATA_OCORRENCIA_BO, Length: 155, dtype: int64"
            ]
          },
          "metadata": {
            "tags": []
          },
          "execution_count": 272
        }
      ]
    },
    {
      "cell_type": "code",
      "metadata": {
        "id": "FQ5rJ4wrcugV"
      },
      "source": [
        "data2['DATA_OCORRENCIA_BO'].fillna('01/01/2014', inplace=True)"
      ],
      "execution_count": 273,
      "outputs": []
    },
    {
      "cell_type": "code",
      "metadata": {
        "colab": {
          "base_uri": "https://localhost:8080/"
        },
        "id": "KqgfT9yMd01y",
        "outputId": "ec1b58ba-98e5-4cb8-f718-59511a390e0e"
      },
      "source": [
        "data2['HORA_OCORRENCIA_BO'].value_counts()"
      ],
      "execution_count": 274,
      "outputs": [
        {
          "output_type": "execute_result",
          "data": {
            "text/plain": [
              "12:00    239\n",
              "15:00    218\n",
              "16:00    207\n",
              "14:00    204\n",
              "01:00    201\n",
              "        ... \n",
              "02:07      1\n",
              "16:55      1\n",
              "12:26      1\n",
              "12:19      1\n",
              "18:29      1\n",
              "Name: HORA_OCORRENCIA_BO, Length: 484, dtype: int64"
            ]
          },
          "metadata": {
            "tags": []
          },
          "execution_count": 274
        }
      ]
    },
    {
      "cell_type": "code",
      "metadata": {
        "id": "8Jt305cedmay"
      },
      "source": [
        "data2['HORA_OCORRENCIA_BO'].fillna('12:00', inplace=True)"
      ],
      "execution_count": 275,
      "outputs": []
    },
    {
      "cell_type": "code",
      "metadata": {
        "colab": {
          "base_uri": "https://localhost:8080/"
        },
        "id": "68j0Ld4ceWFh",
        "outputId": "4df0d041-266d-4f02-8225-c52a6cb6313c"
      },
      "source": [
        "data2['NUMERO_LOGRADOURO'].value_counts()"
      ],
      "execution_count": 276,
      "outputs": [
        {
          "output_type": "execute_result",
          "data": {
            "text/plain": [
              "0                                       1983\n",
              "Informacao restrita (art. 31 da LAI)     429\n",
              "1                                        402\n",
              "100                                      245\n",
              "200                                      132\n",
              "                                        ... \n",
              "2875                                       1\n",
              "6391                                       1\n",
              "7596                                       1\n",
              "492                                        1\n",
              "3073                                       1\n",
              "Name: NUMERO_LOGRADOURO, Length: 1059, dtype: int64"
            ]
          },
          "metadata": {
            "tags": []
          },
          "execution_count": 276
        }
      ]
    },
    {
      "cell_type": "code",
      "metadata": {
        "id": "-iqgzBOMeMfD"
      },
      "source": [
        "data2['NUMERO_LOGRADOURO'].fillna('12:00', inplace=True)"
      ],
      "execution_count": 277,
      "outputs": []
    },
    {
      "cell_type": "code",
      "metadata": {
        "colab": {
          "base_uri": "https://localhost:8080/"
        },
        "id": "gpmNm6OJehSs",
        "outputId": "be092033-c643-4669-eca0-82b89a7b8203"
      },
      "source": [
        "data2['COR'].value_counts()"
      ],
      "execution_count": 278,
      "outputs": [
        {
          "output_type": "execute_result",
          "data": {
            "text/plain": [
              "Branca     4166\n",
              "Parda      2517\n",
              "Preta       575\n",
              "Outros      334\n",
              "Amarela      36\n",
              "Name: COR, dtype: int64"
            ]
          },
          "metadata": {
            "tags": []
          },
          "execution_count": 278
        }
      ]
    },
    {
      "cell_type": "code",
      "metadata": {
        "id": "jcRyXDBIecYq"
      },
      "source": [
        "data2['COR'].fillna('12:00', inplace=True)"
      ],
      "execution_count": 279,
      "outputs": []
    },
    {
      "cell_type": "code",
      "metadata": {
        "colab": {
          "base_uri": "https://localhost:8080/"
        },
        "id": "lP6kluPue15W",
        "outputId": "3ceeb2d6-437a-4408-dbe1-99af97a518c6"
      },
      "source": [
        "data2['DESCR_GRAU_INSTRUCAO'].value_counts()"
      ],
      "execution_count": 280,
      "outputs": [
        {
          "output_type": "execute_result",
          "data": {
            "text/plain": [
              "2 Grau completo        2780\n",
              "1 Grau completo        1882\n",
              "Superior completo      1310\n",
              "1 Grau incompleto       574\n",
              "Superior incompleto     321\n",
              "2 Grau incompleto       227\n",
              "Analfabeto               74\n",
              "Name: DESCR_GRAU_INSTRUCAO, dtype: int64"
            ]
          },
          "metadata": {
            "tags": []
          },
          "execution_count": 280
        }
      ]
    },
    {
      "cell_type": "code",
      "metadata": {
        "id": "TIU0z1h8e6q9"
      },
      "source": [
        "data2['DESCR_GRAU_INSTRUCAO'].fillna('12:00', inplace=True)"
      ],
      "execution_count": 281,
      "outputs": []
    },
    {
      "cell_type": "code",
      "metadata": {
        "colab": {
          "base_uri": "https://localhost:8080/"
        },
        "id": "OQU9Cn8RehGG",
        "outputId": "8c67946a-1664-4b95-d072-abd7eca67127"
      },
      "source": [
        "data2['IDADE_PESSOA'].value_counts()"
      ],
      "execution_count": 282,
      "outputs": [
        {
          "output_type": "execute_result",
          "data": {
            "text/plain": [
              "30.0    269\n",
              "26.0    260\n",
              "33.0    256\n",
              "28.0    245\n",
              "38.0    241\n",
              "       ... \n",
              "89.0      1\n",
              "81.0      1\n",
              "90.0      1\n",
              "88.0      1\n",
              "87.0      1\n",
              "Name: IDADE_PESSOA, Length: 92, dtype: int64"
            ]
          },
          "metadata": {
            "tags": []
          },
          "execution_count": 282
        }
      ]
    },
    {
      "cell_type": "code",
      "metadata": {
        "id": "VLr_9BNyebyY"
      },
      "source": [
        "data2['IDADE_PESSOA'].fillna('12:00', inplace=True)"
      ],
      "execution_count": 283,
      "outputs": []
    },
    {
      "cell_type": "code",
      "metadata": {
        "colab": {
          "base_uri": "https://localhost:8080/"
        },
        "id": "oHp6qe45ehsk",
        "outputId": "578256f5-79d0-48a7-bf50-40ff0f07ad42"
      },
      "source": [
        "data2['DESCR_PROFISSAO'].value_counts()"
      ],
      "execution_count": 284,
      "outputs": [
        {
          "output_type": "execute_result",
          "data": {
            "text/plain": [
              "POLICIAL MILITAR              827\n",
              "POLICIAL CIVIL                721\n",
              "ESTUDANTE                     308\n",
              "MOTORISTA                     300\n",
              "DESEMPREGADO                  281\n",
              "                             ... \n",
              "LAVADOR(A) DE CARRO             1\n",
              "ENCARREGADO DE OBRAS            1\n",
              "SERVENTUARIO(A) DA JUSTICA      1\n",
              "TECNICO EM ELETRICIDADE         1\n",
              "ENTREGADOR DE PIZZA             1\n",
              "Name: DESCR_PROFISSAO, Length: 418, dtype: int64"
            ]
          },
          "metadata": {
            "tags": []
          },
          "execution_count": 284
        }
      ]
    },
    {
      "cell_type": "code",
      "metadata": {
        "id": "ZTvBNDr3efUL"
      },
      "source": [
        "data2['DESCR_PROFISSAO'].fillna('12:00', inplace=True)"
      ],
      "execution_count": 285,
      "outputs": []
    },
    {
      "cell_type": "code",
      "metadata": {
        "colab": {
          "base_uri": "https://localhost:8080/"
        },
        "id": "YAZCNWRCSARl",
        "outputId": "aac0088c-1c27-4577-f3f3-17104602da79"
      },
      "source": [
        "print(data2.isnull().any())\n",
        "print()"
      ],
      "execution_count": 286,
      "outputs": [
        {
          "output_type": "stream",
          "text": [
            "NUM_BO                    False\n",
            "ANO_BO                    False\n",
            "ID_DELEGACIA              False\n",
            "NOME_DEPARTAMENTO         False\n",
            "NOME_SECCIONAL            False\n",
            "DELEGACIA                 False\n",
            "NOME_DEPARTAMENTO_CIRC    False\n",
            "NOME_SECCIONAL_CIRC       False\n",
            "NOME_DELEGACIA_CIRC       False\n",
            "ANO                       False\n",
            "MES                       False\n",
            "DATA_OCORRENCIA_BO        False\n",
            "HORA_OCORRENCIA_BO        False\n",
            "FLAG_STATUS               False\n",
            "RUBRICA                   False\n",
            "CONDUTA                   False\n",
            "LATITUDE                  False\n",
            "LONGITUDE                 False\n",
            "CIDADE                    False\n",
            "LOGRADOURO                False\n",
            "NUMERO_LOGRADOURO         False\n",
            "FLAG_STATUS.1             False\n",
            "DESCR_TIPO_PESSOA         False\n",
            "CONT_PESSOA               False\n",
            "SEXO_PESSOA               False\n",
            "IDADE_PESSOA              False\n",
            "COR                       False\n",
            "DESCR_PROFISSAO           False\n",
            "DESCR_GRAU_INSTRUCAO      False\n",
            "dtype: bool\n",
            "\n"
          ],
          "name": "stdout"
        }
      ]
    },
    {
      "cell_type": "code",
      "metadata": {
        "colab": {
          "base_uri": "https://localhost:8080/",
          "height": 288
        },
        "id": "XiJ6s1sC-ZmS",
        "outputId": "3e1e2d4d-c34a-4093-c3df-0d73ab96978f"
      },
      "source": [
        "data2.describe()"
      ],
      "execution_count": 287,
      "outputs": [
        {
          "output_type": "execute_result",
          "data": {
            "text/html": [
              "<div>\n",
              "<style scoped>\n",
              "    .dataframe tbody tr th:only-of-type {\n",
              "        vertical-align: middle;\n",
              "    }\n",
              "\n",
              "    .dataframe tbody tr th {\n",
              "        vertical-align: top;\n",
              "    }\n",
              "\n",
              "    .dataframe thead th {\n",
              "        text-align: right;\n",
              "    }\n",
              "</style>\n",
              "<table border=\"1\" class=\"dataframe\">\n",
              "  <thead>\n",
              "    <tr style=\"text-align: right;\">\n",
              "      <th></th>\n",
              "      <th>NUM_BO</th>\n",
              "      <th>ANO_BO</th>\n",
              "      <th>ID_DELEGACIA</th>\n",
              "      <th>ANO</th>\n",
              "      <th>MES</th>\n",
              "      <th>CONT_PESSOA</th>\n",
              "    </tr>\n",
              "  </thead>\n",
              "  <tbody>\n",
              "    <tr>\n",
              "      <th>count</th>\n",
              "      <td>10000.000000</td>\n",
              "      <td>10000.000000</td>\n",
              "      <td>10000.000000</td>\n",
              "      <td>10000.0</td>\n",
              "      <td>10000.000000</td>\n",
              "      <td>10000.000000</td>\n",
              "    </tr>\n",
              "    <tr>\n",
              "      <th>mean</th>\n",
              "      <td>24.377100</td>\n",
              "      <td>2014.011400</td>\n",
              "      <td>76819.235900</td>\n",
              "      <td>2014.0</td>\n",
              "      <td>1.362000</td>\n",
              "      <td>2.625500</td>\n",
              "    </tr>\n",
              "    <tr>\n",
              "      <th>std</th>\n",
              "      <td>16.054192</td>\n",
              "      <td>0.112567</td>\n",
              "      <td>110985.447337</td>\n",
              "      <td>0.0</td>\n",
              "      <td>0.898909</td>\n",
              "      <td>1.934276</td>\n",
              "    </tr>\n",
              "    <tr>\n",
              "      <th>min</th>\n",
              "      <td>1.000000</td>\n",
              "      <td>2014.000000</td>\n",
              "      <td>10004.000000</td>\n",
              "      <td>2014.0</td>\n",
              "      <td>1.000000</td>\n",
              "      <td>1.000000</td>\n",
              "    </tr>\n",
              "    <tr>\n",
              "      <th>25%</th>\n",
              "      <td>11.000000</td>\n",
              "      <td>2014.000000</td>\n",
              "      <td>10365.000000</td>\n",
              "      <td>2014.0</td>\n",
              "      <td>1.000000</td>\n",
              "      <td>1.000000</td>\n",
              "    </tr>\n",
              "    <tr>\n",
              "      <th>50%</th>\n",
              "      <td>21.000000</td>\n",
              "      <td>2014.000000</td>\n",
              "      <td>30211.000000</td>\n",
              "      <td>2014.0</td>\n",
              "      <td>1.000000</td>\n",
              "      <td>2.000000</td>\n",
              "    </tr>\n",
              "    <tr>\n",
              "      <th>75%</th>\n",
              "      <td>37.000000</td>\n",
              "      <td>2014.000000</td>\n",
              "      <td>140206.000000</td>\n",
              "      <td>2014.0</td>\n",
              "      <td>1.000000</td>\n",
              "      <td>3.000000</td>\n",
              "    </tr>\n",
              "    <tr>\n",
              "      <th>max</th>\n",
              "      <td>63.000000</td>\n",
              "      <td>2017.000000</td>\n",
              "      <td>990900.000000</td>\n",
              "      <td>2014.0</td>\n",
              "      <td>6.000000</td>\n",
              "      <td>17.000000</td>\n",
              "    </tr>\n",
              "  </tbody>\n",
              "</table>\n",
              "</div>"
            ],
            "text/plain": [
              "             NUM_BO        ANO_BO  ...           MES   CONT_PESSOA\n",
              "count  10000.000000  10000.000000  ...  10000.000000  10000.000000\n",
              "mean      24.377100   2014.011400  ...      1.362000      2.625500\n",
              "std       16.054192      0.112567  ...      0.898909      1.934276\n",
              "min        1.000000   2014.000000  ...      1.000000      1.000000\n",
              "25%       11.000000   2014.000000  ...      1.000000      1.000000\n",
              "50%       21.000000   2014.000000  ...      1.000000      2.000000\n",
              "75%       37.000000   2014.000000  ...      1.000000      3.000000\n",
              "max       63.000000   2017.000000  ...      6.000000     17.000000\n",
              "\n",
              "[8 rows x 6 columns]"
            ]
          },
          "metadata": {
            "tags": []
          },
          "execution_count": 287
        }
      ]
    },
    {
      "cell_type": "code",
      "metadata": {
        "colab": {
          "base_uri": "https://localhost:8080/"
        },
        "id": "XfXy13dLqmDg",
        "outputId": "db5aeb24-221e-423d-9d51-bbe278fe6db7"
      },
      "source": [
        "data2['MES'].value_counts()"
      ],
      "execution_count": 288,
      "outputs": [
        {
          "output_type": "execute_result",
          "data": {
            "text/plain": [
              "1    8126\n",
              "2     904\n",
              "3     481\n",
              "4     278\n",
              "5     135\n",
              "6      76\n",
              "Name: MES, dtype: int64"
            ]
          },
          "metadata": {
            "tags": []
          },
          "execution_count": 288
        }
      ]
    },
    {
      "cell_type": "code",
      "metadata": {
        "id": "fzoDAeLb7zEm"
      },
      "source": [
        "mes = data2[\"MES\"]\n",
        "delito = data2[\"RUBRICA\"]\n"
      ],
      "execution_count": 289,
      "outputs": []
    },
    {
      "cell_type": "code",
      "metadata": {
        "colab": {
          "base_uri": "https://localhost:8080/",
          "height": 603
        },
        "id": "MmrR59mTAxyJ",
        "outputId": "685036cb-23d0-440f-c077-cd3d76ab48f0"
      },
      "source": [
        "plt.style.use('dark_background')\n",
        "plt.figure(figsize=(20,10))\n",
        "plt.hist(mes, bins=40, color = \"skyblue\", ec=\"darkblue\")\n",
        "plt.title('Frequência de Crimes por Mês')\n",
        "plt.ylabel('Número de Crimes')\n",
        "plt.xlabel('Mês/2016')\n",
        "plt.rcParams.update({'font.size': 20})\n",
        "plt.show()"
      ],
      "execution_count": 290,
      "outputs": [
        {
          "output_type": "display_data",
          "data": {
            "image/png": "[encoded data removed]",
            "text/plain": [
              "<Figure size 1440x720 with 1 Axes>"
            ]
          },
          "metadata": {
            "tags": []
          }
        }
      ]
    },
    {
      "cell_type": "code",
      "metadata": {
        "colab": {
          "base_uri": "https://localhost:8080/"
        },
        "id": "hb0sZAOCzMjm",
        "outputId": "47258de2-7832-464a-c087-3879ad8c4abb"
      },
      "source": [
        "data2['RUBRICA'].value_counts()"
      ],
      "execution_count": 291,
      "outputs": [
        {
          "output_type": "execute_result",
          "data": {
            "text/plain": [
              "Roubo (art. 157)                                                     3494\n",
              "Lesao corporal (art. 129)                                            1310\n",
              "Drogas sem autorizacao ou em desacordo (Art.33 caput)                1175\n",
              "Furto (art. 155)                                                     1003\n",
              "Furto qualificado (art. 155 4o.)                                      607\n",
              "Lesao corporal culposa na direcao de veiculo automotor (Art. 303)     596\n",
              "A.I.-Drogas sem autorizacao ou em desacordo (Art.33 caput)            519\n",
              "Lesao corporal (art 129_9)                                            477\n",
              "Homicidio simples (art. 121)                                          271\n",
              "A.I.-Roubo (art. 157)                                                 136\n",
              "Estupro de vulneravel (art.217-A)                                      98\n",
              "Homicidio qualificado (art. 121 2o.)                                   96\n",
              "Estupro (art.213)                                                      50\n",
              "Lesao corporal culposa (art. 129. 6o.)                                 41\n",
              "A.I.-Lesao corporal (art. 129)                                         39\n",
              "A.I.-Furto qualificado (art. 155 4o.)                                  26\n",
              "Homicidio culposo na direcao de veiculo automotor (Art. 302)           22\n",
              "A.I.-Homicidio simples (art. 121)                                       8\n",
              "A.I.-Estupro de vulneravel (art.217-A)                                  5\n",
              "A.I.-Furto (art. 155)                                                   5\n",
              "Lesao corporal seguida de morte (art. 129 3o.)                          4\n",
              "Furto de coisa comum (art. 156)                                         4\n",
              "Lesao corporal de natureza GRAVE (art. 129 1o.)                         4\n",
              "A.I.-Lesao corporal culposa (art. 129. 6o.)                             4\n",
              "Homicidio culposo (art. 121 3o.)                                        3\n",
              "A.I.-Lesao corporal (art 129_9)                                         3\n",
              "Name: RUBRICA, dtype: int64"
            ]
          },
          "metadata": {
            "tags": []
          },
          "execution_count": 291
        }
      ]
    },
    {
      "cell_type": "code",
      "metadata": {
        "colab": {
          "base_uri": "https://localhost:8080/",
          "height": 443
        },
        "id": "TiuR6AWvmEa9",
        "outputId": "8222ce1a-7a84-44af-e602-21a0e252ea8f"
      },
      "source": [
        "plt.style.use('dark_background')\n",
        "plt.figure(figsize=(15,9))\n",
        "plt.xlabel('Número de Crimes')\n",
        "data2['RUBRICA'].value_counts().plot(kind='barh', title='Frequência de crimes por tipo')\n",
        "plt.show()\n"
      ],
      "execution_count": 292,
      "outputs": [
        {
          "output_type": "display_data",
          "data": {
            "image/png": "[encoded data removed]",
            "text/plain": [
              "<Figure size 1080x648 with 1 Axes>"
            ]
          },
          "metadata": {
            "tags": []
          }
        }
      ]
    },
    {
      "cell_type": "code",
      "metadata": {
        "id": "QT6z8m1EEgA6"
      },
      "source": [
        "# novas_colunas = pd.get_dummies(data2['RUBRICA']) \n",
        "# data3 = pd.concat([data2,novas_colunas], axis=1) \n",
        "# data3.head(2)"
      ],
      "execution_count": 293,
      "outputs": []
    },
    {
      "cell_type": "code",
      "metadata": {
        "colab": {
          "base_uri": "https://localhost:8080/"
        },
        "id": "7fJ47uqNza-z",
        "outputId": "17e90de6-fc10-4325-cb2a-d2eec97e3fb2"
      },
      "source": [
        "import os\r\n",
        "import folium\r\n",
        "import pandas as pd\r\n",
        "print(folium.__version__)"
      ],
      "execution_count": 294,
      "outputs": [
        {
          "output_type": "stream",
          "text": [
            "0.8.3\n"
          ],
          "name": "stdout"
        }
      ]
    },
    {
      "cell_type": "code",
      "metadata": {
        "colab": {
          "base_uri": "https://localhost:8080/"
        },
        "id": "akmmBgMW-YQv",
        "outputId": "a17fa6f6-53a1-407f-c71e-ee2e6ce4ddfc"
      },
      "source": [
        "!pip install git+https://github.com/python-visualization/folium"
      ],
      "execution_count": 295,
      "outputs": [
        {
          "output_type": "stream",
          "text": [
            "Collecting git+https://github.com/python-visualization/folium\n",
            "  Cloning https://github.com/python-visualization/folium to /tmp/pip-req-build-4fs5lcg1\n",
            "  Running command git clone -q https://github.com/python-visualization/folium /tmp/pip-req-build-4fs5lcg1\n",
            "Requirement already satisfied (use --upgrade to upgrade): folium==0.0.0 from git+https://github.com/python-visualization/folium in /usr/local/lib/python3.6/dist-packages\n",
            "Requirement already satisfied: branca>=0.3.0 in /usr/local/lib/python3.6/dist-packages (from folium==0.0.0) (0.4.1)\n",
            "Requirement already satisfied: jinja2>=2.9 in /usr/local/lib/python3.6/dist-packages (from folium==0.0.0) (2.11.2)\n",
            "Requirement already satisfied: numpy in /usr/local/lib/python3.6/dist-packages (from folium==0.0.0) (1.18.5)\n",
            "Requirement already satisfied: requests in /usr/local/lib/python3.6/dist-packages (from folium==0.0.0) (2.23.0)\n",
            "Requirement already satisfied: MarkupSafe>=0.23 in /usr/local/lib/python3.6/dist-packages (from jinja2>=2.9->folium==0.0.0) (1.1.1)\n",
            "Requirement already satisfied: idna<3,>=2.5 in /usr/local/lib/python3.6/dist-packages (from requests->folium==0.0.0) (2.10)\n",
            "Requirement already satisfied: urllib3!=1.25.0,!=1.25.1,<1.26,>=1.21.1 in /usr/local/lib/python3.6/dist-packages (from requests->folium==0.0.0) (1.24.3)\n",
            "Requirement already satisfied: chardet<4,>=3.0.2 in /usr/local/lib/python3.6/dist-packages (from requests->folium==0.0.0) (3.0.4)\n",
            "Requirement already satisfied: certifi>=2017.4.17 in /usr/local/lib/python3.6/dist-packages (from requests->folium==0.0.0) (2020.12.5)\n",
            "Building wheels for collected packages: folium\n",
            "  Building wheel for folium (setup.py) ... \u001b[?25l\u001b[?25hdone\n",
            "  Created wheel for folium: filename=folium-0.0.0-py2.py3-none-any.whl size=94062 sha256=e2698532bc629f5b115af9cedb3a95cff276334d22de239f5816b300163a0fc9\n",
            "  Stored in directory: /tmp/pip-ephem-wheel-cache-v8kfo3ke/wheels/1e/e1/75/ecbc91fd5dd5d90befb0b533bf7492d38acffa033310731862\n",
            "Successfully built folium\n"
          ],
          "name": "stdout"
        }
      ]
    },
    {
      "cell_type": "code",
      "metadata": {
        "colab": {
          "base_uri": "https://localhost:8080/"
        },
        "id": "cc402euqDnM1",
        "outputId": "fed0bc84-da59-4800-efd1-472ebcdd6b5e"
      },
      "source": [
        "# !pip install folium"
      ],
      "execution_count": 296,
      "outputs": [
        {
          "output_type": "stream",
          "text": [
            "Requirement already satisfied: folium in /usr/local/lib/python3.6/dist-packages (0.0.0)\n",
            "Requirement already satisfied: numpy in /usr/local/lib/python3.6/dist-packages (from folium) (1.18.5)\n",
            "Requirement already satisfied: requests in /usr/local/lib/python3.6/dist-packages (from folium) (2.23.0)\n",
            "Requirement already satisfied: branca>=0.3.0 in /usr/local/lib/python3.6/dist-packages (from folium) (0.4.1)\n",
            "Requirement already satisfied: jinja2>=2.9 in /usr/local/lib/python3.6/dist-packages (from folium) (2.11.2)\n",
            "Requirement already satisfied: idna<3,>=2.5 in /usr/local/lib/python3.6/dist-packages (from requests->folium) (2.10)\n",
            "Requirement already satisfied: urllib3!=1.25.0,!=1.25.1,<1.26,>=1.21.1 in /usr/local/lib/python3.6/dist-packages (from requests->folium) (1.24.3)\n",
            "Requirement already satisfied: certifi>=2017.4.17 in /usr/local/lib/python3.6/dist-packages (from requests->folium) (2020.12.5)\n",
            "Requirement already satisfied: chardet<4,>=3.0.2 in /usr/local/lib/python3.6/dist-packages (from requests->folium) (3.0.4)\n",
            "Requirement already satisfied: MarkupSafe>=0.23 in /usr/local/lib/python3.6/dist-packages (from jinja2>=2.9->folium) (1.1.1)\n"
          ],
          "name": "stdout"
        }
      ]
    },
    {
      "cell_type": "code",
      "metadata": {
        "colab": {
          "base_uri": "https://localhost:8080/",
          "height": 540
        },
        "id": "zlwBxzYKoiCg",
        "outputId": "173ea100-d34f-420d-c8aa-49148f8ceee5"
      },
      "source": [
        "# from folium import plugins\n",
        "\n",
        "# mapa = folium.Map(location=[-23.71286115, -46.78186771],tiles='Stamen Toner',zoom_start=12)\n",
        "# coordenadas = []\n",
        "\n",
        "# lat = data2['LATITUDE'][:1000].values\n",
        "# long = data2['LONGITUDE'][:1000].values\n",
        "\n",
        "# for la,lo in zip(lat,long):\n",
        "#   coordenadas.append([la,lo])\n",
        "\n",
        "# mapa.add_child(plugins.HeatMap(coordenadas))\n",
        "# mapa"
      ],
      "execution_count": 297,
      "outputs": [
        {
          "output_type": "error",
          "ename": "ImportError",
          "evalue": "ignored",
          "traceback": [
            "\u001b[0;31m---------------------------------------------------------------------------\u001b[0m",
            "\u001b[0;31mImportError\u001b[0m                               Traceback (most recent call last)",
            "\u001b[0;32m<ipython-input-297-576ba97c26ec>\u001b[0m in \u001b[0;36m<module>\u001b[0;34m()\u001b[0m\n\u001b[0;32m----> 1\u001b[0;31m \u001b[0;32mfrom\u001b[0m \u001b[0mfolium\u001b[0m \u001b[0;32mimport\u001b[0m \u001b[0mplugins\u001b[0m\u001b[0;34m\u001b[0m\u001b[0;34m\u001b[0m\u001b[0m\n\u001b[0m\u001b[1;32m      2\u001b[0m \u001b[0;34m\u001b[0m\u001b[0m\n\u001b[1;32m      3\u001b[0m \u001b[0mmapa\u001b[0m \u001b[0;34m=\u001b[0m \u001b[0mfolium\u001b[0m\u001b[0;34m.\u001b[0m\u001b[0mMap\u001b[0m\u001b[0;34m(\u001b[0m\u001b[0mlocation\u001b[0m\u001b[0;34m=\u001b[0m\u001b[0;34m[\u001b[0m\u001b[0;34m-\u001b[0m\u001b[0;36m23.71286115\u001b[0m\u001b[0;34m,\u001b[0m \u001b[0;34m-\u001b[0m\u001b[0;36m46.78186771\u001b[0m\u001b[0;34m]\u001b[0m\u001b[0;34m,\u001b[0m\u001b[0mtiles\u001b[0m\u001b[0;34m=\u001b[0m\u001b[0;34m'Stamen Toner'\u001b[0m\u001b[0;34m,\u001b[0m\u001b[0mzoom_start\u001b[0m\u001b[0;34m=\u001b[0m\u001b[0;36m12\u001b[0m\u001b[0;34m)\u001b[0m\u001b[0;34m\u001b[0m\u001b[0;34m\u001b[0m\u001b[0m\n\u001b[1;32m      4\u001b[0m \u001b[0mcoordenadas\u001b[0m \u001b[0;34m=\u001b[0m \u001b[0;34m[\u001b[0m\u001b[0;34m]\u001b[0m\u001b[0;34m\u001b[0m\u001b[0;34m\u001b[0m\u001b[0m\n\u001b[1;32m      5\u001b[0m \u001b[0;34m\u001b[0m\u001b[0m\n",
            "\u001b[0;32m/usr/local/lib/python3.6/dist-packages/folium/plugins/__init__.py\u001b[0m in \u001b[0;36m<module>\u001b[0;34m()\u001b[0m\n\u001b[1;32m      9\u001b[0m \"\"\"\n\u001b[1;32m     10\u001b[0m \u001b[0;34m\u001b[0m\u001b[0m\n\u001b[0;32m---> 11\u001b[0;31m \u001b[0;32mfrom\u001b[0m \u001b[0mfolium\u001b[0m\u001b[0;34m.\u001b[0m\u001b[0mplugins\u001b[0m\u001b[0;34m.\u001b[0m\u001b[0mantpath\u001b[0m \u001b[0;32mimport\u001b[0m \u001b[0mAntPath\u001b[0m\u001b[0;34m\u001b[0m\u001b[0;34m\u001b[0m\u001b[0m\n\u001b[0m\u001b[1;32m     12\u001b[0m \u001b[0;32mfrom\u001b[0m \u001b[0mfolium\u001b[0m\u001b[0;34m.\u001b[0m\u001b[0mplugins\u001b[0m\u001b[0;34m.\u001b[0m\u001b[0mpolyline_offset\u001b[0m \u001b[0;32mimport\u001b[0m \u001b[0mPolyLineOffset\u001b[0m\u001b[0;34m\u001b[0m\u001b[0;34m\u001b[0m\u001b[0m\n\u001b[1;32m     13\u001b[0m \u001b[0;32mfrom\u001b[0m \u001b[0mfolium\u001b[0m\u001b[0;34m.\u001b[0m\u001b[0mplugins\u001b[0m\u001b[0;34m.\u001b[0m\u001b[0mbeautify_icon\u001b[0m \u001b[0;32mimport\u001b[0m \u001b[0mBeautifyIcon\u001b[0m\u001b[0;34m\u001b[0m\u001b[0;34m\u001b[0m\u001b[0m\n",
            "\u001b[0;32m/usr/local/lib/python3.6/dist-packages/folium/plugins/antpath.py\u001b[0m in \u001b[0;36m<module>\u001b[0;34m()\u001b[0m\n\u001b[1;32m      2\u001b[0m \u001b[0;34m\u001b[0m\u001b[0m\n\u001b[1;32m      3\u001b[0m \u001b[0;32mfrom\u001b[0m \u001b[0mfolium\u001b[0m\u001b[0;34m.\u001b[0m\u001b[0melements\u001b[0m \u001b[0;32mimport\u001b[0m \u001b[0mJSCSSMixin\u001b[0m\u001b[0;34m\u001b[0m\u001b[0;34m\u001b[0m\u001b[0m\n\u001b[0;32m----> 4\u001b[0;31m \u001b[0;32mfrom\u001b[0m \u001b[0mfolium\u001b[0m\u001b[0;34m.\u001b[0m\u001b[0mvector_layers\u001b[0m \u001b[0;32mimport\u001b[0m \u001b[0mpath_options\u001b[0m\u001b[0;34m,\u001b[0m \u001b[0mBaseMultiLocation\u001b[0m\u001b[0;34m\u001b[0m\u001b[0;34m\u001b[0m\u001b[0m\n\u001b[0m\u001b[1;32m      5\u001b[0m \u001b[0;34m\u001b[0m\u001b[0m\n\u001b[1;32m      6\u001b[0m \u001b[0;32mfrom\u001b[0m \u001b[0mjinja2\u001b[0m \u001b[0;32mimport\u001b[0m \u001b[0mTemplate\u001b[0m\u001b[0;34m\u001b[0m\u001b[0;34m\u001b[0m\u001b[0m\n",
            "\u001b[0;31mImportError\u001b[0m: cannot import name 'BaseMultiLocation'",
            "",
            "\u001b[0;31m---------------------------------------------------------------------------\u001b[0;32m\nNOTE: If your import is failing due to a missing package, you can\nmanually install dependencies using either !pip or !apt.\n\nTo view examples of installing some common dependencies, click the\n\"Open Examples\" button below.\n\u001b[0;31m---------------------------------------------------------------------------\u001b[0m\n"
          ]
        }
      ]
    }
  ]
}