{
  "nbformat": 4,
  "nbformat_minor": 0,
  "metadata": {
    "colab": {
      "name": "07-12 Crime_E2.ipynb",
      "provenance": [],
      "collapsed_sections": [],
      "include_colab_link": true
    },
    "kernelspec": {
      "display_name": "Python 3",
      "name": "python3"
    }
  },
  "cells": [
    {
      "cell_type": "markdown",
      "metadata": {
        "id": "view-in-github",
        "colab_type": "text"
      },
      "source": [
        "<a href=\"https://colab.research.google.com/github/debora28/pi-2020.2/blob/main/07_12_Crime_E2.ipynb\" target=\"_parent\"><img src=\"https://colab.research.google.com/assets/colab-badge.svg\" alt=\"Open In Colab\"/></a>"
      ]
    },
    {
      "cell_type": "markdown",
      "metadata": {
        "id": "i_AMA8MW2TgE"
      },
      "source": [
        "#**1. IMPORTS**"
      ]
    },
    {
      "cell_type": "code",
      "metadata": {
        "id": "6ajaPsiOufgm"
      },
      "source": [
        "import numpy as np\n",
        "import pandas as pd\n",
        "import matplotlib.pyplot as plt\n",
        "import seaborn as sns\n",
        "import os\n",
        "import folium\n",
        "from sklearn.metrics import accuracy_score\n",
        "from sklearn.model_selection import train_test_split\n",
        "from sklearn.tree import DecisionTreeClassifier"
      ],
      "execution_count": 231,
      "outputs": []
    },
    {
      "cell_type": "code",
      "metadata": {
        "id": "QmE7KtmleOdV"
      },
      "source": [
        "# Diretamente do GitHub (dataset 2014):\r\n",
        "url = 'https://raw.githubusercontent.com/debora28/pi-2020.2/main/2014-1-10mil.csv'\r\n",
        "data = pd.read_csv(url)"
      ],
      "execution_count": 232,
      "outputs": []
    },
    {
      "cell_type": "code",
      "metadata": {
        "id": "6QHpT864sUf2"
      },
      "source": [
        "# (dataset 2014 antigo):\r\n",
        "# url = 'https://raw.githubusercontent.com/debora28/pi-2020.2/main/2014-1-100mil.csv'\r\n",
        "# data = pd.read_csv(url)"
      ],
      "execution_count": 233,
      "outputs": []
    },
    {
      "cell_type": "code",
      "metadata": {
        "id": "Wx_ExULBskri"
      },
      "source": [
        "# data.to_csv('2014-1-100mil.csv', index= True)"
      ],
      "execution_count": 234,
      "outputs": []
    },
    {
      "cell_type": "markdown",
      "metadata": {
        "id": "Bdi65vns4GYs"
      },
      "source": [
        "Limpeza do dataset:"
      ]
    },
    {
      "cell_type": "code",
      "metadata": {
        "colab": {
          "base_uri": "https://localhost:8080/"
        },
        "id": "TAGDs3A1M8bt",
        "outputId": "a063054f-e864-46d7-83b9-7312152b5dd9"
      },
      "source": [
        "print(data.isnull().sum())\n",
        "print(data)"
      ],
      "execution_count": 235,
      "outputs": [
        {
          "output_type": "stream",
          "text": [
            "Unnamed: 0                   0\n",
            "NUM_BO                       0\n",
            "ANO_BO                       0\n",
            "ID_DELEGACIA                 0\n",
            "NOME_DEPARTAMENTO            0\n",
            "NOME_SECCIONAL               0\n",
            "DELEGACIA                    0\n",
            "NOME_DEPARTAMENTO_CIRC       0\n",
            "NOME_SECCIONAL_CIRC          0\n",
            "NOME_DELEGACIA_CIRC          0\n",
            "ANO                          0\n",
            "MES                          0\n",
            "DATA_OCORRENCIA_BO          87\n",
            "HORA_OCORRENCIA_BO        1040\n",
            "FLAG_STATUS                  0\n",
            "RUBRICA                      0\n",
            "DESDOBRAMENTO             9351\n",
            "CONDUTA                   4835\n",
            "LATITUDE                  1593\n",
            "LONGITUDE                 1593\n",
            "CIDADE                       0\n",
            "LOGRADOURO                 429\n",
            "NUMERO_LOGRADOURO         2467\n",
            "FLAG_STATUS.1                0\n",
            "DESCR_TIPO_PESSOA            0\n",
            "CONT_PESSOA                  0\n",
            "SEXO_PESSOA                  0\n",
            "IDADE_PESSOA              1902\n",
            "COR                       2372\n",
            "DESCR_PROFISSAO           3002\n",
            "DESCR_GRAU_INSTRUCAO      2832\n",
            "dtype: int64\n",
            "      Unnamed: 0  NUM_BO  ...   DESCR_PROFISSAO  DESCR_GRAU_INSTRUCAO\n",
            "0              0       1  ...               NaN                   NaN\n",
            "1              1       1  ...               NaN                   NaN\n",
            "2              2       1  ...    AJUDANTE GERAL       1 Grau completo\n",
            "3              3       1  ...     APOSENTADO(A)                   NaN\n",
            "4              4       1  ...   DESEMPREGADO(A)       2 Grau completo\n",
            "...          ...     ...  ...               ...                   ...\n",
            "9995        9995      57  ...               NaN                   NaN\n",
            "9996        9996      57  ...         MOTORISTA       2 Grau completo\n",
            "9997        9997      57  ...         ATENDENTE                   NaN\n",
            "9998        9998      57  ...       CONTADOR(A)     Superior completo\n",
            "9999        9999      57  ...  POLICIAL MILITAR       2 Grau completo\n",
            "\n",
            "[10000 rows x 31 columns]\n"
          ],
          "name": "stdout"
        }
      ]
    },
    {
      "cell_type": "code",
      "metadata": {
        "colab": {
          "base_uri": "https://localhost:8080/"
        },
        "id": "RJzpGPTmaCbd",
        "outputId": "0599c004-c43a-4e62-c938-5333f3cb30c1"
      },
      "source": [
        "data.shape"
      ],
      "execution_count": 236,
      "outputs": [
        {
          "output_type": "execute_result",
          "data": {
            "text/plain": [
              "(10000, 31)"
            ]
          },
          "metadata": {
            "tags": []
          },
          "execution_count": 236
        }
      ]
    },
    {
      "cell_type": "code",
      "metadata": {
        "colab": {
          "base_uri": "https://localhost:8080/"
        },
        "id": "nPJDJ7WKM8hQ",
        "outputId": "4fcc5646-bd73-4dd5-fc1f-7f75c7b869c9"
      },
      "source": [
        "print(data.info())"
      ],
      "execution_count": 237,
      "outputs": [
        {
          "output_type": "stream",
          "text": [
            "<class 'pandas.core.frame.DataFrame'>\n",
            "RangeIndex: 10000 entries, 0 to 9999\n",
            "Data columns (total 31 columns):\n",
            " #   Column                  Non-Null Count  Dtype  \n",
            "---  ------                  --------------  -----  \n",
            " 0   Unnamed: 0              10000 non-null  int64  \n",
            " 1   NUM_BO                  10000 non-null  int64  \n",
            " 2   ANO_BO                  10000 non-null  int64  \n",
            " 3   ID_DELEGACIA            10000 non-null  int64  \n",
            " 4   NOME_DEPARTAMENTO       10000 non-null  object \n",
            " 5   NOME_SECCIONAL          10000 non-null  object \n",
            " 6   DELEGACIA               10000 non-null  object \n",
            " 7   NOME_DEPARTAMENTO_CIRC  10000 non-null  object \n",
            " 8   NOME_SECCIONAL_CIRC     10000 non-null  object \n",
            " 9   NOME_DELEGACIA_CIRC     10000 non-null  object \n",
            " 10  ANO                     10000 non-null  int64  \n",
            " 11  MES                     10000 non-null  int64  \n",
            " 12  DATA_OCORRENCIA_BO      9913 non-null   object \n",
            " 13  HORA_OCORRENCIA_BO      8960 non-null   object \n",
            " 14  FLAG_STATUS             10000 non-null  object \n",
            " 15  RUBRICA                 10000 non-null  object \n",
            " 16  DESDOBRAMENTO           649 non-null    object \n",
            " 17  CONDUTA                 5165 non-null   object \n",
            " 18  LATITUDE                8407 non-null   object \n",
            " 19  LONGITUDE               8407 non-null   object \n",
            " 20  CIDADE                  10000 non-null  object \n",
            " 21  LOGRADOURO              9571 non-null   object \n",
            " 22  NUMERO_LOGRADOURO       7533 non-null   float64\n",
            " 23  FLAG_STATUS.1           10000 non-null  object \n",
            " 24  DESCR_TIPO_PESSOA       10000 non-null  object \n",
            " 25  CONT_PESSOA             10000 non-null  int64  \n",
            " 26  SEXO_PESSOA             10000 non-null  object \n",
            " 27  IDADE_PESSOA            8098 non-null   float64\n",
            " 28  COR                     7628 non-null   object \n",
            " 29  DESCR_PROFISSAO         6998 non-null   object \n",
            " 30  DESCR_GRAU_INSTRUCAO    7168 non-null   object \n",
            "dtypes: float64(2), int64(7), object(22)\n",
            "memory usage: 2.4+ MB\n",
            "None\n"
          ],
          "name": "stdout"
        }
      ]
    },
    {
      "cell_type": "code",
      "metadata": {
        "colab": {
          "base_uri": "https://localhost:8080/",
          "height": 408
        },
        "id": "ZHbA6vbaODrq",
        "outputId": "c760df6c-99cf-428a-f00d-6b1e7fdafc8f"
      },
      "source": [
        "data = data.drop(columns=['ID_DELEGACIA','NOME_DEPARTAMENTO', 'NOME_SECCIONAL','DELEGACIA','NOME_DEPARTAMENTO_CIRC','NOME_SECCIONAL_CIRC','FLAG_STATUS','DESDOBRAMENTO','NUMERO_LOGRADOURO','FLAG_STATUS.1'])\n",
        "data.to_csv('data_semDesdob.csv', index= False)\n",
        "data.head()"
      ],
      "execution_count": 286,
      "outputs": [
        {
          "output_type": "execute_result",
          "data": {
            "text/html": [
              "<div>\n",
              "<style scoped>\n",
              "    .dataframe tbody tr th:only-of-type {\n",
              "        vertical-align: middle;\n",
              "    }\n",
              "\n",
              "    .dataframe tbody tr th {\n",
              "        vertical-align: top;\n",
              "    }\n",
              "\n",
              "    .dataframe thead th {\n",
              "        text-align: right;\n",
              "    }\n",
              "</style>\n",
              "<table border=\"1\" class=\"dataframe\">\n",
              "  <thead>\n",
              "    <tr style=\"text-align: right;\">\n",
              "      <th></th>\n",
              "      <th>Unnamed: 0</th>\n",
              "      <th>NUM_BO</th>\n",
              "      <th>ANO_BO</th>\n",
              "      <th>NOME_DELEGACIA_CIRC</th>\n",
              "      <th>ANO</th>\n",
              "      <th>MES</th>\n",
              "      <th>DATA_OCORRENCIA_BO</th>\n",
              "      <th>HORA_OCORRENCIA_BO</th>\n",
              "      <th>RUBRICA</th>\n",
              "      <th>CONDUTA</th>\n",
              "      <th>LATITUDE</th>\n",
              "      <th>LONGITUDE</th>\n",
              "      <th>CIDADE</th>\n",
              "      <th>LOGRADOURO</th>\n",
              "      <th>DESCR_TIPO_PESSOA</th>\n",
              "      <th>CONT_PESSOA</th>\n",
              "      <th>SEXO_PESSOA</th>\n",
              "      <th>IDADE_PESSOA</th>\n",
              "      <th>COR</th>\n",
              "      <th>DESCR_PROFISSAO</th>\n",
              "      <th>DESCR_GRAU_INSTRUCAO</th>\n",
              "    </tr>\n",
              "  </thead>\n",
              "  <tbody>\n",
              "    <tr>\n",
              "      <th>0</th>\n",
              "      <td>0</td>\n",
              "      <td>1</td>\n",
              "      <td>2014</td>\n",
              "      <td>83 D.P. PARQUE BRISTOL</td>\n",
              "      <td>2014</td>\n",
              "      <td>1</td>\n",
              "      <td>02/01/2014</td>\n",
              "      <td>06:30</td>\n",
              "      <td>Roubo (art. 157)</td>\n",
              "      <td>VEICULO</td>\n",
              "      <td>-2.365.760.046</td>\n",
              "      <td>-4.661.717.673</td>\n",
              "      <td>S.PAULO</td>\n",
              "      <td>AV MIGUEL STEFANO</td>\n",
              "      <td>Autor</td>\n",
              "      <td>2</td>\n",
              "      <td>M</td>\n",
              "      <td>NaN</td>\n",
              "      <td>Preta</td>\n",
              "      <td>NaN</td>\n",
              "      <td>NaN</td>\n",
              "    </tr>\n",
              "    <tr>\n",
              "      <th>1</th>\n",
              "      <td>1</td>\n",
              "      <td>1</td>\n",
              "      <td>2014</td>\n",
              "      <td>100 D.P. JDIM HERCULANO</td>\n",
              "      <td>2014</td>\n",
              "      <td>1</td>\n",
              "      <td>02/01/2014</td>\n",
              "      <td>NaN</td>\n",
              "      <td>Roubo (art. 157)</td>\n",
              "      <td>TRANSEUNTE</td>\n",
              "      <td>-2.368.989.209</td>\n",
              "      <td>-4.677.386.022</td>\n",
              "      <td>S.PAULO</td>\n",
              "      <td>EST DO M BOI MIRIM</td>\n",
              "      <td>Vitima</td>\n",
              "      <td>1</td>\n",
              "      <td>F</td>\n",
              "      <td>39.0</td>\n",
              "      <td>Branca</td>\n",
              "      <td>NaN</td>\n",
              "      <td>NaN</td>\n",
              "    </tr>\n",
              "    <tr>\n",
              "      <th>2</th>\n",
              "      <td>2</td>\n",
              "      <td>1</td>\n",
              "      <td>2014</td>\n",
              "      <td>12 D.P. PARI</td>\n",
              "      <td>2014</td>\n",
              "      <td>2</td>\n",
              "      <td>22/02/2014</td>\n",
              "      <td>NaN</td>\n",
              "      <td>Furto (art. 155)</td>\n",
              "      <td>OUTROS</td>\n",
              "      <td>-2.352.095.371</td>\n",
              "      <td>-466.253.548</td>\n",
              "      <td>S.PAULO</td>\n",
              "      <td>PONTE CRUZEIRO DO SUL</td>\n",
              "      <td>Vitima</td>\n",
              "      <td>1</td>\n",
              "      <td>M</td>\n",
              "      <td>52.0</td>\n",
              "      <td>Parda</td>\n",
              "      <td>AJUDANTE GERAL</td>\n",
              "      <td>1 Grau completo</td>\n",
              "    </tr>\n",
              "    <tr>\n",
              "      <th>3</th>\n",
              "      <td>3</td>\n",
              "      <td>1</td>\n",
              "      <td>2014</td>\n",
              "      <td>06 D.P. SANTO ANDRE</td>\n",
              "      <td>2014</td>\n",
              "      <td>1</td>\n",
              "      <td>01/01/2014</td>\n",
              "      <td>01:00</td>\n",
              "      <td>Furto (art. 155)</td>\n",
              "      <td>VEICULO</td>\n",
              "      <td>-2.369.004.592</td>\n",
              "      <td>-4.651.597.554</td>\n",
              "      <td>S.ANDRE</td>\n",
              "      <td>AV AUREA</td>\n",
              "      <td>Curador</td>\n",
              "      <td>14</td>\n",
              "      <td>F</td>\n",
              "      <td>60.0</td>\n",
              "      <td>NaN</td>\n",
              "      <td>APOSENTADO(A)</td>\n",
              "      <td>NaN</td>\n",
              "    </tr>\n",
              "    <tr>\n",
              "      <th>4</th>\n",
              "      <td>4</td>\n",
              "      <td>1</td>\n",
              "      <td>2014</td>\n",
              "      <td>06 D.P. SANTO ANDRE</td>\n",
              "      <td>2014</td>\n",
              "      <td>1</td>\n",
              "      <td>01/01/2014</td>\n",
              "      <td>01:00</td>\n",
              "      <td>Furto (art. 155)</td>\n",
              "      <td>VEICULO</td>\n",
              "      <td>-2.369.004.592</td>\n",
              "      <td>-4.651.597.554</td>\n",
              "      <td>S.ANDRE</td>\n",
              "      <td>AV AUREA</td>\n",
              "      <td>Indiciado</td>\n",
              "      <td>3</td>\n",
              "      <td>M</td>\n",
              "      <td>26.0</td>\n",
              "      <td>Parda</td>\n",
              "      <td>DESEMPREGADO(A)</td>\n",
              "      <td>2 Grau completo</td>\n",
              "    </tr>\n",
              "  </tbody>\n",
              "</table>\n",
              "</div>"
            ],
            "text/plain": [
              "   Unnamed: 0  NUM_BO  ANO_BO  ...     COR  DESCR_PROFISSAO  DESCR_GRAU_INSTRUCAO\n",
              "0           0       1    2014  ...   Preta              NaN                   NaN\n",
              "1           1       1    2014  ...  Branca              NaN                   NaN\n",
              "2           2       1    2014  ...   Parda   AJUDANTE GERAL       1 Grau completo\n",
              "3           3       1    2014  ...     NaN    APOSENTADO(A)                   NaN\n",
              "4           4       1    2014  ...   Parda  DESEMPREGADO(A)       2 Grau completo\n",
              "\n",
              "[5 rows x 21 columns]"
            ]
          },
          "metadata": {
            "tags": []
          },
          "execution_count": 286
        }
      ]
    },
    {
      "cell_type": "code",
      "metadata": {
        "colab": {
          "base_uri": "https://localhost:8080/"
        },
        "id": "m7BqlhMMKOmd",
        "outputId": "4e5da0dc-7c6e-4c7c-ee05-2b5ca4edb9ed"
      },
      "source": [
        "data['CONDUTA'].value_counts()"
      ],
      "execution_count": 239,
      "outputs": [
        {
          "output_type": "execute_result",
          "data": {
            "text/plain": [
              "VEICULO                         1386\n",
              "TRANSEUNTE                      1369\n",
              "OUTROS                           681\n",
              "RESIDENCIA                       422\n",
              "INTERIOR DE VEICULO              354\n",
              "ESTABELECIMENTO COMERCIAL        326\n",
              "CARGA                            273\n",
              "INTERIOR ESTABELECIMENTO         112\n",
              "ESTABELECIMENTO BANCARIO          75\n",
              "ESTABELECIMENTO-OUTROS            62\n",
              "INTERIOR TRANSPORTE COLETIVO      46\n",
              "ESTABELECIMENTO ENSINO            37\n",
              "COLETIVO                          13\n",
              "CONDOMINIO RESIDENCIAL             7\n",
              "CONDOMINIO COMERCIAL               2\n",
              "Name: CONDUTA, dtype: int64"
            ]
          },
          "metadata": {
            "tags": []
          },
          "execution_count": 239
        }
      ]
    },
    {
      "cell_type": "code",
      "metadata": {
        "id": "I_h81za9LJ3i"
      },
      "source": [
        "data['CONDUTA'].fillna('VEICULO', inplace=True)"
      ],
      "execution_count": 240,
      "outputs": []
    },
    {
      "cell_type": "code",
      "metadata": {
        "id": "Gf6_QKdxL-_J",
        "colab": {
          "base_uri": "https://localhost:8080/"
        },
        "outputId": "747eea9f-4fb0-4943-e45b-1b2c08dac318"
      },
      "source": [
        "data['CONDUTA'].value_counts()"
      ],
      "execution_count": 241,
      "outputs": [
        {
          "output_type": "execute_result",
          "data": {
            "text/plain": [
              "VEICULO                         6221\n",
              "TRANSEUNTE                      1369\n",
              "OUTROS                           681\n",
              "RESIDENCIA                       422\n",
              "INTERIOR DE VEICULO              354\n",
              "ESTABELECIMENTO COMERCIAL        326\n",
              "CARGA                            273\n",
              "INTERIOR ESTABELECIMENTO         112\n",
              "ESTABELECIMENTO BANCARIO          75\n",
              "ESTABELECIMENTO-OUTROS            62\n",
              "INTERIOR TRANSPORTE COLETIVO      46\n",
              "ESTABELECIMENTO ENSINO            37\n",
              "COLETIVO                          13\n",
              "CONDOMINIO RESIDENCIAL             7\n",
              "CONDOMINIO COMERCIAL               2\n",
              "Name: CONDUTA, dtype: int64"
            ]
          },
          "metadata": {
            "tags": []
          },
          "execution_count": 241
        }
      ]
    },
    {
      "cell_type": "code",
      "metadata": {
        "colab": {
          "base_uri": "https://localhost:8080/"
        },
        "id": "stSP0L2kNEVR",
        "outputId": "a0b0b1fe-8631-4c09-d9db-2d81ae405ee3"
      },
      "source": [
        "data['LATITUDE'].value_counts()"
      ],
      "execution_count": 242,
      "outputs": [
        {
          "output_type": "execute_result",
          "data": {
            "text/plain": [
              "-2.371.286.115    48\n",
              "-2.364.027.263    23\n",
              "-2.352.519.435    23\n",
              "-2.355.850.851    22\n",
              "-2.347.103.556    22\n",
              "                  ..\n",
              "-2.362.600.459     1\n",
              "-2.366.441.651     1\n",
              "-2.378.440.456     1\n",
              "-2.369.057.317     1\n",
              "-2.359.093.471     1\n",
              "Name: LATITUDE, Length: 3439, dtype: int64"
            ]
          },
          "metadata": {
            "tags": []
          },
          "execution_count": 242
        }
      ]
    },
    {
      "cell_type": "code",
      "metadata": {
        "id": "gQ9Jc7iiNKIi"
      },
      "source": [
        "data['LATITUDE'].fillna('-23.71286115', inplace=True)"
      ],
      "execution_count": 243,
      "outputs": []
    },
    {
      "cell_type": "code",
      "metadata": {
        "colab": {
          "base_uri": "https://localhost:8080/"
        },
        "id": "cuk2YHzmIqMx",
        "outputId": "d3f2902d-0b0a-4881-b942-c3be886568bf"
      },
      "source": [
        "data['LATITUDE'].replace('Informacao restrita (art. 31 da LAI)', '-23.71286115')"
      ],
      "execution_count": 244,
      "outputs": [
        {
          "output_type": "execute_result",
          "data": {
            "text/plain": [
              "0       -2.365.760.046\n",
              "1       -2.368.989.209\n",
              "2       -2.352.095.371\n",
              "3       -2.369.004.592\n",
              "4       -2.369.004.592\n",
              "             ...      \n",
              "9995    -2.359.282.471\n",
              "9996    -2.368.735.677\n",
              "9997      -237.704.097\n",
              "9998    -2.358.106.758\n",
              "9999      -236.138.048\n",
              "Name: LATITUDE, Length: 10000, dtype: object"
            ]
          },
          "metadata": {
            "tags": []
          },
          "execution_count": 244
        }
      ]
    },
    {
      "cell_type": "code",
      "metadata": {
        "colab": {
          "base_uri": "https://localhost:8080/"
        },
        "id": "ax1K1pQ-J0lS",
        "outputId": "8cfdf075-7b6c-49c8-9e34-a3adb84b8452"
      },
      "source": [
        "data['LATITUDE'].replace('NULL', '-23.71286115')"
      ],
      "execution_count": 245,
      "outputs": [
        {
          "output_type": "execute_result",
          "data": {
            "text/plain": [
              "0       -2.365.760.046\n",
              "1       -2.368.989.209\n",
              "2       -2.352.095.371\n",
              "3       -2.369.004.592\n",
              "4       -2.369.004.592\n",
              "             ...      \n",
              "9995    -2.359.282.471\n",
              "9996    -2.368.735.677\n",
              "9997      -237.704.097\n",
              "9998    -2.358.106.758\n",
              "9999      -236.138.048\n",
              "Name: LATITUDE, Length: 10000, dtype: object"
            ]
          },
          "metadata": {
            "tags": []
          },
          "execution_count": 245
        }
      ]
    },
    {
      "cell_type": "code",
      "metadata": {
        "colab": {
          "base_uri": "https://localhost:8080/"
        },
        "id": "FT70q-jSOPDt",
        "outputId": "87a64eba-1872-4533-8e2e-df46731a3c91"
      },
      "source": [
        "data.info()"
      ],
      "execution_count": 246,
      "outputs": [
        {
          "output_type": "stream",
          "text": [
            "<class 'pandas.core.frame.DataFrame'>\n",
            "RangeIndex: 10000 entries, 0 to 9999\n",
            "Data columns (total 21 columns):\n",
            " #   Column                Non-Null Count  Dtype  \n",
            "---  ------                --------------  -----  \n",
            " 0   Unnamed: 0            10000 non-null  int64  \n",
            " 1   NUM_BO                10000 non-null  int64  \n",
            " 2   ANO_BO                10000 non-null  int64  \n",
            " 3   NOME_DELEGACIA_CIRC   10000 non-null  object \n",
            " 4   ANO                   10000 non-null  int64  \n",
            " 5   MES                   10000 non-null  int64  \n",
            " 6   DATA_OCORRENCIA_BO    9913 non-null   object \n",
            " 7   HORA_OCORRENCIA_BO    8960 non-null   object \n",
            " 8   RUBRICA               10000 non-null  object \n",
            " 9   CONDUTA               10000 non-null  object \n",
            " 10  LATITUDE              10000 non-null  object \n",
            " 11  LONGITUDE             8407 non-null   object \n",
            " 12  CIDADE                10000 non-null  object \n",
            " 13  LOGRADOURO            9571 non-null   object \n",
            " 14  DESCR_TIPO_PESSOA     10000 non-null  object \n",
            " 15  CONT_PESSOA           10000 non-null  int64  \n",
            " 16  SEXO_PESSOA           10000 non-null  object \n",
            " 17  IDADE_PESSOA          8098 non-null   float64\n",
            " 18  COR                   7628 non-null   object \n",
            " 19  DESCR_PROFISSAO       6998 non-null   object \n",
            " 20  DESCR_GRAU_INSTRUCAO  7168 non-null   object \n",
            "dtypes: float64(1), int64(6), object(14)\n",
            "memory usage: 1.6+ MB\n"
          ],
          "name": "stdout"
        }
      ]
    },
    {
      "cell_type": "code",
      "metadata": {
        "colab": {
          "base_uri": "https://localhost:8080/"
        },
        "id": "RWPBFDj4NPPd",
        "outputId": "73e5b8ae-b985-46ab-996c-eeee7f7145b1"
      },
      "source": [
        "data['LONGITUDE'].value_counts()"
      ],
      "execution_count": 247,
      "outputs": [
        {
          "output_type": "execute_result",
          "data": {
            "text/plain": [
              "-4.678.186.771    48\n",
              "-4.639.605.905    23\n",
              "-4.681.568.811    23\n",
              "-4.672.128.418    22\n",
              "-4.661.519.738    22\n",
              "                  ..\n",
              "-4.675.092.639     1\n",
              "-4.644.299.261     1\n",
              "-4.636.868.651     1\n",
              "-4.670.191.866     1\n",
              "-4.685.348.802     1\n",
              "Name: LONGITUDE, Length: 3439, dtype: int64"
            ]
          },
          "metadata": {
            "tags": []
          },
          "execution_count": 247
        }
      ]
    },
    {
      "cell_type": "code",
      "metadata": {
        "id": "2XHdogdRNPPj"
      },
      "source": [
        "data['LONGITUDE'].fillna('-46.78186771', inplace=True)"
      ],
      "execution_count": 248,
      "outputs": []
    },
    {
      "cell_type": "code",
      "metadata": {
        "colab": {
          "base_uri": "https://localhost:8080/"
        },
        "id": "sasZLvyTHd0w",
        "outputId": "b59811e2-09fb-4525-82ee-22bf0904b72a"
      },
      "source": [
        "data['LONGITUDE'].replace('Informacao restrita (art. 31 da LAI)', '-46.78186771')"
      ],
      "execution_count": 249,
      "outputs": [
        {
          "output_type": "execute_result",
          "data": {
            "text/plain": [
              "0       -4.661.717.673\n",
              "1       -4.677.386.022\n",
              "2         -466.253.548\n",
              "3       -4.651.597.554\n",
              "4       -4.651.597.554\n",
              "             ...      \n",
              "9995    -4.680.662.548\n",
              "9996    -4.666.987.176\n",
              "9997    -4.672.372.479\n",
              "9998    -4.675.421.897\n",
              "9999    -4.653.028.157\n",
              "Name: LONGITUDE, Length: 10000, dtype: object"
            ]
          },
          "metadata": {
            "tags": []
          },
          "execution_count": 249
        }
      ]
    },
    {
      "cell_type": "code",
      "metadata": {
        "colab": {
          "base_uri": "https://localhost:8080/"
        },
        "id": "Sg4N-elnJsFb",
        "outputId": "4feb6a90-a975-47cb-e86b-f0d823e7b68a"
      },
      "source": [
        "data['LONGITUDE'].replace('NULL', '-46.78186771')"
      ],
      "execution_count": 250,
      "outputs": [
        {
          "output_type": "execute_result",
          "data": {
            "text/plain": [
              "0       -4.661.717.673\n",
              "1       -4.677.386.022\n",
              "2         -466.253.548\n",
              "3       -4.651.597.554\n",
              "4       -4.651.597.554\n",
              "             ...      \n",
              "9995    -4.680.662.548\n",
              "9996    -4.666.987.176\n",
              "9997    -4.672.372.479\n",
              "9998    -4.675.421.897\n",
              "9999    -4.653.028.157\n",
              "Name: LONGITUDE, Length: 10000, dtype: object"
            ]
          },
          "metadata": {
            "tags": []
          },
          "execution_count": 250
        }
      ]
    },
    {
      "cell_type": "code",
      "metadata": {
        "colab": {
          "base_uri": "https://localhost:8080/"
        },
        "id": "sefSy5yfNPPo",
        "outputId": "cccd8898-1a52-4909-b5e1-ff1574f6cad1"
      },
      "source": [
        "data.info()"
      ],
      "execution_count": 251,
      "outputs": [
        {
          "output_type": "stream",
          "text": [
            "<class 'pandas.core.frame.DataFrame'>\n",
            "RangeIndex: 10000 entries, 0 to 9999\n",
            "Data columns (total 21 columns):\n",
            " #   Column                Non-Null Count  Dtype  \n",
            "---  ------                --------------  -----  \n",
            " 0   Unnamed: 0            10000 non-null  int64  \n",
            " 1   NUM_BO                10000 non-null  int64  \n",
            " 2   ANO_BO                10000 non-null  int64  \n",
            " 3   NOME_DELEGACIA_CIRC   10000 non-null  object \n",
            " 4   ANO                   10000 non-null  int64  \n",
            " 5   MES                   10000 non-null  int64  \n",
            " 6   DATA_OCORRENCIA_BO    9913 non-null   object \n",
            " 7   HORA_OCORRENCIA_BO    8960 non-null   object \n",
            " 8   RUBRICA               10000 non-null  object \n",
            " 9   CONDUTA               10000 non-null  object \n",
            " 10  LATITUDE              10000 non-null  object \n",
            " 11  LONGITUDE             10000 non-null  object \n",
            " 12  CIDADE                10000 non-null  object \n",
            " 13  LOGRADOURO            9571 non-null   object \n",
            " 14  DESCR_TIPO_PESSOA     10000 non-null  object \n",
            " 15  CONT_PESSOA           10000 non-null  int64  \n",
            " 16  SEXO_PESSOA           10000 non-null  object \n",
            " 17  IDADE_PESSOA          8098 non-null   float64\n",
            " 18  COR                   7628 non-null   object \n",
            " 19  DESCR_PROFISSAO       6998 non-null   object \n",
            " 20  DESCR_GRAU_INSTRUCAO  7168 non-null   object \n",
            "dtypes: float64(1), int64(6), object(14)\n",
            "memory usage: 1.6+ MB\n"
          ],
          "name": "stdout"
        }
      ]
    },
    {
      "cell_type": "code",
      "metadata": {
        "colab": {
          "base_uri": "https://localhost:8080/"
        },
        "id": "baHIVIEadWa1",
        "outputId": "f7d626b1-5539-497d-fa5f-8f344d73f5da"
      },
      "source": [
        "data['DATA_OCORRENCIA_BO'].value_counts()"
      ],
      "execution_count": 252,
      "outputs": [
        {
          "output_type": "execute_result",
          "data": {
            "text/plain": [
              "01/01/2014    2556\n",
              "02/01/2014    1443\n",
              "03/01/2014     911\n",
              "06/01/2014     550\n",
              "04/01/2014     415\n",
              "              ... \n",
              "23/05/2014       1\n",
              "15/02/2014       1\n",
              "04/05/2014       1\n",
              "22/03/2014       1\n",
              "03/05/2014       1\n",
              "Name: DATA_OCORRENCIA_BO, Length: 155, dtype: int64"
            ]
          },
          "metadata": {
            "tags": []
          },
          "execution_count": 252
        }
      ]
    },
    {
      "cell_type": "code",
      "metadata": {
        "id": "FQ5rJ4wrcugV"
      },
      "source": [
        "data['DATA_OCORRENCIA_BO'].fillna('01/01/2014', inplace=True)"
      ],
      "execution_count": 253,
      "outputs": []
    },
    {
      "cell_type": "code",
      "metadata": {
        "colab": {
          "base_uri": "https://localhost:8080/"
        },
        "id": "KqgfT9yMd01y",
        "outputId": "ceeee42f-ff0d-4fad-a869-a4f5d3e08e46"
      },
      "source": [
        "data['HORA_OCORRENCIA_BO'].value_counts()"
      ],
      "execution_count": 254,
      "outputs": [
        {
          "output_type": "execute_result",
          "data": {
            "text/plain": [
              "12:00    239\n",
              "15:00    218\n",
              "16:00    207\n",
              "14:00    204\n",
              "01:00    201\n",
              "        ... \n",
              "18:29      1\n",
              "15:06      1\n",
              "08:08      1\n",
              "15:33      1\n",
              "19:37      1\n",
              "Name: HORA_OCORRENCIA_BO, Length: 484, dtype: int64"
            ]
          },
          "metadata": {
            "tags": []
          },
          "execution_count": 254
        }
      ]
    },
    {
      "cell_type": "code",
      "metadata": {
        "id": "8Jt305cedmay"
      },
      "source": [
        "data['HORA_OCORRENCIA_BO'].fillna('12:00', inplace=True)"
      ],
      "execution_count": 255,
      "outputs": []
    },
    {
      "cell_type": "code",
      "metadata": {
        "id": "o_5t4vElcFUN"
      },
      "source": [
        "# data['somente Horas'] = pd.to_datetime(data['HORA_OCORRENCIA_BO'], format= '%H:%M.%f') \\\r\n",
        "                        # .apply(lambda x: x.strftime('%H:%M'))"
      ],
      "execution_count": 256,
      "outputs": []
    },
    {
      "cell_type": "code",
      "metadata": {
        "colab": {
          "base_uri": "https://localhost:8080/"
        },
        "id": "33zZOrUsnfOM",
        "outputId": "620763fd-bb30-4b24-a4ec-2a5ff98a34df"
      },
      "source": [
        "data['LOGRADOURO'].value_counts()"
      ],
      "execution_count": 257,
      "outputs": [
        {
          "output_type": "execute_result",
          "data": {
            "text/plain": [
              "AV SAPOPEMBA                65\n",
              "EST DO M BOI MIRIM          54\n",
              "AV DO ESTADO                39\n",
              "R APA                       35\n",
              "AV CELSO GARCIA             34\n",
              "                            ..\n",
              "R JOSE TIBURCIO DA CUNHA     1\n",
              "R GALENO DE CASTRO           1\n",
              "VIELA SANTA FRANCISCA        1\n",
              "R ALVARES CABRAL             1\n",
              "R ESTAMPA ESPORTIVA          1\n",
              "Name: LOGRADOURO, Length: 3186, dtype: int64"
            ]
          },
          "metadata": {
            "tags": []
          },
          "execution_count": 257
        }
      ]
    },
    {
      "cell_type": "code",
      "metadata": {
        "id": "-iqgzBOMeMfD"
      },
      "source": [
        "data['LOGRADOURO'].fillna('AV SAPOPEMBA', inplace=True)"
      ],
      "execution_count": 258,
      "outputs": []
    },
    {
      "cell_type": "code",
      "metadata": {
        "colab": {
          "base_uri": "https://localhost:8080/"
        },
        "id": "gpmNm6OJehSs",
        "outputId": "4fca4bea-099a-4497-df42-4b3c9d69b555"
      },
      "source": [
        "data['COR'].value_counts()"
      ],
      "execution_count": 259,
      "outputs": [
        {
          "output_type": "execute_result",
          "data": {
            "text/plain": [
              "Branca     4166\n",
              "Parda      2517\n",
              "Preta       575\n",
              "Outros      334\n",
              "Amarela      36\n",
              "Name: COR, dtype: int64"
            ]
          },
          "metadata": {
            "tags": []
          },
          "execution_count": 259
        }
      ]
    },
    {
      "cell_type": "code",
      "metadata": {
        "id": "jcRyXDBIecYq"
      },
      "source": [
        "data['COR'].fillna('Branca', inplace=True)"
      ],
      "execution_count": 260,
      "outputs": []
    },
    {
      "cell_type": "code",
      "metadata": {
        "colab": {
          "base_uri": "https://localhost:8080/"
        },
        "id": "lP6kluPue15W",
        "outputId": "6de42d56-e686-49d0-b48c-99ceee622872"
      },
      "source": [
        "data['DESCR_GRAU_INSTRUCAO'].value_counts()"
      ],
      "execution_count": 261,
      "outputs": [
        {
          "output_type": "execute_result",
          "data": {
            "text/plain": [
              "2 Grau completo        2780\n",
              "1 Grau completo        1882\n",
              "Superior completo      1310\n",
              "1 Grau incompleto       574\n",
              "Superior incompleto     321\n",
              "2 Grau incompleto       227\n",
              "Analfabeto               74\n",
              "Name: DESCR_GRAU_INSTRUCAO, dtype: int64"
            ]
          },
          "metadata": {
            "tags": []
          },
          "execution_count": 261
        }
      ]
    },
    {
      "cell_type": "code",
      "metadata": {
        "id": "TIU0z1h8e6q9"
      },
      "source": [
        "data['DESCR_GRAU_INSTRUCAO'].fillna('2 Grau completo', inplace=True)"
      ],
      "execution_count": 262,
      "outputs": []
    },
    {
      "cell_type": "code",
      "metadata": {
        "colab": {
          "base_uri": "https://localhost:8080/"
        },
        "id": "OQU9Cn8RehGG",
        "outputId": "0bb73ab6-d3fa-4c50-8109-b7ec88c8c923"
      },
      "source": [
        "data['IDADE_PESSOA'].value_counts()"
      ],
      "execution_count": 263,
      "outputs": [
        {
          "output_type": "execute_result",
          "data": {
            "text/plain": [
              "30.0    269\n",
              "26.0    260\n",
              "33.0    256\n",
              "28.0    245\n",
              "38.0    241\n",
              "       ... \n",
              "89.0      1\n",
              "81.0      1\n",
              "90.0      1\n",
              "88.0      1\n",
              "87.0      1\n",
              "Name: IDADE_PESSOA, Length: 92, dtype: int64"
            ]
          },
          "metadata": {
            "tags": []
          },
          "execution_count": 263
        }
      ]
    },
    {
      "cell_type": "code",
      "metadata": {
        "id": "VLr_9BNyebyY"
      },
      "source": [
        "data['IDADE_PESSOA'].fillna('30', inplace=True)"
      ],
      "execution_count": 264,
      "outputs": []
    },
    {
      "cell_type": "code",
      "metadata": {
        "colab": {
          "base_uri": "https://localhost:8080/"
        },
        "id": "oHp6qe45ehsk",
        "outputId": "98fbe558-c839-4b85-a0b1-522aa550950d"
      },
      "source": [
        "data['DESCR_PROFISSAO'].value_counts()"
      ],
      "execution_count": 265,
      "outputs": [
        {
          "output_type": "execute_result",
          "data": {
            "text/plain": [
              "POLICIAL MILITAR    827\n",
              "POLICIAL CIVIL      721\n",
              "ESTUDANTE           308\n",
              "MOTORISTA           300\n",
              "DESEMPREGADO        281\n",
              "                   ... \n",
              "MODELISTA             1\n",
              "JUIZ DE DIREITO       1\n",
              "AZULEJISTA            1\n",
              "ASSESSORISTA          1\n",
              "AGENTE DE SAUDE       1\n",
              "Name: DESCR_PROFISSAO, Length: 417, dtype: int64"
            ]
          },
          "metadata": {
            "tags": []
          },
          "execution_count": 265
        }
      ]
    },
    {
      "cell_type": "code",
      "metadata": {
        "id": "ZTvBNDr3efUL"
      },
      "source": [
        "data['DESCR_PROFISSAO'].fillna('POLICIAL MILITAR', inplace=True)"
      ],
      "execution_count": 266,
      "outputs": []
    },
    {
      "cell_type": "code",
      "metadata": {
        "colab": {
          "base_uri": "https://localhost:8080/"
        },
        "id": "YAZCNWRCSARl",
        "outputId": "67671c64-c120-4541-8586-0ab19561187a"
      },
      "source": [
        "print(data.isnull().any())\n",
        "print()"
      ],
      "execution_count": 267,
      "outputs": [
        {
          "output_type": "stream",
          "text": [
            "Unnamed: 0              False\n",
            "NUM_BO                  False\n",
            "ANO_BO                  False\n",
            "NOME_DELEGACIA_CIRC     False\n",
            "ANO                     False\n",
            "MES                     False\n",
            "DATA_OCORRENCIA_BO      False\n",
            "HORA_OCORRENCIA_BO      False\n",
            "RUBRICA                 False\n",
            "CONDUTA                 False\n",
            "LATITUDE                False\n",
            "LONGITUDE               False\n",
            "CIDADE                  False\n",
            "LOGRADOURO              False\n",
            "DESCR_TIPO_PESSOA       False\n",
            "CONT_PESSOA             False\n",
            "SEXO_PESSOA             False\n",
            "IDADE_PESSOA            False\n",
            "COR                     False\n",
            "DESCR_PROFISSAO         False\n",
            "DESCR_GRAU_INSTRUCAO    False\n",
            "dtype: bool\n",
            "\n"
          ],
          "name": "stdout"
        }
      ]
    },
    {
      "cell_type": "code",
      "metadata": {
        "colab": {
          "base_uri": "https://localhost:8080/",
          "height": 288
        },
        "id": "XiJ6s1sC-ZmS",
        "outputId": "eb77caac-3e91-4433-8c7b-3b414695aacf"
      },
      "source": [
        "data.describe()"
      ],
      "execution_count": 268,
      "outputs": [
        {
          "output_type": "execute_result",
          "data": {
            "text/html": [
              "<div>\n",
              "<style scoped>\n",
              "    .dataframe tbody tr th:only-of-type {\n",
              "        vertical-align: middle;\n",
              "    }\n",
              "\n",
              "    .dataframe tbody tr th {\n",
              "        vertical-align: top;\n",
              "    }\n",
              "\n",
              "    .dataframe thead th {\n",
              "        text-align: right;\n",
              "    }\n",
              "</style>\n",
              "<table border=\"1\" class=\"dataframe\">\n",
              "  <thead>\n",
              "    <tr style=\"text-align: right;\">\n",
              "      <th></th>\n",
              "      <th>Unnamed: 0</th>\n",
              "      <th>NUM_BO</th>\n",
              "      <th>ANO_BO</th>\n",
              "      <th>ANO</th>\n",
              "      <th>MES</th>\n",
              "      <th>CONT_PESSOA</th>\n",
              "    </tr>\n",
              "  </thead>\n",
              "  <tbody>\n",
              "    <tr>\n",
              "      <th>count</th>\n",
              "      <td>10000.00000</td>\n",
              "      <td>10000.000000</td>\n",
              "      <td>10000.000000</td>\n",
              "      <td>10000.0</td>\n",
              "      <td>10000.000000</td>\n",
              "      <td>10000.000000</td>\n",
              "    </tr>\n",
              "    <tr>\n",
              "      <th>mean</th>\n",
              "      <td>4999.50000</td>\n",
              "      <td>24.377100</td>\n",
              "      <td>2014.011400</td>\n",
              "      <td>2014.0</td>\n",
              "      <td>1.362000</td>\n",
              "      <td>2.625500</td>\n",
              "    </tr>\n",
              "    <tr>\n",
              "      <th>std</th>\n",
              "      <td>2886.89568</td>\n",
              "      <td>16.054192</td>\n",
              "      <td>0.112567</td>\n",
              "      <td>0.0</td>\n",
              "      <td>0.898909</td>\n",
              "      <td>1.934276</td>\n",
              "    </tr>\n",
              "    <tr>\n",
              "      <th>min</th>\n",
              "      <td>0.00000</td>\n",
              "      <td>1.000000</td>\n",
              "      <td>2014.000000</td>\n",
              "      <td>2014.0</td>\n",
              "      <td>1.000000</td>\n",
              "      <td>1.000000</td>\n",
              "    </tr>\n",
              "    <tr>\n",
              "      <th>25%</th>\n",
              "      <td>2499.75000</td>\n",
              "      <td>11.000000</td>\n",
              "      <td>2014.000000</td>\n",
              "      <td>2014.0</td>\n",
              "      <td>1.000000</td>\n",
              "      <td>1.000000</td>\n",
              "    </tr>\n",
              "    <tr>\n",
              "      <th>50%</th>\n",
              "      <td>4999.50000</td>\n",
              "      <td>21.000000</td>\n",
              "      <td>2014.000000</td>\n",
              "      <td>2014.0</td>\n",
              "      <td>1.000000</td>\n",
              "      <td>2.000000</td>\n",
              "    </tr>\n",
              "    <tr>\n",
              "      <th>75%</th>\n",
              "      <td>7499.25000</td>\n",
              "      <td>37.000000</td>\n",
              "      <td>2014.000000</td>\n",
              "      <td>2014.0</td>\n",
              "      <td>1.000000</td>\n",
              "      <td>3.000000</td>\n",
              "    </tr>\n",
              "    <tr>\n",
              "      <th>max</th>\n",
              "      <td>9999.00000</td>\n",
              "      <td>63.000000</td>\n",
              "      <td>2017.000000</td>\n",
              "      <td>2014.0</td>\n",
              "      <td>6.000000</td>\n",
              "      <td>17.000000</td>\n",
              "    </tr>\n",
              "  </tbody>\n",
              "</table>\n",
              "</div>"
            ],
            "text/plain": [
              "        Unnamed: 0        NUM_BO  ...           MES   CONT_PESSOA\n",
              "count  10000.00000  10000.000000  ...  10000.000000  10000.000000\n",
              "mean    4999.50000     24.377100  ...      1.362000      2.625500\n",
              "std     2886.89568     16.054192  ...      0.898909      1.934276\n",
              "min        0.00000      1.000000  ...      1.000000      1.000000\n",
              "25%     2499.75000     11.000000  ...      1.000000      1.000000\n",
              "50%     4999.50000     21.000000  ...      1.000000      2.000000\n",
              "75%     7499.25000     37.000000  ...      1.000000      3.000000\n",
              "max     9999.00000     63.000000  ...      6.000000     17.000000\n",
              "\n",
              "[8 rows x 6 columns]"
            ]
          },
          "metadata": {
            "tags": []
          },
          "execution_count": 268
        }
      ]
    },
    {
      "cell_type": "code",
      "metadata": {
        "colab": {
          "base_uri": "https://localhost:8080/"
        },
        "id": "XfXy13dLqmDg",
        "outputId": "e6168ede-d850-4902-8b5c-4327809172e4"
      },
      "source": [
        "data['MES'].value_counts()"
      ],
      "execution_count": 269,
      "outputs": [
        {
          "output_type": "execute_result",
          "data": {
            "text/plain": [
              "1    8126\n",
              "2     904\n",
              "3     481\n",
              "4     278\n",
              "5     135\n",
              "6      76\n",
              "Name: MES, dtype: int64"
            ]
          },
          "metadata": {
            "tags": []
          },
          "execution_count": 269
        }
      ]
    },
    {
      "cell_type": "code",
      "metadata": {
        "id": "fzoDAeLb7zEm"
      },
      "source": [
        "mes = data[\"MES\"]\n",
        "delito = data[\"RUBRICA\"]\n"
      ],
      "execution_count": 270,
      "outputs": []
    },
    {
      "cell_type": "code",
      "metadata": {
        "colab": {
          "base_uri": "https://localhost:8080/",
          "height": 603
        },
        "id": "MmrR59mTAxyJ",
        "outputId": "9ecb591c-7f88-44f0-e4e3-cdb72ab2f234"
      },
      "source": [
        "plt.style.use('dark_background')\n",
        "plt.figure(figsize=(20,10))\n",
        "plt.hist(mes, bins=40, color = \"skyblue\", ec=\"darkblue\")\n",
        "plt.title('Frequência de Crimes por Mês')\n",
        "plt.ylabel('Número de Crimes')\n",
        "plt.xlabel('Mês/2016')\n",
        "plt.rcParams.update({'font.size': 20})\n",
        "plt.show()"
      ],
      "execution_count": 271,
      "outputs": [
        {
          "output_type": "display_data",
          "data": {
            "image/png": "[encoded data removed]",
            "text/plain": [
              "<Figure size 1440x720 with 1 Axes>"
            ]
          },
          "metadata": {
            "tags": []
          }
        }
      ]
    },
    {
      "cell_type": "code",
      "metadata": {
        "colab": {
          "base_uri": "https://localhost:8080/"
        },
        "id": "hb0sZAOCzMjm",
        "outputId": "012f6238-3dd3-4661-ab98-802d241728af"
      },
      "source": [
        "data['RUBRICA'].value_counts()"
      ],
      "execution_count": 272,
      "outputs": [
        {
          "output_type": "execute_result",
          "data": {
            "text/plain": [
              "Roubo (art. 157)                                                     3494\n",
              "Lesao corporal (art. 129)                                            1310\n",
              "Drogas sem autorizacao ou em desacordo (Art.33 caput)                1175\n",
              "Furto (art. 155)                                                     1003\n",
              "Furto qualificado (art. 155 4o.)                                      607\n",
              "Lesao corporal culposa na direcao de veiculo automotor (Art. 303)     596\n",
              "A.I.-Drogas sem autorizacao ou em desacordo (Art.33 caput)            519\n",
              "Lesao corporal (art 129_9)                                            477\n",
              "Homicidio simples (art. 121)                                          271\n",
              "A.I.-Roubo (art. 157)                                                 136\n",
              "Estupro de vulneravel (art.217-A)                                      98\n",
              "Homicidio qualificado (art. 121 2o.)                                   96\n",
              "Estupro (art.213)                                                      50\n",
              "Lesao corporal culposa (art. 129. 6o.)                                 41\n",
              "A.I.-Lesao corporal (art. 129)                                         39\n",
              "A.I.-Furto qualificado (art. 155 4o.)                                  26\n",
              "Homicidio culposo na direcao de veiculo automotor (Art. 302)           22\n",
              "A.I.-Homicidio simples (art. 121)                                       8\n",
              "A.I.-Estupro de vulneravel (art.217-A)                                  5\n",
              "A.I.-Furto (art. 155)                                                   5\n",
              "Lesao corporal seguida de morte (art. 129 3o.)                          4\n",
              "Lesao corporal de natureza GRAVE (art. 129 1o.)                         4\n",
              "A.I.-Lesao corporal culposa (art. 129. 6o.)                             4\n",
              "Furto de coisa comum (art. 156)                                         4\n",
              "A.I.-Lesao corporal (art 129_9)                                         3\n",
              "Homicidio culposo (art. 121 3o.)                                        3\n",
              "Name: RUBRICA, dtype: int64"
            ]
          },
          "metadata": {
            "tags": []
          },
          "execution_count": 272
        }
      ]
    },
    {
      "cell_type": "code",
      "metadata": {
        "colab": {
          "base_uri": "https://localhost:8080/",
          "height": 443
        },
        "id": "TiuR6AWvmEa9",
        "outputId": "56ad4e66-6fa2-4f08-aa4f-8af5d8d2e3ed"
      },
      "source": [
        "plt.style.use('dark_background')\n",
        "plt.figure(figsize=(15,9))\n",
        "plt.xlabel('Número de Crimes')\n",
        "data['RUBRICA'].value_counts().plot(kind='barh', title='Frequência de crimes por tipo')\n",
        "plt.show()\n"
      ],
      "execution_count": 273,
      "outputs": [
        {
          "output_type": "display_data",
          "data": {
            "image/png": "[encoded data removed]",
            "text/plain": [
              "<Figure size 1080x648 with 1 Axes>"
            ]
          },
          "metadata": {
            "tags": []
          }
        }
      ]
    },
    {
      "cell_type": "code",
      "metadata": {
        "id": "QT6z8m1EEgA6"
      },
      "source": [
        "# novas_colunas = pd.get_dummies(data['RUBRICA']) \n",
        "# data = pd.concat([data,novas_colunas], axis=1) \n",
        "# data.head(2)"
      ],
      "execution_count": 274,
      "outputs": []
    },
    {
      "cell_type": "code",
      "metadata": {
        "colab": {
          "base_uri": "https://localhost:8080/"
        },
        "id": "7fJ47uqNza-z",
        "outputId": "8f8741a5-ae50-4224-b760-3f4542053a77"
      },
      "source": [
        "import os\r\n",
        "import folium\r\n",
        "import pandas as pd\r\n",
        "print(folium.__version__)"
      ],
      "execution_count": 275,
      "outputs": [
        {
          "output_type": "stream",
          "text": [
            "0.8.3\n"
          ],
          "name": "stdout"
        }
      ]
    },
    {
      "cell_type": "code",
      "metadata": {
        "colab": {
          "base_uri": "https://localhost:8080/"
        },
        "id": "akmmBgMW-YQv",
        "outputId": "60ba5641-a610-4eec-ad21-0314f3ec75ee"
      },
      "source": [
        "!pip install git+https://github.com/python-visualization/folium"
      ],
      "execution_count": 276,
      "outputs": [
        {
          "output_type": "stream",
          "text": [
            "Collecting git+https://github.com/python-visualization/folium\n",
            "  Cloning https://github.com/python-visualization/folium to /tmp/pip-req-build-jzw5fy3f\n",
            "  Running command git clone -q https://github.com/python-visualization/folium /tmp/pip-req-build-jzw5fy3f\n",
            "Requirement already satisfied (use --upgrade to upgrade): folium==0.0.0 from git+https://github.com/python-visualization/folium in /usr/local/lib/python3.6/dist-packages\n",
            "Requirement already satisfied: branca>=0.3.0 in /usr/local/lib/python3.6/dist-packages (from folium==0.0.0) (0.4.1)\n",
            "Requirement already satisfied: jinja2>=2.9 in /usr/local/lib/python3.6/dist-packages (from folium==0.0.0) (2.11.2)\n",
            "Requirement already satisfied: numpy in /usr/local/lib/python3.6/dist-packages (from folium==0.0.0) (1.18.5)\n",
            "Requirement already satisfied: requests in /usr/local/lib/python3.6/dist-packages (from folium==0.0.0) (2.23.0)\n",
            "Requirement already satisfied: MarkupSafe>=0.23 in /usr/local/lib/python3.6/dist-packages (from jinja2>=2.9->folium==0.0.0) (1.1.1)\n",
            "Requirement already satisfied: urllib3!=1.25.0,!=1.25.1,<1.26,>=1.21.1 in /usr/local/lib/python3.6/dist-packages (from requests->folium==0.0.0) (1.24.3)\n",
            "Requirement already satisfied: idna<3,>=2.5 in /usr/local/lib/python3.6/dist-packages (from requests->folium==0.0.0) (2.10)\n",
            "Requirement already satisfied: chardet<4,>=3.0.2 in /usr/local/lib/python3.6/dist-packages (from requests->folium==0.0.0) (3.0.4)\n",
            "Requirement already satisfied: certifi>=2017.4.17 in /usr/local/lib/python3.6/dist-packages (from requests->folium==0.0.0) (2020.12.5)\n",
            "Building wheels for collected packages: folium\n",
            "  Building wheel for folium (setup.py) ... \u001b[?25l\u001b[?25hdone\n",
            "  Created wheel for folium: filename=folium-0.0.0-py2.py3-none-any.whl size=94062 sha256=5ed359c3445a9d0d493a1ee74b3ba547bdab79ca36ea1b4152f9d42a23cdc145\n",
            "  Stored in directory: /tmp/pip-ephem-wheel-cache-4gqs_r9_/wheels/1e/e1/75/ecbc91fd5dd5d90befb0b533bf7492d38acffa033310731862\n",
            "Successfully built folium\n"
          ],
          "name": "stdout"
        }
      ]
    },
    {
      "cell_type": "code",
      "metadata": {
        "id": "cc402euqDnM1"
      },
      "source": [
        "# !pip install folium"
      ],
      "execution_count": 277,
      "outputs": []
    },
    {
      "cell_type": "code",
      "metadata": {
        "id": "zlwBxzYKoiCg"
      },
      "source": [
        "# from folium import plugins\n",
        "\n",
        "# mapa = folium.Map(location=[-23.71286115, -46.78186771],tiles='Stamen Toner',zoom_start=12)\n",
        "# coordenadas = []\n",
        "\n",
        "# lat = data['LATITUDE'][:1000].values\n",
        "# long = data['LONGITUDE'][:1000].values\n",
        "\n",
        "# for la,lo in zip(lat,long):\n",
        "#   coordenadas.append([la,lo])\n",
        "\n",
        "# mapa.add_child(plugins.HeatMap(coordenadas))\n",
        "# mapa"
      ],
      "execution_count": 278,
      "outputs": []
    },
    {
      "cell_type": "markdown",
      "metadata": {
        "id": "MdabeWGW2cWG"
      },
      "source": [
        "#**2. SEPARAR A VARIÁVEL ALVO**"
      ]
    },
    {
      "cell_type": "code",
      "metadata": {
        "id": "i3l-SmCeZdr3"
      },
      "source": [
        "x = data[['CONDUTA','HORA_OCORRENCIA_BO', 'LOGRADOURO', 'SEXO_PESSOA', 'IDADE_PESSOA', 'COR', 'DESCR_PROFISSAO']].copy()\r\n",
        "y = data[['RUBRICA']].copy()"
      ],
      "execution_count": 288,
      "outputs": []
    },
    {
      "cell_type": "markdown",
      "metadata": {
        "id": "S8rZrWYt3NZl"
      },
      "source": [
        "#**3. DIVIDIR TESTE E TREINAMENTO**"
      ]
    },
    {
      "cell_type": "code",
      "metadata": {
        "id": "TVDG-ZQr1_ya"
      },
      "source": [
        "x_train, x_test, y_train, y_test = train_test_split(x, y, test_size=0.33, random_state=500)"
      ],
      "execution_count": 289,
      "outputs": []
    },
    {
      "cell_type": "markdown",
      "metadata": {
        "id": "wVDYGO3j3Yus"
      },
      "source": [
        "#**4. CRIAR MODELO DE ML**"
      ]
    },
    {
      "cell_type": "code",
      "metadata": {
        "id": "zvHOjLQo2CSf",
        "colab": {
          "base_uri": "https://localhost:8080/",
          "height": 340
        },
        "outputId": "887bfc84-6573-40bc-a369-2be7b21d4a48"
      },
      "source": [
        "tipos_crimes_classifier = DecisionTreeClassifier(max_leaf_nodes=10000, random_state=1)\r\n",
        "tipos_crimes_classifier.fit(x_train, y_train)"
      ],
      "execution_count": 291,
      "outputs": [
        {
          "output_type": "error",
          "ename": "ValueError",
          "evalue": "ignored",
          "traceback": [
            "\u001b[0;31m---------------------------------------------------------------------------\u001b[0m",
            "\u001b[0;31mValueError\u001b[0m                                Traceback (most recent call last)",
            "\u001b[0;32m<ipython-input-291-12f6f134c064>\u001b[0m in \u001b[0;36m<module>\u001b[0;34m()\u001b[0m\n\u001b[1;32m      1\u001b[0m \u001b[0mtipos_crimes_classifier\u001b[0m \u001b[0;34m=\u001b[0m \u001b[0mDecisionTreeClassifier\u001b[0m\u001b[0;34m(\u001b[0m\u001b[0mmax_leaf_nodes\u001b[0m\u001b[0;34m=\u001b[0m\u001b[0;36m10000\u001b[0m\u001b[0;34m,\u001b[0m \u001b[0mrandom_state\u001b[0m\u001b[0;34m=\u001b[0m\u001b[0;36m1\u001b[0m\u001b[0;34m)\u001b[0m\u001b[0;34m\u001b[0m\u001b[0;34m\u001b[0m\u001b[0m\n\u001b[0;32m----> 2\u001b[0;31m \u001b[0mtipos_crimes_classifier\u001b[0m\u001b[0;34m.\u001b[0m\u001b[0mfit\u001b[0m\u001b[0;34m(\u001b[0m\u001b[0mx_train\u001b[0m\u001b[0;34m,\u001b[0m \u001b[0my_train\u001b[0m\u001b[0;34m)\u001b[0m\u001b[0;34m\u001b[0m\u001b[0;34m\u001b[0m\u001b[0m\n\u001b[0m",
            "\u001b[0;32m/usr/local/lib/python3.6/dist-packages/sklearn/tree/_classes.py\u001b[0m in \u001b[0;36mfit\u001b[0;34m(self, X, y, sample_weight, check_input, X_idx_sorted)\u001b[0m\n\u001b[1;32m    875\u001b[0m             \u001b[0msample_weight\u001b[0m\u001b[0;34m=\u001b[0m\u001b[0msample_weight\u001b[0m\u001b[0;34m,\u001b[0m\u001b[0;34m\u001b[0m\u001b[0;34m\u001b[0m\u001b[0m\n\u001b[1;32m    876\u001b[0m             \u001b[0mcheck_input\u001b[0m\u001b[0;34m=\u001b[0m\u001b[0mcheck_input\u001b[0m\u001b[0;34m,\u001b[0m\u001b[0;34m\u001b[0m\u001b[0;34m\u001b[0m\u001b[0m\n\u001b[0;32m--> 877\u001b[0;31m             X_idx_sorted=X_idx_sorted)\n\u001b[0m\u001b[1;32m    878\u001b[0m         \u001b[0;32mreturn\u001b[0m \u001b[0mself\u001b[0m\u001b[0;34m\u001b[0m\u001b[0;34m\u001b[0m\u001b[0m\n\u001b[1;32m    879\u001b[0m \u001b[0;34m\u001b[0m\u001b[0m\n",
            "\u001b[0;32m/usr/local/lib/python3.6/dist-packages/sklearn/tree/_classes.py\u001b[0m in \u001b[0;36mfit\u001b[0;34m(self, X, y, sample_weight, check_input, X_idx_sorted)\u001b[0m\n\u001b[1;32m    147\u001b[0m \u001b[0;34m\u001b[0m\u001b[0m\n\u001b[1;32m    148\u001b[0m         \u001b[0;32mif\u001b[0m \u001b[0mcheck_input\u001b[0m\u001b[0;34m:\u001b[0m\u001b[0;34m\u001b[0m\u001b[0;34m\u001b[0m\u001b[0m\n\u001b[0;32m--> 149\u001b[0;31m             \u001b[0mX\u001b[0m \u001b[0;34m=\u001b[0m \u001b[0mcheck_array\u001b[0m\u001b[0;34m(\u001b[0m\u001b[0mX\u001b[0m\u001b[0;34m,\u001b[0m \u001b[0mdtype\u001b[0m\u001b[0;34m=\u001b[0m\u001b[0mDTYPE\u001b[0m\u001b[0;34m,\u001b[0m \u001b[0maccept_sparse\u001b[0m\u001b[0;34m=\u001b[0m\u001b[0;34m\"csc\"\u001b[0m\u001b[0;34m)\u001b[0m\u001b[0;34m\u001b[0m\u001b[0;34m\u001b[0m\u001b[0m\n\u001b[0m\u001b[1;32m    150\u001b[0m             \u001b[0my\u001b[0m \u001b[0;34m=\u001b[0m \u001b[0mcheck_array\u001b[0m\u001b[0;34m(\u001b[0m\u001b[0my\u001b[0m\u001b[0;34m,\u001b[0m \u001b[0mensure_2d\u001b[0m\u001b[0;34m=\u001b[0m\u001b[0;32mFalse\u001b[0m\u001b[0;34m,\u001b[0m \u001b[0mdtype\u001b[0m\u001b[0;34m=\u001b[0m\u001b[0;32mNone\u001b[0m\u001b[0;34m)\u001b[0m\u001b[0;34m\u001b[0m\u001b[0;34m\u001b[0m\u001b[0m\n\u001b[1;32m    151\u001b[0m             \u001b[0;32mif\u001b[0m \u001b[0missparse\u001b[0m\u001b[0;34m(\u001b[0m\u001b[0mX\u001b[0m\u001b[0;34m)\u001b[0m\u001b[0;34m:\u001b[0m\u001b[0;34m\u001b[0m\u001b[0;34m\u001b[0m\u001b[0m\n",
            "\u001b[0;32m/usr/local/lib/python3.6/dist-packages/sklearn/utils/validation.py\u001b[0m in \u001b[0;36mcheck_array\u001b[0;34m(array, accept_sparse, accept_large_sparse, dtype, order, copy, force_all_finite, ensure_2d, allow_nd, ensure_min_samples, ensure_min_features, warn_on_dtype, estimator)\u001b[0m\n\u001b[1;32m    529\u001b[0m                     \u001b[0marray\u001b[0m \u001b[0;34m=\u001b[0m \u001b[0marray\u001b[0m\u001b[0;34m.\u001b[0m\u001b[0mastype\u001b[0m\u001b[0;34m(\u001b[0m\u001b[0mdtype\u001b[0m\u001b[0;34m,\u001b[0m \u001b[0mcasting\u001b[0m\u001b[0;34m=\u001b[0m\u001b[0;34m\"unsafe\"\u001b[0m\u001b[0;34m,\u001b[0m \u001b[0mcopy\u001b[0m\u001b[0;34m=\u001b[0m\u001b[0;32mFalse\u001b[0m\u001b[0;34m)\u001b[0m\u001b[0;34m\u001b[0m\u001b[0;34m\u001b[0m\u001b[0m\n\u001b[1;32m    530\u001b[0m                 \u001b[0;32melse\u001b[0m\u001b[0;34m:\u001b[0m\u001b[0;34m\u001b[0m\u001b[0;34m\u001b[0m\u001b[0m\n\u001b[0;32m--> 531\u001b[0;31m                     \u001b[0marray\u001b[0m \u001b[0;34m=\u001b[0m \u001b[0mnp\u001b[0m\u001b[0;34m.\u001b[0m\u001b[0masarray\u001b[0m\u001b[0;34m(\u001b[0m\u001b[0marray\u001b[0m\u001b[0;34m,\u001b[0m \u001b[0morder\u001b[0m\u001b[0;34m=\u001b[0m\u001b[0morder\u001b[0m\u001b[0;34m,\u001b[0m \u001b[0mdtype\u001b[0m\u001b[0;34m=\u001b[0m\u001b[0mdtype\u001b[0m\u001b[0;34m)\u001b[0m\u001b[0;34m\u001b[0m\u001b[0;34m\u001b[0m\u001b[0m\n\u001b[0m\u001b[1;32m    532\u001b[0m             \u001b[0;32mexcept\u001b[0m \u001b[0mComplexWarning\u001b[0m\u001b[0;34m:\u001b[0m\u001b[0;34m\u001b[0m\u001b[0;34m\u001b[0m\u001b[0m\n\u001b[1;32m    533\u001b[0m                 raise ValueError(\"Complex data not supported\\n\"\n",
            "\u001b[0;32m/usr/local/lib/python3.6/dist-packages/numpy/core/_asarray.py\u001b[0m in \u001b[0;36masarray\u001b[0;34m(a, dtype, order)\u001b[0m\n\u001b[1;32m     83\u001b[0m \u001b[0;34m\u001b[0m\u001b[0m\n\u001b[1;32m     84\u001b[0m     \"\"\"\n\u001b[0;32m---> 85\u001b[0;31m     \u001b[0;32mreturn\u001b[0m \u001b[0marray\u001b[0m\u001b[0;34m(\u001b[0m\u001b[0ma\u001b[0m\u001b[0;34m,\u001b[0m \u001b[0mdtype\u001b[0m\u001b[0;34m,\u001b[0m \u001b[0mcopy\u001b[0m\u001b[0;34m=\u001b[0m\u001b[0;32mFalse\u001b[0m\u001b[0;34m,\u001b[0m \u001b[0morder\u001b[0m\u001b[0;34m=\u001b[0m\u001b[0morder\u001b[0m\u001b[0;34m)\u001b[0m\u001b[0;34m\u001b[0m\u001b[0;34m\u001b[0m\u001b[0m\n\u001b[0m\u001b[1;32m     86\u001b[0m \u001b[0;34m\u001b[0m\u001b[0m\n\u001b[1;32m     87\u001b[0m \u001b[0;34m\u001b[0m\u001b[0m\n",
            "\u001b[0;32m/usr/local/lib/python3.6/dist-packages/pandas/core/generic.py\u001b[0m in \u001b[0;36m__array__\u001b[0;34m(self, dtype)\u001b[0m\n\u001b[1;32m   1779\u001b[0m \u001b[0;34m\u001b[0m\u001b[0m\n\u001b[1;32m   1780\u001b[0m     \u001b[0;32mdef\u001b[0m \u001b[0m__array__\u001b[0m\u001b[0;34m(\u001b[0m\u001b[0mself\u001b[0m\u001b[0;34m,\u001b[0m \u001b[0mdtype\u001b[0m\u001b[0;34m=\u001b[0m\u001b[0;32mNone\u001b[0m\u001b[0;34m)\u001b[0m \u001b[0;34m->\u001b[0m \u001b[0mnp\u001b[0m\u001b[0;34m.\u001b[0m\u001b[0mndarray\u001b[0m\u001b[0;34m:\u001b[0m\u001b[0;34m\u001b[0m\u001b[0;34m\u001b[0m\u001b[0m\n\u001b[0;32m-> 1781\u001b[0;31m         \u001b[0;32mreturn\u001b[0m \u001b[0mnp\u001b[0m\u001b[0;34m.\u001b[0m\u001b[0masarray\u001b[0m\u001b[0;34m(\u001b[0m\u001b[0mself\u001b[0m\u001b[0;34m.\u001b[0m\u001b[0m_values\u001b[0m\u001b[0;34m,\u001b[0m \u001b[0mdtype\u001b[0m\u001b[0;34m=\u001b[0m\u001b[0mdtype\u001b[0m\u001b[0;34m)\u001b[0m\u001b[0;34m\u001b[0m\u001b[0;34m\u001b[0m\u001b[0m\n\u001b[0m\u001b[1;32m   1782\u001b[0m \u001b[0;34m\u001b[0m\u001b[0m\n\u001b[1;32m   1783\u001b[0m     \u001b[0;32mdef\u001b[0m \u001b[0m__array_wrap__\u001b[0m\u001b[0;34m(\u001b[0m\u001b[0mself\u001b[0m\u001b[0;34m,\u001b[0m \u001b[0mresult\u001b[0m\u001b[0;34m,\u001b[0m \u001b[0mcontext\u001b[0m\u001b[0;34m=\u001b[0m\u001b[0;32mNone\u001b[0m\u001b[0;34m)\u001b[0m\u001b[0;34m:\u001b[0m\u001b[0;34m\u001b[0m\u001b[0;34m\u001b[0m\u001b[0m\n",
            "\u001b[0;32m/usr/local/lib/python3.6/dist-packages/numpy/core/_asarray.py\u001b[0m in \u001b[0;36masarray\u001b[0;34m(a, dtype, order)\u001b[0m\n\u001b[1;32m     83\u001b[0m \u001b[0;34m\u001b[0m\u001b[0m\n\u001b[1;32m     84\u001b[0m     \"\"\"\n\u001b[0;32m---> 85\u001b[0;31m     \u001b[0;32mreturn\u001b[0m \u001b[0marray\u001b[0m\u001b[0;34m(\u001b[0m\u001b[0ma\u001b[0m\u001b[0;34m,\u001b[0m \u001b[0mdtype\u001b[0m\u001b[0;34m,\u001b[0m \u001b[0mcopy\u001b[0m\u001b[0;34m=\u001b[0m\u001b[0;32mFalse\u001b[0m\u001b[0;34m,\u001b[0m \u001b[0morder\u001b[0m\u001b[0;34m=\u001b[0m\u001b[0morder\u001b[0m\u001b[0;34m)\u001b[0m\u001b[0;34m\u001b[0m\u001b[0;34m\u001b[0m\u001b[0m\n\u001b[0m\u001b[1;32m     86\u001b[0m \u001b[0;34m\u001b[0m\u001b[0m\n\u001b[1;32m     87\u001b[0m \u001b[0;34m\u001b[0m\u001b[0m\n",
            "\u001b[0;31mValueError\u001b[0m: could not convert string to float: 'TRANSEUNTE'"
          ]
        }
      ]
    },
    {
      "cell_type": "code",
      "metadata": {
        "id": "z6yTZkILjkry"
      },
      "source": [
        "print(tipos_crimes_classifier)"
      ],
      "execution_count": null,
      "outputs": []
    },
    {
      "cell_type": "markdown",
      "metadata": {
        "id": "yxelDTKk3fnO"
      },
      "source": [
        "#**5. FAZER PREDIÇÃO**"
      ]
    },
    {
      "cell_type": "code",
      "metadata": {
        "id": "sYhWxl1t2EWk"
      },
      "source": [
        "predictions = tipos_crimes_classifier.predict(x_test)"
      ],
      "execution_count": null,
      "outputs": []
    },
    {
      "cell_type": "markdown",
      "metadata": {
        "id": "u82xmTvq3v5Q"
      },
      "source": [
        "#**6. TESTAR ACURÁCIA**"
      ]
    },
    {
      "cell_type": "code",
      "metadata": {
        "id": "e5H_BaY92GQV"
      },
      "source": [
        "accuracy_score(y_true=y_test, y_pred=predictions)"
      ],
      "execution_count": null,
      "outputs": []
    }
  ]
}