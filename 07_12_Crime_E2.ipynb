{
  "nbformat": 4,
  "nbformat_minor": 0,
  "metadata": {
    "colab": {
      "name": "07-12 Crime_E2.ipynb",
      "provenance": [],
      "collapsed_sections": [],
      "include_colab_link": true
    },
    "kernelspec": {
      "display_name": "Python 3",
      "name": "python3"
    }
  },
  "cells": [
    {
      "cell_type": "markdown",
      "metadata": {
        "id": "view-in-github",
        "colab_type": "text"
      },
      "source": [
        "<a href=\"https://colab.research.google.com/github/debora28/pi-2020.2/blob/main/07_12_Crime_E2.ipynb\" target=\"_parent\"><img src=\"https://colab.research.google.com/assets/colab-badge.svg\" alt=\"Open In Colab\"/></a>"
      ]
    },
    {
      "cell_type": "markdown",
      "metadata": {
        "id": "SD2yapzx3dy6"
      },
      "source": [
        "# TAXA DE OCORRÊNCIA E PROBABILIDADE DE SOFRER UM CRIME DE ROUBO OU FURTO\r\n",
        "*Os dados foram extraídos do sistema de Registro Digital de Ocorrências (R.D.O.) disponível no site www.ssp.sp.gov.br referente ao ano de 2014.*\r\n",
        "\r\n",
        "Obs: Não foi possível utilizar o mesmo dataset do trabalho anterior por aquele não conter dados importantes para a elaboração deste modelo. Isso pode ser verificado pela ausência das colunas HORA_OCORRENCIA_BO, SEXO_PESSOA, IDADE_PESSOA, DESCR_PROFISSAO e DESCR_GRAU_INSTRUCAO no link: https://colab.research.google.com/drive/1Hjj_3MDJrdZ9yuqeZZpsCA-xdXjo_KTL?usp=sharing\r\n",
        "\r\n",
        "Equipe: Débora Caldas, Renan Urbano, Matheus Guerra, Horlando Leão, Héber Teófilo, Pablo Danillo, Rodrigo Vilemen."
      ]
    },
    {
      "cell_type": "markdown",
      "metadata": {
        "id": "MHBIWHQh5v99"
      },
      "source": [
        "Siglas e termos\r\n",
        "\r\n",
        "*DECAP = Departamento de Polícia Judiciária da Capital;\r\n",
        "\r\n",
        "Descrição das colunas\r\n",
        "* NOME_MUNICIPIO_CIRC - Município de Circunscrição\r\n",
        "* DESCR_TIPO_BO - Tipo de Documento\r\n",
        "* DATA_OCORRENCIA_BO - Data da Ocorrência\r\n",
        "* HORA_OCORRENCIA_BO - Hora da Ocorrência\r\n",
        "* DATAHORA_COMUNICACAO_BO - Data Hora da Comunicação da Ocorrência\r\n",
        "* FLAG_STATUS - Status da Ocorrência\r\n",
        "* RUBRICA - Natureza jurídica da ocorrência\r\n",
        "* DESCR_CONDUTA - Conduta na Ocorrência\r\n",
        "* DESDOBRAMENTO - Desdobramento na Ocorrência\r\n",
        "* DESCR_TIPOLOCAL - Tipo de Local\r\n",
        "* DESCR_SUBTIPOLOCAL - Descrição do subtipo de local\r\n",
        "* LOGRADOURO - Logradouro dos fatos\r\n",
        "* NUMERO_LOGRADOURO - Numero do Logradouro dos fatos\r\n",
        "* LATITUDE - Latitude da Ocorrência\r\n",
        "* LONGITUDE - Longitude da Ocorrência\r\n",
        "* DESCR_TIPO_PESSOA - Qualificação do envolvido na ocorrência\r\n",
        "* SEXO_PESSOA - Sexo\r\n",
        "* IDADE_PESSOA - Idade\r\n",
        "* COR_CUTIS - Cor da Pele"
      ]
    },
    {
      "cell_type": "markdown",
      "metadata": {
        "id": "i_AMA8MW2TgE"
      },
      "source": [
        "#**1. Imports**"
      ]
    },
    {
      "cell_type": "code",
      "metadata": {
        "id": "6ajaPsiOufgm"
      },
      "source": [
        "import numpy as np\n",
        "import pandas as pd\n",
        "import matplotlib.pyplot as plt\n",
        "from datetime import datetime\n",
        "from sklearn import preprocessing\n",
        "from sklearn.metrics import accuracy_score\n",
        "from sklearn.model_selection import train_test_split\n",
        "from sklearn.tree import DecisionTreeClassifier"
      ],
      "execution_count": 1753,
      "outputs": []
    },
    {
      "cell_type": "code",
      "metadata": {
        "id": "QmE7KtmleOdV"
      },
      "source": [
        "# Diretamente do GitHub (dataset 2014):\r\n",
        "url = 'https://raw.githubusercontent.com/debora28/pi-2020.2/main/2014-1-10mil.csv'\r\n",
        "data = pd.read_csv(url)"
      ],
      "execution_count": 1754,
      "outputs": []
    },
    {
      "cell_type": "markdown",
      "metadata": {
        "id": "Bdi65vns4GYs"
      },
      "source": [
        "#**2.1 Preparando os dados**"
      ]
    },
    {
      "cell_type": "code",
      "metadata": {
        "colab": {
          "base_uri": "https://localhost:8080/"
        },
        "id": "TAGDs3A1M8bt",
        "outputId": "bfbe435f-2f14-4d16-8a82-9187aeb832b2"
      },
      "source": [
        "print(data.isnull().sum())\n",
        "print(data)"
      ],
      "execution_count": 1755,
      "outputs": [
        {
          "output_type": "stream",
          "text": [
            "Unnamed: 0                   0\n",
            "NUM_BO                       0\n",
            "ANO_BO                       0\n",
            "ID_DELEGACIA                 0\n",
            "NOME_DEPARTAMENTO            0\n",
            "NOME_SECCIONAL               0\n",
            "DELEGACIA                    0\n",
            "NOME_DEPARTAMENTO_CIRC       0\n",
            "NOME_SECCIONAL_CIRC          0\n",
            "NOME_DELEGACIA_CIRC          0\n",
            "ANO                          0\n",
            "MES                          0\n",
            "DATA_OCORRENCIA_BO          87\n",
            "HORA_OCORRENCIA_BO        1040\n",
            "FLAG_STATUS                  0\n",
            "RUBRICA                      0\n",
            "DESDOBRAMENTO             9351\n",
            "CONDUTA                   4835\n",
            "LATITUDE                  1593\n",
            "LONGITUDE                 1593\n",
            "CIDADE                       0\n",
            "LOGRADOURO                 429\n",
            "NUMERO_LOGRADOURO         2467\n",
            "FLAG_STATUS.1                0\n",
            "DESCR_TIPO_PESSOA            0\n",
            "CONT_PESSOA                  0\n",
            "SEXO_PESSOA                  0\n",
            "IDADE_PESSOA              1902\n",
            "COR                       2372\n",
            "DESCR_PROFISSAO           3002\n",
            "DESCR_GRAU_INSTRUCAO      2832\n",
            "dtype: int64\n",
            "      Unnamed: 0  NUM_BO  ...       DESCR_PROFISSAO  DESCR_GRAU_INSTRUCAO\n",
            "0            243       2  ...   AUXILIAR DE LIMPEZA                   NaN\n",
            "1            244       2  ...          DESEMPREGADO       1 Grau completo\n",
            "2            245       2  ...       INVESTIGADOR(A)     Superior completo\n",
            "3            246       2  ...          DESEMPREGADO       2 Grau completo\n",
            "4            270       3  ...        POLICIAL CIVIL       2 Grau completo\n",
            "...          ...     ...  ...                   ...                   ...\n",
            "9995        9992      26  ...  SERVENTE DE PEDREIRO       1 Grau completo\n",
            "9996        9993      26  ...        POLICIAL CIVIL     Superior completo\n",
            "9997        9994      57  ...                   NaN       1 Grau completo\n",
            "9998        9996      57  ...             MOTORISTA       2 Grau completo\n",
            "9999        9998      57  ...           CONTADOR(A)     Superior completo\n",
            "\n",
            "[10000 rows x 31 columns]\n"
          ],
          "name": "stdout"
        }
      ]
    },
    {
      "cell_type": "code",
      "metadata": {
        "colab": {
          "base_uri": "https://localhost:8080/"
        },
        "id": "RJzpGPTmaCbd",
        "outputId": "ca0cf44e-724b-4f42-f2cb-86821e9c6e36"
      },
      "source": [
        "data.shape"
      ],
      "execution_count": 1756,
      "outputs": [
        {
          "output_type": "execute_result",
          "data": {
            "text/plain": [
              "(10000, 31)"
            ]
          },
          "metadata": {
            "tags": []
          },
          "execution_count": 1756
        }
      ]
    },
    {
      "cell_type": "markdown",
      "metadata": {
        "id": "hEQpAtjLkqeR"
      },
      "source": [
        "Retirando colunas que não serão usadas:"
      ]
    },
    {
      "cell_type": "code",
      "metadata": {
        "colab": {
          "base_uri": "https://localhost:8080/",
          "height": 322
        },
        "id": "ZHbA6vbaODrq",
        "outputId": "3c71efed-3659-41ab-b47a-ca09f6197a2b"
      },
      "source": [
        "data = data.drop(columns=['NOME_DEPARTAMENTO', 'NOME_SECCIONAL','NOME_DEPARTAMENTO_CIRC','NOME_SECCIONAL_CIRC','DELEGACIA','FLAG_STATUS','DESDOBRAMENTO','NUMERO_LOGRADOURO','FLAG_STATUS.1'])\n",
        "data.to_csv('data_semDesdob.csv', index= False)\n",
        "data.head()"
      ],
      "execution_count": 1757,
      "outputs": [
        {
          "output_type": "execute_result",
          "data": {
            "text/html": [
              "<div>\n",
              "<style scoped>\n",
              "    .dataframe tbody tr th:only-of-type {\n",
              "        vertical-align: middle;\n",
              "    }\n",
              "\n",
              "    .dataframe tbody tr th {\n",
              "        vertical-align: top;\n",
              "    }\n",
              "\n",
              "    .dataframe thead th {\n",
              "        text-align: right;\n",
              "    }\n",
              "</style>\n",
              "<table border=\"1\" class=\"dataframe\">\n",
              "  <thead>\n",
              "    <tr style=\"text-align: right;\">\n",
              "      <th></th>\n",
              "      <th>Unnamed: 0</th>\n",
              "      <th>NUM_BO</th>\n",
              "      <th>ANO_BO</th>\n",
              "      <th>ID_DELEGACIA</th>\n",
              "      <th>NOME_DELEGACIA_CIRC</th>\n",
              "      <th>ANO</th>\n",
              "      <th>MES</th>\n",
              "      <th>DATA_OCORRENCIA_BO</th>\n",
              "      <th>HORA_OCORRENCIA_BO</th>\n",
              "      <th>RUBRICA</th>\n",
              "      <th>CONDUTA</th>\n",
              "      <th>LATITUDE</th>\n",
              "      <th>LONGITUDE</th>\n",
              "      <th>CIDADE</th>\n",
              "      <th>LOGRADOURO</th>\n",
              "      <th>DESCR_TIPO_PESSOA</th>\n",
              "      <th>CONT_PESSOA</th>\n",
              "      <th>SEXO_PESSOA</th>\n",
              "      <th>IDADE_PESSOA</th>\n",
              "      <th>COR</th>\n",
              "      <th>DESCR_PROFISSAO</th>\n",
              "      <th>DESCR_GRAU_INSTRUCAO</th>\n",
              "    </tr>\n",
              "  </thead>\n",
              "  <tbody>\n",
              "    <tr>\n",
              "      <th>0</th>\n",
              "      <td>243</td>\n",
              "      <td>2</td>\n",
              "      <td>2014</td>\n",
              "      <td>280401</td>\n",
              "      <td>01 D.P. BARUERI</td>\n",
              "      <td>2014</td>\n",
              "      <td>2</td>\n",
              "      <td>26/02/2014</td>\n",
              "      <td>17:00</td>\n",
              "      <td>Drogas</td>\n",
              "      <td>NaN</td>\n",
              "      <td>NaN</td>\n",
              "      <td>NaN</td>\n",
              "      <td>BARUERI</td>\n",
              "      <td>R MARIA HELENA</td>\n",
              "      <td>Curador</td>\n",
              "      <td>7</td>\n",
              "      <td>F</td>\n",
              "      <td>51.0</td>\n",
              "      <td>Parda</td>\n",
              "      <td>AUXILIAR DE LIMPEZA</td>\n",
              "      <td>NaN</td>\n",
              "    </tr>\n",
              "    <tr>\n",
              "      <th>1</th>\n",
              "      <td>244</td>\n",
              "      <td>2</td>\n",
              "      <td>2014</td>\n",
              "      <td>280401</td>\n",
              "      <td>01 D.P. BARUERI</td>\n",
              "      <td>2014</td>\n",
              "      <td>2</td>\n",
              "      <td>26/02/2014</td>\n",
              "      <td>17:00</td>\n",
              "      <td>Drogas</td>\n",
              "      <td>NaN</td>\n",
              "      <td>NaN</td>\n",
              "      <td>NaN</td>\n",
              "      <td>BARUERI</td>\n",
              "      <td>R MARIA HELENA</td>\n",
              "      <td>Indiciado</td>\n",
              "      <td>4</td>\n",
              "      <td>M</td>\n",
              "      <td>19.0</td>\n",
              "      <td>Parda</td>\n",
              "      <td>DESEMPREGADO</td>\n",
              "      <td>1 Grau completo</td>\n",
              "    </tr>\n",
              "    <tr>\n",
              "      <th>2</th>\n",
              "      <td>245</td>\n",
              "      <td>2</td>\n",
              "      <td>2014</td>\n",
              "      <td>280401</td>\n",
              "      <td>01 D.P. BARUERI</td>\n",
              "      <td>2014</td>\n",
              "      <td>2</td>\n",
              "      <td>26/02/2014</td>\n",
              "      <td>17:00</td>\n",
              "      <td>Drogas</td>\n",
              "      <td>NaN</td>\n",
              "      <td>NaN</td>\n",
              "      <td>NaN</td>\n",
              "      <td>BARUERI</td>\n",
              "      <td>R MARIA HELENA</td>\n",
              "      <td>Testemunha</td>\n",
              "      <td>2</td>\n",
              "      <td>M</td>\n",
              "      <td>38.0</td>\n",
              "      <td>NaN</td>\n",
              "      <td>INVESTIGADOR(A)</td>\n",
              "      <td>Superior completo</td>\n",
              "    </tr>\n",
              "    <tr>\n",
              "      <th>3</th>\n",
              "      <td>246</td>\n",
              "      <td>2</td>\n",
              "      <td>2014</td>\n",
              "      <td>280401</td>\n",
              "      <td>01 D.P. BARUERI</td>\n",
              "      <td>2014</td>\n",
              "      <td>2</td>\n",
              "      <td>26/02/2014</td>\n",
              "      <td>17:00</td>\n",
              "      <td>Drogas</td>\n",
              "      <td>NaN</td>\n",
              "      <td>NaN</td>\n",
              "      <td>NaN</td>\n",
              "      <td>BARUERI</td>\n",
              "      <td>R MARIA HELENA</td>\n",
              "      <td>Testemunha</td>\n",
              "      <td>6</td>\n",
              "      <td>M</td>\n",
              "      <td>23.0</td>\n",
              "      <td>Parda</td>\n",
              "      <td>DESEMPREGADO</td>\n",
              "      <td>2 Grau completo</td>\n",
              "    </tr>\n",
              "    <tr>\n",
              "      <th>4</th>\n",
              "      <td>270</td>\n",
              "      <td>3</td>\n",
              "      <td>2014</td>\n",
              "      <td>30314</td>\n",
              "      <td>DEL.POL.ITAQUAQUECETUBA</td>\n",
              "      <td>2014</td>\n",
              "      <td>1</td>\n",
              "      <td>14/01/2014</td>\n",
              "      <td>17:00</td>\n",
              "      <td>Drogas</td>\n",
              "      <td>NaN</td>\n",
              "      <td>-2.348.960.369</td>\n",
              "      <td>-4.637.155.072</td>\n",
              "      <td>ITAQUAQUECETUBA</td>\n",
              "      <td>R UBATUBA</td>\n",
              "      <td>Testemunha</td>\n",
              "      <td>1</td>\n",
              "      <td>M</td>\n",
              "      <td>40.0</td>\n",
              "      <td>NaN</td>\n",
              "      <td>POLICIAL CIVIL</td>\n",
              "      <td>2 Grau completo</td>\n",
              "    </tr>\n",
              "  </tbody>\n",
              "</table>\n",
              "</div>"
            ],
            "text/plain": [
              "   Unnamed: 0  NUM_BO  ANO_BO  ...    COR      DESCR_PROFISSAO  DESCR_GRAU_INSTRUCAO\n",
              "0         243       2    2014  ...  Parda  AUXILIAR DE LIMPEZA                   NaN\n",
              "1         244       2    2014  ...  Parda         DESEMPREGADO       1 Grau completo\n",
              "2         245       2    2014  ...    NaN      INVESTIGADOR(A)     Superior completo\n",
              "3         246       2    2014  ...  Parda         DESEMPREGADO       2 Grau completo\n",
              "4         270       3    2014  ...    NaN       POLICIAL CIVIL       2 Grau completo\n",
              "\n",
              "[5 rows x 22 columns]"
            ]
          },
          "metadata": {
            "tags": []
          },
          "execution_count": 1757
        }
      ]
    },
    {
      "cell_type": "code",
      "metadata": {
        "colab": {
          "base_uri": "https://localhost:8080/"
        },
        "id": "QPsg0qTNk6rs",
        "outputId": "55e82a5c-50ce-427f-fd6c-7b291a4a26a5"
      },
      "source": [
        "data.isnull().sum().sum()"
      ],
      "execution_count": 1758,
      "outputs": [
        {
          "output_type": "execute_result",
          "data": {
            "text/plain": [
              "19685"
            ]
          },
          "metadata": {
            "tags": []
          },
          "execution_count": 1758
        }
      ]
    },
    {
      "cell_type": "code",
      "metadata": {
        "colab": {
          "base_uri": "https://localhost:8080/"
        },
        "id": "oobLaXSKlV6-",
        "outputId": "e4d133df-9916-425c-8b8c-237de1fc7d91"
      },
      "source": [
        "data.isnull().any()"
      ],
      "execution_count": 1759,
      "outputs": [
        {
          "output_type": "execute_result",
          "data": {
            "text/plain": [
              "Unnamed: 0              False\n",
              "NUM_BO                  False\n",
              "ANO_BO                  False\n",
              "ID_DELEGACIA            False\n",
              "NOME_DELEGACIA_CIRC     False\n",
              "ANO                     False\n",
              "MES                     False\n",
              "DATA_OCORRENCIA_BO       True\n",
              "HORA_OCORRENCIA_BO       True\n",
              "RUBRICA                 False\n",
              "CONDUTA                  True\n",
              "LATITUDE                 True\n",
              "LONGITUDE                True\n",
              "CIDADE                  False\n",
              "LOGRADOURO               True\n",
              "DESCR_TIPO_PESSOA       False\n",
              "CONT_PESSOA             False\n",
              "SEXO_PESSOA             False\n",
              "IDADE_PESSOA             True\n",
              "COR                      True\n",
              "DESCR_PROFISSAO          True\n",
              "DESCR_GRAU_INSTRUCAO     True\n",
              "dtype: bool"
            ]
          },
          "metadata": {
            "tags": []
          },
          "execution_count": 1759
        }
      ]
    },
    {
      "cell_type": "markdown",
      "metadata": {
        "id": "vY0mR-uFkw7y"
      },
      "source": [
        "Preenchendo valores NaN ou NA com os valores mais frequentes:"
      ]
    },
    {
      "cell_type": "code",
      "metadata": {
        "colab": {
          "base_uri": "https://localhost:8080/"
        },
        "id": "m7BqlhMMKOmd",
        "outputId": "9f49d65a-4574-492f-e4aa-93602632e24f"
      },
      "source": [
        "data['CONDUTA'].value_counts()"
      ],
      "execution_count": 1760,
      "outputs": [
        {
          "output_type": "execute_result",
          "data": {
            "text/plain": [
              "VEICULO                         1386\n",
              "TRANSEUNTE                      1369\n",
              "OUTROS                           681\n",
              "RESIDENCIA                       422\n",
              "INTERIOR DE VEICULO              354\n",
              "ESTABELECIMENTO COMERCIAL        326\n",
              "CARGA                            273\n",
              "INTERIOR ESTABELECIMENTO         112\n",
              "ESTABELECIMENTO BANCARIO          75\n",
              "ESTABELECIMENTO-OUTROS            62\n",
              "INTERIOR TRANSPORTE COLETIVO      46\n",
              "ESTABELECIMENTO ENSINO            37\n",
              "COLETIVO                          13\n",
              "CONDOMINIO RESIDENCIAL             7\n",
              "CONDOMINIO COMERCIAL               2\n",
              "Name: CONDUTA, dtype: int64"
            ]
          },
          "metadata": {
            "tags": []
          },
          "execution_count": 1760
        }
      ]
    },
    {
      "cell_type": "code",
      "metadata": {
        "id": "I_h81za9LJ3i"
      },
      "source": [
        "data['CONDUTA'].fillna('VEICULO', inplace=True)"
      ],
      "execution_count": 1761,
      "outputs": []
    },
    {
      "cell_type": "code",
      "metadata": {
        "colab": {
          "base_uri": "https://localhost:8080/"
        },
        "id": "Gf6_QKdxL-_J",
        "outputId": "c1b39d7e-9d53-4c67-b64c-9d13bd21ca14"
      },
      "source": [
        "data['CONDUTA'].value_counts()"
      ],
      "execution_count": 1762,
      "outputs": [
        {
          "output_type": "execute_result",
          "data": {
            "text/plain": [
              "VEICULO                         6221\n",
              "TRANSEUNTE                      1369\n",
              "OUTROS                           681\n",
              "RESIDENCIA                       422\n",
              "INTERIOR DE VEICULO              354\n",
              "ESTABELECIMENTO COMERCIAL        326\n",
              "CARGA                            273\n",
              "INTERIOR ESTABELECIMENTO         112\n",
              "ESTABELECIMENTO BANCARIO          75\n",
              "ESTABELECIMENTO-OUTROS            62\n",
              "INTERIOR TRANSPORTE COLETIVO      46\n",
              "ESTABELECIMENTO ENSINO            37\n",
              "COLETIVO                          13\n",
              "CONDOMINIO RESIDENCIAL             7\n",
              "CONDOMINIO COMERCIAL               2\n",
              "Name: CONDUTA, dtype: int64"
            ]
          },
          "metadata": {
            "tags": []
          },
          "execution_count": 1762
        }
      ]
    },
    {
      "cell_type": "code",
      "metadata": {
        "colab": {
          "base_uri": "https://localhost:8080/"
        },
        "id": "stSP0L2kNEVR",
        "outputId": "808cb0e8-5425-4676-863c-efea67a32c73"
      },
      "source": [
        "data['LATITUDE'].value_counts()"
      ],
      "execution_count": 1763,
      "outputs": [
        {
          "output_type": "execute_result",
          "data": {
            "text/plain": [
              "-2.371.286.115    48\n",
              "-2.364.027.263    23\n",
              "-2.352.519.435    23\n",
              "-2.347.103.556    22\n",
              "-2.355.850.851    22\n",
              "                  ..\n",
              "-2.348.937.986     1\n",
              "-2.353.336.199     1\n",
              "-2.337.814.456     1\n",
              "-2.353.860.314     1\n",
              "-2.350.421.976     1\n",
              "Name: LATITUDE, Length: 3439, dtype: int64"
            ]
          },
          "metadata": {
            "tags": []
          },
          "execution_count": 1763
        }
      ]
    },
    {
      "cell_type": "code",
      "metadata": {
        "id": "gQ9Jc7iiNKIi"
      },
      "source": [
        "data['LATITUDE'].fillna('-23.71286115', inplace=True)"
      ],
      "execution_count": 1764,
      "outputs": []
    },
    {
      "cell_type": "code",
      "metadata": {
        "colab": {
          "base_uri": "https://localhost:8080/"
        },
        "id": "RWPBFDj4NPPd",
        "outputId": "a1ffaef4-1692-4b60-d609-2f71ff944439"
      },
      "source": [
        "data['LONGITUDE'].value_counts()"
      ],
      "execution_count": 1765,
      "outputs": [
        {
          "output_type": "execute_result",
          "data": {
            "text/plain": [
              "-4.678.186.771    48\n",
              "-4.681.568.811    23\n",
              "-4.639.605.905    23\n",
              "-4.672.128.418    22\n",
              "-4.661.519.738    22\n",
              "                  ..\n",
              "-4.664.018.923     1\n",
              "-459.909.844       1\n",
              "-4.661.527.855     1\n",
              "-4.654.911.801     1\n",
              "-4.679.653.543     1\n",
              "Name: LONGITUDE, Length: 3439, dtype: int64"
            ]
          },
          "metadata": {
            "tags": []
          },
          "execution_count": 1765
        }
      ]
    },
    {
      "cell_type": "code",
      "metadata": {
        "id": "2XHdogdRNPPj"
      },
      "source": [
        "data['LONGITUDE'].fillna('-46.78186771', inplace=True)"
      ],
      "execution_count": 1766,
      "outputs": []
    },
    {
      "cell_type": "code",
      "metadata": {
        "colab": {
          "base_uri": "https://localhost:8080/"
        },
        "id": "baHIVIEadWa1",
        "outputId": "3ebb30b2-29a0-40a3-f77e-6701efce9034"
      },
      "source": [
        "data['DATA_OCORRENCIA_BO'].value_counts()"
      ],
      "execution_count": 1767,
      "outputs": [
        {
          "output_type": "execute_result",
          "data": {
            "text/plain": [
              "01/01/2014    2556\n",
              "02/01/2014    1443\n",
              "03/01/2014     911\n",
              "06/01/2014     550\n",
              "04/01/2014     415\n",
              "              ... \n",
              "25/06/2014       1\n",
              "01/06/2014       1\n",
              "23/05/2014       1\n",
              "21/04/2014       1\n",
              "03/05/2014       1\n",
              "Name: DATA_OCORRENCIA_BO, Length: 155, dtype: int64"
            ]
          },
          "metadata": {
            "tags": []
          },
          "execution_count": 1767
        }
      ]
    },
    {
      "cell_type": "code",
      "metadata": {
        "id": "FQ5rJ4wrcugV"
      },
      "source": [
        "data['DATA_OCORRENCIA_BO'].fillna('01/01/2014', inplace=True)"
      ],
      "execution_count": 1768,
      "outputs": []
    },
    {
      "cell_type": "code",
      "metadata": {
        "colab": {
          "base_uri": "https://localhost:8080/"
        },
        "id": "KqgfT9yMd01y",
        "outputId": "34a34db9-cbea-4a02-c7f3-a26b709e0bf5"
      },
      "source": [
        "data['HORA_OCORRENCIA_BO'].value_counts()"
      ],
      "execution_count": 1769,
      "outputs": [
        {
          "output_type": "execute_result",
          "data": {
            "text/plain": [
              "12:00    239\n",
              "15:00    218\n",
              "16:00    207\n",
              "14:00    204\n",
              "01:00    201\n",
              "        ... \n",
              "12:11      1\n",
              "07:44      1\n",
              "11:46      1\n",
              "02:39      1\n",
              "19:37      1\n",
              "Name: HORA_OCORRENCIA_BO, Length: 484, dtype: int64"
            ]
          },
          "metadata": {
            "tags": []
          },
          "execution_count": 1769
        }
      ]
    },
    {
      "cell_type": "code",
      "metadata": {
        "id": "8Jt305cedmay"
      },
      "source": [
        "data['HORA_OCORRENCIA_BO'].fillna('12:00', inplace=True)"
      ],
      "execution_count": 1770,
      "outputs": []
    },
    {
      "cell_type": "code",
      "metadata": {
        "id": "o_5t4vElcFUN"
      },
      "source": [
        "# data['somente Horas'] = pd.to_datetime(data['HORA_OCORRENCIA_BO'], format= '%H:%M.%f') \\\r\n",
        "                        # .apply(lambda x: x.strftime('%H:%M'))"
      ],
      "execution_count": 1771,
      "outputs": []
    },
    {
      "cell_type": "code",
      "metadata": {
        "colab": {
          "base_uri": "https://localhost:8080/"
        },
        "id": "33zZOrUsnfOM",
        "outputId": "9110d33c-b90c-4df2-88d1-9cb5ed0c7f0c"
      },
      "source": [
        "data['LOGRADOURO'].value_counts()"
      ],
      "execution_count": 1772,
      "outputs": [
        {
          "output_type": "execute_result",
          "data": {
            "text/plain": [
              "AV SAPOPEMBA                     65\n",
              "EST DO M BOI MIRIM               54\n",
              "AV DO ESTADO                     39\n",
              "R APA                            35\n",
              "AV CELSO GARCIA                  34\n",
              "                                 ..\n",
              "TRAVESSA ARMANDO DA FONSECA       1\n",
              "RUA ORENSE                        1\n",
              "RUA ADRIANO PEREIRA               1\n",
              "R DONA MARIA FERRAZ DO AMARAL     1\n",
              "R ESTAMPA ESPORTIVA               1\n",
              "Name: LOGRADOURO, Length: 3186, dtype: int64"
            ]
          },
          "metadata": {
            "tags": []
          },
          "execution_count": 1772
        }
      ]
    },
    {
      "cell_type": "code",
      "metadata": {
        "id": "-iqgzBOMeMfD"
      },
      "source": [
        "data['LOGRADOURO'].fillna('AV SAPOPEMBA', inplace=True)"
      ],
      "execution_count": 1773,
      "outputs": []
    },
    {
      "cell_type": "code",
      "metadata": {
        "colab": {
          "base_uri": "https://localhost:8080/"
        },
        "id": "gpmNm6OJehSs",
        "outputId": "acb2fe34-5ef3-4727-cf81-5ad3c514db5f"
      },
      "source": [
        "data['COR'].value_counts()"
      ],
      "execution_count": 1774,
      "outputs": [
        {
          "output_type": "execute_result",
          "data": {
            "text/plain": [
              "Branca     4166\n",
              "Parda      2517\n",
              "Preta       575\n",
              "Outros      334\n",
              "Amarela      36\n",
              "Name: COR, dtype: int64"
            ]
          },
          "metadata": {
            "tags": []
          },
          "execution_count": 1774
        }
      ]
    },
    {
      "cell_type": "code",
      "metadata": {
        "id": "jcRyXDBIecYq"
      },
      "source": [
        "data['COR'].fillna('Branca', inplace=True)"
      ],
      "execution_count": 1775,
      "outputs": []
    },
    {
      "cell_type": "code",
      "metadata": {
        "colab": {
          "base_uri": "https://localhost:8080/"
        },
        "id": "OQU9Cn8RehGG",
        "outputId": "31d93deb-2771-4858-d093-a0453fc2f218"
      },
      "source": [
        "data['IDADE_PESSOA'].value_counts()"
      ],
      "execution_count": 1776,
      "outputs": [
        {
          "output_type": "execute_result",
          "data": {
            "text/plain": [
              "30.0     269\n",
              "26.0     260\n",
              "33.0     256\n",
              "28.0     245\n",
              "38.0     241\n",
              "        ... \n",
              "103.0      1\n",
              "87.0       1\n",
              "91.0       1\n",
              "89.0       1\n",
              "88.0       1\n",
              "Name: IDADE_PESSOA, Length: 92, dtype: int64"
            ]
          },
          "metadata": {
            "tags": []
          },
          "execution_count": 1776
        }
      ]
    },
    {
      "cell_type": "code",
      "metadata": {
        "id": "VLr_9BNyebyY"
      },
      "source": [
        "data['IDADE_PESSOA'].fillna('30', inplace=True)"
      ],
      "execution_count": 1777,
      "outputs": []
    },
    {
      "cell_type": "code",
      "metadata": {
        "colab": {
          "base_uri": "https://localhost:8080/"
        },
        "id": "oHp6qe45ehsk",
        "outputId": "94c701eb-85be-4cbc-c6cb-d4cef1a605c5"
      },
      "source": [
        "data['DESCR_PROFISSAO'].value_counts()"
      ],
      "execution_count": 1778,
      "outputs": [
        {
          "output_type": "execute_result",
          "data": {
            "text/plain": [
              "POLICIAL MILITAR    827\n",
              "POLICIAL CIVIL      721\n",
              "ESTUDANTE           308\n",
              "MOTORISTA           300\n",
              "DESEMPREGADO        281\n",
              "                   ... \n",
              "ASSESSORISTA          1\n",
              "AZULEJISTA            1\n",
              "BORDADEIRA            1\n",
              "JUIZ DE DIREITO       1\n",
              "ENCADERNADOR(A)       1\n",
              "Name: DESCR_PROFISSAO, Length: 417, dtype: int64"
            ]
          },
          "metadata": {
            "tags": []
          },
          "execution_count": 1778
        }
      ]
    },
    {
      "cell_type": "code",
      "metadata": {
        "id": "ZTvBNDr3efUL"
      },
      "source": [
        "data['DESCR_PROFISSAO'].fillna('POLICIAL MILITAR', inplace=True)"
      ],
      "execution_count": 1779,
      "outputs": []
    },
    {
      "cell_type": "code",
      "metadata": {
        "colab": {
          "base_uri": "https://localhost:8080/"
        },
        "id": "OAc5D8Oms-B9",
        "outputId": "32e9dff6-9eaf-4357-fff7-e2c6999801f6"
      },
      "source": [
        "data['DESCR_GRAU_INSTRUCAO'].value_counts()"
      ],
      "execution_count": 1780,
      "outputs": [
        {
          "output_type": "execute_result",
          "data": {
            "text/plain": [
              "2 Grau completo        2780\n",
              "1 Grau completo        1882\n",
              "Superior completo      1310\n",
              "1 Grau incompleto       574\n",
              "Superior incompleto     321\n",
              "2 Grau incompleto       227\n",
              "Analfabeto               74\n",
              "Name: DESCR_GRAU_INSTRUCAO, dtype: int64"
            ]
          },
          "metadata": {
            "tags": []
          },
          "execution_count": 1780
        }
      ]
    },
    {
      "cell_type": "code",
      "metadata": {
        "id": "WwHr1y1Gs6DE"
      },
      "source": [
        "data['DESCR_GRAU_INSTRUCAO'].fillna('2 Grau completo', inplace=True)"
      ],
      "execution_count": 1781,
      "outputs": []
    },
    {
      "cell_type": "code",
      "metadata": {
        "colab": {
          "base_uri": "https://localhost:8080/"
        },
        "id": "YAZCNWRCSARl",
        "outputId": "e406839f-fb08-415e-ea9d-6b6b00de37e8"
      },
      "source": [
        "print(data.isnull().any())\n",
        "print()"
      ],
      "execution_count": 1782,
      "outputs": [
        {
          "output_type": "stream",
          "text": [
            "Unnamed: 0              False\n",
            "NUM_BO                  False\n",
            "ANO_BO                  False\n",
            "ID_DELEGACIA            False\n",
            "NOME_DELEGACIA_CIRC     False\n",
            "ANO                     False\n",
            "MES                     False\n",
            "DATA_OCORRENCIA_BO      False\n",
            "HORA_OCORRENCIA_BO      False\n",
            "RUBRICA                 False\n",
            "CONDUTA                 False\n",
            "LATITUDE                False\n",
            "LONGITUDE               False\n",
            "CIDADE                  False\n",
            "LOGRADOURO              False\n",
            "DESCR_TIPO_PESSOA       False\n",
            "CONT_PESSOA             False\n",
            "SEXO_PESSOA             False\n",
            "IDADE_PESSOA            False\n",
            "COR                     False\n",
            "DESCR_PROFISSAO         False\n",
            "DESCR_GRAU_INSTRUCAO    False\n",
            "dtype: bool\n",
            "\n"
          ],
          "name": "stdout"
        }
      ]
    },
    {
      "cell_type": "code",
      "metadata": {
        "colab": {
          "base_uri": "https://localhost:8080/",
          "height": 288
        },
        "id": "XiJ6s1sC-ZmS",
        "outputId": "48deb93a-aa08-4033-e527-bb1ca0c75770"
      },
      "source": [
        "data.describe()"
      ],
      "execution_count": 1783,
      "outputs": [
        {
          "output_type": "execute_result",
          "data": {
            "text/html": [
              "<div>\n",
              "<style scoped>\n",
              "    .dataframe tbody tr th:only-of-type {\n",
              "        vertical-align: middle;\n",
              "    }\n",
              "\n",
              "    .dataframe tbody tr th {\n",
              "        vertical-align: top;\n",
              "    }\n",
              "\n",
              "    .dataframe thead th {\n",
              "        text-align: right;\n",
              "    }\n",
              "</style>\n",
              "<table border=\"1\" class=\"dataframe\">\n",
              "  <thead>\n",
              "    <tr style=\"text-align: right;\">\n",
              "      <th></th>\n",
              "      <th>Unnamed: 0</th>\n",
              "      <th>NUM_BO</th>\n",
              "      <th>ANO_BO</th>\n",
              "      <th>ID_DELEGACIA</th>\n",
              "      <th>ANO</th>\n",
              "      <th>MES</th>\n",
              "      <th>CONT_PESSOA</th>\n",
              "    </tr>\n",
              "  </thead>\n",
              "  <tbody>\n",
              "    <tr>\n",
              "      <th>count</th>\n",
              "      <td>10000.00000</td>\n",
              "      <td>10000.000000</td>\n",
              "      <td>10000.000000</td>\n",
              "      <td>10000.000000</td>\n",
              "      <td>10000.0</td>\n",
              "      <td>10000.000000</td>\n",
              "      <td>10000.000000</td>\n",
              "    </tr>\n",
              "    <tr>\n",
              "      <th>mean</th>\n",
              "      <td>4999.50000</td>\n",
              "      <td>24.377100</td>\n",
              "      <td>2014.011400</td>\n",
              "      <td>76819.235900</td>\n",
              "      <td>2014.0</td>\n",
              "      <td>1.362000</td>\n",
              "      <td>2.625500</td>\n",
              "    </tr>\n",
              "    <tr>\n",
              "      <th>std</th>\n",
              "      <td>2886.89568</td>\n",
              "      <td>16.054192</td>\n",
              "      <td>0.112567</td>\n",
              "      <td>110985.447337</td>\n",
              "      <td>0.0</td>\n",
              "      <td>0.898909</td>\n",
              "      <td>1.934276</td>\n",
              "    </tr>\n",
              "    <tr>\n",
              "      <th>min</th>\n",
              "      <td>0.00000</td>\n",
              "      <td>1.000000</td>\n",
              "      <td>2014.000000</td>\n",
              "      <td>10004.000000</td>\n",
              "      <td>2014.0</td>\n",
              "      <td>1.000000</td>\n",
              "      <td>1.000000</td>\n",
              "    </tr>\n",
              "    <tr>\n",
              "      <th>25%</th>\n",
              "      <td>2499.75000</td>\n",
              "      <td>11.000000</td>\n",
              "      <td>2014.000000</td>\n",
              "      <td>10365.000000</td>\n",
              "      <td>2014.0</td>\n",
              "      <td>1.000000</td>\n",
              "      <td>1.000000</td>\n",
              "    </tr>\n",
              "    <tr>\n",
              "      <th>50%</th>\n",
              "      <td>4999.50000</td>\n",
              "      <td>21.000000</td>\n",
              "      <td>2014.000000</td>\n",
              "      <td>30211.000000</td>\n",
              "      <td>2014.0</td>\n",
              "      <td>1.000000</td>\n",
              "      <td>2.000000</td>\n",
              "    </tr>\n",
              "    <tr>\n",
              "      <th>75%</th>\n",
              "      <td>7499.25000</td>\n",
              "      <td>37.000000</td>\n",
              "      <td>2014.000000</td>\n",
              "      <td>140206.000000</td>\n",
              "      <td>2014.0</td>\n",
              "      <td>1.000000</td>\n",
              "      <td>3.000000</td>\n",
              "    </tr>\n",
              "    <tr>\n",
              "      <th>max</th>\n",
              "      <td>9999.00000</td>\n",
              "      <td>63.000000</td>\n",
              "      <td>2017.000000</td>\n",
              "      <td>990900.000000</td>\n",
              "      <td>2014.0</td>\n",
              "      <td>6.000000</td>\n",
              "      <td>17.000000</td>\n",
              "    </tr>\n",
              "  </tbody>\n",
              "</table>\n",
              "</div>"
            ],
            "text/plain": [
              "        Unnamed: 0        NUM_BO  ...           MES   CONT_PESSOA\n",
              "count  10000.00000  10000.000000  ...  10000.000000  10000.000000\n",
              "mean    4999.50000     24.377100  ...      1.362000      2.625500\n",
              "std     2886.89568     16.054192  ...      0.898909      1.934276\n",
              "min        0.00000      1.000000  ...      1.000000      1.000000\n",
              "25%     2499.75000     11.000000  ...      1.000000      1.000000\n",
              "50%     4999.50000     21.000000  ...      1.000000      2.000000\n",
              "75%     7499.25000     37.000000  ...      1.000000      3.000000\n",
              "max     9999.00000     63.000000  ...      6.000000     17.000000\n",
              "\n",
              "[8 rows x 7 columns]"
            ]
          },
          "metadata": {
            "tags": []
          },
          "execution_count": 1783
        }
      ]
    },
    {
      "cell_type": "code",
      "metadata": {
        "colab": {
          "base_uri": "https://localhost:8080/"
        },
        "id": "KDXQiQJGzBUP",
        "outputId": "14b1c4ba-2ea2-498b-df4b-9acecdec74cf"
      },
      "source": [
        "data.dtypes"
      ],
      "execution_count": 1784,
      "outputs": [
        {
          "output_type": "execute_result",
          "data": {
            "text/plain": [
              "Unnamed: 0               int64\n",
              "NUM_BO                   int64\n",
              "ANO_BO                   int64\n",
              "ID_DELEGACIA             int64\n",
              "NOME_DELEGACIA_CIRC     object\n",
              "ANO                      int64\n",
              "MES                      int64\n",
              "DATA_OCORRENCIA_BO      object\n",
              "HORA_OCORRENCIA_BO      object\n",
              "RUBRICA                 object\n",
              "CONDUTA                 object\n",
              "LATITUDE                object\n",
              "LONGITUDE               object\n",
              "CIDADE                  object\n",
              "LOGRADOURO              object\n",
              "DESCR_TIPO_PESSOA       object\n",
              "CONT_PESSOA              int64\n",
              "SEXO_PESSOA             object\n",
              "IDADE_PESSOA            object\n",
              "COR                     object\n",
              "DESCR_PROFISSAO         object\n",
              "DESCR_GRAU_INSTRUCAO    object\n",
              "dtype: object"
            ]
          },
          "metadata": {
            "tags": []
          },
          "execution_count": 1784
        }
      ]
    },
    {
      "cell_type": "markdown",
      "metadata": {
        "id": "s-NIYIm608F_"
      },
      "source": [
        "#**2.2 Convertendo dados categóricos em numéricos**\r\n",
        "Codificação one-hot \r\n",
        "\r\n"
      ]
    },
    {
      "cell_type": "code",
      "metadata": {
        "colab": {
          "base_uri": "https://localhost:8080/",
          "height": 232
        },
        "id": "QT6z8m1EEgA6",
        "outputId": "37a25433-584d-4170-cecd-694dbaee9770"
      },
      "source": [
        "novas_colunas = pd.get_dummies(data['RUBRICA']) \n",
        "data = pd.concat([data,novas_colunas], axis=1) \n",
        "data.head(2)"
      ],
      "execution_count": 1785,
      "outputs": [
        {
          "output_type": "execute_result",
          "data": {
            "text/html": [
              "<div>\n",
              "<style scoped>\n",
              "    .dataframe tbody tr th:only-of-type {\n",
              "        vertical-align: middle;\n",
              "    }\n",
              "\n",
              "    .dataframe tbody tr th {\n",
              "        vertical-align: top;\n",
              "    }\n",
              "\n",
              "    .dataframe thead th {\n",
              "        text-align: right;\n",
              "    }\n",
              "</style>\n",
              "<table border=\"1\" class=\"dataframe\">\n",
              "  <thead>\n",
              "    <tr style=\"text-align: right;\">\n",
              "      <th></th>\n",
              "      <th>Unnamed: 0</th>\n",
              "      <th>NUM_BO</th>\n",
              "      <th>ANO_BO</th>\n",
              "      <th>ID_DELEGACIA</th>\n",
              "      <th>NOME_DELEGACIA_CIRC</th>\n",
              "      <th>ANO</th>\n",
              "      <th>MES</th>\n",
              "      <th>DATA_OCORRENCIA_BO</th>\n",
              "      <th>HORA_OCORRENCIA_BO</th>\n",
              "      <th>RUBRICA</th>\n",
              "      <th>CONDUTA</th>\n",
              "      <th>LATITUDE</th>\n",
              "      <th>LONGITUDE</th>\n",
              "      <th>CIDADE</th>\n",
              "      <th>LOGRADOURO</th>\n",
              "      <th>DESCR_TIPO_PESSOA</th>\n",
              "      <th>CONT_PESSOA</th>\n",
              "      <th>SEXO_PESSOA</th>\n",
              "      <th>IDADE_PESSOA</th>\n",
              "      <th>COR</th>\n",
              "      <th>DESCR_PROFISSAO</th>\n",
              "      <th>DESCR_GRAU_INSTRUCAO</th>\n",
              "      <th>Drogas</th>\n",
              "      <th>Estupro</th>\n",
              "      <th>Estupro de vulneravel</th>\n",
              "      <th>Furto</th>\n",
              "      <th>Furto qualificado</th>\n",
              "      <th>Homicidio</th>\n",
              "      <th>Homicidio culposo</th>\n",
              "      <th>Homicidio culposo por veiculo</th>\n",
              "      <th>Homicidio qualificado</th>\n",
              "      <th>Lesao corporal</th>\n",
              "      <th>Lesao corporal de natureza GRAVE</th>\n",
              "      <th>Lesao corporal seguida de morte</th>\n",
              "      <th>Lesao culposa por veiculo</th>\n",
              "      <th>Roubo</th>\n",
              "    </tr>\n",
              "  </thead>\n",
              "  <tbody>\n",
              "    <tr>\n",
              "      <th>0</th>\n",
              "      <td>243</td>\n",
              "      <td>2</td>\n",
              "      <td>2014</td>\n",
              "      <td>280401</td>\n",
              "      <td>01 D.P. BARUERI</td>\n",
              "      <td>2014</td>\n",
              "      <td>2</td>\n",
              "      <td>26/02/2014</td>\n",
              "      <td>17:00</td>\n",
              "      <td>Drogas</td>\n",
              "      <td>VEICULO</td>\n",
              "      <td>-23.71286115</td>\n",
              "      <td>-46.78186771</td>\n",
              "      <td>BARUERI</td>\n",
              "      <td>R MARIA HELENA</td>\n",
              "      <td>Curador</td>\n",
              "      <td>7</td>\n",
              "      <td>F</td>\n",
              "      <td>51</td>\n",
              "      <td>Parda</td>\n",
              "      <td>AUXILIAR DE LIMPEZA</td>\n",
              "      <td>2 Grau completo</td>\n",
              "      <td>1</td>\n",
              "      <td>0</td>\n",
              "      <td>0</td>\n",
              "      <td>0</td>\n",
              "      <td>0</td>\n",
              "      <td>0</td>\n",
              "      <td>0</td>\n",
              "      <td>0</td>\n",
              "      <td>0</td>\n",
              "      <td>0</td>\n",
              "      <td>0</td>\n",
              "      <td>0</td>\n",
              "      <td>0</td>\n",
              "      <td>0</td>\n",
              "    </tr>\n",
              "    <tr>\n",
              "      <th>1</th>\n",
              "      <td>244</td>\n",
              "      <td>2</td>\n",
              "      <td>2014</td>\n",
              "      <td>280401</td>\n",
              "      <td>01 D.P. BARUERI</td>\n",
              "      <td>2014</td>\n",
              "      <td>2</td>\n",
              "      <td>26/02/2014</td>\n",
              "      <td>17:00</td>\n",
              "      <td>Drogas</td>\n",
              "      <td>VEICULO</td>\n",
              "      <td>-23.71286115</td>\n",
              "      <td>-46.78186771</td>\n",
              "      <td>BARUERI</td>\n",
              "      <td>R MARIA HELENA</td>\n",
              "      <td>Indiciado</td>\n",
              "      <td>4</td>\n",
              "      <td>M</td>\n",
              "      <td>19</td>\n",
              "      <td>Parda</td>\n",
              "      <td>DESEMPREGADO</td>\n",
              "      <td>1 Grau completo</td>\n",
              "      <td>1</td>\n",
              "      <td>0</td>\n",
              "      <td>0</td>\n",
              "      <td>0</td>\n",
              "      <td>0</td>\n",
              "      <td>0</td>\n",
              "      <td>0</td>\n",
              "      <td>0</td>\n",
              "      <td>0</td>\n",
              "      <td>0</td>\n",
              "      <td>0</td>\n",
              "      <td>0</td>\n",
              "      <td>0</td>\n",
              "      <td>0</td>\n",
              "    </tr>\n",
              "  </tbody>\n",
              "</table>\n",
              "</div>"
            ],
            "text/plain": [
              "   Unnamed: 0  NUM_BO  ...  Lesao culposa por veiculo  Roubo\n",
              "0         243       2  ...                          0      0\n",
              "1         244       2  ...                          0      0\n",
              "\n",
              "[2 rows x 36 columns]"
            ]
          },
          "metadata": {
            "tags": []
          },
          "execution_count": 1785
        }
      ]
    },
    {
      "cell_type": "code",
      "metadata": {
        "colab": {
          "base_uri": "https://localhost:8080/"
        },
        "id": "hb0sZAOCzMjm",
        "outputId": "c3399b96-991d-4058-95f7-76d1e19e9c2e"
      },
      "source": [
        "data['RUBRICA'].value_counts()"
      ],
      "execution_count": 1786,
      "outputs": [
        {
          "output_type": "execute_result",
          "data": {
            "text/plain": [
              "Roubo                               3630\n",
              "Lesao corporal                      1875\n",
              "Drogas                              1694\n",
              "Furto                               1012\n",
              "Furto qualificado                    633\n",
              "Lesao culposa por veiculo            595\n",
              "Homicidio                            279\n",
              "Estupro de vulneravel                103\n",
              "Homicidio qualificado                 96\n",
              "Estupro                               50\n",
              "Homicidio culposo por veiculo         22\n",
              "Lesao corporal seguida de morte        4\n",
              "Lesao corporal de natureza GRAVE       4\n",
              "Homicidio culposo                      3\n",
              "Name: RUBRICA, dtype: int64"
            ]
          },
          "metadata": {
            "tags": []
          },
          "execution_count": 1786
        }
      ]
    },
    {
      "cell_type": "markdown",
      "metadata": {
        "id": "1u-xeN8F5NlP"
      },
      "source": [
        "Criando uma coluna com o somatório dos casos de furto e roubo, excluindo outros tipos de crimes:"
      ]
    },
    {
      "cell_type": "code",
      "metadata": {
        "colab": {
          "base_uri": "https://localhost:8080/",
          "height": 232
        },
        "id": "AHZhnLuAceZU",
        "outputId": "5ac63b78-14fa-40f6-b76f-2c882c749cb6"
      },
      "source": [
        "data['ROUBO_FURTO'] = data['Roubo'] + data['Furto'] + data['Furto qualificado']\r\n",
        "data.head(2)"
      ],
      "execution_count": 1787,
      "outputs": [
        {
          "output_type": "execute_result",
          "data": {
            "text/html": [
              "<div>\n",
              "<style scoped>\n",
              "    .dataframe tbody tr th:only-of-type {\n",
              "        vertical-align: middle;\n",
              "    }\n",
              "\n",
              "    .dataframe tbody tr th {\n",
              "        vertical-align: top;\n",
              "    }\n",
              "\n",
              "    .dataframe thead th {\n",
              "        text-align: right;\n",
              "    }\n",
              "</style>\n",
              "<table border=\"1\" class=\"dataframe\">\n",
              "  <thead>\n",
              "    <tr style=\"text-align: right;\">\n",
              "      <th></th>\n",
              "      <th>Unnamed: 0</th>\n",
              "      <th>NUM_BO</th>\n",
              "      <th>ANO_BO</th>\n",
              "      <th>ID_DELEGACIA</th>\n",
              "      <th>NOME_DELEGACIA_CIRC</th>\n",
              "      <th>ANO</th>\n",
              "      <th>MES</th>\n",
              "      <th>DATA_OCORRENCIA_BO</th>\n",
              "      <th>HORA_OCORRENCIA_BO</th>\n",
              "      <th>RUBRICA</th>\n",
              "      <th>CONDUTA</th>\n",
              "      <th>LATITUDE</th>\n",
              "      <th>LONGITUDE</th>\n",
              "      <th>CIDADE</th>\n",
              "      <th>LOGRADOURO</th>\n",
              "      <th>DESCR_TIPO_PESSOA</th>\n",
              "      <th>CONT_PESSOA</th>\n",
              "      <th>SEXO_PESSOA</th>\n",
              "      <th>IDADE_PESSOA</th>\n",
              "      <th>COR</th>\n",
              "      <th>DESCR_PROFISSAO</th>\n",
              "      <th>DESCR_GRAU_INSTRUCAO</th>\n",
              "      <th>Drogas</th>\n",
              "      <th>Estupro</th>\n",
              "      <th>Estupro de vulneravel</th>\n",
              "      <th>Furto</th>\n",
              "      <th>Furto qualificado</th>\n",
              "      <th>Homicidio</th>\n",
              "      <th>Homicidio culposo</th>\n",
              "      <th>Homicidio culposo por veiculo</th>\n",
              "      <th>Homicidio qualificado</th>\n",
              "      <th>Lesao corporal</th>\n",
              "      <th>Lesao corporal de natureza GRAVE</th>\n",
              "      <th>Lesao corporal seguida de morte</th>\n",
              "      <th>Lesao culposa por veiculo</th>\n",
              "      <th>Roubo</th>\n",
              "      <th>ROUBO_FURTO</th>\n",
              "    </tr>\n",
              "  </thead>\n",
              "  <tbody>\n",
              "    <tr>\n",
              "      <th>0</th>\n",
              "      <td>243</td>\n",
              "      <td>2</td>\n",
              "      <td>2014</td>\n",
              "      <td>280401</td>\n",
              "      <td>01 D.P. BARUERI</td>\n",
              "      <td>2014</td>\n",
              "      <td>2</td>\n",
              "      <td>26/02/2014</td>\n",
              "      <td>17:00</td>\n",
              "      <td>Drogas</td>\n",
              "      <td>VEICULO</td>\n",
              "      <td>-23.71286115</td>\n",
              "      <td>-46.78186771</td>\n",
              "      <td>BARUERI</td>\n",
              "      <td>R MARIA HELENA</td>\n",
              "      <td>Curador</td>\n",
              "      <td>7</td>\n",
              "      <td>F</td>\n",
              "      <td>51</td>\n",
              "      <td>Parda</td>\n",
              "      <td>AUXILIAR DE LIMPEZA</td>\n",
              "      <td>2 Grau completo</td>\n",
              "      <td>1</td>\n",
              "      <td>0</td>\n",
              "      <td>0</td>\n",
              "      <td>0</td>\n",
              "      <td>0</td>\n",
              "      <td>0</td>\n",
              "      <td>0</td>\n",
              "      <td>0</td>\n",
              "      <td>0</td>\n",
              "      <td>0</td>\n",
              "      <td>0</td>\n",
              "      <td>0</td>\n",
              "      <td>0</td>\n",
              "      <td>0</td>\n",
              "      <td>0</td>\n",
              "    </tr>\n",
              "    <tr>\n",
              "      <th>1</th>\n",
              "      <td>244</td>\n",
              "      <td>2</td>\n",
              "      <td>2014</td>\n",
              "      <td>280401</td>\n",
              "      <td>01 D.P. BARUERI</td>\n",
              "      <td>2014</td>\n",
              "      <td>2</td>\n",
              "      <td>26/02/2014</td>\n",
              "      <td>17:00</td>\n",
              "      <td>Drogas</td>\n",
              "      <td>VEICULO</td>\n",
              "      <td>-23.71286115</td>\n",
              "      <td>-46.78186771</td>\n",
              "      <td>BARUERI</td>\n",
              "      <td>R MARIA HELENA</td>\n",
              "      <td>Indiciado</td>\n",
              "      <td>4</td>\n",
              "      <td>M</td>\n",
              "      <td>19</td>\n",
              "      <td>Parda</td>\n",
              "      <td>DESEMPREGADO</td>\n",
              "      <td>1 Grau completo</td>\n",
              "      <td>1</td>\n",
              "      <td>0</td>\n",
              "      <td>0</td>\n",
              "      <td>0</td>\n",
              "      <td>0</td>\n",
              "      <td>0</td>\n",
              "      <td>0</td>\n",
              "      <td>0</td>\n",
              "      <td>0</td>\n",
              "      <td>0</td>\n",
              "      <td>0</td>\n",
              "      <td>0</td>\n",
              "      <td>0</td>\n",
              "      <td>0</td>\n",
              "      <td>0</td>\n",
              "    </tr>\n",
              "  </tbody>\n",
              "</table>\n",
              "</div>"
            ],
            "text/plain": [
              "   Unnamed: 0  NUM_BO  ANO_BO  ...  Lesao culposa por veiculo Roubo  ROUBO_FURTO\n",
              "0         243       2    2014  ...                          0     0            0\n",
              "1         244       2    2014  ...                          0     0            0\n",
              "\n",
              "[2 rows x 37 columns]"
            ]
          },
          "metadata": {
            "tags": []
          },
          "execution_count": 1787
        }
      ]
    },
    {
      "cell_type": "markdown",
      "metadata": {
        "id": "GYnl2NGaoeRL"
      },
      "source": [
        "Convertendo a coluna 'idade' em float:"
      ]
    },
    {
      "cell_type": "code",
      "metadata": {
        "id": "2mFAkWsFQ3fj"
      },
      "source": [
        "data['IDADE_PESSOA'] = data['IDADE_PESSOA'].astype('float')"
      ],
      "execution_count": 1788,
      "outputs": []
    },
    {
      "cell_type": "code",
      "metadata": {
        "colab": {
          "base_uri": "https://localhost:8080/"
        },
        "id": "E6JyF9FOQXc7",
        "outputId": "5e3b4908-9e91-43a3-b26f-5bfb2efa7aae"
      },
      "source": [
        "data.groupby(by='SEXO_PESSOA').size()"
      ],
      "execution_count": 1789,
      "outputs": [
        {
          "output_type": "execute_result",
          "data": {
            "text/plain": [
              "SEXO_PESSOA\n",
              "F    2335\n",
              "I     166\n",
              "M    7499\n",
              "dtype: int64"
            ]
          },
          "metadata": {
            "tags": []
          },
          "execution_count": 1789
        }
      ]
    },
    {
      "cell_type": "code",
      "metadata": {
        "id": "g-ubGjcmwB4i"
      },
      "source": [
        "le = preprocessing.LabelEncoder()\r\n",
        "le.fit(data['HORA_OCORRENCIA_BO'])\r\n",
        "data['HORA_OCORRENCIA_BO'] = le.transform(data['HORA_OCORRENCIA_BO'])"
      ],
      "execution_count": 1791,
      "outputs": []
    },
    {
      "cell_type": "code",
      "metadata": {
        "id": "KahPX9t4yoH4"
      },
      "source": [
        "le = preprocessing.LabelEncoder()\r\n",
        "le.fit(data['ID_DELEGACIA'])\r\n",
        "data['ID_DELEGACIA'] = le.transform(data['ID_DELEGACIA'])"
      ],
      "execution_count": 1792,
      "outputs": []
    },
    {
      "cell_type": "code",
      "metadata": {
        "id": "twJtcfltyomT"
      },
      "source": [
        "le = preprocessing.LabelEncoder()\r\n",
        "le.fit(data['CIDADE'])\r\n",
        "data['CIDADE'] = le.transform(data['CIDADE'])"
      ],
      "execution_count": 1793,
      "outputs": []
    },
    {
      "cell_type": "code",
      "metadata": {
        "id": "H0UnVp9fzWo2"
      },
      "source": [
        "le = preprocessing.LabelEncoder()\r\n",
        "le.fit(data['CONDUTA'])\r\n",
        "data['CONDUTA'] = le.transform(data['CONDUTA'])"
      ],
      "execution_count": 1794,
      "outputs": []
    },
    {
      "cell_type": "code",
      "metadata": {
        "id": "0hSDfAPrzj1n"
      },
      "source": [
        "le = preprocessing.LabelEncoder()\r\n",
        "le.fit(data['SEXO_PESSOA'])\r\n",
        "data['SEXO_PESSOA'] = le.transform(data['SEXO_PESSOA'])"
      ],
      "execution_count": 1795,
      "outputs": []
    },
    {
      "cell_type": "code",
      "metadata": {
        "id": "LDEl3awgzky1"
      },
      "source": [
        "le = preprocessing.LabelEncoder()\r\n",
        "le.fit(data['DESCR_PROFISSAO'])\r\n",
        "data['DESCR_PROFISSAO'] = le.transform(data['DESCR_PROFISSAO'])"
      ],
      "execution_count": 1796,
      "outputs": []
    },
    {
      "cell_type": "code",
      "metadata": {
        "id": "parqHI07zlUw"
      },
      "source": [
        "le = preprocessing.LabelEncoder()\r\n",
        "le.fit(data['RUBRICA'])\r\n",
        "data['RUBRICA'] = le.transform(data['RUBRICA'])"
      ],
      "execution_count": 1797,
      "outputs": []
    },
    {
      "cell_type": "markdown",
      "metadata": {
        "id": "MdabeWGW2cWG"
      },
      "source": [
        "#**2.3 Separar a variável alvo**"
      ]
    },
    {
      "cell_type": "code",
      "metadata": {
        "id": "i3l-SmCeZdr3"
      },
      "source": [
        "x = data[['HORA_OCORRENCIA_BO','ID_DELEGACIA','CIDADE','IDADE_PESSOA','CONDUTA','SEXO_PESSOA','DESCR_PROFISSAO']].copy()\r\n",
        "y = data[['ROUBO_FURTO']].copy()"
      ],
      "execution_count": 1798,
      "outputs": []
    },
    {
      "cell_type": "markdown",
      "metadata": {
        "id": "S8rZrWYt3NZl"
      },
      "source": [
        "#**3. Dividir dados em teste e treinamento**"
      ]
    },
    {
      "cell_type": "code",
      "metadata": {
        "id": "TVDG-ZQr1_ya"
      },
      "source": [
        "x_train, x_test, y_train, y_test = train_test_split(x, y, test_size=0.33, random_state=3000)"
      ],
      "execution_count": 1799,
      "outputs": []
    },
    {
      "cell_type": "markdown",
      "metadata": {
        "id": "wVDYGO3j3Yus"
      },
      "source": [
        "#**4. Criar modelo de ML**"
      ]
    },
    {
      "cell_type": "code",
      "metadata": {
        "colab": {
          "base_uri": "https://localhost:8080/"
        },
        "id": "zvHOjLQo2CSf",
        "outputId": "436d44f9-0ee6-4cd9-85e4-dbc32ff68f85"
      },
      "source": [
        "tipos_crimes_classifier = DecisionTreeClassifier(max_leaf_nodes=7000, random_state=1)\r\n",
        "tipos_crimes_classifier.fit(x_train, y_train)"
      ],
      "execution_count": 1800,
      "outputs": [
        {
          "output_type": "execute_result",
          "data": {
            "text/plain": [
              "DecisionTreeClassifier(ccp_alpha=0.0, class_weight=None, criterion='gini',\n",
              "                       max_depth=None, max_features=None, max_leaf_nodes=7000,\n",
              "                       min_impurity_decrease=0.0, min_impurity_split=None,\n",
              "                       min_samples_leaf=1, min_samples_split=2,\n",
              "                       min_weight_fraction_leaf=0.0, presort='deprecated',\n",
              "                       random_state=1, splitter='best')"
            ]
          },
          "metadata": {
            "tags": []
          },
          "execution_count": 1800
        }
      ]
    },
    {
      "cell_type": "code",
      "metadata": {
        "colab": {
          "base_uri": "https://localhost:8080/"
        },
        "id": "z6yTZkILjkry",
        "outputId": "f4649a11-dda6-4f2b-f5ce-1385749cb6a8"
      },
      "source": [
        "print(tipos_crimes_classifier)"
      ],
      "execution_count": 1801,
      "outputs": [
        {
          "output_type": "stream",
          "text": [
            "DecisionTreeClassifier(ccp_alpha=0.0, class_weight=None, criterion='gini',\n",
            "                       max_depth=None, max_features=None, max_leaf_nodes=7000,\n",
            "                       min_impurity_decrease=0.0, min_impurity_split=None,\n",
            "                       min_samples_leaf=1, min_samples_split=2,\n",
            "                       min_weight_fraction_leaf=0.0, presort='deprecated',\n",
            "                       random_state=1, splitter='best')\n"
          ],
          "name": "stdout"
        }
      ]
    },
    {
      "cell_type": "markdown",
      "metadata": {
        "id": "yxelDTKk3fnO"
      },
      "source": [
        "#**5. Fazer predição**"
      ]
    },
    {
      "cell_type": "code",
      "metadata": {
        "id": "sYhWxl1t2EWk"
      },
      "source": [
        "predictions = tipos_crimes_classifier.predict(x_test)"
      ],
      "execution_count": 1802,
      "outputs": []
    },
    {
      "cell_type": "markdown",
      "metadata": {
        "id": "u82xmTvq3v5Q"
      },
      "source": [
        "#**6. Testar acurácia**"
      ]
    },
    {
      "cell_type": "code",
      "metadata": {
        "colab": {
          "base_uri": "https://localhost:8080/"
        },
        "id": "e5H_BaY92GQV",
        "outputId": "4a9cf180-cc32-4036-8cc5-ae3c177e1636"
      },
      "source": [
        "accuracy_score(y_true=y_test, y_pred=predictions)"
      ],
      "execution_count": 1803,
      "outputs": [
        {
          "output_type": "execute_result",
          "data": {
            "text/plain": [
              "0.8812121212121212"
            ]
          },
          "metadata": {
            "tags": []
          },
          "execution_count": 1803
        }
      ]
    }
  ]
}