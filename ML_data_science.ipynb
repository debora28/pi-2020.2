{
  "nbformat": 4,
  "nbformat_minor": 0,
  "metadata": {
    "colab": {
      "name": "ML_data_science.ipynb",
      "provenance": [],
      "authorship_tag": "ABX9TyN3G6aqqGvTPx7QvakognNq",
      "include_colab_link": true
    },
    "kernelspec": {
      "name": "python3",
      "display_name": "Python 3"
    }
  },
  "cells": [
    {
      "cell_type": "markdown",
      "metadata": {
        "id": "view-in-github",
        "colab_type": "text"
      },
      "source": [
        "<a href=\"https://colab.research.google.com/github/debora28/pi-2020.2/blob/main/ML_data_science.ipynb\" target=\"_parent\"><img src=\"https://colab.research.google.com/assets/colab-badge.svg\" alt=\"Open In Colab\"/></a>"
      ]
    },
    {
      "cell_type": "code",
      "metadata": {
        "id": "SB_xvLpaX5la"
      },
      "source": [
        "import numpy as np\r\n",
        "import pandas as pd"
      ],
      "execution_count": null,
      "outputs": []
    },
    {
      "cell_type": "code",
      "metadata": {
        "id": "zVpOhjwEF2vf"
      },
      "source": [
        "from sklearn.metrics import accuracy_score\r\n",
        "from sklearn.model_selection import train_test_split\r\n",
        "from sklearn.tree import DecisionTreeClassifier"
      ],
      "execution_count": null,
      "outputs": []
    },
    {
      "cell_type": "code",
      "metadata": {
        "id": "BlrzdYjQGZhz"
      },
      "source": [
        "x = data[['columns','more columns']].copy()\r\n",
        "y = data[['important column']].copy()"
      ],
      "execution_count": null,
      "outputs": []
    },
    {
      "cell_type": "code",
      "metadata": {
        "id": "j-9NIyD6Gu5o"
      },
      "source": [
        "x_train, x_test, y_train, y_test = train_test_split(x, y, test_size=0.33, random_state=numero de itens)"
      ],
      "execution_count": null,
      "outputs": []
    },
    {
      "cell_type": "code",
      "metadata": {
        "id": "JL3We1BxHPnj"
      },
      "source": [
        "tipos_crimes_classifier = DecisionTreeClassifier(max_leaf_nodes=10, random_state=1)\r\n",
        "tipos_crimes_classifier.fit(x_train, y_train)"
      ],
      "execution_count": null,
      "outputs": []
    },
    {
      "cell_type": "code",
      "metadata": {
        "id": "QCJGQ2kfHom7"
      },
      "source": [
        "predictions = tipos_crimes_classifier.predict(x_test)"
      ],
      "execution_count": null,
      "outputs": []
    },
    {
      "cell_type": "code",
      "metadata": {
        "id": "tNpGzRSPH5ha"
      },
      "source": [
        "accuracy_score(y_true=y_test, y_pred=predictions)"
      ],
      "execution_count": null,
      "outputs": []
    }
  ]
}