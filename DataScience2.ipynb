{
  "nbformat": 4,
  "nbformat_minor": 0,
  "metadata": {
    "colab": {
      "name": "DataScience2.ipynb",
      "provenance": [],
      "collapsed_sections": [],
      "include_colab_link": true
    },
    "kernelspec": {
      "display_name": "Python 3",
      "name": "python3"
    }
  },
  "cells": [
    {
      "cell_type": "markdown",
      "metadata": {
        "id": "view-in-github",
        "colab_type": "text"
      },
      "source": [
        "<a href=\"https://colab.research.google.com/github/debora28/pi-2020.2/blob/main/DataScience2.ipynb\" target=\"_parent\"><img src=\"https://colab.research.google.com/assets/colab-badge.svg\" alt=\"Open In Colab\"/></a>"
      ]
    },
    {
      "cell_type": "markdown",
      "metadata": {
        "id": "SD2yapzx3dy6"
      },
      "source": [
        "# MODELO DE PREDIÇÃO DE CRIME DE ROUBO OU FURTO CONSIDERANDO DETERMINADOS PADRÕES\r\n",
        "*O presente modelo tem como base o dataset publicado no Kaggle (https://www.kaggle.com/inquisitivecrow/crime-data-in-brazil) que contém uma coletânea de registros de boletins de ocorrência do estado de São Paulo no período de 2007 a 2016, oriundos do Sistema de Registro Digital de Ocorrências (R.D.O. em www.ssp.sp.gov.br). Os dados foram distribuídos em 21 tabelas, sendo alvo deste estudo apenas a tabela BO_2014_1 referente ao primeiro semestre do ano de 2014. A tabela original continha 954.113 registros de BO's, no entanto apenas os 10.000 primeiros foram utilizados por motivos de desempenho computacional e por se tratar de um trabalho acadêmico.*\r\n",
        "\r\n",
        "**Equipe**: \r\n",
        "\r\n",
        "Débora Caldas, Renan Urbano, Matheus Guerra, Horlando Leão, Héber Teófilo, Pablo Danillo, Rodrigo Vilemen."
      ]
    },
    {
      "cell_type": "markdown",
      "metadata": {
        "id": "A3ltvgYaZuPX"
      },
      "source": [
        ""
      ]
    },
    {
      "cell_type": "markdown",
      "metadata": {
        "id": "MHBIWHQh5v99"
      },
      "source": [
        "**Siglas e termos:**\r\n",
        "\r\n",
        "*DECAP = Departamento de Polícia Judiciária da Capital;\r\n",
        "\r\n",
        "Descrição das colunas\r\n",
        "* NUM_BO - Identificação numérica do BO,\r\n",
        "* ANO_BO - Ano de registro do BO,\r\n",
        "* ID_DELEGACIA - Identificação numérica da delegacia,\r\n",
        "* NOME_DEPARTAMENTO,\r\n",
        "* NOME_SECCIONAL,\r\n",
        "* DELEGACIA - Nome da delegacia,\r\n",
        "* NOME_DEPARTAMENTO_CIRC,\r\n",
        "* NOME_SECCIONAL_CIRC,\r\n",
        "* NOME_DELEGACIA_CIRC,\r\n",
        "* ANO - Ano da ocorrência,\r\n",
        "* MES - Mês da ocorrência,\r\n",
        "* DATA_OCORRENCIA_BO - Data da ocorrência,\r\n",
        "* HORA_OCORRENCIA_BO - Hora da ocorrência,\r\n",
        "* FLAG_STATUS - Status da ocorrência,\r\n",
        "* RUBRICA - Natureza jurídica da ocorrência especificada pelo tipo de crime,\r\n",
        "* DESDOBRAMENTO - Detalhamento,\r\n",
        "* CONDUTA - Transporte, condução,\r\n",
        "* LATITUDE - Coordenadas da ocorrência,\r\n",
        "* LONGITUDE - Coordenadas da ocorrência,\r\n",
        "* CIDADE - Localização da ocorrência,\r\n",
        "* LOGRADOURO - Localização da ocorrência,\r\n",
        "* NUMERO_LOGRADOURO - Localização da ocorrência,\r\n",
        "* FLAG_STATUS.1 - Status da ocorrência,\r\n",
        "* DESCR_TIPO_PESSOA - Qualificação da pessoa envolvida na ocorrência,\r\n",
        "* CONT_PESSOA - Contagem de pessoas envolvidas na ocorrência,\r\n",
        "* SEXO_PESSOA - Sexo da pessoa envolvida,\r\n",
        "* IDADE_PESSOA - Idade da pessoa envolvida,\r\n",
        "* COR - Cor da pele da pessoa envolvida,\r\n",
        "* DESCR_PROFISSAO - Descrição da profissão da pessoa envolvida,\r\n",
        "* DESCR_GRAU_INSTRUCAO - Descrição do grau de instrução da pessoa envolvida,\r\n"
      ]
    },
    {
      "cell_type": "markdown",
      "metadata": {
        "id": "i_AMA8MW2TgE"
      },
      "source": [
        "#**1. Imports**"
      ]
    },
    {
      "cell_type": "markdown",
      "metadata": {
        "id": "ZbvbC89U_ALA"
      },
      "source": [
        "Importando bibliotecas necessárias."
      ]
    },
    {
      "cell_type": "code",
      "metadata": {
        "id": "6ajaPsiOufgm"
      },
      "source": [
        "import numpy as np\n",
        "import pandas as pd\n",
        "import matplotlib.pyplot as plt\n",
        "import seaborn as sns\n",
        "from sklearn import preprocessing\n",
        "from sklearn.metrics import accuracy_score\n",
        "from sklearn.model_selection import train_test_split\n",
        "from sklearn.tree import DecisionTreeClassifier"
      ],
      "execution_count": 80,
      "outputs": []
    },
    {
      "cell_type": "markdown",
      "metadata": {
        "id": "gTTHgKOj_Ei2"
      },
      "source": [
        "Carregando o arquivo csv do GitHub."
      ]
    },
    {
      "cell_type": "code",
      "metadata": {
        "id": "QmE7KtmleOdV"
      },
      "source": [
        "url = 'https://raw.githubusercontent.com/debora28/pi-2020.2/main/2014-1-10mil.csv'\r\n",
        "data = pd.read_csv(url)"
      ],
      "execution_count": 81,
      "outputs": []
    },
    {
      "cell_type": "markdown",
      "metadata": {
        "id": "Bdi65vns4GYs"
      },
      "source": [
        "#**2.1 Conhecendo e preparando os dados**"
      ]
    },
    {
      "cell_type": "markdown",
      "metadata": {
        "id": "2wIUOG4B1MhE"
      },
      "source": [
        "Visão geral da tabela:\r\n",
        "\r\n"
      ]
    },
    {
      "cell_type": "markdown",
      "metadata": {
        "id": "qGwbEVl5L7IR"
      },
      "source": [
        "É formada por 31 colunas.\r\n",
        "A maior parte ds colunas é composta de dados qualitativos, organizados como objetos do tipo String:"
      ]
    },
    {
      "cell_type": "code",
      "metadata": {
        "colab": {
          "base_uri": "https://localhost:8080/"
        },
        "id": "KDXQiQJGzBUP",
        "outputId": "13293e11-4bc6-4e22-f41a-e3580cf7a9c9"
      },
      "source": [
        "data.dtypes"
      ],
      "execution_count": 82,
      "outputs": [
        {
          "output_type": "execute_result",
          "data": {
            "text/plain": [
              "Unnamed: 0                  int64\n",
              "NUM_BO                      int64\n",
              "ANO_BO                      int64\n",
              "ID_DELEGACIA                int64\n",
              "NOME_DEPARTAMENTO          object\n",
              "NOME_SECCIONAL             object\n",
              "DELEGACIA                  object\n",
              "NOME_DEPARTAMENTO_CIRC     object\n",
              "NOME_SECCIONAL_CIRC        object\n",
              "NOME_DELEGACIA_CIRC        object\n",
              "ANO                         int64\n",
              "MES                         int64\n",
              "DATA_OCORRENCIA_BO         object\n",
              "HORA_OCORRENCIA_BO         object\n",
              "FLAG_STATUS                object\n",
              "RUBRICA                    object\n",
              "DESDOBRAMENTO              object\n",
              "CONDUTA                    object\n",
              "LATITUDE                   object\n",
              "LONGITUDE                  object\n",
              "CIDADE                     object\n",
              "LOGRADOURO                 object\n",
              "NUMERO_LOGRADOURO         float64\n",
              "FLAG_STATUS.1              object\n",
              "DESCR_TIPO_PESSOA          object\n",
              "CONT_PESSOA                 int64\n",
              "SEXO_PESSOA                object\n",
              "IDADE_PESSOA              float64\n",
              "COR                        object\n",
              "DESCR_PROFISSAO            object\n",
              "DESCR_GRAU_INSTRUCAO       object\n",
              "dtype: object"
            ]
          },
          "metadata": {
            "tags": []
          },
          "execution_count": 82
        }
      ]
    },
    {
      "cell_type": "markdown",
      "metadata": {
        "id": "hEQpAtjLkqeR"
      },
      "source": [
        "Verificamos que as colunas Unnamed: 0 (um índice numérico sem lógica sequencial), Nome_Departamento, Nome_Seccional, Delegacia, Nome_Departamento_Circ, Nome_Seccional_Circ, Nome_Delegacia_Circ, Flag_Status, Desdobramento, Numero_Logradouro, Flag_Status.1 não seriam relevantes nesse contexo, portanto foram removidas:"
      ]
    },
    {
      "cell_type": "code",
      "metadata": {
        "colab": {
          "base_uri": "https://localhost:8080/",
          "height": 317
        },
        "id": "DG4FNXvF-it_",
        "outputId": "cd6e67f9-3199-40b1-ca6f-e694e70be954"
      },
      "source": [
        "data.head()"
      ],
      "execution_count": 83,
      "outputs": [
        {
          "output_type": "execute_result",
          "data": {
            "text/html": [
              "<div>\n",
              "<style scoped>\n",
              "    .dataframe tbody tr th:only-of-type {\n",
              "        vertical-align: middle;\n",
              "    }\n",
              "\n",
              "    .dataframe tbody tr th {\n",
              "        vertical-align: top;\n",
              "    }\n",
              "\n",
              "    .dataframe thead th {\n",
              "        text-align: right;\n",
              "    }\n",
              "</style>\n",
              "<table border=\"1\" class=\"dataframe\">\n",
              "  <thead>\n",
              "    <tr style=\"text-align: right;\">\n",
              "      <th></th>\n",
              "      <th>Unnamed: 0</th>\n",
              "      <th>NUM_BO</th>\n",
              "      <th>ANO_BO</th>\n",
              "      <th>ID_DELEGACIA</th>\n",
              "      <th>NOME_DEPARTAMENTO</th>\n",
              "      <th>NOME_SECCIONAL</th>\n",
              "      <th>DELEGACIA</th>\n",
              "      <th>NOME_DEPARTAMENTO_CIRC</th>\n",
              "      <th>NOME_SECCIONAL_CIRC</th>\n",
              "      <th>NOME_DELEGACIA_CIRC</th>\n",
              "      <th>ANO</th>\n",
              "      <th>MES</th>\n",
              "      <th>DATA_OCORRENCIA_BO</th>\n",
              "      <th>HORA_OCORRENCIA_BO</th>\n",
              "      <th>FLAG_STATUS</th>\n",
              "      <th>RUBRICA</th>\n",
              "      <th>DESDOBRAMENTO</th>\n",
              "      <th>CONDUTA</th>\n",
              "      <th>LATITUDE</th>\n",
              "      <th>LONGITUDE</th>\n",
              "      <th>CIDADE</th>\n",
              "      <th>LOGRADOURO</th>\n",
              "      <th>NUMERO_LOGRADOURO</th>\n",
              "      <th>FLAG_STATUS.1</th>\n",
              "      <th>DESCR_TIPO_PESSOA</th>\n",
              "      <th>CONT_PESSOA</th>\n",
              "      <th>SEXO_PESSOA</th>\n",
              "      <th>IDADE_PESSOA</th>\n",
              "      <th>COR</th>\n",
              "      <th>DESCR_PROFISSAO</th>\n",
              "      <th>DESCR_GRAU_INSTRUCAO</th>\n",
              "    </tr>\n",
              "  </thead>\n",
              "  <tbody>\n",
              "    <tr>\n",
              "      <th>0</th>\n",
              "      <td>243</td>\n",
              "      <td>2</td>\n",
              "      <td>2014</td>\n",
              "      <td>280401</td>\n",
              "      <td>DEMACRO</td>\n",
              "      <td>DEL.SEC.CARAPICUIBA</td>\n",
              "      <td>DISE- DEL.SEC.CARAPICUIBA</td>\n",
              "      <td>DEMACRO</td>\n",
              "      <td>DEL.SEC.CARAPICUIBA</td>\n",
              "      <td>01 D.P. BARUERI</td>\n",
              "      <td>2014</td>\n",
              "      <td>2</td>\n",
              "      <td>26/02/2014</td>\n",
              "      <td>17:00</td>\n",
              "      <td>C</td>\n",
              "      <td>Drogas</td>\n",
              "      <td>NaN</td>\n",
              "      <td>NaN</td>\n",
              "      <td>NaN</td>\n",
              "      <td>NaN</td>\n",
              "      <td>BARUERI</td>\n",
              "      <td>R MARIA HELENA</td>\n",
              "      <td>NaN</td>\n",
              "      <td>C</td>\n",
              "      <td>Curador</td>\n",
              "      <td>7</td>\n",
              "      <td>F</td>\n",
              "      <td>51.0</td>\n",
              "      <td>Parda</td>\n",
              "      <td>AUXILIAR DE LIMPEZA</td>\n",
              "      <td>NaN</td>\n",
              "    </tr>\n",
              "    <tr>\n",
              "      <th>1</th>\n",
              "      <td>244</td>\n",
              "      <td>2</td>\n",
              "      <td>2014</td>\n",
              "      <td>280401</td>\n",
              "      <td>DEMACRO</td>\n",
              "      <td>DEL.SEC.CARAPICUIBA</td>\n",
              "      <td>DISE- DEL.SEC.CARAPICUIBA</td>\n",
              "      <td>DEMACRO</td>\n",
              "      <td>DEL.SEC.CARAPICUIBA</td>\n",
              "      <td>01 D.P. BARUERI</td>\n",
              "      <td>2014</td>\n",
              "      <td>2</td>\n",
              "      <td>26/02/2014</td>\n",
              "      <td>17:00</td>\n",
              "      <td>C</td>\n",
              "      <td>Drogas</td>\n",
              "      <td>NaN</td>\n",
              "      <td>NaN</td>\n",
              "      <td>NaN</td>\n",
              "      <td>NaN</td>\n",
              "      <td>BARUERI</td>\n",
              "      <td>R MARIA HELENA</td>\n",
              "      <td>NaN</td>\n",
              "      <td>C</td>\n",
              "      <td>Indiciado</td>\n",
              "      <td>4</td>\n",
              "      <td>M</td>\n",
              "      <td>19.0</td>\n",
              "      <td>Parda</td>\n",
              "      <td>DESEMPREGADO</td>\n",
              "      <td>1 Grau completo</td>\n",
              "    </tr>\n",
              "    <tr>\n",
              "      <th>2</th>\n",
              "      <td>245</td>\n",
              "      <td>2</td>\n",
              "      <td>2014</td>\n",
              "      <td>280401</td>\n",
              "      <td>DEMACRO</td>\n",
              "      <td>DEL.SEC.CARAPICUIBA</td>\n",
              "      <td>DISE- DEL.SEC.CARAPICUIBA</td>\n",
              "      <td>DEMACRO</td>\n",
              "      <td>DEL.SEC.CARAPICUIBA</td>\n",
              "      <td>01 D.P. BARUERI</td>\n",
              "      <td>2014</td>\n",
              "      <td>2</td>\n",
              "      <td>26/02/2014</td>\n",
              "      <td>17:00</td>\n",
              "      <td>C</td>\n",
              "      <td>Drogas</td>\n",
              "      <td>NaN</td>\n",
              "      <td>NaN</td>\n",
              "      <td>NaN</td>\n",
              "      <td>NaN</td>\n",
              "      <td>BARUERI</td>\n",
              "      <td>R MARIA HELENA</td>\n",
              "      <td>NaN</td>\n",
              "      <td>C</td>\n",
              "      <td>Testemunha</td>\n",
              "      <td>2</td>\n",
              "      <td>M</td>\n",
              "      <td>38.0</td>\n",
              "      <td>NaN</td>\n",
              "      <td>INVESTIGADOR(A)</td>\n",
              "      <td>Superior completo</td>\n",
              "    </tr>\n",
              "    <tr>\n",
              "      <th>3</th>\n",
              "      <td>246</td>\n",
              "      <td>2</td>\n",
              "      <td>2014</td>\n",
              "      <td>280401</td>\n",
              "      <td>DEMACRO</td>\n",
              "      <td>DEL.SEC.CARAPICUIBA</td>\n",
              "      <td>DISE- DEL.SEC.CARAPICUIBA</td>\n",
              "      <td>DEMACRO</td>\n",
              "      <td>DEL.SEC.CARAPICUIBA</td>\n",
              "      <td>01 D.P. BARUERI</td>\n",
              "      <td>2014</td>\n",
              "      <td>2</td>\n",
              "      <td>26/02/2014</td>\n",
              "      <td>17:00</td>\n",
              "      <td>C</td>\n",
              "      <td>Drogas</td>\n",
              "      <td>NaN</td>\n",
              "      <td>NaN</td>\n",
              "      <td>NaN</td>\n",
              "      <td>NaN</td>\n",
              "      <td>BARUERI</td>\n",
              "      <td>R MARIA HELENA</td>\n",
              "      <td>NaN</td>\n",
              "      <td>C</td>\n",
              "      <td>Testemunha</td>\n",
              "      <td>6</td>\n",
              "      <td>M</td>\n",
              "      <td>23.0</td>\n",
              "      <td>Parda</td>\n",
              "      <td>DESEMPREGADO</td>\n",
              "      <td>2 Grau completo</td>\n",
              "    </tr>\n",
              "    <tr>\n",
              "      <th>4</th>\n",
              "      <td>270</td>\n",
              "      <td>3</td>\n",
              "      <td>2014</td>\n",
              "      <td>30314</td>\n",
              "      <td>DEMACRO</td>\n",
              "      <td>DEL.SEC.MOGI DAS CRUZES</td>\n",
              "      <td>DISE- DEL.SEC.MOGI DAS CRUZES</td>\n",
              "      <td>DEMACRO</td>\n",
              "      <td>DEL.SEC.MOGI DAS CRUZES</td>\n",
              "      <td>DEL.POL.ITAQUAQUECETUBA</td>\n",
              "      <td>2014</td>\n",
              "      <td>1</td>\n",
              "      <td>14/01/2014</td>\n",
              "      <td>17:00</td>\n",
              "      <td>C</td>\n",
              "      <td>Drogas</td>\n",
              "      <td>NaN</td>\n",
              "      <td>NaN</td>\n",
              "      <td>-2.348.960.369</td>\n",
              "      <td>-4.637.155.072</td>\n",
              "      <td>ITAQUAQUECETUBA</td>\n",
              "      <td>R UBATUBA</td>\n",
              "      <td>162.0</td>\n",
              "      <td>C</td>\n",
              "      <td>Testemunha</td>\n",
              "      <td>1</td>\n",
              "      <td>M</td>\n",
              "      <td>40.0</td>\n",
              "      <td>NaN</td>\n",
              "      <td>POLICIAL CIVIL</td>\n",
              "      <td>2 Grau completo</td>\n",
              "    </tr>\n",
              "  </tbody>\n",
              "</table>\n",
              "</div>"
            ],
            "text/plain": [
              "   Unnamed: 0  NUM_BO  ANO_BO  ...    COR      DESCR_PROFISSAO DESCR_GRAU_INSTRUCAO\n",
              "0         243       2    2014  ...  Parda  AUXILIAR DE LIMPEZA                  NaN\n",
              "1         244       2    2014  ...  Parda         DESEMPREGADO      1 Grau completo\n",
              "2         245       2    2014  ...    NaN      INVESTIGADOR(A)    Superior completo\n",
              "3         246       2    2014  ...  Parda         DESEMPREGADO      2 Grau completo\n",
              "4         270       3    2014  ...    NaN       POLICIAL CIVIL      2 Grau completo\n",
              "\n",
              "[5 rows x 31 columns]"
            ]
          },
          "metadata": {
            "tags": []
          },
          "execution_count": 83
        }
      ]
    },
    {
      "cell_type": "code",
      "metadata": {
        "colab": {
          "base_uri": "https://localhost:8080/",
          "height": 67
        },
        "id": "ZHbA6vbaODrq",
        "outputId": "70b50409-820d-491f-a4a1-3619b737e28b"
      },
      "source": [
        "data = data.drop(columns=['Unnamed: 0', 'NOME_DEPARTAMENTO', 'NOME_SECCIONAL', 'DELEGACIA', 'NOME_DEPARTAMENTO_CIRC', 'NOME_SECCIONAL_CIRC', 'NOME_DELEGACIA_CIRC', 'FLAG_STATUS', 'DESDOBRAMENTO', 'NUMERO_LOGRADOURO', 'FLAG_STATUS.1'], axis=1)\n",
        "data.head(0)"
      ],
      "execution_count": 84,
      "outputs": [
        {
          "output_type": "execute_result",
          "data": {
            "text/html": [
              "<div>\n",
              "<style scoped>\n",
              "    .dataframe tbody tr th:only-of-type {\n",
              "        vertical-align: middle;\n",
              "    }\n",
              "\n",
              "    .dataframe tbody tr th {\n",
              "        vertical-align: top;\n",
              "    }\n",
              "\n",
              "    .dataframe thead th {\n",
              "        text-align: right;\n",
              "    }\n",
              "</style>\n",
              "<table border=\"1\" class=\"dataframe\">\n",
              "  <thead>\n",
              "    <tr style=\"text-align: right;\">\n",
              "      <th></th>\n",
              "      <th>NUM_BO</th>\n",
              "      <th>ANO_BO</th>\n",
              "      <th>ID_DELEGACIA</th>\n",
              "      <th>ANO</th>\n",
              "      <th>MES</th>\n",
              "      <th>DATA_OCORRENCIA_BO</th>\n",
              "      <th>HORA_OCORRENCIA_BO</th>\n",
              "      <th>RUBRICA</th>\n",
              "      <th>CONDUTA</th>\n",
              "      <th>LATITUDE</th>\n",
              "      <th>LONGITUDE</th>\n",
              "      <th>CIDADE</th>\n",
              "      <th>LOGRADOURO</th>\n",
              "      <th>DESCR_TIPO_PESSOA</th>\n",
              "      <th>CONT_PESSOA</th>\n",
              "      <th>SEXO_PESSOA</th>\n",
              "      <th>IDADE_PESSOA</th>\n",
              "      <th>COR</th>\n",
              "      <th>DESCR_PROFISSAO</th>\n",
              "      <th>DESCR_GRAU_INSTRUCAO</th>\n",
              "    </tr>\n",
              "  </thead>\n",
              "  <tbody>\n",
              "  </tbody>\n",
              "</table>\n",
              "</div>"
            ],
            "text/plain": [
              "Empty DataFrame\n",
              "Columns: [NUM_BO, ANO_BO, ID_DELEGACIA, ANO, MES, DATA_OCORRENCIA_BO, HORA_OCORRENCIA_BO, RUBRICA, CONDUTA, LATITUDE, LONGITUDE, CIDADE, LOGRADOURO, DESCR_TIPO_PESSOA, CONT_PESSOA, SEXO_PESSOA, IDADE_PESSOA, COR, DESCR_PROFISSAO, DESCR_GRAU_INSTRUCAO]\n",
              "Index: []"
            ]
          },
          "metadata": {
            "tags": []
          },
          "execution_count": 84
        }
      ]
    },
    {
      "cell_type": "markdown",
      "metadata": {
        "id": "8vyBtodR6dn1"
      },
      "source": [
        "A tabela atual possui 10.000 linhas (1,05% do total original de 954.113 linhas) e 20 colunas (já que 11 foram removidas anteriormente):"
      ]
    },
    {
      "cell_type": "code",
      "metadata": {
        "colab": {
          "base_uri": "https://localhost:8080/"
        },
        "id": "RJzpGPTmaCbd",
        "outputId": "9ed7e205-0851-4901-f997-f907648745f1"
      },
      "source": [
        "data.shape"
      ],
      "execution_count": 85,
      "outputs": [
        {
          "output_type": "execute_result",
          "data": {
            "text/plain": [
              "(10000, 20)"
            ]
          },
          "metadata": {
            "tags": []
          },
          "execution_count": 85
        }
      ]
    },
    {
      "cell_type": "markdown",
      "metadata": {
        "id": "Ywvy72I42K8f"
      },
      "source": [
        "É necessário remover campos nulos (NA - Not Available e NaN - Not a Number) na tabela ou preenchê-los para aumentar a qualidade dos dados, portanto, o próximo passo é procurar quais colunas possuem campos Na ou NaN (True):"
      ]
    },
    {
      "cell_type": "code",
      "metadata": {
        "colab": {
          "base_uri": "https://localhost:8080/"
        },
        "id": "oobLaXSKlV6-",
        "outputId": "854a941d-f475-4995-cf65-1c2e5fd7079f"
      },
      "source": [
        "data.isnull().any()"
      ],
      "execution_count": 86,
      "outputs": [
        {
          "output_type": "execute_result",
          "data": {
            "text/plain": [
              "NUM_BO                  False\n",
              "ANO_BO                  False\n",
              "ID_DELEGACIA            False\n",
              "ANO                     False\n",
              "MES                     False\n",
              "DATA_OCORRENCIA_BO       True\n",
              "HORA_OCORRENCIA_BO       True\n",
              "RUBRICA                 False\n",
              "CONDUTA                  True\n",
              "LATITUDE                 True\n",
              "LONGITUDE                True\n",
              "CIDADE                  False\n",
              "LOGRADOURO               True\n",
              "DESCR_TIPO_PESSOA       False\n",
              "CONT_PESSOA             False\n",
              "SEXO_PESSOA             False\n",
              "IDADE_PESSOA             True\n",
              "COR                      True\n",
              "DESCR_PROFISSAO          True\n",
              "DESCR_GRAU_INSTRUCAO     True\n",
              "dtype: bool"
            ]
          },
          "metadata": {
            "tags": []
          },
          "execution_count": 86
        }
      ]
    },
    {
      "cell_type": "markdown",
      "metadata": {
        "id": "2uWCD5lGR9ea"
      },
      "source": [
        "Então, é preciso quantificar esses campos nulos para se ter uma noção de quais colunas são mais críticas ou passíveis de serem removidas por insuficiência de dados:"
      ]
    },
    {
      "cell_type": "code",
      "metadata": {
        "colab": {
          "base_uri": "https://localhost:8080/"
        },
        "id": "TAGDs3A1M8bt",
        "outputId": "f73ec377-288e-47e1-f068-0e42af7d500a"
      },
      "source": [
        "print(data.isnull().sum())"
      ],
      "execution_count": 87,
      "outputs": [
        {
          "output_type": "stream",
          "text": [
            "NUM_BO                     0\n",
            "ANO_BO                     0\n",
            "ID_DELEGACIA               0\n",
            "ANO                        0\n",
            "MES                        0\n",
            "DATA_OCORRENCIA_BO        87\n",
            "HORA_OCORRENCIA_BO      1040\n",
            "RUBRICA                    0\n",
            "CONDUTA                 4835\n",
            "LATITUDE                1593\n",
            "LONGITUDE               1593\n",
            "CIDADE                     0\n",
            "LOGRADOURO               429\n",
            "DESCR_TIPO_PESSOA          0\n",
            "CONT_PESSOA                0\n",
            "SEXO_PESSOA                0\n",
            "IDADE_PESSOA            1902\n",
            "COR                     2372\n",
            "DESCR_PROFISSAO         3002\n",
            "DESCR_GRAU_INSTRUCAO    2832\n",
            "dtype: int64\n"
          ],
          "name": "stdout"
        }
      ]
    },
    {
      "cell_type": "code",
      "metadata": {
        "colab": {
          "base_uri": "https://localhost:8080/"
        },
        "id": "QPsg0qTNk6rs",
        "outputId": "2a9d90f1-5ca7-49d1-d86e-a74e69fdf250"
      },
      "source": [
        "data.isnull().sum().sum()"
      ],
      "execution_count": 88,
      "outputs": [
        {
          "output_type": "execute_result",
          "data": {
            "text/plain": [
              "19685"
            ]
          },
          "metadata": {
            "tags": []
          },
          "execution_count": 88
        }
      ]
    },
    {
      "cell_type": "markdown",
      "metadata": {
        "id": "nd3gIdb_1bFT"
      },
      "source": [
        "Podemos ver que há 19.685 campos vazios na tabela distribuídos em 10 colunas."
      ]
    },
    {
      "cell_type": "markdown",
      "metadata": {
        "id": "vY0mR-uFkw7y"
      },
      "source": [
        "Pode-se então preenchê-los com os valores mais frequentes de cada coluna:\r\n"
      ]
    },
    {
      "cell_type": "code",
      "metadata": {
        "colab": {
          "base_uri": "https://localhost:8080/"
        },
        "id": "m7BqlhMMKOmd",
        "outputId": "6c1feb6b-c3b1-48f3-b1dd-f4dbfb7ee9bf"
      },
      "source": [
        "data['CONDUTA'].value_counts()"
      ],
      "execution_count": 89,
      "outputs": [
        {
          "output_type": "execute_result",
          "data": {
            "text/plain": [
              "VEICULO                         1386\n",
              "TRANSEUNTE                      1369\n",
              "OUTROS                           681\n",
              "RESIDENCIA                       422\n",
              "INTERIOR DE VEICULO              354\n",
              "ESTABELECIMENTO COMERCIAL        326\n",
              "CARGA                            273\n",
              "INTERIOR ESTABELECIMENTO         112\n",
              "ESTABELECIMENTO BANCARIO          75\n",
              "ESTABELECIMENTO-OUTROS            62\n",
              "INTERIOR TRANSPORTE COLETIVO      46\n",
              "ESTABELECIMENTO ENSINO            37\n",
              "COLETIVO                          13\n",
              "CONDOMINIO RESIDENCIAL             7\n",
              "CONDOMINIO COMERCIAL               2\n",
              "Name: CONDUTA, dtype: int64"
            ]
          },
          "metadata": {
            "tags": []
          },
          "execution_count": 89
        }
      ]
    },
    {
      "cell_type": "markdown",
      "metadata": {
        "id": "L65Fb-tFK15C"
      },
      "source": [
        "No caso da coluna CONDUTA, a palavra 'Veículo' ocorreu com mais frequência, então essa será usada para preencher os campos vazios."
      ]
    },
    {
      "cell_type": "code",
      "metadata": {
        "id": "I_h81za9LJ3i"
      },
      "source": [
        "data['CONDUTA'].fillna('VEICULO', inplace=True)"
      ],
      "execution_count": 90,
      "outputs": []
    },
    {
      "cell_type": "code",
      "metadata": {
        "colab": {
          "base_uri": "https://localhost:8080/"
        },
        "id": "Gf6_QKdxL-_J",
        "outputId": "6df912dc-a392-4328-d9e8-2d6e4a0d364a"
      },
      "source": [
        "data['CONDUTA'].value_counts()"
      ],
      "execution_count": 91,
      "outputs": [
        {
          "output_type": "execute_result",
          "data": {
            "text/plain": [
              "VEICULO                         6221\n",
              "TRANSEUNTE                      1369\n",
              "OUTROS                           681\n",
              "RESIDENCIA                       422\n",
              "INTERIOR DE VEICULO              354\n",
              "ESTABELECIMENTO COMERCIAL        326\n",
              "CARGA                            273\n",
              "INTERIOR ESTABELECIMENTO         112\n",
              "ESTABELECIMENTO BANCARIO          75\n",
              "ESTABELECIMENTO-OUTROS            62\n",
              "INTERIOR TRANSPORTE COLETIVO      46\n",
              "ESTABELECIMENTO ENSINO            37\n",
              "COLETIVO                          13\n",
              "CONDOMINIO RESIDENCIAL             7\n",
              "CONDOMINIO COMERCIAL               2\n",
              "Name: CONDUTA, dtype: int64"
            ]
          },
          "metadata": {
            "tags": []
          },
          "execution_count": 91
        }
      ]
    },
    {
      "cell_type": "markdown",
      "metadata": {
        "id": "f8f9ixA5LEaA"
      },
      "source": [
        "O mesmo será feito com as demais colunas:\r\n",
        "Na coluna LATITUDE, o valor '-23.71286115' é o mais indicado para preencher os campos."
      ]
    },
    {
      "cell_type": "code",
      "metadata": {
        "colab": {
          "base_uri": "https://localhost:8080/"
        },
        "id": "stSP0L2kNEVR",
        "outputId": "13bf781e-541e-42b7-faa2-20071b8c084c"
      },
      "source": [
        "data['LATITUDE'].value_counts()"
      ],
      "execution_count": 92,
      "outputs": [
        {
          "output_type": "execute_result",
          "data": {
            "text/plain": [
              "-2.371.286.115    48\n",
              "-2.352.519.435    23\n",
              "-2.364.027.263    23\n",
              "-2.347.103.556    22\n",
              "-2.355.850.851    22\n",
              "                  ..\n",
              "-2.371.670.014     1\n",
              "-2.352.966.205     1\n",
              "-2.353.414.347     1\n",
              "-2.361.574.985     1\n",
              "-233.182.708       1\n",
              "Name: LATITUDE, Length: 3439, dtype: int64"
            ]
          },
          "metadata": {
            "tags": []
          },
          "execution_count": 92
        }
      ]
    },
    {
      "cell_type": "code",
      "metadata": {
        "id": "gQ9Jc7iiNKIi"
      },
      "source": [
        "data['LATITUDE'].fillna('-23.71286115', inplace=True)"
      ],
      "execution_count": 93,
      "outputs": []
    },
    {
      "cell_type": "markdown",
      "metadata": {
        "id": "WF4x06AhTixL"
      },
      "source": [
        "Na coluna LONGITUDE, o valor '-46.78186771' é o mais indicado para esses campos."
      ]
    },
    {
      "cell_type": "code",
      "metadata": {
        "colab": {
          "base_uri": "https://localhost:8080/"
        },
        "id": "RWPBFDj4NPPd",
        "outputId": "159da28d-9a8f-4ba6-e27f-ca635e54ae67"
      },
      "source": [
        "data['LONGITUDE'].value_counts()"
      ],
      "execution_count": 94,
      "outputs": [
        {
          "output_type": "execute_result",
          "data": {
            "text/plain": [
              "-4.678.186.771    48\n",
              "-4.639.605.905    23\n",
              "-4.681.568.811    23\n",
              "-4.672.128.418    22\n",
              "-4.661.519.738    22\n",
              "                  ..\n",
              "-4.641.966.852     1\n",
              "-467.225.994       1\n",
              "-4.645.344.692     1\n",
              "-4.657.830.542     1\n",
              "-4.658.418.916     1\n",
              "Name: LONGITUDE, Length: 3439, dtype: int64"
            ]
          },
          "metadata": {
            "tags": []
          },
          "execution_count": 94
        }
      ]
    },
    {
      "cell_type": "code",
      "metadata": {
        "id": "2XHdogdRNPPj"
      },
      "source": [
        "data['LONGITUDE'].fillna('-46.78186771', inplace=True)"
      ],
      "execution_count": 95,
      "outputs": []
    },
    {
      "cell_type": "markdown",
      "metadata": {
        "id": "PrXebR2ZT5et"
      },
      "source": [
        "De igual modo, 01/01/2014 é a data que mais aparece:"
      ]
    },
    {
      "cell_type": "code",
      "metadata": {
        "colab": {
          "base_uri": "https://localhost:8080/"
        },
        "id": "baHIVIEadWa1",
        "outputId": "abc7beeb-c762-4077-87f1-6f914fc8a767"
      },
      "source": [
        "data['DATA_OCORRENCIA_BO'].value_counts()"
      ],
      "execution_count": 96,
      "outputs": [
        {
          "output_type": "execute_result",
          "data": {
            "text/plain": [
              "01/01/2014    2556\n",
              "02/01/2014    1443\n",
              "03/01/2014     911\n",
              "06/01/2014     550\n",
              "04/01/2014     415\n",
              "              ... \n",
              "04/05/2014       1\n",
              "09/06/2014       1\n",
              "21/04/2014       1\n",
              "03/05/2014       1\n",
              "25/06/2014       1\n",
              "Name: DATA_OCORRENCIA_BO, Length: 155, dtype: int64"
            ]
          },
          "metadata": {
            "tags": []
          },
          "execution_count": 96
        }
      ]
    },
    {
      "cell_type": "code",
      "metadata": {
        "id": "FQ5rJ4wrcugV"
      },
      "source": [
        "data['DATA_OCORRENCIA_BO'].fillna('01/01/2014', inplace=True)"
      ],
      "execution_count": 97,
      "outputs": []
    },
    {
      "cell_type": "markdown",
      "metadata": {
        "id": "l4oUx5ZIUC1E"
      },
      "source": [
        "Bem como o horário 12:00:"
      ]
    },
    {
      "cell_type": "code",
      "metadata": {
        "colab": {
          "base_uri": "https://localhost:8080/"
        },
        "id": "KqgfT9yMd01y",
        "outputId": "63b4eb8a-46b7-47e6-da2d-eb68fa531015"
      },
      "source": [
        "data['HORA_OCORRENCIA_BO'].value_counts()"
      ],
      "execution_count": 98,
      "outputs": [
        {
          "output_type": "execute_result",
          "data": {
            "text/plain": [
              "12:00    239\n",
              "15:00    218\n",
              "16:00    207\n",
              "14:00    204\n",
              "01:00    201\n",
              "        ... \n",
              "04:25      1\n",
              "11:46      1\n",
              "00:41      1\n",
              "02:39      1\n",
              "14:49      1\n",
              "Name: HORA_OCORRENCIA_BO, Length: 484, dtype: int64"
            ]
          },
          "metadata": {
            "tags": []
          },
          "execution_count": 98
        }
      ]
    },
    {
      "cell_type": "code",
      "metadata": {
        "id": "8Jt305cedmay"
      },
      "source": [
        "data['HORA_OCORRENCIA_BO'].fillna('12:00', inplace=True)"
      ],
      "execution_count": 99,
      "outputs": []
    },
    {
      "cell_type": "markdown",
      "metadata": {
        "id": "Zfj1xxdiUKfC"
      },
      "source": [
        "A Avenida Sapopemba é o Logradouro mais citado:\r\n",
        "\r\n",
        "\r\n"
      ]
    },
    {
      "cell_type": "code",
      "metadata": {
        "colab": {
          "base_uri": "https://localhost:8080/"
        },
        "id": "33zZOrUsnfOM",
        "outputId": "b7ecfe39-0859-46c3-a90a-6cede75ffb97"
      },
      "source": [
        "data['LOGRADOURO'].value_counts()"
      ],
      "execution_count": 100,
      "outputs": [
        {
          "output_type": "execute_result",
          "data": {
            "text/plain": [
              "AV SAPOPEMBA                    65\n",
              "EST DO M BOI MIRIM              54\n",
              "AV DO ESTADO                    39\n",
              "R APA                           35\n",
              "AV CELSO GARCIA                 34\n",
              "                                ..\n",
              "RUA CAMANDACAIA                  1\n",
              "R RIBEIRAO PONTE BAIXA           1\n",
              "ROD. BANDEIRANTES KM 44          1\n",
              "EST.REPUBLICA - PLAT.CENTRAL     1\n",
              "R CENNO SBRIGHI                  1\n",
              "Name: LOGRADOURO, Length: 3186, dtype: int64"
            ]
          },
          "metadata": {
            "tags": []
          },
          "execution_count": 100
        }
      ]
    },
    {
      "cell_type": "code",
      "metadata": {
        "id": "-iqgzBOMeMfD"
      },
      "source": [
        "data['LOGRADOURO'].fillna('AV SAPOPEMBA', inplace=True)"
      ],
      "execution_count": 101,
      "outputs": []
    },
    {
      "cell_type": "markdown",
      "metadata": {
        "id": "Dz3vfN0lUQCy"
      },
      "source": [
        "E a cor da pele da maioria das pessoas envolvidas é branca, seguido da cor parda:"
      ]
    },
    {
      "cell_type": "code",
      "metadata": {
        "colab": {
          "base_uri": "https://localhost:8080/"
        },
        "id": "gpmNm6OJehSs",
        "outputId": "228e9b50-d126-49de-bb2b-af9562a5d90f"
      },
      "source": [
        "data['COR'].value_counts()"
      ],
      "execution_count": 102,
      "outputs": [
        {
          "output_type": "execute_result",
          "data": {
            "text/plain": [
              "Branca     4166\n",
              "Parda      2517\n",
              "Preta       575\n",
              "Outros      334\n",
              "Amarela      36\n",
              "Name: COR, dtype: int64"
            ]
          },
          "metadata": {
            "tags": []
          },
          "execution_count": 102
        }
      ]
    },
    {
      "cell_type": "code",
      "metadata": {
        "id": "jcRyXDBIecYq"
      },
      "source": [
        "data['COR'].fillna('Branca', inplace=True)"
      ],
      "execution_count": 103,
      "outputs": []
    },
    {
      "cell_type": "markdown",
      "metadata": {
        "id": "_ZMGxVifUfez"
      },
      "source": [
        "A idade usada para preencher os espaços foi de 30 anos, apesar de haver muitos outros registros com quantidades bem próximas, principalmente de 26 a 38 anos."
      ]
    },
    {
      "cell_type": "code",
      "metadata": {
        "colab": {
          "base_uri": "https://localhost:8080/"
        },
        "id": "OQU9Cn8RehGG",
        "outputId": "139c79e5-5b24-4341-99cd-ae2f9e7921e9"
      },
      "source": [
        "data['IDADE_PESSOA'].value_counts()"
      ],
      "execution_count": 104,
      "outputs": [
        {
          "output_type": "execute_result",
          "data": {
            "text/plain": [
              "30.0     269\n",
              "26.0     260\n",
              "33.0     256\n",
              "28.0     245\n",
              "38.0     241\n",
              "        ... \n",
              "103.0      1\n",
              "87.0       1\n",
              "91.0       1\n",
              "89.0       1\n",
              "88.0       1\n",
              "Name: IDADE_PESSOA, Length: 92, dtype: int64"
            ]
          },
          "metadata": {
            "tags": []
          },
          "execution_count": 104
        }
      ]
    },
    {
      "cell_type": "code",
      "metadata": {
        "id": "VLr_9BNyebyY"
      },
      "source": [
        "data['IDADE_PESSOA'].fillna('30', inplace=True)"
      ],
      "execution_count": 105,
      "outputs": []
    },
    {
      "cell_type": "markdown",
      "metadata": {
        "id": "XjkQLBmCVRUY"
      },
      "source": [
        "A profissão que mais apareceu nos BOs foi a de policial (militar e civil), talvez em decorrência da periculosidade típica do ofício:"
      ]
    },
    {
      "cell_type": "code",
      "metadata": {
        "colab": {
          "base_uri": "https://localhost:8080/"
        },
        "id": "oHp6qe45ehsk",
        "outputId": "6071d031-9f69-4e3c-fde0-531aa06073e3"
      },
      "source": [
        "data['DESCR_PROFISSAO'].value_counts()"
      ],
      "execution_count": 106,
      "outputs": [
        {
          "output_type": "execute_result",
          "data": {
            "text/plain": [
              "POLICIAL MILITAR               827\n",
              "POLICIAL CIVIL                 721\n",
              "ESTUDANTE                      308\n",
              "MOTORISTA                      300\n",
              "DESEMPREGADO                   281\n",
              "                              ... \n",
              "INSTRUMENTADOR CIRURGICO         1\n",
              "PASTOR                           1\n",
              "TECNICO(A) APAR. ELETRODOM.      1\n",
              "MATEMATICO(A)                    1\n",
              "INDUSTRIARIO(A)                  1\n",
              "Name: DESCR_PROFISSAO, Length: 417, dtype: int64"
            ]
          },
          "metadata": {
            "tags": []
          },
          "execution_count": 106
        }
      ]
    },
    {
      "cell_type": "code",
      "metadata": {
        "id": "ZTvBNDr3efUL"
      },
      "source": [
        "data['DESCR_PROFISSAO'].fillna('POLICIAL MILITAR', inplace=True)"
      ],
      "execution_count": 107,
      "outputs": []
    },
    {
      "cell_type": "markdown",
      "metadata": {
        "id": "pbWChdPhWFkh"
      },
      "source": [
        "E, por fim, verificamos que a maioria tem o segundo grau completo:"
      ]
    },
    {
      "cell_type": "code",
      "metadata": {
        "colab": {
          "base_uri": "https://localhost:8080/"
        },
        "id": "OAc5D8Oms-B9",
        "outputId": "90edc57e-7334-46d6-a83e-17092d131222"
      },
      "source": [
        "data['DESCR_GRAU_INSTRUCAO'].value_counts()"
      ],
      "execution_count": 108,
      "outputs": [
        {
          "output_type": "execute_result",
          "data": {
            "text/plain": [
              "2 Grau completo        2780\n",
              "1 Grau completo        1882\n",
              "Superior completo      1310\n",
              "1 Grau incompleto       574\n",
              "Superior incompleto     321\n",
              "2 Grau incompleto       227\n",
              "Analfabeto               74\n",
              "Name: DESCR_GRAU_INSTRUCAO, dtype: int64"
            ]
          },
          "metadata": {
            "tags": []
          },
          "execution_count": 108
        }
      ]
    },
    {
      "cell_type": "code",
      "metadata": {
        "id": "WwHr1y1Gs6DE"
      },
      "source": [
        "data['DESCR_GRAU_INSTRUCAO'].fillna('2 Grau completo', inplace=True)"
      ],
      "execution_count": 109,
      "outputs": []
    },
    {
      "cell_type": "markdown",
      "metadata": {
        "id": "7mS12_kCLL1b"
      },
      "source": [
        "Agora conferimos que os campos estão totalmente preenchidos, então a pesquisa por nulos retorna False:"
      ]
    },
    {
      "cell_type": "code",
      "metadata": {
        "colab": {
          "base_uri": "https://localhost:8080/"
        },
        "id": "YAZCNWRCSARl",
        "outputId": "b17e2c0e-e8a2-4c62-fa6e-7d63cf61f989"
      },
      "source": [
        "print(data.isnull().any())\n",
        "print()"
      ],
      "execution_count": 110,
      "outputs": [
        {
          "output_type": "stream",
          "text": [
            "NUM_BO                  False\n",
            "ANO_BO                  False\n",
            "ID_DELEGACIA            False\n",
            "ANO                     False\n",
            "MES                     False\n",
            "DATA_OCORRENCIA_BO      False\n",
            "HORA_OCORRENCIA_BO      False\n",
            "RUBRICA                 False\n",
            "CONDUTA                 False\n",
            "LATITUDE                False\n",
            "LONGITUDE               False\n",
            "CIDADE                  False\n",
            "LOGRADOURO              False\n",
            "DESCR_TIPO_PESSOA       False\n",
            "CONT_PESSOA             False\n",
            "SEXO_PESSOA             False\n",
            "IDADE_PESSOA            False\n",
            "COR                     False\n",
            "DESCR_PROFISSAO         False\n",
            "DESCR_GRAU_INSTRUCAO    False\n",
            "dtype: bool\n",
            "\n"
          ],
          "name": "stdout"
        }
      ]
    },
    {
      "cell_type": "markdown",
      "metadata": {
        "id": "kPbGJpFaZ9yA"
      },
      "source": [
        "# **1.1 Conclusões**"
      ]
    },
    {
      "cell_type": "markdown",
      "metadata": {
        "id": "GJ78OyBPLTBs"
      },
      "source": [
        "Podemos concluir que em média pelo menos 50% dos boletins tinham apenas 2 envolvidos (vítima ou não) e que pelo menos 75% das ocorrências se concentram no mês de janeiro, ainda que os registros sejam de apenas metade do ano, talvez por ser geralmente período de férias o que inclui maior movimentação de pessoas nas ruas e em espaços públicos."
      ]
    },
    {
      "cell_type": "code",
      "metadata": {
        "colab": {
          "base_uri": "https://localhost:8080/",
          "height": 287
        },
        "id": "XiJ6s1sC-ZmS",
        "outputId": "45e57c9c-c4fb-4b64-91fb-3784244d7043"
      },
      "source": [
        "data.describe()"
      ],
      "execution_count": 111,
      "outputs": [
        {
          "output_type": "execute_result",
          "data": {
            "text/html": [
              "<div>\n",
              "<style scoped>\n",
              "    .dataframe tbody tr th:only-of-type {\n",
              "        vertical-align: middle;\n",
              "    }\n",
              "\n",
              "    .dataframe tbody tr th {\n",
              "        vertical-align: top;\n",
              "    }\n",
              "\n",
              "    .dataframe thead th {\n",
              "        text-align: right;\n",
              "    }\n",
              "</style>\n",
              "<table border=\"1\" class=\"dataframe\">\n",
              "  <thead>\n",
              "    <tr style=\"text-align: right;\">\n",
              "      <th></th>\n",
              "      <th>NUM_BO</th>\n",
              "      <th>ANO_BO</th>\n",
              "      <th>ID_DELEGACIA</th>\n",
              "      <th>ANO</th>\n",
              "      <th>MES</th>\n",
              "      <th>CONT_PESSOA</th>\n",
              "    </tr>\n",
              "  </thead>\n",
              "  <tbody>\n",
              "    <tr>\n",
              "      <th>count</th>\n",
              "      <td>10000.000000</td>\n",
              "      <td>10000.0</td>\n",
              "      <td>10000.000000</td>\n",
              "      <td>10000.0</td>\n",
              "      <td>10000.000000</td>\n",
              "      <td>10000.000000</td>\n",
              "    </tr>\n",
              "    <tr>\n",
              "      <th>mean</th>\n",
              "      <td>24.377100</td>\n",
              "      <td>2014.0</td>\n",
              "      <td>76819.235900</td>\n",
              "      <td>2014.0</td>\n",
              "      <td>1.362000</td>\n",
              "      <td>2.625500</td>\n",
              "    </tr>\n",
              "    <tr>\n",
              "      <th>std</th>\n",
              "      <td>16.054192</td>\n",
              "      <td>0.0</td>\n",
              "      <td>110985.447337</td>\n",
              "      <td>0.0</td>\n",
              "      <td>0.898909</td>\n",
              "      <td>1.934276</td>\n",
              "    </tr>\n",
              "    <tr>\n",
              "      <th>min</th>\n",
              "      <td>1.000000</td>\n",
              "      <td>2014.0</td>\n",
              "      <td>10004.000000</td>\n",
              "      <td>2014.0</td>\n",
              "      <td>1.000000</td>\n",
              "      <td>1.000000</td>\n",
              "    </tr>\n",
              "    <tr>\n",
              "      <th>25%</th>\n",
              "      <td>11.000000</td>\n",
              "      <td>2014.0</td>\n",
              "      <td>10365.000000</td>\n",
              "      <td>2014.0</td>\n",
              "      <td>1.000000</td>\n",
              "      <td>1.000000</td>\n",
              "    </tr>\n",
              "    <tr>\n",
              "      <th>50%</th>\n",
              "      <td>21.000000</td>\n",
              "      <td>2014.0</td>\n",
              "      <td>30211.000000</td>\n",
              "      <td>2014.0</td>\n",
              "      <td>1.000000</td>\n",
              "      <td>2.000000</td>\n",
              "    </tr>\n",
              "    <tr>\n",
              "      <th>75%</th>\n",
              "      <td>37.000000</td>\n",
              "      <td>2014.0</td>\n",
              "      <td>140206.000000</td>\n",
              "      <td>2014.0</td>\n",
              "      <td>1.000000</td>\n",
              "      <td>3.000000</td>\n",
              "    </tr>\n",
              "    <tr>\n",
              "      <th>max</th>\n",
              "      <td>63.000000</td>\n",
              "      <td>2014.0</td>\n",
              "      <td>990900.000000</td>\n",
              "      <td>2014.0</td>\n",
              "      <td>6.000000</td>\n",
              "      <td>17.000000</td>\n",
              "    </tr>\n",
              "  </tbody>\n",
              "</table>\n",
              "</div>"
            ],
            "text/plain": [
              "             NUM_BO   ANO_BO  ...           MES   CONT_PESSOA\n",
              "count  10000.000000  10000.0  ...  10000.000000  10000.000000\n",
              "mean      24.377100   2014.0  ...      1.362000      2.625500\n",
              "std       16.054192      0.0  ...      0.898909      1.934276\n",
              "min        1.000000   2014.0  ...      1.000000      1.000000\n",
              "25%       11.000000   2014.0  ...      1.000000      1.000000\n",
              "50%       21.000000   2014.0  ...      1.000000      2.000000\n",
              "75%       37.000000   2014.0  ...      1.000000      3.000000\n",
              "max       63.000000   2014.0  ...      6.000000     17.000000\n",
              "\n",
              "[8 rows x 6 columns]"
            ]
          },
          "metadata": {
            "tags": []
          },
          "execution_count": 111
        }
      ]
    },
    {
      "cell_type": "markdown",
      "metadata": {
        "id": "d4-42PCAbFqR"
      },
      "source": [
        "Inclusive, os envolvidos são em sua maioria homens. Fato este que talvez guarde alguma relação com o que foi apontado anteriormente (de que a maior parte dos crimes foi sofrido por policiais), considerando as estatíticas dessa área que é majoritariamente masculina, apesar da mudança de contexto dos últimos anos:"
      ]
    },
    {
      "cell_type": "code",
      "metadata": {
        "colab": {
          "base_uri": "https://localhost:8080/"
        },
        "id": "E6JyF9FOQXc7",
        "outputId": "fdeb5c37-877f-4832-97f6-cefc5a2bbdc7"
      },
      "source": [
        "data.groupby(by='SEXO_PESSOA').size()"
      ],
      "execution_count": 112,
      "outputs": [
        {
          "output_type": "execute_result",
          "data": {
            "text/plain": [
              "SEXO_PESSOA\n",
              "F    2335\n",
              "I     166\n",
              "M    7499\n",
              "dtype: int64"
            ]
          },
          "metadata": {
            "tags": []
          },
          "execution_count": 112
        }
      ]
    },
    {
      "cell_type": "markdown",
      "metadata": {
        "id": "f9ZbxfifJQO5"
      },
      "source": [
        "Corroborando as conclusões anteriores, os dados mostram que 8126 crimes aconteceram no mês de janeiro em valores absolutos, os quais representam 81,26% do total do semestre (10.000 ocorrências)."
      ]
    },
    {
      "cell_type": "code",
      "metadata": {
        "colab": {
          "base_uri": "https://localhost:8080/"
        },
        "id": "LJta60VdJMvf",
        "outputId": "ef9d60ca-c121-43e7-97de-ab6059a262f3"
      },
      "source": [
        "data['MES'].value_counts()"
      ],
      "execution_count": 113,
      "outputs": [
        {
          "output_type": "execute_result",
          "data": {
            "text/plain": [
              "1    8126\n",
              "2     904\n",
              "3     481\n",
              "4     278\n",
              "5     135\n",
              "6      76\n",
              "Name: MES, dtype: int64"
            ]
          },
          "metadata": {
            "tags": []
          },
          "execution_count": 113
        }
      ]
    },
    {
      "cell_type": "code",
      "metadata": {
        "colab": {
          "base_uri": "https://localhost:8080/"
        },
        "id": "pkp4p6mRJ-Zx",
        "outputId": "f0095f12-caa4-4985-c578-2daed9fa589e"
      },
      "source": [
        "data['MES'].value_counts().sum()"
      ],
      "execution_count": 114,
      "outputs": [
        {
          "output_type": "execute_result",
          "data": {
            "text/plain": [
              "10000"
            ]
          },
          "metadata": {
            "tags": []
          },
          "execution_count": 114
        }
      ]
    },
    {
      "cell_type": "code",
      "metadata": {
        "id": "3Zf_uKgsfqs2"
      },
      "source": [
        "mes = data[\"MES\"]\r\n",
        "delito = data[\"RUBRICA\"]"
      ],
      "execution_count": 115,
      "outputs": []
    },
    {
      "cell_type": "code",
      "metadata": {
        "colab": {
          "base_uri": "https://localhost:8080/",
          "height": 650
        },
        "id": "6WJ9EMESflxV",
        "outputId": "a9fdd190-0d6f-44e1-819d-d588faebe440"
      },
      "source": [
        "plt.style.use('dark_background')\r\n",
        "plt.figure(figsize=(20,10))\r\n",
        "plt.hist(mes, bins=40, color = \"skyblue\", ec=\"darkblue\")\r\n",
        "plt.title('Frequência de Crimes por Mês')\r\n",
        "plt.ylabel('Número de Crimes')\r\n",
        "plt.xlabel('Mês/2016')\r\n",
        "plt.rcParams.update({'font.size': 20})\r\n",
        "plt.show()"
      ],
      "execution_count": 116,
      "outputs": [
        {
          "output_type": "display_data",
          "data": {
            "image/png": "[encoded data removed]",
            "text/plain": [
              "<Figure size 1440x720 with 1 Axes>"
            ]
          },
          "metadata": {
            "tags": []
          }
        }
      ]
    },
    {
      "cell_type": "markdown",
      "metadata": {
        "id": "7stcmkd_gSAL"
      },
      "source": [
        "**Visualizando o mapa de calor para a ocorrência de crimes por região geográfica do estado de São Paulo.**"
      ]
    },
    {
      "cell_type": "code",
      "metadata": {
        "colab": {
          "base_uri": "https://localhost:8080/"
        },
        "id": "rx-ECPGwgcW8",
        "outputId": "22527e95-540c-408d-d455-a62534bc15da"
      },
      "source": [
        "import os\r\n",
        "import folium\r\n",
        "import pandas as pd\r\n",
        "print(folium.__version__)"
      ],
      "execution_count": 120,
      "outputs": [
        {
          "output_type": "stream",
          "text": [
            "unknown\n"
          ],
          "name": "stdout"
        }
      ]
    },
    {
      "cell_type": "code",
      "metadata": {
        "colab": {
          "base_uri": "https://localhost:8080/"
        },
        "id": "pe_oz7ELgRR5",
        "outputId": "1dbf243b-a7e8-4a1f-bf7b-bbb7da4dff17"
      },
      "source": [
        "!pip install git+https://github.com/python-visualization/folium"
      ],
      "execution_count": 121,
      "outputs": [
        {
          "output_type": "stream",
          "text": [
            "Collecting git+https://github.com/python-visualization/folium\n",
            "  Cloning https://github.com/python-visualization/folium to /tmp/pip-req-build-nn14mc8k\n",
            "  Running command git clone -q https://github.com/python-visualization/folium /tmp/pip-req-build-nn14mc8k\n",
            "Requirement already satisfied (use --upgrade to upgrade): folium==0.0.0 from git+https://github.com/python-visualization/folium in /usr/local/lib/python3.6/dist-packages\n",
            "Requirement already satisfied: branca>=0.3.0 in /usr/local/lib/python3.6/dist-packages (from folium==0.0.0) (0.4.1)\n",
            "Requirement already satisfied: jinja2>=2.9 in /usr/local/lib/python3.6/dist-packages (from folium==0.0.0) (2.11.2)\n",
            "Requirement already satisfied: numpy in /usr/local/lib/python3.6/dist-packages (from folium==0.0.0) (1.19.4)\n",
            "Requirement already satisfied: requests in /usr/local/lib/python3.6/dist-packages (from folium==0.0.0) (2.23.0)\n",
            "Requirement already satisfied: MarkupSafe>=0.23 in /usr/local/lib/python3.6/dist-packages (from jinja2>=2.9->folium==0.0.0) (1.1.1)\n",
            "Requirement already satisfied: urllib3!=1.25.0,!=1.25.1,<1.26,>=1.21.1 in /usr/local/lib/python3.6/dist-packages (from requests->folium==0.0.0) (1.24.3)\n",
            "Requirement already satisfied: idna<3,>=2.5 in /usr/local/lib/python3.6/dist-packages (from requests->folium==0.0.0) (2.10)\n",
            "Requirement already satisfied: certifi>=2017.4.17 in /usr/local/lib/python3.6/dist-packages (from requests->folium==0.0.0) (2020.12.5)\n",
            "Requirement already satisfied: chardet<4,>=3.0.2 in /usr/local/lib/python3.6/dist-packages (from requests->folium==0.0.0) (3.0.4)\n",
            "Building wheels for collected packages: folium\n",
            "  Building wheel for folium (setup.py) ... \u001b[?25l\u001b[?25hdone\n",
            "  Created wheel for folium: filename=folium-0.0.0-py2.py3-none-any.whl size=94730 sha256=3779ff0949a707756d43cbfd194eabc6e5f2cce56bc5cf50b15f89a21f839a95\n",
            "  Stored in directory: /tmp/pip-ephem-wheel-cache-ak7gvg59/wheels/1e/e1/75/ecbc91fd5dd5d90befb0b533bf7492d38acffa033310731862\n",
            "Successfully built folium\n"
          ],
          "name": "stdout"
        }
      ]
    },
    {
      "cell_type": "code",
      "metadata": {
        "colab": {
          "base_uri": "https://localhost:8080/",
          "height": 441
        },
        "id": "1altuRMFghba",
        "outputId": "a5061ba4-4a61-4a61-b131-1738d251e295"
      },
      "source": [
        "from folium import plugins\r\n",
        "coordenadas = []\r\n",
        "lat = data['LATITUDE'][:10000].values\r\n",
        "long = data['LONGITUDE'][:10000].values\r\n",
        "\r\n",
        "mapa = folium.Map(location=[-23.71286115, -46.78186771],tiles='Stamen Toner',zoom_start=12)\r\n",
        "\r\n",
        "for la,lo in zip(lat,long):\r\n",
        "    coordenadas.append([la,lo])\r\n",
        "\r\n",
        "mapa.add_child(plugins.HeatMap(coordenadas))\r\n",
        "mapa"
      ],
      "execution_count": 122,
      "outputs": [
        {
          "output_type": "error",
          "ename": "ValueError",
          "evalue": "ignored",
          "traceback": [
            "\u001b[0;31m---------------------------------------------------------------------------\u001b[0m",
            "\u001b[0;31mValueError\u001b[0m                                Traceback (most recent call last)",
            "\u001b[0;32m/usr/local/lib/python3.6/dist-packages/folium/utilities.py\u001b[0m in \u001b[0;36mvalidate_location\u001b[0;34m(location)\u001b[0m\n\u001b[1;32m     59\u001b[0m         \u001b[0;32mtry\u001b[0m\u001b[0;34m:\u001b[0m\u001b[0;34m\u001b[0m\u001b[0;34m\u001b[0m\u001b[0m\n\u001b[0;32m---> 60\u001b[0;31m             \u001b[0mfloat\u001b[0m\u001b[0;34m(\u001b[0m\u001b[0mcoord\u001b[0m\u001b[0;34m)\u001b[0m\u001b[0;34m\u001b[0m\u001b[0;34m\u001b[0m\u001b[0m\n\u001b[0m\u001b[1;32m     61\u001b[0m         \u001b[0;32mexcept\u001b[0m \u001b[0;34m(\u001b[0m\u001b[0mTypeError\u001b[0m\u001b[0;34m,\u001b[0m \u001b[0mValueError\u001b[0m\u001b[0;34m)\u001b[0m\u001b[0;34m:\u001b[0m\u001b[0;34m\u001b[0m\u001b[0;34m\u001b[0m\u001b[0m\n",
            "\u001b[0;31mValueError\u001b[0m: could not convert string to float: '-2.348.960.369'",
            "\nDuring handling of the above exception, another exception occurred:\n",
            "\u001b[0;31mValueError\u001b[0m                                Traceback (most recent call last)",
            "\u001b[0;32m<ipython-input-122-678b0ddb2203>\u001b[0m in \u001b[0;36m<module>\u001b[0;34m()\u001b[0m\n\u001b[1;32m      9\u001b[0m     \u001b[0mcoordenadas\u001b[0m\u001b[0;34m.\u001b[0m\u001b[0mappend\u001b[0m\u001b[0;34m(\u001b[0m\u001b[0;34m[\u001b[0m\u001b[0mla\u001b[0m\u001b[0;34m,\u001b[0m\u001b[0mlo\u001b[0m\u001b[0;34m]\u001b[0m\u001b[0;34m)\u001b[0m\u001b[0;34m\u001b[0m\u001b[0;34m\u001b[0m\u001b[0m\n\u001b[1;32m     10\u001b[0m \u001b[0;34m\u001b[0m\u001b[0m\n\u001b[0;32m---> 11\u001b[0;31m \u001b[0mmapa\u001b[0m\u001b[0;34m.\u001b[0m\u001b[0madd_child\u001b[0m\u001b[0;34m(\u001b[0m\u001b[0mplugins\u001b[0m\u001b[0;34m.\u001b[0m\u001b[0mHeatMap\u001b[0m\u001b[0;34m(\u001b[0m\u001b[0mcoordenadas\u001b[0m\u001b[0;34m)\u001b[0m\u001b[0;34m)\u001b[0m\u001b[0;34m\u001b[0m\u001b[0;34m\u001b[0m\u001b[0m\n\u001b[0m\u001b[1;32m     12\u001b[0m \u001b[0mmapa\u001b[0m\u001b[0;34m\u001b[0m\u001b[0;34m\u001b[0m\u001b[0m\n",
            "\u001b[0;32m/usr/local/lib/python3.6/dist-packages/folium/plugins/heat_map.py\u001b[0m in \u001b[0;36m__init__\u001b[0;34m(self, data, name, min_opacity, max_zoom, radius, blur, gradient, overlay, control, show, **kwargs)\u001b[0m\n\u001b[1;32m     69\u001b[0m         \u001b[0mdata\u001b[0m \u001b[0;34m=\u001b[0m \u001b[0mif_pandas_df_convert_to_numpy\u001b[0m\u001b[0;34m(\u001b[0m\u001b[0mdata\u001b[0m\u001b[0;34m)\u001b[0m\u001b[0;34m\u001b[0m\u001b[0;34m\u001b[0m\u001b[0m\n\u001b[1;32m     70\u001b[0m         self.data = [[*validate_location(line[:2]), *line[2:]]  # noqa: E999\n\u001b[0;32m---> 71\u001b[0;31m                      for line in data]\n\u001b[0m\u001b[1;32m     72\u001b[0m         \u001b[0;32mif\u001b[0m \u001b[0mnp\u001b[0m\u001b[0;34m.\u001b[0m\u001b[0many\u001b[0m\u001b[0;34m(\u001b[0m\u001b[0mnp\u001b[0m\u001b[0;34m.\u001b[0m\u001b[0misnan\u001b[0m\u001b[0;34m(\u001b[0m\u001b[0mself\u001b[0m\u001b[0;34m.\u001b[0m\u001b[0mdata\u001b[0m\u001b[0;34m)\u001b[0m\u001b[0;34m)\u001b[0m\u001b[0;34m:\u001b[0m\u001b[0;34m\u001b[0m\u001b[0;34m\u001b[0m\u001b[0m\n\u001b[1;32m     73\u001b[0m             \u001b[0;32mraise\u001b[0m \u001b[0mValueError\u001b[0m\u001b[0;34m(\u001b[0m\u001b[0;34m'data may not contain NaNs.'\u001b[0m\u001b[0;34m)\u001b[0m\u001b[0;34m\u001b[0m\u001b[0;34m\u001b[0m\u001b[0m\n",
            "\u001b[0;32m/usr/local/lib/python3.6/dist-packages/folium/plugins/heat_map.py\u001b[0m in \u001b[0;36m<listcomp>\u001b[0;34m(.0)\u001b[0m\n\u001b[1;32m     69\u001b[0m         \u001b[0mdata\u001b[0m \u001b[0;34m=\u001b[0m \u001b[0mif_pandas_df_convert_to_numpy\u001b[0m\u001b[0;34m(\u001b[0m\u001b[0mdata\u001b[0m\u001b[0;34m)\u001b[0m\u001b[0;34m\u001b[0m\u001b[0;34m\u001b[0m\u001b[0m\n\u001b[1;32m     70\u001b[0m         self.data = [[*validate_location(line[:2]), *line[2:]]  # noqa: E999\n\u001b[0;32m---> 71\u001b[0;31m                      for line in data]\n\u001b[0m\u001b[1;32m     72\u001b[0m         \u001b[0;32mif\u001b[0m \u001b[0mnp\u001b[0m\u001b[0;34m.\u001b[0m\u001b[0many\u001b[0m\u001b[0;34m(\u001b[0m\u001b[0mnp\u001b[0m\u001b[0;34m.\u001b[0m\u001b[0misnan\u001b[0m\u001b[0;34m(\u001b[0m\u001b[0mself\u001b[0m\u001b[0;34m.\u001b[0m\u001b[0mdata\u001b[0m\u001b[0;34m)\u001b[0m\u001b[0;34m)\u001b[0m\u001b[0;34m:\u001b[0m\u001b[0;34m\u001b[0m\u001b[0;34m\u001b[0m\u001b[0m\n\u001b[1;32m     73\u001b[0m             \u001b[0;32mraise\u001b[0m \u001b[0mValueError\u001b[0m\u001b[0;34m(\u001b[0m\u001b[0;34m'data may not contain NaNs.'\u001b[0m\u001b[0;34m)\u001b[0m\u001b[0;34m\u001b[0m\u001b[0;34m\u001b[0m\u001b[0m\n",
            "\u001b[0;32m/usr/local/lib/python3.6/dist-packages/folium/utilities.py\u001b[0m in \u001b[0;36mvalidate_location\u001b[0;34m(location)\u001b[0m\n\u001b[1;32m     62\u001b[0m             raise ValueError('Location should consist of two numerical values, '\n\u001b[1;32m     63\u001b[0m                              \u001b[0;34m'but {!r} of type {} is not convertible to float.'\u001b[0m\u001b[0;34m\u001b[0m\u001b[0;34m\u001b[0m\u001b[0m\n\u001b[0;32m---> 64\u001b[0;31m                              .format(coord, type(coord)))\n\u001b[0m\u001b[1;32m     65\u001b[0m         \u001b[0;32mif\u001b[0m \u001b[0mmath\u001b[0m\u001b[0;34m.\u001b[0m\u001b[0misnan\u001b[0m\u001b[0;34m(\u001b[0m\u001b[0mfloat\u001b[0m\u001b[0;34m(\u001b[0m\u001b[0mcoord\u001b[0m\u001b[0;34m)\u001b[0m\u001b[0;34m)\u001b[0m\u001b[0;34m:\u001b[0m\u001b[0;34m\u001b[0m\u001b[0;34m\u001b[0m\u001b[0m\n\u001b[1;32m     66\u001b[0m             \u001b[0;32mraise\u001b[0m \u001b[0mValueError\u001b[0m\u001b[0;34m(\u001b[0m\u001b[0;34m'Location values cannot contain NaNs.'\u001b[0m\u001b[0;34m)\u001b[0m\u001b[0;34m\u001b[0m\u001b[0;34m\u001b[0m\u001b[0m\n",
            "\u001b[0;31mValueError\u001b[0m: Location should consist of two numerical values, but '-2.348.960.369' of type <class 'str'> is not convertible to float."
          ]
        }
      ]
    },
    {
      "cell_type": "markdown",
      "metadata": {
        "id": "s-NIYIm608F_"
      },
      "source": [
        "#**2.2 Convertendo dados categóricos em numéricos**\r\n",
        "A fim de construir nosso modelo de predição, precisamos separar os dois tipos de crime de interesse, furto e roubo, da coluna alvo 'RUBRICA'. Como a coluna Rubrica é formada de valores não-numéricos (nomes dos tipos de crimes), é preciso executar a codificação one-hot, tranformando cada campo em uma nova coluna contendo apenas números:\r\n",
        "\r\n"
      ]
    },
    {
      "cell_type": "code",
      "metadata": {
        "id": "QT6z8m1EEgA6"
      },
      "source": [
        "novas_colunas = pd.get_dummies(data['RUBRICA']) \n",
        "data = pd.concat([data,novas_colunas], axis=1) \n",
        "data.head(2)"
      ],
      "execution_count": null,
      "outputs": []
    },
    {
      "cell_type": "markdown",
      "metadata": {
        "id": "44g6uN_tXuiT"
      },
      "source": [
        "A partir daí, podemos observar que o roubo é o crime mais comum e que o furto foi dividido em duas categorias (simples e qualificado). "
      ]
    },
    {
      "cell_type": "code",
      "metadata": {
        "id": "hb0sZAOCzMjm"
      },
      "source": [
        "data['RUBRICA'].value_counts()"
      ],
      "execution_count": null,
      "outputs": []
    },
    {
      "cell_type": "code",
      "metadata": {
        "id": "qs0CykUtgBzu"
      },
      "source": [
        "plt.style.use('dark_background')\r\n",
        "plt.figure(figsize=(15,9))\r\n",
        "plt.xlabel('Número de Crimes')\r\n",
        "data['RUBRICA'].value_counts().plot(kind='barh', title='Frequência de crimes por tipo')\r\n",
        "plt.show()"
      ],
      "execution_count": null,
      "outputs": []
    },
    {
      "cell_type": "markdown",
      "metadata": {
        "id": "1u-xeN8F5NlP"
      },
      "source": [
        "Para o nosso estudo, precisamos somar essas três colunas (Roubo, Furto e Furto qualificado) que estão relacionadas aos Crimes Violentos contra o Patrimônio (CVP). Então, criamos uma nova coluna (CRIME) com o somatório dos casos de furto e roubo, excluindo outros tipos de crimes:"
      ]
    },
    {
      "cell_type": "code",
      "metadata": {
        "id": "AHZhnLuAceZU"
      },
      "source": [
        "data['CRIME'] = data['Roubo'] + data['Furto'] + data['Furto qualificado']\r\n",
        "data.head(2)"
      ],
      "execution_count": null,
      "outputs": []
    },
    {
      "cell_type": "code",
      "metadata": {
        "id": "g-ubGjcmwB4i"
      },
      "source": [
        "le = preprocessing.LabelEncoder()\r\n",
        "le.fit(data['HORA_OCORRENCIA_BO'])\r\n",
        "data['HORA_OCORRENCIA_BO'] = le.transform(data['HORA_OCORRENCIA_BO'])"
      ],
      "execution_count": null,
      "outputs": []
    },
    {
      "cell_type": "code",
      "metadata": {
        "id": "KahPX9t4yoH4"
      },
      "source": [
        "le = preprocessing.LabelEncoder()\r\n",
        "le.fit(data['ID_DELEGACIA'])\r\n",
        "data['ID_DELEGACIA'] = le.transform(data['ID_DELEGACIA'])"
      ],
      "execution_count": null,
      "outputs": []
    },
    {
      "cell_type": "code",
      "metadata": {
        "id": "twJtcfltyomT"
      },
      "source": [
        "le = preprocessing.LabelEncoder()\r\n",
        "le.fit(data['CIDADE'])\r\n",
        "data['CIDADE'] = le.transform(data['CIDADE'])"
      ],
      "execution_count": null,
      "outputs": []
    },
    {
      "cell_type": "code",
      "metadata": {
        "id": "H0UnVp9fzWo2"
      },
      "source": [
        "le = preprocessing.LabelEncoder()\r\n",
        "le.fit(data['CONDUTA'])\r\n",
        "data['CONDUTA'] = le.transform(data['CONDUTA'])"
      ],
      "execution_count": null,
      "outputs": []
    },
    {
      "cell_type": "code",
      "metadata": {
        "id": "0hSDfAPrzj1n"
      },
      "source": [
        "le = preprocessing.LabelEncoder()\r\n",
        "le.fit(data['SEXO_PESSOA'])\r\n",
        "data['SEXO_PESSOA'] = le.transform(data['SEXO_PESSOA'])"
      ],
      "execution_count": null,
      "outputs": []
    },
    {
      "cell_type": "code",
      "metadata": {
        "id": "LDEl3awgzky1"
      },
      "source": [
        "le = preprocessing.LabelEncoder()\r\n",
        "le.fit(data['DESCR_PROFISSAO'])\r\n",
        "data['DESCR_PROFISSAO'] = le.transform(data['DESCR_PROFISSAO'])"
      ],
      "execution_count": null,
      "outputs": []
    },
    {
      "cell_type": "code",
      "metadata": {
        "id": "parqHI07zlUw"
      },
      "source": [
        "le = preprocessing.LabelEncoder()\r\n",
        "le.fit(data['RUBRICA'])\r\n",
        "data['RUBRICA'] = le.transform(data['RUBRICA'])"
      ],
      "execution_count": null,
      "outputs": []
    },
    {
      "cell_type": "markdown",
      "metadata": {
        "id": "MdabeWGW2cWG"
      },
      "source": [
        "#**2.3 Separar a variável alvo**"
      ]
    },
    {
      "cell_type": "code",
      "metadata": {
        "id": "i3l-SmCeZdr3"
      },
      "source": [
        "x = data[['HORA_OCORRENCIA_BO','ID_DELEGACIA','CIDADE','IDADE_PESSOA','CONDUTA','SEXO_PESSOA','DESCR_PROFISSAO']].copy()\r\n",
        "y = data[['CRIME']].copy()"
      ],
      "execution_count": null,
      "outputs": []
    },
    {
      "cell_type": "markdown",
      "metadata": {
        "id": "S8rZrWYt3NZl"
      },
      "source": [
        "#**3. Dividir dados em teste e treinamento**"
      ]
    },
    {
      "cell_type": "code",
      "metadata": {
        "id": "TVDG-ZQr1_ya"
      },
      "source": [
        "x_train, x_test, y_train, y_test = train_test_split(x, y, test_size=0.33, random_state=3000)"
      ],
      "execution_count": null,
      "outputs": []
    },
    {
      "cell_type": "markdown",
      "metadata": {
        "id": "wVDYGO3j3Yus"
      },
      "source": [
        "#**4. Criar modelo de ML**"
      ]
    },
    {
      "cell_type": "code",
      "metadata": {
        "id": "zvHOjLQo2CSf"
      },
      "source": [
        "tipos_crimes_classifier = DecisionTreeClassifier(max_leaf_nodes=7000, random_state=1)\r\n",
        "tipos_crimes_classifier.fit(x_train, y_train)"
      ],
      "execution_count": null,
      "outputs": []
    },
    {
      "cell_type": "code",
      "metadata": {
        "id": "z6yTZkILjkry"
      },
      "source": [
        "print(tipos_crimes_classifier)"
      ],
      "execution_count": null,
      "outputs": []
    },
    {
      "cell_type": "markdown",
      "metadata": {
        "id": "yxelDTKk3fnO"
      },
      "source": [
        "#**5. Fazer predição**"
      ]
    },
    {
      "cell_type": "code",
      "metadata": {
        "id": "sYhWxl1t2EWk"
      },
      "source": [
        "predictions = tipos_crimes_classifier.predict(x_test)\r\n",
        "print(predictions)"
      ],
      "execution_count": null,
      "outputs": []
    },
    {
      "cell_type": "markdown",
      "metadata": {
        "id": "u82xmTvq3v5Q"
      },
      "source": [
        "#**6. Testar acurácia**"
      ]
    },
    {
      "cell_type": "code",
      "metadata": {
        "id": "e5H_BaY92GQV"
      },
      "source": [
        "accuracy_score(y_true=y_test, y_pred=predictions)"
      ],
      "execution_count": null,
      "outputs": []
    }
  ]
}