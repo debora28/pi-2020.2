{
  "nbformat": 4,
  "nbformat_minor": 0,
  "metadata": {
    "colab": {
      "name": "Cópia de DataScience2.ipynb",
      "provenance": [],
      "collapsed_sections": [],
      "include_colab_link": true
    },
    "kernelspec": {
      "display_name": "Python 3",
      "name": "python3"
    }
  },
  "cells": [
    {
      "cell_type": "markdown",
      "metadata": {
        "id": "view-in-github",
        "colab_type": "text"
      },
      "source": [
        "<a href=\"https://colab.research.google.com/github/debora28/pi-2020.2/blob/main/Data_Science_MelhoriasParciais.ipynb\" target=\"_parent\"><img src=\"https://colab.research.google.com/assets/colab-badge.svg\" alt=\"Open In Colab\"/></a>"
      ]
    },
    {
      "cell_type": "markdown",
      "metadata": {
        "id": "SD2yapzx3dy6"
      },
      "source": [
        "# MODELO DE PREDIÇÃO DE CRIME DE ROUBO OU FURTO CONSIDERANDO DETERMINADOS PADRÕES\r\n",
        "*O presente modelo tem como base o dataset publicado no Kaggle (https://www.kaggle.com/inquisitivecrow/crime-data-in-brazil) que contém uma coletânea de registros de boletins de ocorrência do estado de São Paulo no período de 2007 a 2016, oriundos do Sistema de Registro Digital de Ocorrências (R.D.O. em www.ssp.sp.gov.br). Os dados foram distribuídos em 21 tabelas, sendo alvo deste estudo apenas a tabela BO_2014_1 referente ao primeiro semestre do ano de 2014. A tabela original continha 954.113 registros de BO's, entretanto, apenas os 10.000 primeiros foram utilizados por motivos de desempenho computacional e por se tratar de um trabalho acadêmico. Os padrões observados para este modelo foram o horário da ocorrência, identificação da delegacia, cidade, idade da pessoa, meio de transporte (aqui chamado de 'conduta'), sexo e profissão, que já constam no dataset e foram considerados relevantes para a classificação.*\r\n",
        "\r\n",
        "**Equipe**: \r\n",
        "\r\n",
        "Débora Caldas, Renan Urbano, Matheus Guerra, Horlando Leão, Héber Teófilo, Pablo Danillo, Rodrigo Vilemen."
      ]
    },
    {
      "cell_type": "markdown",
      "metadata": {
        "id": "MHBIWHQh5v99"
      },
      "source": [
        "**Siglas e termos:**\r\n",
        "\r\n",
        "*DECAP = Departamento de Polícia Judiciária da Capital;\r\n",
        "\r\n",
        "Descrição das colunas\r\n",
        "* NUM_BO - Identificação numérica do BO,\r\n",
        "* ANO_BO - Ano de registro do BO,\r\n",
        "* ID_DELEGACIA - Identificação numérica da delegacia,\r\n",
        "* NOME_DEPARTAMENTO,\r\n",
        "* NOME_SECCIONAL,\r\n",
        "* DELEGACIA - Nome da delegacia,\r\n",
        "* NOME_DEPARTAMENTO_CIRC,\r\n",
        "* NOME_SECCIONAL_CIRC,\r\n",
        "* NOME_DELEGACIA_CIRC,\r\n",
        "* ANO - Ano da ocorrência,\r\n",
        "* MES - Mês da ocorrência,\r\n",
        "* DATA_OCORRENCIA_BO - Data da ocorrência,\r\n",
        "* HORA_OCORRENCIA_BO - Hora da ocorrência,\r\n",
        "* FLAG_STATUS - Status da ocorrência,\r\n",
        "* RUBRICA - Natureza jurídica da ocorrência especificada pelo tipo de crime,\r\n",
        "* DESDOBRAMENTO - Detalhamento,\r\n",
        "* CONDUTA - Transporte, condução,\r\n",
        "* LATITUDE - Coordenadas da ocorrência,\r\n",
        "* LONGITUDE - Coordenadas da ocorrência,\r\n",
        "* CIDADE - Localização da ocorrência,\r\n",
        "* LOGRADOURO - Localização da ocorrência,\r\n",
        "* NUMERO_LOGRADOURO - Localização da ocorrência,\r\n",
        "* FLAG_STATUS.1 - Status da ocorrência,\r\n",
        "* DESCR_TIPO_PESSOA - Qualificação da pessoa envolvida na ocorrência,\r\n",
        "* CONT_PESSOA - Contagem de pessoas envolvidas na ocorrência,\r\n",
        "* SEXO_PESSOA - Sexo da pessoa envolvida,\r\n",
        "* IDADE_PESSOA - Idade da pessoa envolvida,\r\n",
        "* COR - Cor da pele da pessoa envolvida,\r\n",
        "* DESCR_PROFISSAO - Descrição da profissão da pessoa envolvida,\r\n",
        "* DESCR_GRAU_INSTRUCAO - Descrição do grau de instrução da pessoa envolvida,\r\n"
      ]
    },
    {
      "cell_type": "markdown",
      "metadata": {
        "id": "i_AMA8MW2TgE"
      },
      "source": [
        "#**1. Imports**"
      ]
    },
    {
      "cell_type": "markdown",
      "metadata": {
        "id": "ZbvbC89U_ALA"
      },
      "source": [
        "*Importando bibliotecas necessárias:*"
      ]
    },
    {
      "cell_type": "code",
      "metadata": {
        "id": "6ajaPsiOufgm"
      },
      "source": [
        "import numpy as np\n",
        "import pandas as pd\n",
        "import matplotlib.pyplot as plt\n",
        "%matplotlib inline\n",
        "import seaborn as sns\n",
        "from sklearn import preprocessing\n",
        "from sklearn.metrics import accuracy_score\n",
        "from sklearn.model_selection import train_test_split\n",
        "from sklearn.tree import DecisionTreeClassifier"
      ],
      "execution_count": null,
      "outputs": []
    },
    {
      "cell_type": "markdown",
      "metadata": {
        "id": "gTTHgKOj_Ei2"
      },
      "source": [
        "*Carregando o arquivo csv do GitHub:*"
      ]
    },
    {
      "cell_type": "code",
      "metadata": {
        "id": "QmE7KtmleOdV"
      },
      "source": [
        "url = 'https://raw.githubusercontent.com/debora28/pi-2020.2/main/2014-1-10mil.csv'\r\n",
        "data = pd.read_csv(url)"
      ],
      "execution_count": null,
      "outputs": []
    },
    {
      "cell_type": "markdown",
      "metadata": {
        "id": "Bdi65vns4GYs"
      },
      "source": [
        "#**2.1 Conhecendo e preparando os dados**"
      ]
    },
    {
      "cell_type": "markdown",
      "metadata": {
        "id": "2wIUOG4B1MhE"
      },
      "source": [
        "\r\n",
        "*Visão geral da tabela:*\r\n",
        "\r\n"
      ]
    },
    {
      "cell_type": "markdown",
      "metadata": {
        "id": "qGwbEVl5L7IR"
      },
      "source": [
        "*É formada por 31 colunas, das quais a maior parte é composta por dados qualitativos, organizados como objetos do tipo String:*"
      ]
    },
    {
      "cell_type": "code",
      "metadata": {
        "colab": {
          "base_uri": "https://localhost:8080/"
        },
        "id": "b437dX-ViihY",
        "outputId": "34d3ff2a-ffaa-45f9-f0f2-7d1673ae8990"
      },
      "source": [
        "data.info()"
      ],
      "execution_count": null,
      "outputs": [
        {
          "output_type": "stream",
          "text": [
            "<class 'pandas.core.frame.DataFrame'>\n",
            "RangeIndex: 10000 entries, 0 to 9999\n",
            "Data columns (total 31 columns):\n",
            " #   Column                  Non-Null Count  Dtype  \n",
            "---  ------                  --------------  -----  \n",
            " 0   Unnamed: 0              10000 non-null  int64  \n",
            " 1   NUM_BO                  10000 non-null  int64  \n",
            " 2   ANO_BO                  10000 non-null  int64  \n",
            " 3   ID_DELEGACIA            10000 non-null  int64  \n",
            " 4   NOME_DEPARTAMENTO       10000 non-null  object \n",
            " 5   NOME_SECCIONAL          10000 non-null  object \n",
            " 6   DELEGACIA               10000 non-null  object \n",
            " 7   NOME_DEPARTAMENTO_CIRC  10000 non-null  object \n",
            " 8   NOME_SECCIONAL_CIRC     10000 non-null  object \n",
            " 9   NOME_DELEGACIA_CIRC     10000 non-null  object \n",
            " 10  ANO                     10000 non-null  int64  \n",
            " 11  MES                     10000 non-null  int64  \n",
            " 12  DATA_OCORRENCIA_BO      9913 non-null   object \n",
            " 13  HORA_OCORRENCIA_BO      8960 non-null   object \n",
            " 14  FLAG_STATUS             10000 non-null  object \n",
            " 15  RUBRICA                 10000 non-null  object \n",
            " 16  DESDOBRAMENTO           649 non-null    object \n",
            " 17  CONDUTA                 5165 non-null   object \n",
            " 18  LATITUDE                8407 non-null   object \n",
            " 19  LONGITUDE               8407 non-null   object \n",
            " 20  CIDADE                  10000 non-null  object \n",
            " 21  LOGRADOURO              9571 non-null   object \n",
            " 22  NUMERO_LOGRADOURO       7533 non-null   float64\n",
            " 23  FLAG_STATUS.1           10000 non-null  object \n",
            " 24  DESCR_TIPO_PESSOA       10000 non-null  object \n",
            " 25  CONT_PESSOA             10000 non-null  int64  \n",
            " 26  SEXO_PESSOA             10000 non-null  object \n",
            " 27  IDADE_PESSOA            8098 non-null   float64\n",
            " 28  COR                     7628 non-null   object \n",
            " 29  DESCR_PROFISSAO         6998 non-null   object \n",
            " 30  DESCR_GRAU_INSTRUCAO    7168 non-null   object \n",
            "dtypes: float64(2), int64(7), object(22)\n",
            "memory usage: 2.4+ MB\n"
          ],
          "name": "stdout"
        }
      ]
    },
    {
      "cell_type": "markdown",
      "metadata": {
        "id": "hEQpAtjLkqeR"
      },
      "source": [
        "*Verificamos que as colunas Unnamed: 0 (um índice numérico sem lógica sequencial), Nome_Departamento, Nome_Seccional, Delegacia, Nome_Departamento_Circ, Nome_Seccional_Circ, Nome_Delegacia_Circ, Flag_Status, Desdobramento, Numero_Logradouro, Flag_Status.1 não seriam relevantes nesse contexo, portanto foram removidas:*"
      ]
    },
    {
      "cell_type": "code",
      "metadata": {
        "colab": {
          "base_uri": "https://localhost:8080/",
          "height": 326
        },
        "id": "DG4FNXvF-it_",
        "outputId": "be552146-dd05-4fe5-bddd-bdc1c92c679d"
      },
      "source": [
        "data.head()"
      ],
      "execution_count": null,
      "outputs": [
        {
          "output_type": "execute_result",
          "data": {
            "text/html": [
              "<div>\n",
              "<style scoped>\n",
              "    .dataframe tbody tr th:only-of-type {\n",
              "        vertical-align: middle;\n",
              "    }\n",
              "\n",
              "    .dataframe tbody tr th {\n",
              "        vertical-align: top;\n",
              "    }\n",
              "\n",
              "    .dataframe thead th {\n",
              "        text-align: right;\n",
              "    }\n",
              "</style>\n",
              "<table border=\"1\" class=\"dataframe\">\n",
              "  <thead>\n",
              "    <tr style=\"text-align: right;\">\n",
              "      <th></th>\n",
              "      <th>Unnamed: 0</th>\n",
              "      <th>NUM_BO</th>\n",
              "      <th>ANO_BO</th>\n",
              "      <th>ID_DELEGACIA</th>\n",
              "      <th>NOME_DEPARTAMENTO</th>\n",
              "      <th>NOME_SECCIONAL</th>\n",
              "      <th>DELEGACIA</th>\n",
              "      <th>NOME_DEPARTAMENTO_CIRC</th>\n",
              "      <th>NOME_SECCIONAL_CIRC</th>\n",
              "      <th>NOME_DELEGACIA_CIRC</th>\n",
              "      <th>ANO</th>\n",
              "      <th>MES</th>\n",
              "      <th>DATA_OCORRENCIA_BO</th>\n",
              "      <th>HORA_OCORRENCIA_BO</th>\n",
              "      <th>FLAG_STATUS</th>\n",
              "      <th>RUBRICA</th>\n",
              "      <th>DESDOBRAMENTO</th>\n",
              "      <th>CONDUTA</th>\n",
              "      <th>LATITUDE</th>\n",
              "      <th>LONGITUDE</th>\n",
              "      <th>CIDADE</th>\n",
              "      <th>LOGRADOURO</th>\n",
              "      <th>NUMERO_LOGRADOURO</th>\n",
              "      <th>FLAG_STATUS.1</th>\n",
              "      <th>DESCR_TIPO_PESSOA</th>\n",
              "      <th>CONT_PESSOA</th>\n",
              "      <th>SEXO_PESSOA</th>\n",
              "      <th>IDADE_PESSOA</th>\n",
              "      <th>COR</th>\n",
              "      <th>DESCR_PROFISSAO</th>\n",
              "      <th>DESCR_GRAU_INSTRUCAO</th>\n",
              "    </tr>\n",
              "  </thead>\n",
              "  <tbody>\n",
              "    <tr>\n",
              "      <th>0</th>\n",
              "      <td>243</td>\n",
              "      <td>2</td>\n",
              "      <td>2014</td>\n",
              "      <td>280401</td>\n",
              "      <td>DEMACRO</td>\n",
              "      <td>DEL.SEC.CARAPICUIBA</td>\n",
              "      <td>DISE- DEL.SEC.CARAPICUIBA</td>\n",
              "      <td>DEMACRO</td>\n",
              "      <td>DEL.SEC.CARAPICUIBA</td>\n",
              "      <td>01 D.P. BARUERI</td>\n",
              "      <td>2014</td>\n",
              "      <td>2</td>\n",
              "      <td>26/02/2014</td>\n",
              "      <td>17:00</td>\n",
              "      <td>C</td>\n",
              "      <td>Drogas</td>\n",
              "      <td>NaN</td>\n",
              "      <td>NaN</td>\n",
              "      <td>NaN</td>\n",
              "      <td>NaN</td>\n",
              "      <td>BARUERI</td>\n",
              "      <td>R MARIA HELENA</td>\n",
              "      <td>NaN</td>\n",
              "      <td>C</td>\n",
              "      <td>Curador</td>\n",
              "      <td>7</td>\n",
              "      <td>F</td>\n",
              "      <td>51.0</td>\n",
              "      <td>Parda</td>\n",
              "      <td>AUXILIAR DE LIMPEZA</td>\n",
              "      <td>NaN</td>\n",
              "    </tr>\n",
              "    <tr>\n",
              "      <th>1</th>\n",
              "      <td>244</td>\n",
              "      <td>2</td>\n",
              "      <td>2014</td>\n",
              "      <td>280401</td>\n",
              "      <td>DEMACRO</td>\n",
              "      <td>DEL.SEC.CARAPICUIBA</td>\n",
              "      <td>DISE- DEL.SEC.CARAPICUIBA</td>\n",
              "      <td>DEMACRO</td>\n",
              "      <td>DEL.SEC.CARAPICUIBA</td>\n",
              "      <td>01 D.P. BARUERI</td>\n",
              "      <td>2014</td>\n",
              "      <td>2</td>\n",
              "      <td>26/02/2014</td>\n",
              "      <td>17:00</td>\n",
              "      <td>C</td>\n",
              "      <td>Drogas</td>\n",
              "      <td>NaN</td>\n",
              "      <td>NaN</td>\n",
              "      <td>NaN</td>\n",
              "      <td>NaN</td>\n",
              "      <td>BARUERI</td>\n",
              "      <td>R MARIA HELENA</td>\n",
              "      <td>NaN</td>\n",
              "      <td>C</td>\n",
              "      <td>Indiciado</td>\n",
              "      <td>4</td>\n",
              "      <td>M</td>\n",
              "      <td>19.0</td>\n",
              "      <td>Parda</td>\n",
              "      <td>DESEMPREGADO</td>\n",
              "      <td>1 Grau completo</td>\n",
              "    </tr>\n",
              "    <tr>\n",
              "      <th>2</th>\n",
              "      <td>245</td>\n",
              "      <td>2</td>\n",
              "      <td>2014</td>\n",
              "      <td>280401</td>\n",
              "      <td>DEMACRO</td>\n",
              "      <td>DEL.SEC.CARAPICUIBA</td>\n",
              "      <td>DISE- DEL.SEC.CARAPICUIBA</td>\n",
              "      <td>DEMACRO</td>\n",
              "      <td>DEL.SEC.CARAPICUIBA</td>\n",
              "      <td>01 D.P. BARUERI</td>\n",
              "      <td>2014</td>\n",
              "      <td>2</td>\n",
              "      <td>26/02/2014</td>\n",
              "      <td>17:00</td>\n",
              "      <td>C</td>\n",
              "      <td>Drogas</td>\n",
              "      <td>NaN</td>\n",
              "      <td>NaN</td>\n",
              "      <td>NaN</td>\n",
              "      <td>NaN</td>\n",
              "      <td>BARUERI</td>\n",
              "      <td>R MARIA HELENA</td>\n",
              "      <td>NaN</td>\n",
              "      <td>C</td>\n",
              "      <td>Testemunha</td>\n",
              "      <td>2</td>\n",
              "      <td>M</td>\n",
              "      <td>38.0</td>\n",
              "      <td>NaN</td>\n",
              "      <td>INVESTIGADOR(A)</td>\n",
              "      <td>Superior completo</td>\n",
              "    </tr>\n",
              "    <tr>\n",
              "      <th>3</th>\n",
              "      <td>246</td>\n",
              "      <td>2</td>\n",
              "      <td>2014</td>\n",
              "      <td>280401</td>\n",
              "      <td>DEMACRO</td>\n",
              "      <td>DEL.SEC.CARAPICUIBA</td>\n",
              "      <td>DISE- DEL.SEC.CARAPICUIBA</td>\n",
              "      <td>DEMACRO</td>\n",
              "      <td>DEL.SEC.CARAPICUIBA</td>\n",
              "      <td>01 D.P. BARUERI</td>\n",
              "      <td>2014</td>\n",
              "      <td>2</td>\n",
              "      <td>26/02/2014</td>\n",
              "      <td>17:00</td>\n",
              "      <td>C</td>\n",
              "      <td>Drogas</td>\n",
              "      <td>NaN</td>\n",
              "      <td>NaN</td>\n",
              "      <td>NaN</td>\n",
              "      <td>NaN</td>\n",
              "      <td>BARUERI</td>\n",
              "      <td>R MARIA HELENA</td>\n",
              "      <td>NaN</td>\n",
              "      <td>C</td>\n",
              "      <td>Testemunha</td>\n",
              "      <td>6</td>\n",
              "      <td>M</td>\n",
              "      <td>23.0</td>\n",
              "      <td>Parda</td>\n",
              "      <td>DESEMPREGADO</td>\n",
              "      <td>2 Grau completo</td>\n",
              "    </tr>\n",
              "    <tr>\n",
              "      <th>4</th>\n",
              "      <td>270</td>\n",
              "      <td>3</td>\n",
              "      <td>2014</td>\n",
              "      <td>30314</td>\n",
              "      <td>DEMACRO</td>\n",
              "      <td>DEL.SEC.MOGI DAS CRUZES</td>\n",
              "      <td>DISE- DEL.SEC.MOGI DAS CRUZES</td>\n",
              "      <td>DEMACRO</td>\n",
              "      <td>DEL.SEC.MOGI DAS CRUZES</td>\n",
              "      <td>DEL.POL.ITAQUAQUECETUBA</td>\n",
              "      <td>2014</td>\n",
              "      <td>1</td>\n",
              "      <td>14/01/2014</td>\n",
              "      <td>17:00</td>\n",
              "      <td>C</td>\n",
              "      <td>Drogas</td>\n",
              "      <td>NaN</td>\n",
              "      <td>NaN</td>\n",
              "      <td>-2.348.960.369</td>\n",
              "      <td>-4.637.155.072</td>\n",
              "      <td>ITAQUAQUECETUBA</td>\n",
              "      <td>R UBATUBA</td>\n",
              "      <td>162.0</td>\n",
              "      <td>C</td>\n",
              "      <td>Testemunha</td>\n",
              "      <td>1</td>\n",
              "      <td>M</td>\n",
              "      <td>40.0</td>\n",
              "      <td>NaN</td>\n",
              "      <td>POLICIAL CIVIL</td>\n",
              "      <td>2 Grau completo</td>\n",
              "    </tr>\n",
              "  </tbody>\n",
              "</table>\n",
              "</div>"
            ],
            "text/plain": [
              "   Unnamed: 0  NUM_BO  ANO_BO  ...    COR      DESCR_PROFISSAO DESCR_GRAU_INSTRUCAO\n",
              "0         243       2    2014  ...  Parda  AUXILIAR DE LIMPEZA                  NaN\n",
              "1         244       2    2014  ...  Parda         DESEMPREGADO      1 Grau completo\n",
              "2         245       2    2014  ...    NaN      INVESTIGADOR(A)    Superior completo\n",
              "3         246       2    2014  ...  Parda         DESEMPREGADO      2 Grau completo\n",
              "4         270       3    2014  ...    NaN       POLICIAL CIVIL      2 Grau completo\n",
              "\n",
              "[5 rows x 31 columns]"
            ]
          },
          "metadata": {
            "tags": []
          },
          "execution_count": 39
        }
      ]
    },
    {
      "cell_type": "code",
      "metadata": {
        "colab": {
          "base_uri": "https://localhost:8080/",
          "height": 69
        },
        "id": "ZHbA6vbaODrq",
        "outputId": "08883ce5-0b8f-4d0b-9ff3-6b3665e38d69"
      },
      "source": [
        "data = data.drop(columns=['Unnamed: 0', 'NOME_DEPARTAMENTO', 'NOME_SECCIONAL', 'DELEGACIA', 'NOME_DEPARTAMENTO_CIRC', 'NOME_SECCIONAL_CIRC', 'NOME_DELEGACIA_CIRC', 'FLAG_STATUS', 'DESDOBRAMENTO', 'NUMERO_LOGRADOURO', 'FLAG_STATUS.1'], axis=1)\n",
        "data.head(0)"
      ],
      "execution_count": null,
      "outputs": [
        {
          "output_type": "execute_result",
          "data": {
            "text/html": [
              "<div>\n",
              "<style scoped>\n",
              "    .dataframe tbody tr th:only-of-type {\n",
              "        vertical-align: middle;\n",
              "    }\n",
              "\n",
              "    .dataframe tbody tr th {\n",
              "        vertical-align: top;\n",
              "    }\n",
              "\n",
              "    .dataframe thead th {\n",
              "        text-align: right;\n",
              "    }\n",
              "</style>\n",
              "<table border=\"1\" class=\"dataframe\">\n",
              "  <thead>\n",
              "    <tr style=\"text-align: right;\">\n",
              "      <th></th>\n",
              "      <th>NUM_BO</th>\n",
              "      <th>ANO_BO</th>\n",
              "      <th>ID_DELEGACIA</th>\n",
              "      <th>ANO</th>\n",
              "      <th>MES</th>\n",
              "      <th>DATA_OCORRENCIA_BO</th>\n",
              "      <th>HORA_OCORRENCIA_BO</th>\n",
              "      <th>RUBRICA</th>\n",
              "      <th>CONDUTA</th>\n",
              "      <th>LATITUDE</th>\n",
              "      <th>LONGITUDE</th>\n",
              "      <th>CIDADE</th>\n",
              "      <th>LOGRADOURO</th>\n",
              "      <th>DESCR_TIPO_PESSOA</th>\n",
              "      <th>CONT_PESSOA</th>\n",
              "      <th>SEXO_PESSOA</th>\n",
              "      <th>IDADE_PESSOA</th>\n",
              "      <th>COR</th>\n",
              "      <th>DESCR_PROFISSAO</th>\n",
              "      <th>DESCR_GRAU_INSTRUCAO</th>\n",
              "    </tr>\n",
              "  </thead>\n",
              "  <tbody>\n",
              "  </tbody>\n",
              "</table>\n",
              "</div>"
            ],
            "text/plain": [
              "Empty DataFrame\n",
              "Columns: [NUM_BO, ANO_BO, ID_DELEGACIA, ANO, MES, DATA_OCORRENCIA_BO, HORA_OCORRENCIA_BO, RUBRICA, CONDUTA, LATITUDE, LONGITUDE, CIDADE, LOGRADOURO, DESCR_TIPO_PESSOA, CONT_PESSOA, SEXO_PESSOA, IDADE_PESSOA, COR, DESCR_PROFISSAO, DESCR_GRAU_INSTRUCAO]\n",
              "Index: []"
            ]
          },
          "metadata": {
            "tags": []
          },
          "execution_count": 40
        }
      ]
    },
    {
      "cell_type": "markdown",
      "metadata": {
        "id": "8vyBtodR6dn1"
      },
      "source": [
        "*A tabela atual possui 10.000 linhas (1,05% do total original de 954.113 linhas) e 20 colunas (já que 11 foram removidas anteriormente):*"
      ]
    },
    {
      "cell_type": "code",
      "metadata": {
        "colab": {
          "base_uri": "https://localhost:8080/"
        },
        "id": "RJzpGPTmaCbd",
        "outputId": "dc486bd5-57f9-41ed-db3d-25306ca16fe9"
      },
      "source": [
        "data.shape"
      ],
      "execution_count": null,
      "outputs": [
        {
          "output_type": "execute_result",
          "data": {
            "text/plain": [
              "(10000, 20)"
            ]
          },
          "metadata": {
            "tags": []
          },
          "execution_count": 41
        }
      ]
    },
    {
      "cell_type": "markdown",
      "metadata": {
        "id": "Ywvy72I42K8f"
      },
      "source": [
        "*É necessário remover campos nulos (NA - Not Available e NaN - Not a Number) na tabela ou preenchê-los para aumentar a qualidade dos dados, portanto, o próximo passo é procurar quais colunas possuem campos Na ou NaN (True):*"
      ]
    },
    {
      "cell_type": "code",
      "metadata": {
        "colab": {
          "base_uri": "https://localhost:8080/"
        },
        "id": "oobLaXSKlV6-",
        "outputId": "902640a2-6891-46c2-bfbb-78d6fd6dde73"
      },
      "source": [
        "data.isnull().any()"
      ],
      "execution_count": null,
      "outputs": [
        {
          "output_type": "execute_result",
          "data": {
            "text/plain": [
              "NUM_BO                  False\n",
              "ANO_BO                  False\n",
              "ID_DELEGACIA            False\n",
              "ANO                     False\n",
              "MES                     False\n",
              "DATA_OCORRENCIA_BO       True\n",
              "HORA_OCORRENCIA_BO       True\n",
              "RUBRICA                 False\n",
              "CONDUTA                  True\n",
              "LATITUDE                 True\n",
              "LONGITUDE                True\n",
              "CIDADE                  False\n",
              "LOGRADOURO               True\n",
              "DESCR_TIPO_PESSOA       False\n",
              "CONT_PESSOA             False\n",
              "SEXO_PESSOA             False\n",
              "IDADE_PESSOA             True\n",
              "COR                      True\n",
              "DESCR_PROFISSAO          True\n",
              "DESCR_GRAU_INSTRUCAO     True\n",
              "dtype: bool"
            ]
          },
          "metadata": {
            "tags": []
          },
          "execution_count": 42
        }
      ]
    },
    {
      "cell_type": "markdown",
      "metadata": {
        "id": "2uWCD5lGR9ea"
      },
      "source": [
        "*Então, é preciso quantificar esses campos nulos para se ter uma noção de quais colunas são mais críticas ou passíveis de serem removidas por insuficiência de dados:*"
      ]
    },
    {
      "cell_type": "code",
      "metadata": {
        "colab": {
          "base_uri": "https://localhost:8080/"
        },
        "id": "TAGDs3A1M8bt",
        "outputId": "c822e0fd-1de8-487f-8aa0-b3ab60d66b4e"
      },
      "source": [
        "print(data.isnull().sum())"
      ],
      "execution_count": null,
      "outputs": [
        {
          "output_type": "stream",
          "text": [
            "NUM_BO                     0\n",
            "ANO_BO                     0\n",
            "ID_DELEGACIA               0\n",
            "ANO                        0\n",
            "MES                        0\n",
            "DATA_OCORRENCIA_BO        87\n",
            "HORA_OCORRENCIA_BO      1040\n",
            "RUBRICA                    0\n",
            "CONDUTA                 4835\n",
            "LATITUDE                1593\n",
            "LONGITUDE               1593\n",
            "CIDADE                     0\n",
            "LOGRADOURO               429\n",
            "DESCR_TIPO_PESSOA          0\n",
            "CONT_PESSOA                0\n",
            "SEXO_PESSOA                0\n",
            "IDADE_PESSOA            1902\n",
            "COR                     2372\n",
            "DESCR_PROFISSAO         3002\n",
            "DESCR_GRAU_INSTRUCAO    2832\n",
            "dtype: int64\n"
          ],
          "name": "stdout"
        }
      ]
    },
    {
      "cell_type": "code",
      "metadata": {
        "colab": {
          "base_uri": "https://localhost:8080/"
        },
        "id": "QPsg0qTNk6rs",
        "outputId": "38fb478d-5c8f-4938-c675-e92377f094f0"
      },
      "source": [
        "data.isnull().sum().sum()"
      ],
      "execution_count": null,
      "outputs": [
        {
          "output_type": "execute_result",
          "data": {
            "text/plain": [
              "19685"
            ]
          },
          "metadata": {
            "tags": []
          },
          "execution_count": 44
        }
      ]
    },
    {
      "cell_type": "markdown",
      "metadata": {
        "id": "nd3gIdb_1bFT"
      },
      "source": [
        "*Podemos ver que há 19.685 campos vazios na tabela distribuídos em 10 colunas.*"
      ]
    },
    {
      "cell_type": "markdown",
      "metadata": {
        "id": "vY0mR-uFkw7y"
      },
      "source": [
        "*Assim, deve-se preenchê-los com os valores mais frequentes de cada coluna. Nas colunas numéricas, usou-se a moda:*"
      ]
    },
    {
      "cell_type": "markdown",
      "metadata": {
        "id": "L65Fb-tFK15C"
      },
      "source": [
        "*No caso da coluna CONDUTA, a palavra 'Veículo' ocorreu com mais frequência, ou seja, a maioria dos envolvidos estava com um veículo no momento da ocorrência, então essa será usada para preencher os campos vazios.*"
      ]
    },
    {
      "cell_type": "code",
      "metadata": {
        "colab": {
          "base_uri": "https://localhost:8080/"
        },
        "id": "huv6q5N3nnhd",
        "outputId": "cf6f2821-fd0e-4910-f16d-5cd7177a88fa"
      },
      "source": [
        "data['CONDUTA'].value_counts()"
      ],
      "execution_count": null,
      "outputs": [
        {
          "output_type": "execute_result",
          "data": {
            "text/plain": [
              "VEICULO                         1386\n",
              "TRANSEUNTE                      1369\n",
              "OUTROS                           681\n",
              "RESIDENCIA                       422\n",
              "INTERIOR DE VEICULO              354\n",
              "ESTABELECIMENTO COMERCIAL        326\n",
              "CARGA                            273\n",
              "INTERIOR ESTABELECIMENTO         112\n",
              "ESTABELECIMENTO BANCARIO          75\n",
              "ESTABELECIMENTO-OUTROS            62\n",
              "INTERIOR TRANSPORTE COLETIVO      46\n",
              "ESTABELECIMENTO ENSINO            37\n",
              "COLETIVO                          13\n",
              "CONDOMINIO RESIDENCIAL             7\n",
              "CONDOMINIO COMERCIAL               2\n",
              "Name: CONDUTA, dtype: int64"
            ]
          },
          "metadata": {
            "tags": []
          },
          "execution_count": 45
        }
      ]
    },
    {
      "cell_type": "code",
      "metadata": {
        "id": "I_h81za9LJ3i"
      },
      "source": [
        "data['CONDUTA'].fillna('VEICULO', inplace=True)"
      ],
      "execution_count": null,
      "outputs": []
    },
    {
      "cell_type": "markdown",
      "metadata": {
        "id": "f8f9ixA5LEaA"
      },
      "source": [
        "*O mesmo será feito com as demais colunas:\r\n",
        "Na coluna LATITUDE, o valor '-23.71286115' é o mais indicado para preencher os campos.*"
      ]
    },
    {
      "cell_type": "code",
      "metadata": {
        "id": "gQ9Jc7iiNKIi"
      },
      "source": [
        "x = data['LATITUDE'].mode()\r\n",
        "data['LATITUDE'].fillna('-23.71286115', inplace=True)"
      ],
      "execution_count": null,
      "outputs": []
    },
    {
      "cell_type": "markdown",
      "metadata": {
        "id": "WF4x06AhTixL"
      },
      "source": [
        "*E na coluna LONGITUDE, o valor '-46.78186771' é o mais indicado.*"
      ]
    },
    {
      "cell_type": "code",
      "metadata": {
        "id": "2XHdogdRNPPj"
      },
      "source": [
        "x = data['LONGITUDE'].mode()\r\n",
        "data['LONGITUDE'].fillna('-46.78186771', inplace=True)"
      ],
      "execution_count": null,
      "outputs": []
    },
    {
      "cell_type": "markdown",
      "metadata": {
        "id": "PrXebR2ZT5et"
      },
      "source": [
        "*De igual modo, '01/01/2014' é a data que mais aparece:*"
      ]
    },
    {
      "cell_type": "code",
      "metadata": {
        "id": "FQ5rJ4wrcugV"
      },
      "source": [
        "x = data['DATA_OCORRENCIA_BO'].mode()\r\n",
        "data['DATA_OCORRENCIA_BO'].fillna('01/01/2014', inplace=True)"
      ],
      "execution_count": null,
      "outputs": []
    },
    {
      "cell_type": "markdown",
      "metadata": {
        "id": "l4oUx5ZIUC1E"
      },
      "source": [
        "*Bem como o horário '12:00':*"
      ]
    },
    {
      "cell_type": "code",
      "metadata": {
        "id": "8Jt305cedmay"
      },
      "source": [
        "x = data['HORA_OCORRENCIA_BO'].mode()\r\n",
        "data['HORA_OCORRENCIA_BO'].fillna('12:00', inplace=True)"
      ],
      "execution_count": null,
      "outputs": []
    },
    {
      "cell_type": "markdown",
      "metadata": {
        "id": "Zfj1xxdiUKfC"
      },
      "source": [
        "*A Avenida Sapopemba é o Logradouro mais citado:*\r\n",
        "\r\n",
        "\r\n"
      ]
    },
    {
      "cell_type": "code",
      "metadata": {
        "colab": {
          "base_uri": "https://localhost:8080/"
        },
        "id": "33zZOrUsnfOM",
        "outputId": "8b2e6c03-eb8b-470c-f42f-da9fd786c29c"
      },
      "source": [
        "data['LOGRADOURO'].value_counts()"
      ],
      "execution_count": null,
      "outputs": [
        {
          "output_type": "execute_result",
          "data": {
            "text/plain": [
              "AV SAPOPEMBA                    65\n",
              "EST DO M BOI MIRIM              54\n",
              "AV DO ESTADO                    39\n",
              "R APA                           35\n",
              "AV CELSO GARCIA                 34\n",
              "                                ..\n",
              "R RAULINO DE OLIVEIRA            1\n",
              "R GRA BRETANHA                   1\n",
              "RUA AMALIA EUGENIA               1\n",
              "EST VEREDAS                      1\n",
              "ESTACAO LUZ/BARRA FUNDA/CPTM     1\n",
              "Name: LOGRADOURO, Length: 3186, dtype: int64"
            ]
          },
          "metadata": {
            "tags": []
          },
          "execution_count": 51
        }
      ]
    },
    {
      "cell_type": "code",
      "metadata": {
        "id": "-iqgzBOMeMfD"
      },
      "source": [
        "data['LOGRADOURO'].fillna('AV SAPOPEMBA', inplace=True)"
      ],
      "execution_count": null,
      "outputs": []
    },
    {
      "cell_type": "markdown",
      "metadata": {
        "id": "Dz3vfN0lUQCy"
      },
      "source": [
        "*E a cor da pele da maioria das pessoas envolvidas é branca, seguida da cor parda:*"
      ]
    },
    {
      "cell_type": "code",
      "metadata": {
        "colab": {
          "base_uri": "https://localhost:8080/"
        },
        "id": "gpmNm6OJehSs",
        "outputId": "c35f4c38-f354-4bfb-cba5-5d3c46ee80b3"
      },
      "source": [
        "data['COR'].value_counts()"
      ],
      "execution_count": null,
      "outputs": [
        {
          "output_type": "execute_result",
          "data": {
            "text/plain": [
              "Branca     4166\n",
              "Parda      2517\n",
              "Preta       575\n",
              "Outros      334\n",
              "Amarela      36\n",
              "Name: COR, dtype: int64"
            ]
          },
          "metadata": {
            "tags": []
          },
          "execution_count": 53
        }
      ]
    },
    {
      "cell_type": "code",
      "metadata": {
        "id": "IGoJIKSrjqD-"
      },
      "source": [
        "data['COR'].fillna('Branca', inplace=True)"
      ],
      "execution_count": null,
      "outputs": []
    },
    {
      "cell_type": "markdown",
      "metadata": {
        "id": "_ZMGxVifUfez"
      },
      "source": [
        "*Foi verificado também que a idade média (51 anos) não refletia a realidade, já que foi elevada pela ocorrência atípica de pessoa com 100 anos, estando a maioria entre 26 e 38 anos. Portanto, a idade usada para preencher os espaços, em lugar de usar a média, foi de 30 anos que foi a mais frequente, apesar de haver outros registros com quantidades bem próximas:*"
      ]
    },
    {
      "cell_type": "code",
      "metadata": {
        "colab": {
          "base_uri": "https://localhost:8080/"
        },
        "id": "JKHv-C6ypCgb",
        "outputId": "f70dc877-b13f-4afe-91c4-ad2035b6a732"
      },
      "source": [
        "data['IDADE_PESSOA'].mean"
      ],
      "execution_count": null,
      "outputs": [
        {
          "output_type": "execute_result",
          "data": {
            "text/plain": [
              "<bound method Series.mean of 0       51.0\n",
              "1       19.0\n",
              "2       38.0\n",
              "3       23.0\n",
              "4       40.0\n",
              "        ... \n",
              "9995    35.0\n",
              "9996    29.0\n",
              "9997    41.0\n",
              "9998    46.0\n",
              "9999    26.0\n",
              "Name: IDADE_PESSOA, Length: 10000, dtype: float64>"
            ]
          },
          "metadata": {
            "tags": []
          },
          "execution_count": 55
        }
      ]
    },
    {
      "cell_type": "code",
      "metadata": {
        "colab": {
          "base_uri": "https://localhost:8080/"
        },
        "id": "OQU9Cn8RehGG",
        "outputId": "be09e066-2225-4931-c720-52060003ce0b"
      },
      "source": [
        "data['IDADE_PESSOA'].value_counts()"
      ],
      "execution_count": null,
      "outputs": [
        {
          "output_type": "execute_result",
          "data": {
            "text/plain": [
              "30.0     269\n",
              "26.0     260\n",
              "33.0     256\n",
              "28.0     245\n",
              "38.0     241\n",
              "        ... \n",
              "103.0      1\n",
              "87.0       1\n",
              "91.0       1\n",
              "89.0       1\n",
              "88.0       1\n",
              "Name: IDADE_PESSOA, Length: 92, dtype: int64"
            ]
          },
          "metadata": {
            "tags": []
          },
          "execution_count": 56
        }
      ]
    },
    {
      "cell_type": "code",
      "metadata": {
        "id": "VLr_9BNyebyY"
      },
      "source": [
        "data['IDADE_PESSOA'].fillna('30', inplace=True)"
      ],
      "execution_count": null,
      "outputs": []
    },
    {
      "cell_type": "markdown",
      "metadata": {
        "id": "XjkQLBmCVRUY"
      },
      "source": [
        "*A profissão que mais apareceu nos BOs foi a de policial (militar e civil), talvez em decorrência da periculosidade típica do ofício:*"
      ]
    },
    {
      "cell_type": "code",
      "metadata": {
        "colab": {
          "base_uri": "https://localhost:8080/"
        },
        "id": "oHp6qe45ehsk",
        "outputId": "107e2a6e-c019-4e4e-9121-f699cdc9f946"
      },
      "source": [
        "data['DESCR_PROFISSAO'].value_counts()"
      ],
      "execution_count": null,
      "outputs": [
        {
          "output_type": "execute_result",
          "data": {
            "text/plain": [
              "POLICIAL MILITAR                827\n",
              "POLICIAL CIVIL                  721\n",
              "ESTUDANTE                       308\n",
              "MOTORISTA                       300\n",
              "DESEMPREGADO                    281\n",
              "                               ... \n",
              "AUXILIAR TEC DE REFRIGERACAO      1\n",
              "SOCIOLOGO(A)                      1\n",
              "REVISOR                           1\n",
              "TECNICO EM NUTRICAO               1\n",
              "GERENTE DE MERCADO                1\n",
              "Name: DESCR_PROFISSAO, Length: 417, dtype: int64"
            ]
          },
          "metadata": {
            "tags": []
          },
          "execution_count": 58
        }
      ]
    },
    {
      "cell_type": "code",
      "metadata": {
        "id": "ZTvBNDr3efUL"
      },
      "source": [
        "data['DESCR_PROFISSAO'].fillna('POLICIAL MILITAR', inplace=True)"
      ],
      "execution_count": null,
      "outputs": []
    },
    {
      "cell_type": "markdown",
      "metadata": {
        "id": "pbWChdPhWFkh"
      },
      "source": [
        "*E, por fim, verificamos que a maioria tem o segundo grau completo:*"
      ]
    },
    {
      "cell_type": "code",
      "metadata": {
        "colab": {
          "base_uri": "https://localhost:8080/"
        },
        "id": "OAc5D8Oms-B9",
        "outputId": "b10cde6c-176e-4431-f14d-1957ad52c54d"
      },
      "source": [
        "data['DESCR_GRAU_INSTRUCAO'].value_counts()"
      ],
      "execution_count": null,
      "outputs": [
        {
          "output_type": "execute_result",
          "data": {
            "text/plain": [
              "2 Grau completo        2780\n",
              "1 Grau completo        1882\n",
              "Superior completo      1310\n",
              "1 Grau incompleto       574\n",
              "Superior incompleto     321\n",
              "2 Grau incompleto       227\n",
              "Analfabeto               74\n",
              "Name: DESCR_GRAU_INSTRUCAO, dtype: int64"
            ]
          },
          "metadata": {
            "tags": []
          },
          "execution_count": 60
        }
      ]
    },
    {
      "cell_type": "code",
      "metadata": {
        "id": "WwHr1y1Gs6DE"
      },
      "source": [
        "data['DESCR_GRAU_INSTRUCAO'].fillna('2 Grau completo', inplace=True)"
      ],
      "execution_count": null,
      "outputs": []
    },
    {
      "cell_type": "markdown",
      "metadata": {
        "id": "7mS12_kCLL1b"
      },
      "source": [
        "*Agora conferimos que os campos estão totalmente preenchidos, então a pesquisa por nulos retorna False:*"
      ]
    },
    {
      "cell_type": "code",
      "metadata": {
        "colab": {
          "base_uri": "https://localhost:8080/"
        },
        "id": "YAZCNWRCSARl",
        "outputId": "0c28f257-b266-4717-f89b-02d29d003362"
      },
      "source": [
        "print(data.isnull().any())"
      ],
      "execution_count": null,
      "outputs": [
        {
          "output_type": "stream",
          "text": [
            "NUM_BO                  False\n",
            "ANO_BO                  False\n",
            "ID_DELEGACIA            False\n",
            "ANO                     False\n",
            "MES                     False\n",
            "DATA_OCORRENCIA_BO      False\n",
            "HORA_OCORRENCIA_BO      False\n",
            "RUBRICA                 False\n",
            "CONDUTA                 False\n",
            "LATITUDE                False\n",
            "LONGITUDE               False\n",
            "CIDADE                  False\n",
            "LOGRADOURO              False\n",
            "DESCR_TIPO_PESSOA       False\n",
            "CONT_PESSOA             False\n",
            "SEXO_PESSOA             False\n",
            "IDADE_PESSOA            False\n",
            "COR                     False\n",
            "DESCR_PROFISSAO         False\n",
            "DESCR_GRAU_INSTRUCAO    False\n",
            "dtype: bool\n"
          ],
          "name": "stdout"
        }
      ]
    },
    {
      "cell_type": "code",
      "metadata": {
        "colab": {
          "base_uri": "https://localhost:8080/"
        },
        "id": "_wL7c58hmomj",
        "outputId": "9c36ce05-0381-4531-b0e0-36e6beac2c82"
      },
      "source": [
        "print(data.isnull().sum())"
      ],
      "execution_count": null,
      "outputs": [
        {
          "output_type": "stream",
          "text": [
            "NUM_BO                  0\n",
            "ANO_BO                  0\n",
            "ID_DELEGACIA            0\n",
            "ANO                     0\n",
            "MES                     0\n",
            "DATA_OCORRENCIA_BO      0\n",
            "HORA_OCORRENCIA_BO      0\n",
            "RUBRICA                 0\n",
            "CONDUTA                 0\n",
            "LATITUDE                0\n",
            "LONGITUDE               0\n",
            "CIDADE                  0\n",
            "LOGRADOURO              0\n",
            "DESCR_TIPO_PESSOA       0\n",
            "CONT_PESSOA             0\n",
            "SEXO_PESSOA             0\n",
            "IDADE_PESSOA            0\n",
            "COR                     0\n",
            "DESCR_PROFISSAO         0\n",
            "DESCR_GRAU_INSTRUCAO    0\n",
            "dtype: int64\n"
          ],
          "name": "stdout"
        }
      ]
    },
    {
      "cell_type": "markdown",
      "metadata": {
        "id": "50QZclGrjaw9"
      },
      "source": [
        "*Aparentemente, as colunas não guardam nenhuma correlação entre si, de acordo com a matriz de correlação abaixo, na qual nenhum coeficiente ultrapassa 0.5, o que pode significar que não há influência em comum entre elas:\r\n",
        "(Obs.: as colunas ANO e ANO_BO foram abstraídas)*"
      ]
    },
    {
      "cell_type": "code",
      "metadata": {
        "id": "E1UvPShmAnfI"
      },
      "source": [
        "df = data.drop(columns=['ANO_BO', 'ANO'], axis=1)"
      ],
      "execution_count": null,
      "outputs": []
    },
    {
      "cell_type": "code",
      "metadata": {
        "colab": {
          "base_uri": "https://localhost:8080/",
          "height": 173
        },
        "id": "hrSYe0Ym3m_N",
        "outputId": "d96e7c24-61aa-4bc5-ff19-1e2af6918b66"
      },
      "source": [
        "corr = df.corr()\r\n",
        "corr"
      ],
      "execution_count": null,
      "outputs": [
        {
          "output_type": "execute_result",
          "data": {
            "text/html": [
              "<div>\n",
              "<style scoped>\n",
              "    .dataframe tbody tr th:only-of-type {\n",
              "        vertical-align: middle;\n",
              "    }\n",
              "\n",
              "    .dataframe tbody tr th {\n",
              "        vertical-align: top;\n",
              "    }\n",
              "\n",
              "    .dataframe thead th {\n",
              "        text-align: right;\n",
              "    }\n",
              "</style>\n",
              "<table border=\"1\" class=\"dataframe\">\n",
              "  <thead>\n",
              "    <tr style=\"text-align: right;\">\n",
              "      <th></th>\n",
              "      <th>NUM_BO</th>\n",
              "      <th>ID_DELEGACIA</th>\n",
              "      <th>MES</th>\n",
              "      <th>CONT_PESSOA</th>\n",
              "    </tr>\n",
              "  </thead>\n",
              "  <tbody>\n",
              "    <tr>\n",
              "      <th>NUM_BO</th>\n",
              "      <td>1.000000</td>\n",
              "      <td>-0.054977</td>\n",
              "      <td>0.183903</td>\n",
              "      <td>-0.077796</td>\n",
              "    </tr>\n",
              "    <tr>\n",
              "      <th>ID_DELEGACIA</th>\n",
              "      <td>-0.054977</td>\n",
              "      <td>1.000000</td>\n",
              "      <td>0.362619</td>\n",
              "      <td>0.115348</td>\n",
              "    </tr>\n",
              "    <tr>\n",
              "      <th>MES</th>\n",
              "      <td>0.183903</td>\n",
              "      <td>0.362619</td>\n",
              "      <td>1.000000</td>\n",
              "      <td>0.075964</td>\n",
              "    </tr>\n",
              "    <tr>\n",
              "      <th>CONT_PESSOA</th>\n",
              "      <td>-0.077796</td>\n",
              "      <td>0.115348</td>\n",
              "      <td>0.075964</td>\n",
              "      <td>1.000000</td>\n",
              "    </tr>\n",
              "  </tbody>\n",
              "</table>\n",
              "</div>"
            ],
            "text/plain": [
              "                NUM_BO  ID_DELEGACIA       MES  CONT_PESSOA\n",
              "NUM_BO        1.000000     -0.054977  0.183903    -0.077796\n",
              "ID_DELEGACIA -0.054977      1.000000  0.362619     0.115348\n",
              "MES           0.183903      0.362619  1.000000     0.075964\n",
              "CONT_PESSOA  -0.077796      0.115348  0.075964     1.000000"
            ]
          },
          "metadata": {
            "tags": []
          },
          "execution_count": 65
        }
      ]
    },
    {
      "cell_type": "code",
      "metadata": {
        "id": "bt5lqof4EqDw",
        "colab": {
          "base_uri": "https://localhost:8080/",
          "height": 426
        },
        "outputId": "37fae03c-fa36-4409-cf59-65ce2ca6f4b0"
      },
      "source": [
        "sns.heatmap(corr, annot=True)"
      ],
      "execution_count": null,
      "outputs": [
        {
          "output_type": "execute_result",
          "data": {
            "text/plain": [
              "<matplotlib.axes._subplots.AxesSubplot at 0x7f4ab8f618d0>"
            ]
          },
          "metadata": {
            "tags": []
          },
          "execution_count": 89
        },
        {
          "output_type": "display_data",
          "data": {
            "image/png": "[encoded data removed]",
            "text/plain": [
              "<Figure size 432x288 with 2 Axes>"
            ]
          },
          "metadata": {
            "tags": []
          }
        }
      ]
    },
    {
      "cell_type": "markdown",
      "metadata": {
        "id": "kPbGJpFaZ9yA"
      },
      "source": [
        "# **1.1 Conclusões**"
      ]
    },
    {
      "cell_type": "markdown",
      "metadata": {
        "id": "GJ78OyBPLTBs"
      },
      "source": [
        "*Podemos concluir que em média pelo menos 50% dos boletins tinham apenas 2 envolvidos (vítima ou não) e que pelo menos 75% das ocorrências se concentram no mês de janeiro, ainda que os registros sejam de apenas metade do ano. Talvez por esse ser geralmente período de férias o que inclui maior movimentação de pessoas nas ruas e em espaços públicos:*"
      ]
    },
    {
      "cell_type": "code",
      "metadata": {
        "colab": {
          "base_uri": "https://localhost:8080/",
          "height": 297
        },
        "id": "XiJ6s1sC-ZmS",
        "outputId": "4809dcab-4526-46cc-d17b-b9ec54468a83"
      },
      "source": [
        "data.describe()"
      ],
      "execution_count": null,
      "outputs": [
        {
          "output_type": "execute_result",
          "data": {
            "text/html": [
              "<div>\n",
              "<style scoped>\n",
              "    .dataframe tbody tr th:only-of-type {\n",
              "        vertical-align: middle;\n",
              "    }\n",
              "\n",
              "    .dataframe tbody tr th {\n",
              "        vertical-align: top;\n",
              "    }\n",
              "\n",
              "    .dataframe thead th {\n",
              "        text-align: right;\n",
              "    }\n",
              "</style>\n",
              "<table border=\"1\" class=\"dataframe\">\n",
              "  <thead>\n",
              "    <tr style=\"text-align: right;\">\n",
              "      <th></th>\n",
              "      <th>NUM_BO</th>\n",
              "      <th>ANO_BO</th>\n",
              "      <th>ID_DELEGACIA</th>\n",
              "      <th>ANO</th>\n",
              "      <th>MES</th>\n",
              "      <th>CONT_PESSOA</th>\n",
              "    </tr>\n",
              "  </thead>\n",
              "  <tbody>\n",
              "    <tr>\n",
              "      <th>count</th>\n",
              "      <td>10000.000000</td>\n",
              "      <td>10000.0</td>\n",
              "      <td>10000.000000</td>\n",
              "      <td>10000.0</td>\n",
              "      <td>10000.000000</td>\n",
              "      <td>10000.000000</td>\n",
              "    </tr>\n",
              "    <tr>\n",
              "      <th>mean</th>\n",
              "      <td>24.377100</td>\n",
              "      <td>2014.0</td>\n",
              "      <td>76819.235900</td>\n",
              "      <td>2014.0</td>\n",
              "      <td>1.362000</td>\n",
              "      <td>2.625500</td>\n",
              "    </tr>\n",
              "    <tr>\n",
              "      <th>std</th>\n",
              "      <td>16.054192</td>\n",
              "      <td>0.0</td>\n",
              "      <td>110985.447337</td>\n",
              "      <td>0.0</td>\n",
              "      <td>0.898909</td>\n",
              "      <td>1.934276</td>\n",
              "    </tr>\n",
              "    <tr>\n",
              "      <th>min</th>\n",
              "      <td>1.000000</td>\n",
              "      <td>2014.0</td>\n",
              "      <td>10004.000000</td>\n",
              "      <td>2014.0</td>\n",
              "      <td>1.000000</td>\n",
              "      <td>1.000000</td>\n",
              "    </tr>\n",
              "    <tr>\n",
              "      <th>25%</th>\n",
              "      <td>11.000000</td>\n",
              "      <td>2014.0</td>\n",
              "      <td>10365.000000</td>\n",
              "      <td>2014.0</td>\n",
              "      <td>1.000000</td>\n",
              "      <td>1.000000</td>\n",
              "    </tr>\n",
              "    <tr>\n",
              "      <th>50%</th>\n",
              "      <td>21.000000</td>\n",
              "      <td>2014.0</td>\n",
              "      <td>30211.000000</td>\n",
              "      <td>2014.0</td>\n",
              "      <td>1.000000</td>\n",
              "      <td>2.000000</td>\n",
              "    </tr>\n",
              "    <tr>\n",
              "      <th>75%</th>\n",
              "      <td>37.000000</td>\n",
              "      <td>2014.0</td>\n",
              "      <td>140206.000000</td>\n",
              "      <td>2014.0</td>\n",
              "      <td>1.000000</td>\n",
              "      <td>3.000000</td>\n",
              "    </tr>\n",
              "    <tr>\n",
              "      <th>max</th>\n",
              "      <td>63.000000</td>\n",
              "      <td>2014.0</td>\n",
              "      <td>990900.000000</td>\n",
              "      <td>2014.0</td>\n",
              "      <td>6.000000</td>\n",
              "      <td>17.000000</td>\n",
              "    </tr>\n",
              "  </tbody>\n",
              "</table>\n",
              "</div>"
            ],
            "text/plain": [
              "             NUM_BO   ANO_BO  ...           MES   CONT_PESSOA\n",
              "count  10000.000000  10000.0  ...  10000.000000  10000.000000\n",
              "mean      24.377100   2014.0  ...      1.362000      2.625500\n",
              "std       16.054192      0.0  ...      0.898909      1.934276\n",
              "min        1.000000   2014.0  ...      1.000000      1.000000\n",
              "25%       11.000000   2014.0  ...      1.000000      1.000000\n",
              "50%       21.000000   2014.0  ...      1.000000      2.000000\n",
              "75%       37.000000   2014.0  ...      1.000000      3.000000\n",
              "max       63.000000   2014.0  ...      6.000000     17.000000\n",
              "\n",
              "[8 rows x 6 columns]"
            ]
          },
          "metadata": {
            "tags": []
          },
          "execution_count": 66
        }
      ]
    },
    {
      "cell_type": "markdown",
      "metadata": {
        "id": "d4-42PCAbFqR"
      },
      "source": [
        "*Inclusive, os envolvidos são em sua maioria homens. Fato este que talvez contenha alguma relação com o que foi apontado anteriormente (de que a maior parte dos crimes foi sofrido por policiais), considerando as estatísticas de que a área é majoritariamente masculina, apesar da mudança de contexto dos últimos anos:*"
      ]
    },
    {
      "cell_type": "code",
      "metadata": {
        "colab": {
          "base_uri": "https://localhost:8080/"
        },
        "id": "E6JyF9FOQXc7",
        "outputId": "3743028c-aa06-42cc-f0f4-c7c530497433"
      },
      "source": [
        "data.groupby(by='SEXO_PESSOA').size()"
      ],
      "execution_count": null,
      "outputs": [
        {
          "output_type": "execute_result",
          "data": {
            "text/plain": [
              "SEXO_PESSOA\n",
              "F    2335\n",
              "I     166\n",
              "M    7499\n",
              "dtype: int64"
            ]
          },
          "metadata": {
            "tags": []
          },
          "execution_count": 67
        }
      ]
    },
    {
      "cell_type": "markdown",
      "metadata": {
        "id": "f9ZbxfifJQO5"
      },
      "source": [
        "*Corroborando as conclusões anteriores, os dados mostram que 8.126 crimes aconteceram no mês de janeiro em valores absolutos, os quais representam 81,26% do total do semestre (10.000 ocorrências).*"
      ]
    },
    {
      "cell_type": "code",
      "metadata": {
        "colab": {
          "base_uri": "https://localhost:8080/"
        },
        "id": "LJta60VdJMvf",
        "outputId": "7d478700-e21a-4c2b-f0dd-7b4fa706627c"
      },
      "source": [
        "data['MES'].value_counts()"
      ],
      "execution_count": null,
      "outputs": [
        {
          "output_type": "execute_result",
          "data": {
            "text/plain": [
              "1    8126\n",
              "2     904\n",
              "3     481\n",
              "4     278\n",
              "5     135\n",
              "6      76\n",
              "Name: MES, dtype: int64"
            ]
          },
          "metadata": {
            "tags": []
          },
          "execution_count": 68
        }
      ]
    },
    {
      "cell_type": "code",
      "metadata": {
        "colab": {
          "base_uri": "https://localhost:8080/"
        },
        "id": "pkp4p6mRJ-Zx",
        "outputId": "87ca3531-e7fb-44ca-8a5d-12857b080969"
      },
      "source": [
        "data['MES'].value_counts().sum()"
      ],
      "execution_count": null,
      "outputs": [
        {
          "output_type": "execute_result",
          "data": {
            "text/plain": [
              "10000"
            ]
          },
          "metadata": {
            "tags": []
          },
          "execution_count": 69
        }
      ]
    },
    {
      "cell_type": "code",
      "metadata": {
        "id": "3Zf_uKgsfqs2"
      },
      "source": [
        "mes = data[\"MES\"]"
      ],
      "execution_count": null,
      "outputs": []
    },
    {
      "cell_type": "code",
      "metadata": {
        "colab": {
          "base_uri": "https://localhost:8080/",
          "height": 650
        },
        "id": "6WJ9EMESflxV",
        "outputId": "3c3996e8-6ebb-4e70-8f7f-380e8f940f23"
      },
      "source": [
        "plt.style.use('dark_background')\r\n",
        "plt.figure(figsize=(20,10))\r\n",
        "plt.hist(mes, bins=40, color = \"skyblue\", ec=\"darkblue\")\r\n",
        "plt.title('Frequência de Crimes por Mês')\r\n",
        "plt.ylabel('Número de Crimes')\r\n",
        "plt.xlabel('Mês/2016')\r\n",
        "plt.rcParams.update({'font.size': 20})\r\n",
        "plt.show()"
      ],
      "execution_count": null,
      "outputs": [
        {
          "output_type": "display_data",
          "data": {
            "image/png": "[encoded data removed]",
            "text/plain": [
              "<Figure size 1440x720 with 1 Axes>"
            ]
          },
          "metadata": {
            "tags": []
          }
        }
      ]
    },
    {
      "cell_type": "markdown",
      "metadata": {
        "id": "jKHJZ-D2whL3"
      },
      "source": [
        "*E, claramente, vemos o pico de criminalidade ocorrer aproximadamente ao meio-dia:*"
      ]
    },
    {
      "cell_type": "code",
      "metadata": {
        "colab": {
          "base_uri": "https://localhost:8080/"
        },
        "id": "kq-a45esPLk6",
        "outputId": "d4a49477-6ea3-462d-a3b8-a7c222f82c1d"
      },
      "source": [
        "data['HORA_OCORRENCIA_BO'].describe()"
      ],
      "execution_count": null,
      "outputs": [
        {
          "output_type": "execute_result",
          "data": {
            "text/plain": [
              "count     10000\n",
              "unique      484\n",
              "top       12:00\n",
              "freq       1279\n",
              "Name: HORA_OCORRENCIA_BO, dtype: object"
            ]
          },
          "metadata": {
            "tags": []
          },
          "execution_count": 76
        }
      ]
    },
    {
      "cell_type": "code",
      "metadata": {
        "id": "ghfGjgifNzIN"
      },
      "source": [
        "hora = data['HORA_OCORRENCIA_BO']"
      ],
      "execution_count": null,
      "outputs": []
    },
    {
      "cell_type": "code",
      "metadata": {
        "colab": {
          "base_uri": "https://localhost:8080/",
          "height": 965
        },
        "id": "qPd-xQT7M_8N",
        "outputId": "072b5cc7-c6ff-4f5d-9b03-889367516488"
      },
      "source": [
        "plt.style.use('dark_background')\r\n",
        "plt.figure(figsize=(20,10))\r\n",
        "plt.hist(hora, bins=40, color = \"skyblue\", ec=\"darkblue\")\r\n",
        "plt.title('Número de crimes por hora')\r\n",
        "plt.ylabel('Número de Crimes')\r\n",
        "plt.xlabel('Hora')\r\n",
        "plt.rcParams.update({'font.size': 20})\r\n",
        "plt.show()"
      ],
      "execution_count": null,
      "outputs": [
        {
          "output_type": "error",
          "ename": "TypeError",
          "evalue": "ignored",
          "traceback": [
            "\u001b[0;31m---------------------------------------------------------------------------\u001b[0m",
            "\u001b[0;31mTypeError\u001b[0m                                 Traceback (most recent call last)",
            "\u001b[0;32m<ipython-input-87-e1272b8be258>\u001b[0m in \u001b[0;36m<module>\u001b[0;34m()\u001b[0m\n\u001b[1;32m      1\u001b[0m \u001b[0mplt\u001b[0m\u001b[0;34m.\u001b[0m\u001b[0mstyle\u001b[0m\u001b[0;34m.\u001b[0m\u001b[0muse\u001b[0m\u001b[0;34m(\u001b[0m\u001b[0;34m'dark_background'\u001b[0m\u001b[0;34m)\u001b[0m\u001b[0;34m\u001b[0m\u001b[0;34m\u001b[0m\u001b[0m\n\u001b[1;32m      2\u001b[0m \u001b[0mplt\u001b[0m\u001b[0;34m.\u001b[0m\u001b[0mfigure\u001b[0m\u001b[0;34m(\u001b[0m\u001b[0mfigsize\u001b[0m\u001b[0;34m=\u001b[0m\u001b[0;34m(\u001b[0m\u001b[0;36m20\u001b[0m\u001b[0;34m,\u001b[0m\u001b[0;36m10\u001b[0m\u001b[0;34m)\u001b[0m\u001b[0;34m)\u001b[0m\u001b[0;34m\u001b[0m\u001b[0;34m\u001b[0m\u001b[0m\n\u001b[0;32m----> 3\u001b[0;31m \u001b[0mplt\u001b[0m\u001b[0;34m.\u001b[0m\u001b[0mhist\u001b[0m\u001b[0;34m(\u001b[0m\u001b[0mhora\u001b[0m\u001b[0;34m,\u001b[0m \u001b[0mbins\u001b[0m\u001b[0;34m=\u001b[0m\u001b[0;36m40\u001b[0m\u001b[0;34m,\u001b[0m \u001b[0mcolor\u001b[0m \u001b[0;34m=\u001b[0m \u001b[0;34m\"skyblue\"\u001b[0m\u001b[0;34m,\u001b[0m \u001b[0mec\u001b[0m\u001b[0;34m=\u001b[0m\u001b[0;34m\"darkblue\"\u001b[0m\u001b[0;34m)\u001b[0m\u001b[0;34m\u001b[0m\u001b[0;34m\u001b[0m\u001b[0m\n\u001b[0m\u001b[1;32m      4\u001b[0m \u001b[0mplt\u001b[0m\u001b[0;34m.\u001b[0m\u001b[0mtitle\u001b[0m\u001b[0;34m(\u001b[0m\u001b[0;34m'Número de crimes por hora'\u001b[0m\u001b[0;34m)\u001b[0m\u001b[0;34m\u001b[0m\u001b[0;34m\u001b[0m\u001b[0m\n\u001b[1;32m      5\u001b[0m \u001b[0mplt\u001b[0m\u001b[0;34m.\u001b[0m\u001b[0mylabel\u001b[0m\u001b[0;34m(\u001b[0m\u001b[0;34m'Número de Crimes'\u001b[0m\u001b[0;34m)\u001b[0m\u001b[0;34m\u001b[0m\u001b[0;34m\u001b[0m\u001b[0m\n",
            "\u001b[0;32m/usr/local/lib/python3.6/dist-packages/matplotlib/pyplot.py\u001b[0m in \u001b[0;36mhist\u001b[0;34m(x, bins, range, density, weights, cumulative, bottom, histtype, align, orientation, rwidth, log, color, label, stacked, data, **kwargs)\u001b[0m\n\u001b[1;32m   2608\u001b[0m         \u001b[0malign\u001b[0m\u001b[0;34m=\u001b[0m\u001b[0malign\u001b[0m\u001b[0;34m,\u001b[0m \u001b[0morientation\u001b[0m\u001b[0;34m=\u001b[0m\u001b[0morientation\u001b[0m\u001b[0;34m,\u001b[0m \u001b[0mrwidth\u001b[0m\u001b[0;34m=\u001b[0m\u001b[0mrwidth\u001b[0m\u001b[0;34m,\u001b[0m \u001b[0mlog\u001b[0m\u001b[0;34m=\u001b[0m\u001b[0mlog\u001b[0m\u001b[0;34m,\u001b[0m\u001b[0;34m\u001b[0m\u001b[0;34m\u001b[0m\u001b[0m\n\u001b[1;32m   2609\u001b[0m         color=color, label=label, stacked=stacked, **({\"data\": data}\n\u001b[0;32m-> 2610\u001b[0;31m         if data is not None else {}), **kwargs)\n\u001b[0m\u001b[1;32m   2611\u001b[0m \u001b[0;34m\u001b[0m\u001b[0m\n\u001b[1;32m   2612\u001b[0m \u001b[0;34m\u001b[0m\u001b[0m\n",
            "\u001b[0;32m/usr/local/lib/python3.6/dist-packages/matplotlib/__init__.py\u001b[0m in \u001b[0;36minner\u001b[0;34m(ax, data, *args, **kwargs)\u001b[0m\n\u001b[1;32m   1563\u001b[0m     \u001b[0;32mdef\u001b[0m \u001b[0minner\u001b[0m\u001b[0;34m(\u001b[0m\u001b[0max\u001b[0m\u001b[0;34m,\u001b[0m \u001b[0;34m*\u001b[0m\u001b[0margs\u001b[0m\u001b[0;34m,\u001b[0m \u001b[0mdata\u001b[0m\u001b[0;34m=\u001b[0m\u001b[0;32mNone\u001b[0m\u001b[0;34m,\u001b[0m \u001b[0;34m**\u001b[0m\u001b[0mkwargs\u001b[0m\u001b[0;34m)\u001b[0m\u001b[0;34m:\u001b[0m\u001b[0;34m\u001b[0m\u001b[0;34m\u001b[0m\u001b[0m\n\u001b[1;32m   1564\u001b[0m         \u001b[0;32mif\u001b[0m \u001b[0mdata\u001b[0m \u001b[0;32mis\u001b[0m \u001b[0;32mNone\u001b[0m\u001b[0;34m:\u001b[0m\u001b[0;34m\u001b[0m\u001b[0;34m\u001b[0m\u001b[0m\n\u001b[0;32m-> 1565\u001b[0;31m             \u001b[0;32mreturn\u001b[0m \u001b[0mfunc\u001b[0m\u001b[0;34m(\u001b[0m\u001b[0max\u001b[0m\u001b[0;34m,\u001b[0m \u001b[0;34m*\u001b[0m\u001b[0mmap\u001b[0m\u001b[0;34m(\u001b[0m\u001b[0msanitize_sequence\u001b[0m\u001b[0;34m,\u001b[0m \u001b[0margs\u001b[0m\u001b[0;34m)\u001b[0m\u001b[0;34m,\u001b[0m \u001b[0;34m**\u001b[0m\u001b[0mkwargs\u001b[0m\u001b[0;34m)\u001b[0m\u001b[0;34m\u001b[0m\u001b[0;34m\u001b[0m\u001b[0m\n\u001b[0m\u001b[1;32m   1566\u001b[0m \u001b[0;34m\u001b[0m\u001b[0m\n\u001b[1;32m   1567\u001b[0m         \u001b[0mbound\u001b[0m \u001b[0;34m=\u001b[0m \u001b[0mnew_sig\u001b[0m\u001b[0;34m.\u001b[0m\u001b[0mbind\u001b[0m\u001b[0;34m(\u001b[0m\u001b[0max\u001b[0m\u001b[0;34m,\u001b[0m \u001b[0;34m*\u001b[0m\u001b[0margs\u001b[0m\u001b[0;34m,\u001b[0m \u001b[0;34m**\u001b[0m\u001b[0mkwargs\u001b[0m\u001b[0;34m)\u001b[0m\u001b[0;34m\u001b[0m\u001b[0;34m\u001b[0m\u001b[0m\n",
            "\u001b[0;32m/usr/local/lib/python3.6/dist-packages/matplotlib/axes/_axes.py\u001b[0m in \u001b[0;36mhist\u001b[0;34m(self, x, bins, range, density, weights, cumulative, bottom, histtype, align, orientation, rwidth, log, color, label, stacked, **kwargs)\u001b[0m\n\u001b[1;32m   6583\u001b[0m         \u001b[0;31m# Process unit information\u001b[0m\u001b[0;34m\u001b[0m\u001b[0;34m\u001b[0m\u001b[0;34m\u001b[0m\u001b[0m\n\u001b[1;32m   6584\u001b[0m         \u001b[0;31m# Unit conversion is done individually on each dataset\u001b[0m\u001b[0;34m\u001b[0m\u001b[0;34m\u001b[0m\u001b[0;34m\u001b[0m\u001b[0m\n\u001b[0;32m-> 6585\u001b[0;31m         \u001b[0mself\u001b[0m\u001b[0;34m.\u001b[0m\u001b[0m_process_unit_info\u001b[0m\u001b[0;34m(\u001b[0m\u001b[0mxdata\u001b[0m\u001b[0;34m=\u001b[0m\u001b[0mx\u001b[0m\u001b[0;34m[\u001b[0m\u001b[0;36m0\u001b[0m\u001b[0;34m]\u001b[0m\u001b[0;34m,\u001b[0m \u001b[0mkwargs\u001b[0m\u001b[0;34m=\u001b[0m\u001b[0mkwargs\u001b[0m\u001b[0;34m)\u001b[0m\u001b[0;34m\u001b[0m\u001b[0;34m\u001b[0m\u001b[0m\n\u001b[0m\u001b[1;32m   6586\u001b[0m         \u001b[0mx\u001b[0m \u001b[0;34m=\u001b[0m \u001b[0;34m[\u001b[0m\u001b[0mself\u001b[0m\u001b[0;34m.\u001b[0m\u001b[0mconvert_xunits\u001b[0m\u001b[0;34m(\u001b[0m\u001b[0mxi\u001b[0m\u001b[0;34m)\u001b[0m \u001b[0;32mfor\u001b[0m \u001b[0mxi\u001b[0m \u001b[0;32min\u001b[0m \u001b[0mx\u001b[0m\u001b[0;34m]\u001b[0m\u001b[0;34m\u001b[0m\u001b[0;34m\u001b[0m\u001b[0m\n\u001b[1;32m   6587\u001b[0m \u001b[0;34m\u001b[0m\u001b[0m\n",
            "\u001b[0;32m/usr/local/lib/python3.6/dist-packages/matplotlib/axes/_base.py\u001b[0m in \u001b[0;36m_process_unit_info\u001b[0;34m(self, xdata, ydata, kwargs)\u001b[0m\n\u001b[1;32m   2071\u001b[0m             \u001b[0;32mreturn\u001b[0m \u001b[0mkwargs\u001b[0m\u001b[0;34m\u001b[0m\u001b[0;34m\u001b[0m\u001b[0m\n\u001b[1;32m   2072\u001b[0m \u001b[0;34m\u001b[0m\u001b[0m\n\u001b[0;32m-> 2073\u001b[0;31m         \u001b[0mkwargs\u001b[0m \u001b[0;34m=\u001b[0m \u001b[0m_process_single_axis\u001b[0m\u001b[0;34m(\u001b[0m\u001b[0mxdata\u001b[0m\u001b[0;34m,\u001b[0m \u001b[0mself\u001b[0m\u001b[0;34m.\u001b[0m\u001b[0mxaxis\u001b[0m\u001b[0;34m,\u001b[0m \u001b[0;34m'xunits'\u001b[0m\u001b[0;34m,\u001b[0m \u001b[0mkwargs\u001b[0m\u001b[0;34m)\u001b[0m\u001b[0;34m\u001b[0m\u001b[0;34m\u001b[0m\u001b[0m\n\u001b[0m\u001b[1;32m   2074\u001b[0m         \u001b[0mkwargs\u001b[0m \u001b[0;34m=\u001b[0m \u001b[0m_process_single_axis\u001b[0m\u001b[0;34m(\u001b[0m\u001b[0mydata\u001b[0m\u001b[0;34m,\u001b[0m \u001b[0mself\u001b[0m\u001b[0;34m.\u001b[0m\u001b[0myaxis\u001b[0m\u001b[0;34m,\u001b[0m \u001b[0;34m'yunits'\u001b[0m\u001b[0;34m,\u001b[0m \u001b[0mkwargs\u001b[0m\u001b[0;34m)\u001b[0m\u001b[0;34m\u001b[0m\u001b[0;34m\u001b[0m\u001b[0m\n\u001b[1;32m   2075\u001b[0m         \u001b[0;32mreturn\u001b[0m \u001b[0mkwargs\u001b[0m\u001b[0;34m\u001b[0m\u001b[0;34m\u001b[0m\u001b[0m\n",
            "\u001b[0;32m/usr/local/lib/python3.6/dist-packages/matplotlib/axes/_base.py\u001b[0m in \u001b[0;36m_process_single_axis\u001b[0;34m(data, axis, unit_name, kwargs)\u001b[0m\n\u001b[1;32m   2054\u001b[0m                 \u001b[0;31m# We only need to update if there is nothing set yet.\u001b[0m\u001b[0;34m\u001b[0m\u001b[0;34m\u001b[0m\u001b[0;34m\u001b[0m\u001b[0m\n\u001b[1;32m   2055\u001b[0m                 \u001b[0;32mif\u001b[0m \u001b[0;32mnot\u001b[0m \u001b[0maxis\u001b[0m\u001b[0;34m.\u001b[0m\u001b[0mhave_units\u001b[0m\u001b[0;34m(\u001b[0m\u001b[0;34m)\u001b[0m\u001b[0;34m:\u001b[0m\u001b[0;34m\u001b[0m\u001b[0;34m\u001b[0m\u001b[0m\n\u001b[0;32m-> 2056\u001b[0;31m                     \u001b[0maxis\u001b[0m\u001b[0;34m.\u001b[0m\u001b[0mupdate_units\u001b[0m\u001b[0;34m(\u001b[0m\u001b[0mdata\u001b[0m\u001b[0;34m)\u001b[0m\u001b[0;34m\u001b[0m\u001b[0;34m\u001b[0m\u001b[0m\n\u001b[0m\u001b[1;32m   2057\u001b[0m \u001b[0;34m\u001b[0m\u001b[0m\n\u001b[1;32m   2058\u001b[0m             \u001b[0;31m# Check for units in the kwargs, and if present update axis\u001b[0m\u001b[0;34m\u001b[0m\u001b[0;34m\u001b[0m\u001b[0;34m\u001b[0m\u001b[0m\n",
            "\u001b[0;32m/usr/local/lib/python3.6/dist-packages/matplotlib/axis.py\u001b[0m in \u001b[0;36mupdate_units\u001b[0;34m(self, data)\u001b[0m\n\u001b[1;32m   1514\u001b[0m         \u001b[0mneednew\u001b[0m \u001b[0;34m=\u001b[0m \u001b[0mself\u001b[0m\u001b[0;34m.\u001b[0m\u001b[0mconverter\u001b[0m \u001b[0;34m!=\u001b[0m \u001b[0mconverter\u001b[0m\u001b[0;34m\u001b[0m\u001b[0;34m\u001b[0m\u001b[0m\n\u001b[1;32m   1515\u001b[0m         \u001b[0mself\u001b[0m\u001b[0;34m.\u001b[0m\u001b[0mconverter\u001b[0m \u001b[0;34m=\u001b[0m \u001b[0mconverter\u001b[0m\u001b[0;34m\u001b[0m\u001b[0;34m\u001b[0m\u001b[0m\n\u001b[0;32m-> 1516\u001b[0;31m         \u001b[0mdefault\u001b[0m \u001b[0;34m=\u001b[0m \u001b[0mself\u001b[0m\u001b[0;34m.\u001b[0m\u001b[0mconverter\u001b[0m\u001b[0;34m.\u001b[0m\u001b[0mdefault_units\u001b[0m\u001b[0;34m(\u001b[0m\u001b[0mdata\u001b[0m\u001b[0;34m,\u001b[0m \u001b[0mself\u001b[0m\u001b[0;34m)\u001b[0m\u001b[0;34m\u001b[0m\u001b[0;34m\u001b[0m\u001b[0m\n\u001b[0m\u001b[1;32m   1517\u001b[0m         \u001b[0;32mif\u001b[0m \u001b[0mdefault\u001b[0m \u001b[0;32mis\u001b[0m \u001b[0;32mnot\u001b[0m \u001b[0;32mNone\u001b[0m \u001b[0;32mand\u001b[0m \u001b[0mself\u001b[0m\u001b[0;34m.\u001b[0m\u001b[0munits\u001b[0m \u001b[0;32mis\u001b[0m \u001b[0;32mNone\u001b[0m\u001b[0;34m:\u001b[0m\u001b[0;34m\u001b[0m\u001b[0;34m\u001b[0m\u001b[0m\n\u001b[1;32m   1518\u001b[0m             \u001b[0mself\u001b[0m\u001b[0;34m.\u001b[0m\u001b[0mset_units\u001b[0m\u001b[0;34m(\u001b[0m\u001b[0mdefault\u001b[0m\u001b[0;34m)\u001b[0m\u001b[0;34m\u001b[0m\u001b[0;34m\u001b[0m\u001b[0m\n",
            "\u001b[0;32m/usr/local/lib/python3.6/dist-packages/matplotlib/category.py\u001b[0m in \u001b[0;36mdefault_units\u001b[0;34m(data, axis)\u001b[0m\n\u001b[1;32m    105\u001b[0m         \u001b[0;31m# the conversion call stack is default_units -> axis_info -> convert\u001b[0m\u001b[0;34m\u001b[0m\u001b[0;34m\u001b[0m\u001b[0;34m\u001b[0m\u001b[0m\n\u001b[1;32m    106\u001b[0m         \u001b[0;32mif\u001b[0m \u001b[0maxis\u001b[0m\u001b[0;34m.\u001b[0m\u001b[0munits\u001b[0m \u001b[0;32mis\u001b[0m \u001b[0;32mNone\u001b[0m\u001b[0;34m:\u001b[0m\u001b[0;34m\u001b[0m\u001b[0;34m\u001b[0m\u001b[0m\n\u001b[0;32m--> 107\u001b[0;31m             \u001b[0maxis\u001b[0m\u001b[0;34m.\u001b[0m\u001b[0mset_units\u001b[0m\u001b[0;34m(\u001b[0m\u001b[0mUnitData\u001b[0m\u001b[0;34m(\u001b[0m\u001b[0mdata\u001b[0m\u001b[0;34m)\u001b[0m\u001b[0;34m)\u001b[0m\u001b[0;34m\u001b[0m\u001b[0;34m\u001b[0m\u001b[0m\n\u001b[0m\u001b[1;32m    108\u001b[0m         \u001b[0;32melse\u001b[0m\u001b[0;34m:\u001b[0m\u001b[0;34m\u001b[0m\u001b[0;34m\u001b[0m\u001b[0m\n\u001b[1;32m    109\u001b[0m             \u001b[0maxis\u001b[0m\u001b[0;34m.\u001b[0m\u001b[0munits\u001b[0m\u001b[0;34m.\u001b[0m\u001b[0mupdate\u001b[0m\u001b[0;34m(\u001b[0m\u001b[0mdata\u001b[0m\u001b[0;34m)\u001b[0m\u001b[0;34m\u001b[0m\u001b[0;34m\u001b[0m\u001b[0m\n",
            "\u001b[0;32m/usr/local/lib/python3.6/dist-packages/matplotlib/category.py\u001b[0m in \u001b[0;36m__init__\u001b[0;34m(self, data)\u001b[0m\n\u001b[1;32m    173\u001b[0m         \u001b[0mself\u001b[0m\u001b[0;34m.\u001b[0m\u001b[0m_counter\u001b[0m \u001b[0;34m=\u001b[0m \u001b[0mitertools\u001b[0m\u001b[0;34m.\u001b[0m\u001b[0mcount\u001b[0m\u001b[0;34m(\u001b[0m\u001b[0;34m)\u001b[0m\u001b[0;34m\u001b[0m\u001b[0;34m\u001b[0m\u001b[0m\n\u001b[1;32m    174\u001b[0m         \u001b[0;32mif\u001b[0m \u001b[0mdata\u001b[0m \u001b[0;32mis\u001b[0m \u001b[0;32mnot\u001b[0m \u001b[0;32mNone\u001b[0m\u001b[0;34m:\u001b[0m\u001b[0;34m\u001b[0m\u001b[0;34m\u001b[0m\u001b[0m\n\u001b[0;32m--> 175\u001b[0;31m             \u001b[0mself\u001b[0m\u001b[0;34m.\u001b[0m\u001b[0mupdate\u001b[0m\u001b[0;34m(\u001b[0m\u001b[0mdata\u001b[0m\u001b[0;34m)\u001b[0m\u001b[0;34m\u001b[0m\u001b[0;34m\u001b[0m\u001b[0m\n\u001b[0m\u001b[1;32m    176\u001b[0m \u001b[0;34m\u001b[0m\u001b[0m\n\u001b[1;32m    177\u001b[0m     \u001b[0;34m@\u001b[0m\u001b[0mstaticmethod\u001b[0m\u001b[0;34m\u001b[0m\u001b[0;34m\u001b[0m\u001b[0m\n",
            "\u001b[0;32m/usr/local/lib/python3.6/dist-packages/matplotlib/category.py\u001b[0m in \u001b[0;36mupdate\u001b[0;34m(self, data)\u001b[0m\n\u001b[1;32m    210\u001b[0m         \u001b[0;32mfor\u001b[0m \u001b[0mval\u001b[0m \u001b[0;32min\u001b[0m \u001b[0mOrderedDict\u001b[0m\u001b[0;34m.\u001b[0m\u001b[0mfromkeys\u001b[0m\u001b[0;34m(\u001b[0m\u001b[0mdata\u001b[0m\u001b[0;34m)\u001b[0m\u001b[0;34m:\u001b[0m\u001b[0;34m\u001b[0m\u001b[0;34m\u001b[0m\u001b[0m\n\u001b[1;32m    211\u001b[0m             \u001b[0;31m# OrderedDict just iterates over unique values in data.\u001b[0m\u001b[0;34m\u001b[0m\u001b[0;34m\u001b[0m\u001b[0;34m\u001b[0m\u001b[0m\n\u001b[0;32m--> 212\u001b[0;31m             \u001b[0mcbook\u001b[0m\u001b[0;34m.\u001b[0m\u001b[0m_check_isinstance\u001b[0m\u001b[0;34m(\u001b[0m\u001b[0;34m(\u001b[0m\u001b[0mstr\u001b[0m\u001b[0;34m,\u001b[0m \u001b[0mbytes\u001b[0m\u001b[0;34m)\u001b[0m\u001b[0;34m,\u001b[0m \u001b[0mvalue\u001b[0m\u001b[0;34m=\u001b[0m\u001b[0mval\u001b[0m\u001b[0;34m)\u001b[0m\u001b[0;34m\u001b[0m\u001b[0;34m\u001b[0m\u001b[0m\n\u001b[0m\u001b[1;32m    213\u001b[0m             \u001b[0;32mif\u001b[0m \u001b[0mconvertible\u001b[0m\u001b[0;34m:\u001b[0m\u001b[0;34m\u001b[0m\u001b[0;34m\u001b[0m\u001b[0m\n\u001b[1;32m    214\u001b[0m                 \u001b[0;31m# this will only be called so long as convertible is True.\u001b[0m\u001b[0;34m\u001b[0m\u001b[0;34m\u001b[0m\u001b[0;34m\u001b[0m\u001b[0m\n",
            "\u001b[0;32m/usr/local/lib/python3.6/dist-packages/matplotlib/cbook/__init__.py\u001b[0m in \u001b[0;36m_check_isinstance\u001b[0;34m(_types, **kwargs)\u001b[0m\n\u001b[1;32m   2126\u001b[0m                     \u001b[0;34m\", \"\u001b[0m\u001b[0;34m.\u001b[0m\u001b[0mjoin\u001b[0m\u001b[0;34m(\u001b[0m\u001b[0mnames\u001b[0m\u001b[0;34m[\u001b[0m\u001b[0;34m:\u001b[0m\u001b[0;34m-\u001b[0m\u001b[0;36m1\u001b[0m\u001b[0;34m]\u001b[0m\u001b[0;34m)\u001b[0m \u001b[0;34m+\u001b[0m \u001b[0;34m\" or \"\u001b[0m \u001b[0;34m+\u001b[0m \u001b[0mnames\u001b[0m\u001b[0;34m[\u001b[0m\u001b[0;34m-\u001b[0m\u001b[0;36m1\u001b[0m\u001b[0;34m]\u001b[0m\u001b[0;34m\u001b[0m\u001b[0;34m\u001b[0m\u001b[0m\n\u001b[1;32m   2127\u001b[0m                     \u001b[0;32mif\u001b[0m \u001b[0mlen\u001b[0m\u001b[0;34m(\u001b[0m\u001b[0mnames\u001b[0m\u001b[0;34m)\u001b[0m \u001b[0;34m>\u001b[0m \u001b[0;36m1\u001b[0m \u001b[0;32melse\u001b[0m \u001b[0mnames\u001b[0m\u001b[0;34m[\u001b[0m\u001b[0;36m0\u001b[0m\u001b[0;34m]\u001b[0m\u001b[0;34m,\u001b[0m\u001b[0;34m\u001b[0m\u001b[0;34m\u001b[0m\u001b[0m\n\u001b[0;32m-> 2128\u001b[0;31m                     type_name(type(v))))\n\u001b[0m\u001b[1;32m   2129\u001b[0m \u001b[0;34m\u001b[0m\u001b[0m\n\u001b[1;32m   2130\u001b[0m \u001b[0;34m\u001b[0m\u001b[0m\n",
            "\u001b[0;31mTypeError\u001b[0m: 'value' must be an instance of str or bytes, not a float"
          ]
        },
        {
          "output_type": "display_data",
          "data": {
            "image/png": "[encoded data removed]",
            "text/plain": [
              "<Figure size 1440x720 with 1 Axes>"
            ]
          },
          "metadata": {
            "tags": []
          }
        }
      ]
    },
    {
      "cell_type": "code",
      "metadata": {
        "colab": {
          "base_uri": "https://localhost:8080/",
          "height": 618
        },
        "id": "aIL2GxfsyZHB",
        "outputId": "adc72efa-6b23-4c9d-f8bc-a37ab207f1fa"
      },
      "source": [
        "data['HORA_OCORRENCIA_BO'].hist(figsize=(20,10))"
      ],
      "execution_count": null,
      "outputs": [
        {
          "output_type": "execute_result",
          "data": {
            "text/plain": [
              "<matplotlib.axes._subplots.AxesSubplot at 0x7f4ab7b2c5f8>"
            ]
          },
          "metadata": {
            "tags": []
          },
          "execution_count": 82
        },
        {
          "output_type": "display_data",
          "data": {
            "image/png": "[encoded data removed]",
            "text/plain": [
              "<Figure size 1440x720 with 1 Axes>"
            ]
          },
          "metadata": {
            "tags": []
          }
        }
      ]
    },
    {
      "cell_type": "code",
      "metadata": {
        "colab": {
          "base_uri": "https://localhost:8080/",
          "height": 504
        },
        "id": "i1EWrj-KuOt8",
        "outputId": "db01d269-3c65-4411-b8a6-fca4aaf03197"
      },
      "source": [
        "hora = data['HORA_OCORRENCIA_BO']\r\n",
        "plt.style.use('dark_background')\r\n",
        "plt.figure(figsize=(20,10))\r\n",
        "plt.hist(hora, bins=40, color = \"skyblue\", ec=\"darkblue\")\r\n",
        "plt.title('Número de crimes ao longo do dia')\r\n",
        "plt.ylabel('Número de Crimes')\r\n",
        "plt.xlabel('Horas')\r\n",
        "plt.rcParams.update({'font.size': 1})\r\n",
        "plt.show()"
      ],
      "execution_count": null,
      "outputs": [
        {
          "output_type": "display_data",
          "data": {
            "image/png": "[encoded data removed]",
            "text/plain": [
              "<Figure size 1440x720 with 1 Axes>"
            ]
          },
          "metadata": {
            "tags": []
          }
        }
      ]
    },
    {
      "cell_type": "markdown",
      "metadata": {
        "id": "7stcmkd_gSAL"
      },
      "source": [
        "**Visualizando o mapa de calor para a ocorrência de crimes por região geográfica do estado de São Paulo.**"
      ]
    },
    {
      "cell_type": "markdown",
      "metadata": {
        "id": "ZgbP0b_Ckc0k"
      },
      "source": [
        "*Para construir o mapa, precisamos converter as coordenadas do tipo int para o tipo float:*"
      ]
    },
    {
      "cell_type": "code",
      "metadata": {
        "id": "J-Qrn1r6Pjtb"
      },
      "source": [
        "data['LATITUDE'] = data['LATITUDE'].str.replace('.', '')"
      ],
      "execution_count": null,
      "outputs": []
    },
    {
      "cell_type": "code",
      "metadata": {
        "colab": {
          "base_uri": "https://localhost:8080/"
        },
        "id": "zOaab2JpsFH7",
        "outputId": "a4911c33-120d-423c-f5b4-52677b7c4527"
      },
      "source": [
        "pip install -U pandas"
      ],
      "execution_count": null,
      "outputs": [
        {
          "output_type": "stream",
          "text": [
            "Requirement already up-to-date: pandas in /usr/local/lib/python3.6/dist-packages (1.1.5)\n",
            "Requirement already satisfied, skipping upgrade: python-dateutil>=2.7.3 in /usr/local/lib/python3.6/dist-packages (from pandas) (2.8.1)\n",
            "Requirement already satisfied, skipping upgrade: pytz>=2017.2 in /usr/local/lib/python3.6/dist-packages (from pandas) (2018.9)\n",
            "Requirement already satisfied, skipping upgrade: numpy>=1.15.4 in /usr/local/lib/python3.6/dist-packages (from pandas) (1.19.4)\n",
            "Requirement already satisfied, skipping upgrade: six>=1.5 in /usr/local/lib/python3.6/dist-packages (from python-dateutil>=2.7.3->pandas) (1.15.0)\n"
          ],
          "name": "stdout"
        }
      ]
    },
    {
      "cell_type": "code",
      "metadata": {
        "colab": {
          "base_uri": "https://localhost:8080/",
          "height": 197
        },
        "id": "EEC1veSEf-Mc",
        "outputId": "6b2b6072-fd1c-4790-bca0-24ac983d9c5d"
      },
      "source": [
        "def insert_dot(string):\r\n",
        "  return string.insert(2, '.')\r\n",
        "\r\n",
        "data['LATITUDE'].apply(insert_dot())"
      ],
      "execution_count": null,
      "outputs": [
        {
          "output_type": "error",
          "ename": "TypeError",
          "evalue": "ignored",
          "traceback": [
            "\u001b[0;31m---------------------------------------------------------------------------\u001b[0m",
            "\u001b[0;31mTypeError\u001b[0m                                 Traceback (most recent call last)",
            "\u001b[0;32m<ipython-input-57-eb3de5402208>\u001b[0m in \u001b[0;36m<module>\u001b[0;34m()\u001b[0m\n\u001b[1;32m      2\u001b[0m   \u001b[0;32mreturn\u001b[0m \u001b[0mstring\u001b[0m\u001b[0;34m.\u001b[0m\u001b[0minsert\u001b[0m\u001b[0;34m(\u001b[0m\u001b[0;36m2\u001b[0m\u001b[0;34m,\u001b[0m \u001b[0;34m'.'\u001b[0m\u001b[0;34m)\u001b[0m\u001b[0;34m\u001b[0m\u001b[0;34m\u001b[0m\u001b[0m\n\u001b[1;32m      3\u001b[0m \u001b[0;34m\u001b[0m\u001b[0m\n\u001b[0;32m----> 4\u001b[0;31m \u001b[0mdata\u001b[0m\u001b[0;34m[\u001b[0m\u001b[0;34m'LATITUDE'\u001b[0m\u001b[0;34m]\u001b[0m\u001b[0;34m.\u001b[0m\u001b[0mapply\u001b[0m\u001b[0;34m(\u001b[0m\u001b[0minsert_dot\u001b[0m\u001b[0;34m(\u001b[0m\u001b[0;34m)\u001b[0m\u001b[0;34m)\u001b[0m\u001b[0;34m\u001b[0m\u001b[0;34m\u001b[0m\u001b[0m\n\u001b[0m",
            "\u001b[0;31mTypeError\u001b[0m: insert_dot() missing 1 required positional argument: 'string'"
          ]
        }
      ]
    },
    {
      "cell_type": "code",
      "metadata": {
        "colab": {
          "base_uri": "https://localhost:8080/"
        },
        "id": "Qdg2g-6dP8OR",
        "outputId": "85a0b300-8226-4b29-cc2d-5e15d0225de8"
      },
      "source": [
        "data['LATITUDE'].head(20)"
      ],
      "execution_count": null,
      "outputs": [
        {
          "output_type": "execute_result",
          "data": {
            "text/plain": [
              "0     -2371286115\n",
              "1     -2371286115\n",
              "2     -2371286115\n",
              "3     -2371286115\n",
              "4     -2348960369\n",
              "5     -2371286115\n",
              "6     -2371286115\n",
              "7     -2355277328\n",
              "8     -2361894605\n",
              "9     -2361894605\n",
              "10    -2361894605\n",
              "11    -2355277328\n",
              "12    -2355277328\n",
              "13    -2371286115\n",
              "14     -235525928\n",
              "15    -2348960369\n",
              "16    -2348960369\n",
              "17    -2355784394\n",
              "18    -2330924825\n",
              "19    -2330924825\n",
              "Name: LATITUDE, dtype: object"
            ]
          },
          "metadata": {
            "tags": []
          },
          "execution_count": 221
        }
      ]
    },
    {
      "cell_type": "code",
      "metadata": {
        "id": "FplE5AFCmWUx"
      },
      "source": [
        "# data['LATITUDE'] = pd.to_numeric(data['LATITUDE'], errors='coerce')"
      ],
      "execution_count": null,
      "outputs": []
    },
    {
      "cell_type": "code",
      "metadata": {
        "id": "oiffFmKxmcRF"
      },
      "source": [
        "# data['LONGITUDE'] = pd.to_numeric(data['LONGITUDE'], errors='coerce')"
      ],
      "execution_count": null,
      "outputs": []
    },
    {
      "cell_type": "code",
      "metadata": {
        "id": "0msX6s9Opifg"
      },
      "source": [
        "data['LONGITUDE'] = data['LONGITUDE'].str.replace('.', '')"
      ],
      "execution_count": null,
      "outputs": []
    },
    {
      "cell_type": "code",
      "metadata": {
        "colab": {
          "base_uri": "https://localhost:8080/"
        },
        "id": "WDuAOJdaogEb",
        "outputId": "6ebd8e97-3f23-4a7c-c559-dff24b1a1ac4"
      },
      "source": [
        "data['LONGITUDE'].head(10)"
      ],
      "execution_count": null,
      "outputs": [
        {
          "output_type": "execute_result",
          "data": {
            "text/plain": [
              "0    -4678186771\n",
              "1    -4678186771\n",
              "2    -4678186771\n",
              "3    -4678186771\n",
              "4    -4637155072\n",
              "5    -4678186771\n",
              "6    -4678186771\n",
              "7    -4620240893\n",
              "8    -4650630594\n",
              "9    -4650630594\n",
              "Name: LONGITUDE, dtype: object"
            ]
          },
          "metadata": {
            "tags": []
          },
          "execution_count": 240
        }
      ]
    },
    {
      "cell_type": "code",
      "metadata": {
        "id": "gxj62NhQkstO"
      },
      "source": [
        "# data['LATITUDE'].astype('int')"
      ],
      "execution_count": null,
      "outputs": []
    },
    {
      "cell_type": "code",
      "metadata": {
        "id": "kagxOlQwlWMl"
      },
      "source": [
        "# data['LONGITUDE'].astype('float64')"
      ],
      "execution_count": null,
      "outputs": []
    },
    {
      "cell_type": "code",
      "metadata": {
        "colab": {
          "base_uri": "https://localhost:8080/"
        },
        "id": "pe_oz7ELgRR5",
        "outputId": "f83568ef-f383-4fd2-b686-52473fa5ed22"
      },
      "source": [
        "!pip install git+https://github.com/python-visualization/folium"
      ],
      "execution_count": null,
      "outputs": [
        {
          "output_type": "stream",
          "text": [
            "Collecting git+https://github.com/python-visualization/folium\n",
            "  Cloning https://github.com/python-visualization/folium to /tmp/pip-req-build-83h3ljrj\n",
            "  Running command git clone -q https://github.com/python-visualization/folium /tmp/pip-req-build-83h3ljrj\n",
            "Requirement already satisfied: branca>=0.3.0 in /usr/local/lib/python3.6/dist-packages (from folium==0.0.0) (0.4.1)\n",
            "Requirement already satisfied: jinja2>=2.9 in /usr/local/lib/python3.6/dist-packages (from folium==0.0.0) (2.11.2)\n",
            "Requirement already satisfied: numpy in /usr/local/lib/python3.6/dist-packages (from folium==0.0.0) (1.19.4)\n",
            "Requirement already satisfied: requests in /usr/local/lib/python3.6/dist-packages (from folium==0.0.0) (2.23.0)\n",
            "Requirement already satisfied: MarkupSafe>=0.23 in /usr/local/lib/python3.6/dist-packages (from jinja2>=2.9->folium==0.0.0) (1.1.1)\n",
            "Requirement already satisfied: chardet<4,>=3.0.2 in /usr/local/lib/python3.6/dist-packages (from requests->folium==0.0.0) (3.0.4)\n",
            "Requirement already satisfied: certifi>=2017.4.17 in /usr/local/lib/python3.6/dist-packages (from requests->folium==0.0.0) (2020.12.5)\n",
            "Requirement already satisfied: urllib3!=1.25.0,!=1.25.1,<1.26,>=1.21.1 in /usr/local/lib/python3.6/dist-packages (from requests->folium==0.0.0) (1.24.3)\n",
            "Requirement already satisfied: idna<3,>=2.5 in /usr/local/lib/python3.6/dist-packages (from requests->folium==0.0.0) (2.10)\n",
            "Building wheels for collected packages: folium\n",
            "  Building wheel for folium (setup.py) ... \u001b[?25l\u001b[?25hdone\n",
            "  Created wheel for folium: filename=folium-0.0.0-py2.py3-none-any.whl size=94730 sha256=c3568ca8b75f8f7d0701a037f2448e45ada118bf2fe6c467258703751aa9cae5\n",
            "  Stored in directory: /tmp/pip-ephem-wheel-cache-642d_sla/wheels/1e/e1/75/ecbc91fd5dd5d90befb0b533bf7492d38acffa033310731862\n",
            "Successfully built folium\n",
            "\u001b[31mERROR: datascience 0.10.6 has requirement folium==0.2.1, but you'll have folium 0.0.0 which is incompatible.\u001b[0m\n",
            "Installing collected packages: folium\n",
            "  Found existing installation: folium 0.8.3\n",
            "    Uninstalling folium-0.8.3:\n",
            "      Successfully uninstalled folium-0.8.3\n",
            "Successfully installed folium-0.0.0\n"
          ],
          "name": "stdout"
        }
      ]
    },
    {
      "cell_type": "code",
      "metadata": {
        "colab": {
          "base_uri": "https://localhost:8080/"
        },
        "id": "rx-ECPGwgcW8",
        "outputId": "bf424dd8-c836-4a59-f16c-cd12c16bd628"
      },
      "source": [
        "import os\r\n",
        "import folium\r\n",
        "import pandas as pd\r\n",
        "print(folium.__version__)"
      ],
      "execution_count": null,
      "outputs": [
        {
          "output_type": "stream",
          "text": [
            "unknown\n"
          ],
          "name": "stdout"
        }
      ]
    },
    {
      "cell_type": "code",
      "metadata": {
        "id": "1altuRMFghba"
      },
      "source": [
        "# from folium import plugins\r\n",
        "# coordenadas = []\r\n",
        "# lat = data['LATITUDE'][:10000].values\r\n",
        "# long = data['LONGITUDE'][:10000].values\r\n",
        "\r\n",
        "# mapa = folium.Map(location=[-23.542183, -46.640599],tiles='Stamen Toner',zoom_start=12)\r\n",
        "\r\n",
        "# for la,lo in zip(lat,long):\r\n",
        "#     coordenadas.append([la,lo])\r\n",
        "\r\n",
        "# mapa.add_child(plugins.HeatMap(coordenadas))\r\n",
        "# mapa"
      ],
      "execution_count": null,
      "outputs": []
    },
    {
      "cell_type": "markdown",
      "metadata": {
        "id": "s-NIYIm608F_"
      },
      "source": [
        "#**2.2 Convertendo dados categóricos em numéricos**\r\n",
        "*A fim de construir nosso modelo de predição, precisamos separar os dois tipos de crime de interesse, furto e roubo, da coluna alvo 'RUBRICA'. Como a coluna Rubrica é formada por valores não-numéricos (nomes dos tipos de crimes), é preciso executar a codificação one-hot, tranformando cada campo em uma nova coluna contendo apenas números:*\r\n",
        "\r\n"
      ]
    },
    {
      "cell_type": "code",
      "metadata": {
        "colab": {
          "base_uri": "https://localhost:8080/",
          "height": 233
        },
        "id": "QT6z8m1EEgA6",
        "outputId": "ad7346fe-40b6-4f3f-d6fe-19dfc2e02ceb"
      },
      "source": [
        "novas_colunas = pd.get_dummies(data['RUBRICA']) \n",
        "data = pd.concat([data,novas_colunas], axis=1) \n",
        "data.head(2)"
      ],
      "execution_count": null,
      "outputs": [
        {
          "output_type": "execute_result",
          "data": {
            "text/html": [
              "<div>\n",
              "<style scoped>\n",
              "    .dataframe tbody tr th:only-of-type {\n",
              "        vertical-align: middle;\n",
              "    }\n",
              "\n",
              "    .dataframe tbody tr th {\n",
              "        vertical-align: top;\n",
              "    }\n",
              "\n",
              "    .dataframe thead th {\n",
              "        text-align: right;\n",
              "    }\n",
              "</style>\n",
              "<table border=\"1\" class=\"dataframe\">\n",
              "  <thead>\n",
              "    <tr style=\"text-align: right;\">\n",
              "      <th></th>\n",
              "      <th>NUM_BO</th>\n",
              "      <th>ANO_BO</th>\n",
              "      <th>ID_DELEGACIA</th>\n",
              "      <th>ANO</th>\n",
              "      <th>MES</th>\n",
              "      <th>DATA_OCORRENCIA_BO</th>\n",
              "      <th>HORA_OCORRENCIA_BO</th>\n",
              "      <th>RUBRICA</th>\n",
              "      <th>CONDUTA</th>\n",
              "      <th>LATITUDE</th>\n",
              "      <th>LONGITUDE</th>\n",
              "      <th>CIDADE</th>\n",
              "      <th>LOGRADOURO</th>\n",
              "      <th>DESCR_TIPO_PESSOA</th>\n",
              "      <th>CONT_PESSOA</th>\n",
              "      <th>SEXO_PESSOA</th>\n",
              "      <th>IDADE_PESSOA</th>\n",
              "      <th>COR</th>\n",
              "      <th>DESCR_PROFISSAO</th>\n",
              "      <th>DESCR_GRAU_INSTRUCAO</th>\n",
              "      <th>Drogas</th>\n",
              "      <th>Estupro</th>\n",
              "      <th>Estupro de vulneravel</th>\n",
              "      <th>Furto</th>\n",
              "      <th>Furto qualificado</th>\n",
              "      <th>Homicidio</th>\n",
              "      <th>Homicidio culposo</th>\n",
              "      <th>Homicidio culposo por veiculo</th>\n",
              "      <th>Homicidio qualificado</th>\n",
              "      <th>Lesao corporal</th>\n",
              "      <th>Lesao corporal de natureza GRAVE</th>\n",
              "      <th>Lesao corporal seguida de morte</th>\n",
              "      <th>Lesao culposa por veiculo</th>\n",
              "      <th>Roubo</th>\n",
              "    </tr>\n",
              "  </thead>\n",
              "  <tbody>\n",
              "    <tr>\n",
              "      <th>0</th>\n",
              "      <td>2</td>\n",
              "      <td>2014</td>\n",
              "      <td>280401</td>\n",
              "      <td>2014</td>\n",
              "      <td>2</td>\n",
              "      <td>26/02/2014</td>\n",
              "      <td>17:00</td>\n",
              "      <td>Drogas</td>\n",
              "      <td>VEICULO</td>\n",
              "      <td>-2371286115</td>\n",
              "      <td>-46.78186771</td>\n",
              "      <td>BARUERI</td>\n",
              "      <td>R MARIA HELENA</td>\n",
              "      <td>Curador</td>\n",
              "      <td>7</td>\n",
              "      <td>F</td>\n",
              "      <td>51</td>\n",
              "      <td>Parda</td>\n",
              "      <td>AUXILIAR DE LIMPEZA</td>\n",
              "      <td>2 Grau completo</td>\n",
              "      <td>1</td>\n",
              "      <td>0</td>\n",
              "      <td>0</td>\n",
              "      <td>0</td>\n",
              "      <td>0</td>\n",
              "      <td>0</td>\n",
              "      <td>0</td>\n",
              "      <td>0</td>\n",
              "      <td>0</td>\n",
              "      <td>0</td>\n",
              "      <td>0</td>\n",
              "      <td>0</td>\n",
              "      <td>0</td>\n",
              "      <td>0</td>\n",
              "    </tr>\n",
              "    <tr>\n",
              "      <th>1</th>\n",
              "      <td>2</td>\n",
              "      <td>2014</td>\n",
              "      <td>280401</td>\n",
              "      <td>2014</td>\n",
              "      <td>2</td>\n",
              "      <td>26/02/2014</td>\n",
              "      <td>17:00</td>\n",
              "      <td>Drogas</td>\n",
              "      <td>VEICULO</td>\n",
              "      <td>-2371286115</td>\n",
              "      <td>-46.78186771</td>\n",
              "      <td>BARUERI</td>\n",
              "      <td>R MARIA HELENA</td>\n",
              "      <td>Indiciado</td>\n",
              "      <td>4</td>\n",
              "      <td>M</td>\n",
              "      <td>19</td>\n",
              "      <td>Parda</td>\n",
              "      <td>DESEMPREGADO</td>\n",
              "      <td>1 Grau completo</td>\n",
              "      <td>1</td>\n",
              "      <td>0</td>\n",
              "      <td>0</td>\n",
              "      <td>0</td>\n",
              "      <td>0</td>\n",
              "      <td>0</td>\n",
              "      <td>0</td>\n",
              "      <td>0</td>\n",
              "      <td>0</td>\n",
              "      <td>0</td>\n",
              "      <td>0</td>\n",
              "      <td>0</td>\n",
              "      <td>0</td>\n",
              "      <td>0</td>\n",
              "    </tr>\n",
              "  </tbody>\n",
              "</table>\n",
              "</div>"
            ],
            "text/plain": [
              "   NUM_BO  ANO_BO  ...  Lesao culposa por veiculo  Roubo\n",
              "0       2    2014  ...                          0      0\n",
              "1       2    2014  ...                          0      0\n",
              "\n",
              "[2 rows x 34 columns]"
            ]
          },
          "metadata": {
            "tags": []
          },
          "execution_count": 159
        }
      ]
    },
    {
      "cell_type": "markdown",
      "metadata": {
        "id": "44g6uN_tXuiT"
      },
      "source": [
        "*A partir daí, podemos observar que o roubo é o crime mais comum e que o furto foi dividido em duas categorias (simples e qualificado).*"
      ]
    },
    {
      "cell_type": "code",
      "metadata": {
        "colab": {
          "base_uri": "https://localhost:8080/"
        },
        "id": "hb0sZAOCzMjm",
        "outputId": "6c26c4e9-e309-4a52-d3d2-97265d4c80b9"
      },
      "source": [
        "data['RUBRICA'].value_counts()"
      ],
      "execution_count": null,
      "outputs": [
        {
          "output_type": "execute_result",
          "data": {
            "text/plain": [
              "Roubo                               3630\n",
              "Lesao corporal                      1875\n",
              "Drogas                              1694\n",
              "Furto                               1012\n",
              "Furto qualificado                    633\n",
              "Lesao culposa por veiculo            595\n",
              "Homicidio                            279\n",
              "Estupro de vulneravel                103\n",
              "Homicidio qualificado                 96\n",
              "Estupro                               50\n",
              "Homicidio culposo por veiculo         22\n",
              "Lesao corporal seguida de morte        4\n",
              "Lesao corporal de natureza GRAVE       4\n",
              "Homicidio culposo                      3\n",
              "Name: RUBRICA, dtype: int64"
            ]
          },
          "metadata": {
            "tags": []
          },
          "execution_count": 160
        }
      ]
    },
    {
      "cell_type": "code",
      "metadata": {
        "colab": {
          "base_uri": "https://localhost:8080/",
          "height": 541
        },
        "id": "qs0CykUtgBzu",
        "outputId": "da46ac4c-a3af-4c11-b7e9-62c0114a82d1"
      },
      "source": [
        "plt.style.use('dark_background')\r\n",
        "plt.figure(figsize=(15,9))\r\n",
        "plt.xlabel('Número de Crimes')\r\n",
        "data['RUBRICA'].value_counts().plot(kind='barh', title='Frequência de crimes por tipo')\r\n",
        "plt.show()"
      ],
      "execution_count": null,
      "outputs": [
        {
          "output_type": "display_data",
          "data": {
            "image/png": "[encoded data removed]",
            "text/plain": [
              "<Figure size 1080x648 with 1 Axes>"
            ]
          },
          "metadata": {
            "tags": []
          }
        }
      ]
    },
    {
      "cell_type": "markdown",
      "metadata": {
        "id": "1u-xeN8F5NlP"
      },
      "source": [
        "*Para o nosso estudo, precisamos somar essas três colunas (Roubo, Furto e Furto qualificado) que estão relacionadas aos Crimes Violentos contra o Patrimônio (CVP). Então, criamos uma nova coluna (CRIME) com o somatório dos casos de furto e roubo, excluindo outros tipos de crimes:*"
      ]
    },
    {
      "cell_type": "code",
      "metadata": {
        "colab": {
          "base_uri": "https://localhost:8080/",
          "height": 233
        },
        "id": "AHZhnLuAceZU",
        "outputId": "9cef41fe-44ac-4a4d-c3f5-a48fef3c7193"
      },
      "source": [
        "data['CRIME'] = data['Roubo'] + data['Furto'] + data['Furto qualificado']\r\n",
        "data.head(2)"
      ],
      "execution_count": null,
      "outputs": [
        {
          "output_type": "execute_result",
          "data": {
            "text/html": [
              "<div>\n",
              "<style scoped>\n",
              "    .dataframe tbody tr th:only-of-type {\n",
              "        vertical-align: middle;\n",
              "    }\n",
              "\n",
              "    .dataframe tbody tr th {\n",
              "        vertical-align: top;\n",
              "    }\n",
              "\n",
              "    .dataframe thead th {\n",
              "        text-align: right;\n",
              "    }\n",
              "</style>\n",
              "<table border=\"1\" class=\"dataframe\">\n",
              "  <thead>\n",
              "    <tr style=\"text-align: right;\">\n",
              "      <th></th>\n",
              "      <th>NUM_BO</th>\n",
              "      <th>ANO_BO</th>\n",
              "      <th>ID_DELEGACIA</th>\n",
              "      <th>ANO</th>\n",
              "      <th>MES</th>\n",
              "      <th>DATA_OCORRENCIA_BO</th>\n",
              "      <th>HORA_OCORRENCIA_BO</th>\n",
              "      <th>RUBRICA</th>\n",
              "      <th>CONDUTA</th>\n",
              "      <th>LATITUDE</th>\n",
              "      <th>LONGITUDE</th>\n",
              "      <th>CIDADE</th>\n",
              "      <th>LOGRADOURO</th>\n",
              "      <th>DESCR_TIPO_PESSOA</th>\n",
              "      <th>CONT_PESSOA</th>\n",
              "      <th>SEXO_PESSOA</th>\n",
              "      <th>IDADE_PESSOA</th>\n",
              "      <th>COR</th>\n",
              "      <th>DESCR_PROFISSAO</th>\n",
              "      <th>DESCR_GRAU_INSTRUCAO</th>\n",
              "      <th>Drogas</th>\n",
              "      <th>Estupro</th>\n",
              "      <th>Estupro de vulneravel</th>\n",
              "      <th>Furto</th>\n",
              "      <th>Furto qualificado</th>\n",
              "      <th>Homicidio</th>\n",
              "      <th>Homicidio culposo</th>\n",
              "      <th>Homicidio culposo por veiculo</th>\n",
              "      <th>Homicidio qualificado</th>\n",
              "      <th>Lesao corporal</th>\n",
              "      <th>Lesao corporal de natureza GRAVE</th>\n",
              "      <th>Lesao corporal seguida de morte</th>\n",
              "      <th>Lesao culposa por veiculo</th>\n",
              "      <th>Roubo</th>\n",
              "      <th>CRIME</th>\n",
              "    </tr>\n",
              "  </thead>\n",
              "  <tbody>\n",
              "    <tr>\n",
              "      <th>0</th>\n",
              "      <td>2</td>\n",
              "      <td>2014</td>\n",
              "      <td>280401</td>\n",
              "      <td>2014</td>\n",
              "      <td>2</td>\n",
              "      <td>26/02/2014</td>\n",
              "      <td>17:00</td>\n",
              "      <td>Drogas</td>\n",
              "      <td>VEICULO</td>\n",
              "      <td>-2371286115</td>\n",
              "      <td>-46.78186771</td>\n",
              "      <td>BARUERI</td>\n",
              "      <td>R MARIA HELENA</td>\n",
              "      <td>Curador</td>\n",
              "      <td>7</td>\n",
              "      <td>F</td>\n",
              "      <td>51</td>\n",
              "      <td>Parda</td>\n",
              "      <td>AUXILIAR DE LIMPEZA</td>\n",
              "      <td>2 Grau completo</td>\n",
              "      <td>1</td>\n",
              "      <td>0</td>\n",
              "      <td>0</td>\n",
              "      <td>0</td>\n",
              "      <td>0</td>\n",
              "      <td>0</td>\n",
              "      <td>0</td>\n",
              "      <td>0</td>\n",
              "      <td>0</td>\n",
              "      <td>0</td>\n",
              "      <td>0</td>\n",
              "      <td>0</td>\n",
              "      <td>0</td>\n",
              "      <td>0</td>\n",
              "      <td>0</td>\n",
              "    </tr>\n",
              "    <tr>\n",
              "      <th>1</th>\n",
              "      <td>2</td>\n",
              "      <td>2014</td>\n",
              "      <td>280401</td>\n",
              "      <td>2014</td>\n",
              "      <td>2</td>\n",
              "      <td>26/02/2014</td>\n",
              "      <td>17:00</td>\n",
              "      <td>Drogas</td>\n",
              "      <td>VEICULO</td>\n",
              "      <td>-2371286115</td>\n",
              "      <td>-46.78186771</td>\n",
              "      <td>BARUERI</td>\n",
              "      <td>R MARIA HELENA</td>\n",
              "      <td>Indiciado</td>\n",
              "      <td>4</td>\n",
              "      <td>M</td>\n",
              "      <td>19</td>\n",
              "      <td>Parda</td>\n",
              "      <td>DESEMPREGADO</td>\n",
              "      <td>1 Grau completo</td>\n",
              "      <td>1</td>\n",
              "      <td>0</td>\n",
              "      <td>0</td>\n",
              "      <td>0</td>\n",
              "      <td>0</td>\n",
              "      <td>0</td>\n",
              "      <td>0</td>\n",
              "      <td>0</td>\n",
              "      <td>0</td>\n",
              "      <td>0</td>\n",
              "      <td>0</td>\n",
              "      <td>0</td>\n",
              "      <td>0</td>\n",
              "      <td>0</td>\n",
              "      <td>0</td>\n",
              "    </tr>\n",
              "  </tbody>\n",
              "</table>\n",
              "</div>"
            ],
            "text/plain": [
              "   NUM_BO  ANO_BO  ID_DELEGACIA  ...  Lesao culposa por veiculo  Roubo CRIME\n",
              "0       2    2014        280401  ...                          0      0     0\n",
              "1       2    2014        280401  ...                          0      0     0\n",
              "\n",
              "[2 rows x 35 columns]"
            ]
          },
          "metadata": {
            "tags": []
          },
          "execution_count": 162
        }
      ]
    },
    {
      "cell_type": "code",
      "metadata": {
        "id": "g-ubGjcmwB4i"
      },
      "source": [
        "le = preprocessing.LabelEncoder()\r\n",
        "le.fit(data['HORA_OCORRENCIA_BO'])\r\n",
        "data['HORA_OCORRENCIA_BO'] = le.transform(data['HORA_OCORRENCIA_BO'])"
      ],
      "execution_count": null,
      "outputs": []
    },
    {
      "cell_type": "code",
      "metadata": {
        "id": "KahPX9t4yoH4"
      },
      "source": [
        "le = preprocessing.LabelEncoder()\r\n",
        "le.fit(data['ID_DELEGACIA'])\r\n",
        "data['ID_DELEGACIA'] = le.transform(data['ID_DELEGACIA'])"
      ],
      "execution_count": null,
      "outputs": []
    },
    {
      "cell_type": "code",
      "metadata": {
        "id": "twJtcfltyomT"
      },
      "source": [
        "le = preprocessing.LabelEncoder()\r\n",
        "le.fit(data['CIDADE'])\r\n",
        "data['CIDADE'] = le.transform(data['CIDADE'])"
      ],
      "execution_count": null,
      "outputs": []
    },
    {
      "cell_type": "code",
      "metadata": {
        "id": "H0UnVp9fzWo2"
      },
      "source": [
        "le = preprocessing.LabelEncoder()\r\n",
        "le.fit(data['CONDUTA'])\r\n",
        "data['CONDUTA'] = le.transform(data['CONDUTA'])"
      ],
      "execution_count": null,
      "outputs": []
    },
    {
      "cell_type": "code",
      "metadata": {
        "id": "0hSDfAPrzj1n"
      },
      "source": [
        "le = preprocessing.LabelEncoder()\r\n",
        "le.fit(data['SEXO_PESSOA'])\r\n",
        "data['SEXO_PESSOA'] = le.transform(data['SEXO_PESSOA'])"
      ],
      "execution_count": null,
      "outputs": []
    },
    {
      "cell_type": "code",
      "metadata": {
        "id": "LDEl3awgzky1"
      },
      "source": [
        "le = preprocessing.LabelEncoder()\r\n",
        "le.fit(data['DESCR_PROFISSAO'])\r\n",
        "data['DESCR_PROFISSAO'] = le.transform(data['DESCR_PROFISSAO'])"
      ],
      "execution_count": null,
      "outputs": []
    },
    {
      "cell_type": "code",
      "metadata": {
        "id": "parqHI07zlUw"
      },
      "source": [
        "le = preprocessing.LabelEncoder()\r\n",
        "le.fit(data['RUBRICA'])\r\n",
        "data['RUBRICA'] = le.transform(data['RUBRICA'])"
      ],
      "execution_count": null,
      "outputs": []
    },
    {
      "cell_type": "markdown",
      "metadata": {
        "id": "MdabeWGW2cWG"
      },
      "source": [
        "#**2.3 Separar a variável alvo**"
      ]
    },
    {
      "cell_type": "code",
      "metadata": {
        "id": "i3l-SmCeZdr3"
      },
      "source": [
        "x = data[['HORA_OCORRENCIA_BO','ID_DELEGACIA','CIDADE','IDADE_PESSOA','CONDUTA','SEXO_PESSOA','DESCR_PROFISSAO']].copy()\r\n",
        "y = data[['CRIME']].copy()"
      ],
      "execution_count": null,
      "outputs": []
    },
    {
      "cell_type": "markdown",
      "metadata": {
        "id": "S8rZrWYt3NZl"
      },
      "source": [
        "#**3. Dividir dados em teste e treinamento**"
      ]
    },
    {
      "cell_type": "code",
      "metadata": {
        "id": "TVDG-ZQr1_ya"
      },
      "source": [
        "x_train, x_test, y_train, y_test = train_test_split(x, y, test_size=0.33, random_state=3000)"
      ],
      "execution_count": null,
      "outputs": []
    },
    {
      "cell_type": "markdown",
      "metadata": {
        "id": "wVDYGO3j3Yus"
      },
      "source": [
        "#**4. Criar modelo de ML**"
      ]
    },
    {
      "cell_type": "code",
      "metadata": {
        "colab": {
          "base_uri": "https://localhost:8080/"
        },
        "id": "zvHOjLQo2CSf",
        "outputId": "a92ff53f-bb6f-435a-a382-71972b5c51e0"
      },
      "source": [
        "tipos_crimes_classifier = DecisionTreeClassifier(max_leaf_nodes=7000, random_state=1)\r\n",
        "tipos_crimes_classifier.fit(x_train, y_train)"
      ],
      "execution_count": null,
      "outputs": [
        {
          "output_type": "execute_result",
          "data": {
            "text/plain": [
              "DecisionTreeClassifier(ccp_alpha=0.0, class_weight=None, criterion='gini',\n",
              "                       max_depth=None, max_features=None, max_leaf_nodes=7000,\n",
              "                       min_impurity_decrease=0.0, min_impurity_split=None,\n",
              "                       min_samples_leaf=1, min_samples_split=2,\n",
              "                       min_weight_fraction_leaf=0.0, presort='deprecated',\n",
              "                       random_state=1, splitter='best')"
            ]
          },
          "metadata": {
            "tags": []
          },
          "execution_count": 172
        }
      ]
    },
    {
      "cell_type": "code",
      "metadata": {
        "colab": {
          "base_uri": "https://localhost:8080/"
        },
        "id": "z6yTZkILjkry",
        "outputId": "abcdcb2f-d73c-43cf-8e1d-46697ab7cc4c"
      },
      "source": [
        "print(tipos_crimes_classifier)"
      ],
      "execution_count": null,
      "outputs": [
        {
          "output_type": "stream",
          "text": [
            "DecisionTreeClassifier(ccp_alpha=0.0, class_weight=None, criterion='gini',\n",
            "                       max_depth=None, max_features=None, max_leaf_nodes=7000,\n",
            "                       min_impurity_decrease=0.0, min_impurity_split=None,\n",
            "                       min_samples_leaf=1, min_samples_split=2,\n",
            "                       min_weight_fraction_leaf=0.0, presort='deprecated',\n",
            "                       random_state=1, splitter='best')\n"
          ],
          "name": "stdout"
        }
      ]
    },
    {
      "cell_type": "markdown",
      "metadata": {
        "id": "yxelDTKk3fnO"
      },
      "source": [
        "#**5. Fazer predição**"
      ]
    },
    {
      "cell_type": "code",
      "metadata": {
        "id": "sYhWxl1t2EWk",
        "colab": {
          "base_uri": "https://localhost:8080/"
        },
        "outputId": "af33e192-f08d-40f1-a4b1-43682e7b1752"
      },
      "source": [
        "predictions = tipos_crimes_classifier.predict(x_test)\r\n",
        "print(predictions)"
      ],
      "execution_count": null,
      "outputs": [
        {
          "output_type": "stream",
          "text": [
            "[1 1 0 ... 0 1 1]\n"
          ],
          "name": "stdout"
        }
      ]
    },
    {
      "cell_type": "markdown",
      "metadata": {
        "id": "u82xmTvq3v5Q"
      },
      "source": [
        "#**6. Testar acurácia**"
      ]
    },
    {
      "cell_type": "code",
      "metadata": {
        "colab": {
          "base_uri": "https://localhost:8080/"
        },
        "id": "e5H_BaY92GQV",
        "outputId": "b34a15c6-d8b7-4693-a8b8-688e66ba1c15"
      },
      "source": [
        "accuracy_score(y_true = y_test, y_pred = predictions)"
      ],
      "execution_count": null,
      "outputs": [
        {
          "output_type": "execute_result",
          "data": {
            "text/plain": [
              "0.8812121212121212"
            ]
          },
          "metadata": {
            "tags": []
          },
          "execution_count": 175
        }
      ]
    }
  ]
}